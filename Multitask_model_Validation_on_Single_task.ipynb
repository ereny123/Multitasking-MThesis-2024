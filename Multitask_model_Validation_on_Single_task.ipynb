{
  "nbformat": 4,
  "nbformat_minor": 0,
  "metadata": {
    "colab": {
      "provenance": [],
      "authorship_tag": "ABX9TyMx7lYQd/MWrGMgRvQzw88u",
      "include_colab_link": true
    },
    "kernelspec": {
      "name": "python3",
      "display_name": "Python 3"
    },
    "language_info": {
      "name": "python"
    }
  },
  "cells": [
    {
      "cell_type": "markdown",
      "metadata": {
        "id": "view-in-github",
        "colab_type": "text"
      },
      "source": [
        "<a href=\"https://colab.research.google.com/github/ereny123/Multitasking-MThesis-2024/blob/main/Multitask_model_Validation_on_Single_task.ipynb\" target=\"_parent\"><img src=\"https://colab.research.google.com/assets/colab-badge.svg\" alt=\"Open In Colab\"/></a>"
      ]
    },
    {
      "cell_type": "code",
      "execution_count": null,
      "metadata": {
        "id": "TmTl61xlAqcM"
      },
      "outputs": [],
      "source": [
        "import torch\n",
        "import torch.nn as nn\n",
        "import torch.nn.functional as F\n",
        "import numpy\n",
        "from tqdm import tqdm\n",
        "import matplotlib.pyplot as plt\n",
        "import itertools"
      ]
    },
    {
      "cell_type": "code",
      "source": [
        "#create a model class\n",
        "class Model(nn.Module):\n",
        "  #Input (Tasks) random array of 9 units\n",
        "  def __init__(self, in_tasks=9, in_stim=9, hidden=100, output=9, bias_weight=-2, coeff=0.3, thresh=0.0001):\n",
        "    super().__init__()\n",
        "\n",
        "    #Set Parameters\n",
        "    self.bias_weight = bias_weight   # default bias weight\n",
        "    self.coeff = coeff\n",
        "    self.thresh = thresh\n",
        "\n",
        "    self.task_hidden=nn.Linear(in_tasks, hidden)    #input layer(tasks) --> hidden layer\n",
        "    self.stim_hidden=nn.Linear(in_stim, hidden)     #input layer(stimuls) --> hidden layer\n",
        "    self.task_out=nn.Linear(in_tasks, output)       #Input Layer(tasks) --> output layer\n",
        "    self.hidden_out=nn.Linear(hidden, output)       #hidden layer --> output layer\n",
        "\n",
        "\n",
        "    self.task_hidden.weight=nn.Parameter(torch.FloatTensor(hidden, in_tasks).uniform_(-0.1, 0.1))   #input(tasks)-->hidden  weight\n",
        "    self.task_out.weight=nn.Parameter(torch.FloatTensor(output, in_tasks).uniform_(-0.1, 0.1))      #input(tasks) --> output weight\n",
        "    self.stim_hidden.weight=nn.Parameter(torch.FloatTensor(hidden, in_stim).uniform_(-0.1, 0.1))    #input(stimulus) -->hidden weight\n",
        "    self.hidden_out.weight=nn.Parameter(torch.FloatTensor(output, hidden).uniform_(-0.1, 0.1))      #hidden-->output  weight\n",
        "\n",
        "\n",
        "    self.task_hidden.bias=nn.Parameter(torch.ones(hidden) * bias_weight)                   #hidden layer bias\n",
        "    self.hidden_out.bias=nn.Parameter(torch.ones(output) * bias_weight)                    #output layer bias\n",
        "\n",
        "  def forward(self, taskData, stimulusData):\n",
        "\n",
        "    h_act=torch.sigmoid(self.task_hidden(taskData)+self.stim_hidden(stimulusData))   #hidden layer activation\n",
        "    out_act= torch.sigmoid(self.hidden_out(h_act)+self.task_out(taskData))           #output layer activation\n",
        "\n",
        "    return h_act, out_act\n",
        "    print(\"h_act shape:\", h_act.shape)\n",
        "    print(\"out_act shape:\", out_act.shape)\n",
        "\n",
        "#Train Online Method using back propagation\n",
        "def trainOnline(model, taskData, stimulusData, targetData, iterations, thresh=0.0001, lr=0.1):\n",
        "\n",
        "    criterion = nn.MSELoss()\n",
        "    optimizer = torch.optim.SGD(model.parameters(), lr=lr)\n",
        "    MSE_log = []\n",
        "\n",
        "    with tqdm(total=iterations) as pbar:\n",
        "        for i in range(iterations):\n",
        "            optimizer.zero_grad()\n",
        "            h_act, out_act = model(taskData, stimulusData)\n",
        "            loss = criterion(out_act, targetData)\n",
        "            loss.backward()\n",
        "            optimizer.step()\n",
        "            MSE = loss.item()\n",
        "            MSE_log.append(MSE)\n",
        "\n",
        "            if MSE < thresh:\n",
        "                break\n",
        "\n",
        "            pbar.set_postfix({'MSE': MSE})\n",
        "            pbar.update(1)\n",
        "\n",
        "    return MSE_log\n",
        "\n",
        "\n",
        "\n",
        "# Using REINFORCE algorithm\n",
        "def reinforce_train(model, optimizer, taskData, stimulusData, reward):\n",
        "\n",
        "    optimizer.zero_grad()\n",
        "\n",
        "    _, outputs = model(taskData, stimulusData)\n",
        "    log_probs = torch.log(outputs.squeeze(0))\n",
        "\n",
        "    # REINFORCE loss\n",
        "    loss = -log_probs * reward\n",
        "    loss = loss.mean()\n",
        "\n",
        "    loss.backward()\n",
        "    optimizer.step()\n",
        "\n",
        "    return loss.item()\n",
        "\n",
        "\n",
        "\n",
        "# Define training loop\n",
        "def train_Rein(model, taskData, stimulusData, targetData, num_episodes=1000, lr=0.001):\n",
        "    optimizer = torch.optim.Adam(model.parameters(), lr=lr) # Define optimizer\n",
        "    losses = [] # To store losses at each episode\n",
        "\n",
        "    for episode in range(1, num_episodes + 1):\n",
        "        loss = reinforce_train(model, optimizer, taskData, stimulusData, targetData) # Train using REINFORCE\n",
        "        losses.append(loss)\n",
        "\n",
        "        if episode % 100 == 0:  #Logging\n",
        "            print(f\"Episode {episode}/{num_episodes} | Loss: {loss:.3f}\")\n",
        "\n",
        "    return losses\n"
      ],
      "metadata": {
        "id": "ZPVcOCR3A3-1"
      },
      "execution_count": null,
      "outputs": []
    },
    {
      "cell_type": "code",
      "source": [
        "# Generate training data\n",
        "def generate_dataset_multitask():\n",
        "    stimulusData = torch.tensor([ [0, 0, 1, 0, 0, 1, 0, 0, 1],\n",
        "                                [0, 0, 1, 0, 0, 1, 0, 1, 0],\n",
        "                                [0, 0, 1, 0, 0, 1, 1, 0, 0],\n",
        "                                [0, 0, 1, 0, 1, 0, 0, 0, 1],\n",
        "                                [0, 0, 1, 0, 1, 0, 0, 1, 0],\n",
        "                                [0, 0, 1, 0, 1, 0, 1, 0, 0],\n",
        "                                [0, 0, 1, 1, 0, 0, 0, 0, 1],\n",
        "                                [0, 0, 1, 1, 0, 0, 0, 1, 0],\n",
        "                                [0, 0, 1, 1, 0, 0, 1, 0, 0],\n",
        "                                [0, 1, 0, 0, 0, 1, 0, 0, 1],\n",
        "                                [0, 1, 0, 0, 1, 0, 0, 0, 1],\n",
        "                                [0, 1, 0, 0, 0, 1, 0, 1, 0],\n",
        "                                [0, 1, 0, 0, 0, 1, 1, 0, 0],\n",
        "                                [0, 1, 0, 0, 1, 0, 0, 1, 0],\n",
        "                                [0, 1, 0, 0, 1, 0, 1, 0, 0],\n",
        "                                [0, 1, 0, 1, 0, 0, 0, 0, 1],\n",
        "                                [0, 1, 0, 1, 0, 0, 0, 1, 0],\n",
        "                                [0, 1, 0, 1, 0, 0, 1, 0, 0],\n",
        "                                [1, 0, 0, 0, 0, 1, 0, 0, 1],\n",
        "                                [1, 0, 0, 0, 0, 1, 0, 1, 0],\n",
        "                                [1, 0, 0, 0, 0, 1, 1, 0, 0],\n",
        "                                [1, 0, 0, 0, 1, 0, 0, 0, 1],\n",
        "                                [1, 0, 0, 1, 0, 0, 0, 0, 1],\n",
        "                                [1, 0, 0, 1, 0, 0, 0, 1, 0],\n",
        "                                [1, 0, 0, 1, 0, 0, 1, 0, 0],\n",
        "                                [1, 0, 0, 0, 1, 0, 0, 1, 0],\n",
        "                                [1, 0, 0, 0, 1, 0, 1, 0, 0]\n",
        "                                                           ] *20 , dtype=torch.float)\n",
        "\n",
        "\n",
        "# Generate task data\n",
        "    taskDatapattern = torch.tensor([\n",
        "    [1, 1, 1, 0, 0, 0, 0, 0, 0] , #Task 1\n",
        "    [1, 1, 0, 1, 0, 0, 0, 0, 0] , #Task 2\n",
        "    [1, 1, 0, 0, 1, 0, 0, 0, 0] , #Task 3\n",
        "    [1, 1, 0, 0, 0, 1, 0, 0, 0] , #Task 4\n",
        "    [1, 1, 0, 0, 0, 0, 1, 0, 0] , #Task 5\n",
        "    [1, 1, 0, 0, 0, 0, 0, 1, 0] , #Task 6\n",
        "    [1, 1, 0, 0, 0, 0, 0, 0, 1] , #Task 7\n",
        "    [1, 0, 1, 0, 0, 0, 0, 0, 1] , #Task 8\n",
        "    [1, 0, 0, 1, 0, 0, 0, 0, 1] , #Task 9\n",
        "    [1, 0, 0, 0, 1, 0, 0, 0, 1] , #Task 10\n",
        "    [1, 0, 0, 0, 0, 1, 0, 0, 1] , #Task 11\n",
        "    [1, 0, 0, 0, 0, 0, 1, 0, 1] , #Task 12\n",
        "    [1, 0, 0, 0, 0, 0, 0, 1, 1] , #Task 13\n",
        "    [1, 0, 0, 0, 0, 0, 0, 1, 1] , #Task 14\n",
        "    [0, 1, 0, 0, 0, 0, 0, 1, 1] , #Task 15\n",
        "    [0, 0, 1, 0, 0, 0, 0, 1, 1] , #Task 16\n",
        "    [0, 0, 0, 1, 0, 0, 0, 1, 1] , #Task 17\n",
        "    [0, 0, 0, 0, 1, 0, 0, 1, 1] , #Task 18\n",
        "    [0, 0, 0, 0, 0, 1, 0, 1, 1] , #Task 19\n",
        "    [0, 0, 0, 0, 0, 0, 1, 1, 1] ] #Task 20\n",
        "\n",
        "                          , dtype=torch.float)\n",
        "\n",
        "    taskData = torch.cat([torch.stack([row] * 27) for row in taskDatapattern])\n",
        "\n",
        "#Define target data\n",
        "    targetData = torch.zeros((540,9), dtype=torch.float)\n",
        "\n",
        "\n",
        "    for i in range(len(targetData)):\n",
        "       for j in range(0, len(targetData[i]), 3):\n",
        "        if taskData[i, j:j+3].sum() > 0:\n",
        "          targetData[i, j:j+3] = stimulusData[i, j:j+3]\n",
        "\n",
        "\n",
        "    return stimulusData, taskData, targetData\n"
      ],
      "metadata": {
        "id": "c2srhTYeA62L"
      },
      "execution_count": null,
      "outputs": []
    },
    {
      "cell_type": "code",
      "source": [
        "(stimulusData, taskData, targetData)  = generate_dataset_multitask()"
      ],
      "metadata": {
        "id": "NcYTTjRnBBZV"
      },
      "execution_count": null,
      "outputs": []
    },
    {
      "cell_type": "code",
      "source": [
        "#create an instance for Model\n",
        "model= Model()"
      ],
      "metadata": {
        "id": "voRBKjQCBGmf"
      },
      "execution_count": null,
      "outputs": []
    },
    {
      "cell_type": "code",
      "source": [
        "model(taskData, stimulusData)"
      ],
      "metadata": {
        "colab": {
          "base_uri": "https://localhost:8080/"
        },
        "id": "iGcaKproBJLk",
        "outputId": "21f74f52-7706-4381-a8e0-42ae45f565ec"
      },
      "execution_count": null,
      "outputs": [
        {
          "output_type": "execute_result",
          "data": {
            "text/plain": [
              "(tensor([[0.1326, 0.1183, 0.0962,  ..., 0.1153, 0.1252, 0.1113],\n",
              "         [0.1301, 0.1035, 0.0920,  ..., 0.1138, 0.1228, 0.1107],\n",
              "         [0.1413, 0.1064, 0.0875,  ..., 0.1075, 0.1376, 0.1157],\n",
              "         ...,\n",
              "         [0.1409, 0.0960, 0.1001,  ..., 0.0840, 0.1302, 0.1330],\n",
              "         [0.1430, 0.0913, 0.1026,  ..., 0.0851, 0.1168, 0.1212],\n",
              "         [0.1551, 0.0939, 0.0977,  ..., 0.0802, 0.1310, 0.1266]],\n",
              "        grad_fn=<SigmoidBackward0>),\n",
              " tensor([[0.1032, 0.1201, 0.1530,  ..., 0.1427, 0.1559, 0.1449],\n",
              "         [0.1033, 0.1203, 0.1532,  ..., 0.1425, 0.1568, 0.1448],\n",
              "         [0.1031, 0.1205, 0.1526,  ..., 0.1426, 0.1558, 0.1453],\n",
              "         ...,\n",
              "         [0.1011, 0.1307, 0.1451,  ..., 0.1303, 0.1426, 0.1316],\n",
              "         [0.1009, 0.1301, 0.1458,  ..., 0.1296, 0.1442, 0.1312],\n",
              "         [0.1008, 0.1304, 0.1452,  ..., 0.1297, 0.1433, 0.1317]],\n",
              "        grad_fn=<SigmoidBackward0>))"
            ]
          },
          "metadata": {},
          "execution_count": 26
        }
      ]
    },
    {
      "cell_type": "code",
      "source": [
        "MSE_log = trainOnline(model, stimulusData, taskData, targetData, 200000)"
      ],
      "metadata": {
        "colab": {
          "base_uri": "https://localhost:8080/"
        },
        "id": "ElP4nLm3BK9p",
        "outputId": "95f35959-b3ca-4b9b-ee25-50d11d80474a"
      },
      "execution_count": null,
      "outputs": [
        {
          "output_type": "stream",
          "name": "stderr",
          "text": [
            "100%|██████████| 200000/200000 [18:04<00:00, 184.37it/s, MSE=0.00084]\n"
          ]
        }
      ]
    },
    {
      "cell_type": "code",
      "source": [
        "#Calculate accuracy of the model\n",
        "def calculate_accuracy(model, output, targetData):\n",
        "    with torch.no_grad():\n",
        "        predicted = (output > 0.5).float()  # Convert to binary outputs\n",
        "        correct = (predicted == targetData).sum().item()  # Count correct predictions\n",
        "        total = targetData.numel()  # Total number of elements\n",
        "        accuracy = correct / total  # Calculate accuracy\n",
        "\n",
        "    return  accuracy\n"
      ],
      "metadata": {
        "id": "11k-YCZBzDqE"
      },
      "execution_count": null,
      "outputs": []
    },
    {
      "cell_type": "code",
      "source": [
        "def plot_losses(losses, title):\n",
        "    plt.plot(losses)\n",
        "    plt.xlabel('Episode')\n",
        "    plt.ylabel('Loss')\n",
        "    plt.title(title)\n",
        "    plt.show()"
      ],
      "metadata": {
        "id": "f-2n3N90Hro0"
      },
      "execution_count": null,
      "outputs": []
    },
    {
      "cell_type": "code",
      "source": [
        "single_log=plot_losses(MSE_log)"
      ],
      "metadata": {
        "colab": {
          "base_uri": "https://localhost:8080/",
          "height": 472
        },
        "id": "Y37QVJf6Bf3m",
        "outputId": "e23686b8-04b8-4e89-fb06-f3498152a978"
      },
      "execution_count": null,
      "outputs": [
        {
          "output_type": "display_data",
          "data": {
            "text/plain": [
              "<Figure size 640x480 with 1 Axes>"
            ],
            "image/png": "[encoded data removed]"
          },
          "metadata": {}
        }
      ]
    },
    {
      "cell_type": "code",
      "source": [
        "# Generate validation data\n",
        "def generate_dataset_validation_ST():\n",
        "   val_stimulusData = torch.tensor([ [0, 0, 1, 0, 0, 1, 0, 0, 1],\n",
        "                                [0, 0, 1, 0, 0, 1, 0, 1, 0],\n",
        "                                [0, 0, 1, 0, 0, 1, 1, 0, 0],\n",
        "                                [0, 0, 1, 0, 1, 0, 0, 0, 1],\n",
        "                                [0, 0, 1, 0, 1, 0, 0, 1, 0],\n",
        "                                [0, 0, 1, 0, 1, 0, 1, 0, 0],\n",
        "                                [0, 0, 1, 1, 0, 0, 0, 0, 1],\n",
        "                                [0, 0, 1, 1, 0, 0, 0, 1, 0],\n",
        "                                [0, 0, 1, 1, 0, 0, 1, 0, 0],\n",
        "                                [0, 1, 0, 0, 0, 1, 0, 0, 1],\n",
        "                                [0, 1, 0, 0, 1, 0, 0, 0, 1],\n",
        "                                [0, 1, 0, 0, 0, 1, 0, 1, 0],\n",
        "                                [0, 1, 0, 0, 0, 1, 1, 0, 0],\n",
        "                                [0, 1, 0, 0, 1, 0, 0, 1, 0],\n",
        "                                [0, 1, 0, 0, 1, 0, 1, 0, 0],\n",
        "                                [0, 1, 0, 1, 0, 0, 0, 0, 1],\n",
        "                                [0, 1, 0, 1, 0, 0, 0, 1, 0],\n",
        "                                [0, 1, 0, 1, 0, 0, 1, 0, 0],\n",
        "                                [1, 0, 0, 0, 0, 1, 0, 0, 1],\n",
        "                                [1, 0, 0, 0, 0, 1, 0, 1, 0],\n",
        "                                [1, 0, 0, 0, 0, 1, 1, 0, 0],\n",
        "                                [1, 0, 0, 0, 1, 0, 0, 0, 1],\n",
        "                                [1, 0, 0, 1, 0, 0, 0, 0, 1],\n",
        "                                [1, 0, 0, 1, 0, 0, 0, 1, 0],\n",
        "                                [1, 0, 0, 1, 0, 0, 1, 0, 0],\n",
        "                                [1, 0, 0, 0, 1, 0, 0, 1, 0],\n",
        "                                [1, 0, 0, 0, 1, 0, 1, 0, 0]\n",
        "                                                           ] *9 , dtype=torch.float)\n",
        "\n",
        "\n",
        "   val_taskData = torch.tensor ([\n",
        "     [1, 0, 0, 0, 0, 0, 0, 0, 0] , #Task 1\n",
        "     [0, 1, 0, 0, 0, 0, 0, 0, 0] , #Task 2\n",
        "     [0, 0, 1, 0, 0, 0, 0, 0, 0] , #Task 3\n",
        "     [0, 0, 0, 1, 0, 0, 0, 0, 0] , #Task 4\n",
        "     [0, 0, 0, 0, 1, 0, 0, 0, 0] , #Task 5\n",
        "     [0, 0, 0, 0, 0, 1, 0, 0, 0] , #Task 6\n",
        "     [0, 0, 0, 0, 0, 0, 1, 0, 0] , #Task 7\n",
        "     [0, 0, 0, 0, 0, 0, 0, 1, 0] , #Task 8\n",
        "     [0, 0, 0, 0, 0, 0, 0, 0, 1] ]  #Task 9\n",
        "                                         , dtype=torch.float)\n",
        "\n",
        "\n",
        "   val_taskData = torch.cat([torch.stack([row] * 27) for row in val_taskData])\n",
        "\n",
        "\n",
        "   val_targetData = torch.zeros((243,9), dtype=torch.float)\n",
        "\n",
        "   for i in range(len(val_targetData)):\n",
        "     if val_taskData[i, :3].sum() > 0:\n",
        "         val_targetData[i, :3] = val_stimulusData[i, :3]\n",
        "     elif val_taskData[i, 3:6].sum() > 0:\n",
        "         val_targetData[i, 3:6] = val_stimulusData[i, 3:6]\n",
        "     elif val_taskData[i, 6:].sum() > 0:\n",
        "         val_targetData[i, 6:] = val_stimulusData[i, 6:]\n",
        "\n",
        "\n",
        "   return val_stimulusData, val_taskData, val_targetData\n"
      ],
      "metadata": {
        "id": "Cu0XgskjIO9q"
      },
      "execution_count": null,
      "outputs": []
    },
    {
      "cell_type": "code",
      "source": [
        "val_stimulusData, val_taskData, val_targetData = generate_dataset_validation_ST()"
      ],
      "metadata": {
        "id": "4WhH_O1PJjdi"
      },
      "execution_count": null,
      "outputs": []
    },
    {
      "cell_type": "code",
      "source": [
        "# Train the model\n",
        "Loss_reinforce=train_Rein(model, taskData, stimulusData, targetData)"
      ],
      "metadata": {
        "colab": {
          "base_uri": "https://localhost:8080/"
        },
        "id": "4UHSOUyftLEj",
        "outputId": "ad6b6dd9-da8b-44e5-9499-816927331e97"
      },
      "execution_count": null,
      "outputs": [
        {
          "output_type": "stream",
          "name": "stdout",
          "text": [
            "Episode 100/1000 | Loss: 0.080\n",
            "Episode 200/1000 | Loss: 0.008\n",
            "Episode 300/1000 | Loss: 0.003\n",
            "Episode 400/1000 | Loss: 0.001\n",
            "Episode 500/1000 | Loss: 0.001\n",
            "Episode 600/1000 | Loss: 0.001\n",
            "Episode 700/1000 | Loss: 0.000\n",
            "Episode 800/1000 | Loss: 0.000\n",
            "Episode 900/1000 | Loss: 0.000\n",
            "Episode 1000/1000 | Loss: 0.000\n"
          ]
        }
      ]
    },
    {
      "cell_type": "code",
      "source": [
        "plot_losses(Loss_reinforce, 'Multitask')"
      ],
      "metadata": {
        "colab": {
          "base_uri": "https://localhost:8080/",
          "height": 472
        },
        "id": "mep8wzTr84Gg",
        "outputId": "e8e0e0a3-7285-4db1-e987-511cf529e3af"
      },
      "execution_count": null,
      "outputs": [
        {
          "output_type": "display_data",
          "data": {
            "text/plain": [
              "<Figure size 640x480 with 1 Axes>"
            ],
            "image/png": "[encoded data removed]"
          },
          "metadata": {}
        }
      ]
    },
    {
      "cell_type": "code",
      "source": [
        "def evaluate(model, taskData, stimulusData, targetData):\n",
        "    model.eval()\n",
        "    with torch.no_grad():\n",
        "        _, val_output = model(taskData, stimulusData)\n",
        "        criterion = nn.MSELoss()\n",
        "        val_loss = criterion(val_output, targetData).item()\n",
        "    model.train()\n",
        "\n",
        "    return val_loss\n"
      ],
      "metadata": {
        "id": "ljp74mo4JzIc"
      },
      "execution_count": null,
      "outputs": []
    },
    {
      "cell_type": "code",
      "source": [
        "evaluate(model, val_taskData, val_stimulusData, val_targetData)"
      ],
      "metadata": {
        "id": "ZCK3EXgd_Roe"
      },
      "execution_count": null,
      "outputs": []
    },
    {
      "cell_type": "code",
      "source": [
        "#Calculate accuracy on the validation dataset\n",
        "def calculate_accuracy(model, val_output, targetData_V):\n",
        "    with torch.no_grad():\n",
        "        predicted = (val_output > 0.5).float()  # Convert to binary outputs\n",
        "        correct = (predicted == targetData_V).sum().item()  # Count correct predictions\n",
        "        total = targetData.numel()  # Total number of elements\n",
        "        accuracy = correct / total  # Calculate accuracy\n",
        "\n",
        "    return  accuracy\n"
      ],
      "metadata": {
        "id": "m4RCwl_1dnBV"
      },
      "execution_count": null,
      "outputs": []
    },
    {
      "cell_type": "code",
      "source": [
        "calculate_accuracy(model, val_output, val_targetData)"
      ],
      "metadata": {
        "id": "f2EwaJeZfKZT"
      },
      "execution_count": null,
      "outputs": []
    }
  ]
}