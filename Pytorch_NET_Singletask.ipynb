{
  "cells": [
    {
      "cell_type": "code",
      "execution_count": null,
      "metadata": {
        "id": "vEze7K4r8bU1"
      },
      "outputs": [],
      "source": [
        "import torch\n",
        "import torch.nn as nn\n",
        "import torch.nn.functional as F\n",
        "import numpy\n",
        "from tqdm import tqdm\n",
        "import matplotlib.pyplot as plt\n",
        "import itertools\n",
        "import time"
      ]
    },
    {
      "cell_type": "code",
      "execution_count": null,
      "metadata": {
        "id": "Eo6cAkSZm1pN"
      },
      "outputs": [],
      "source": [
        "#create a model class\n",
        "class Model(nn.Module):\n",
        "\n",
        "  def __init__(self, in_tasks=9, in_stim=9, hidden=100, output=9, bias_weight=-2, coeff=0.3, thresh=0.0001):\n",
        "    super().__init__()\n",
        "\n",
        "    #Set Parameters\n",
        "    self.bias_weight = bias_weight   # default bias weight\n",
        "    self.coeff = coeff\n",
        "    self.thresh = thresh\n",
        "\n",
        "    self.task_hidden=nn.Linear(in_tasks, hidden)    #input layer(tasks) --> hidden layer\n",
        "    self.stim_hidden=nn.Linear(in_stim, hidden)     #input layer(stimuls) --> hidden layer\n",
        "    self.task_out=nn.Linear(in_tasks, output)       #Input Layer(tasks) --> output layer\n",
        "    self.hidden_out=nn.Linear(hidden, output)       #hidden layer --> output layer\n",
        "\n",
        "    self.task_hidden.weight=nn.Parameter(torch.FloatTensor(hidden, in_tasks).uniform_(-0.1, 0.1))   #input(tasks)-->hidden  weight\n",
        "    self.task_out.weight=nn.Parameter(torch.FloatTensor(output, in_tasks).uniform_(-0.1, 0.1))      #input(tasks) --> output weight\n",
        "    self.stim_hidden.weight=nn.Parameter(torch.FloatTensor(hidden, in_stim).uniform_(-0.1, 0.1))    #input(stimulus) -->hidden weight\n",
        "    self.hidden_out.weight=nn.Parameter(torch.FloatTensor(output, hidden).uniform_(-0.1, 0.1))      #hidden-->output  weight\n",
        "\n",
        "    #Check Sizes\n",
        "    # print(\"Task Hidden Weight Shape:\", self.task_hidden.weight.shape)\n",
        "    # print(\"Task Output Weight Shape:\", self.task_out.weight.shape)\n",
        "    # print(\"Stimulus Hidden Weight Shape:\", self.stim_hidden.weight.shape)\n",
        "    # print(\"Hidden Output Weight Shape:\", self.hidden_out.weight.shape)\n",
        "\n",
        "    self.task_hidden.bias=nn.Parameter(torch.ones(hidden) * bias_weight)                   #hidden layer bias\n",
        "    self.hidden_out.bias=nn.Parameter(torch.ones(output) * bias_weight)                    #output layer bias\n",
        "\n",
        "  def forward(self, taskData, stimulusData):\n",
        "\n",
        "    h_act=torch.sigmoid(self.task_hidden(taskData)+self.stim_hidden(stimulusData))   #hidden layer activation\n",
        "    out_act= torch.sigmoid(self.hidden_out(h_act)+self.task_out(taskData))           #output layer activation\n",
        "\n",
        "    return h_act, out_act\n",
        "\n",
        "\n",
        "    #Check Sizes\n",
        "    # print(\"h_act shape:\", h_act.shape)\n",
        "    # print(\"out_act shape:\", out_act.shape)\n"
      ]
    },
    {
      "cell_type": "code",
      "source": [
        "def plot_losses(losses, title):\n",
        "   # plt.figure(figsize=(10, 6))  # Increase the figure size for better readability\n",
        "    plt.plot(losses)\n",
        "    plt.xlabel('Episode')\n",
        "    plt.ylabel('Loss')\n",
        "    plt.title(title)\n",
        "\n",
        "    #plt.xticks(ticks=range(0, len(losses), max(1, len(losses) // 10)))\n",
        "    plt.yticks(ticks=numpy.linspace(min(losses), max(losses), 10))\n",
        "    plt.grid(True)\n",
        "    plt.show()\n"
      ],
      "metadata": {
        "id": "4Q5jg2-sIoxx"
      },
      "execution_count": null,
      "outputs": []
    },
    {
      "cell_type": "code",
      "source": [
        "# Generate training data\n",
        "def generate_dataset_singletask(split_ratio=None):\n",
        "\n",
        "  #Generate Stimulus Data Pattern\n",
        "  stimulusData = torch.tensor([ [0, 0, 1, 0, 0, 1, 0, 0, 1],\n",
        "                                [0, 0, 1, 0, 0, 1, 0, 1, 0],\n",
        "                                [0, 0, 1, 0, 0, 1, 1, 0, 0],\n",
        "                                [0, 0, 1, 0, 1, 0, 0, 0, 1],\n",
        "                                [0, 0, 1, 0, 1, 0, 0, 1, 0],\n",
        "                                [0, 0, 1, 0, 1, 0, 1, 0, 0],\n",
        "                                [0, 0, 1, 1, 0, 0, 0, 0, 1],\n",
        "                                [0, 0, 1, 1, 0, 0, 0, 1, 0],\n",
        "                                [0, 0, 1, 1, 0, 0, 1, 0, 0],\n",
        "                                [0, 1, 0, 0, 0, 1, 0, 0, 1],\n",
        "                                [0, 1, 0, 0, 1, 0, 0, 0, 1],\n",
        "                                [0, 1, 0, 0, 0, 1, 0, 1, 0],\n",
        "                                [0, 1, 0, 0, 0, 1, 1, 0, 0],\n",
        "                                [0, 1, 0, 0, 1, 0, 0, 1, 0],\n",
        "                                [0, 1, 0, 0, 1, 0, 1, 0, 0],\n",
        "                                [0, 1, 0, 1, 0, 0, 0, 0, 1],\n",
        "                                [0, 1, 0, 1, 0, 0, 0, 1, 0],\n",
        "                                [0, 1, 0, 1, 0, 0, 1, 0, 0],\n",
        "                                [1, 0, 0, 0, 0, 1, 0, 0, 1],\n",
        "                                [1, 0, 0, 0, 0, 1, 0, 1, 0],\n",
        "                                [1, 0, 0, 0, 0, 1, 1, 0, 0],\n",
        "                                [1, 0, 0, 0, 1, 0, 0, 0, 1],\n",
        "                                [1, 0, 0, 1, 0, 0, 0, 0, 1],\n",
        "                                [1, 0, 0, 1, 0, 0, 0, 1, 0],\n",
        "                                [1, 0, 0, 1, 0, 0, 1, 0, 0],\n",
        "                                [1, 0, 0, 0, 1, 0, 0, 1, 0],\n",
        "                                [1, 0, 0, 0, 1, 0, 1, 0, 0]\n",
        "                                                           ] *9 , dtype=torch.float)\n",
        "   #Generate task data\n",
        "  taskDatapattern = torch.tensor([\n",
        "     [1, 0, 0, 0, 0, 0, 0, 0, 0] , #Task 1\n",
        "     [0, 1, 0, 0, 0, 0, 0, 0, 0] , #Task 2\n",
        "     [0, 0, 1, 0, 0, 0, 0, 0, 0] , #Task 3\n",
        "     [0, 0, 0, 1, 0, 0, 0, 0, 0] , #Task 4\n",
        "     [0, 0, 0, 0, 1, 0, 0, 0, 0] , #Task 5\n",
        "     [0, 0, 0, 0, 0, 1, 0, 0, 0] , #Task 6\n",
        "     [0, 0, 0, 0, 0, 0, 1, 0, 0] , #Task 7\n",
        "     [0, 0, 0, 0, 0, 0, 0, 1, 0] , #Task 8\n",
        "     [0, 0, 0, 0, 0, 0, 0, 0, 1] ]  #Task 9\n",
        "                                 , dtype=torch.float)\n",
        "\n",
        "\n",
        "\n",
        "  taskData = torch.cat([torch.stack([row] * 27) for row in taskDatapattern]) #Task data pattern repeated 27 times (27 is the number for stimulus data arrays)\n",
        "\n",
        "\n",
        " #Generate target data\n",
        "  targetData = torch.zeros((243,9), dtype=torch.float)\n",
        "\n",
        "  for i in range(len(targetData)):\n",
        "     if taskData[i, :3].sum() > 0:\n",
        "         targetData[i, :3] = stimulusData[i, :3]\n",
        "     elif taskData[i, 3:6].sum() > 0:\n",
        "         targetData[i, 3:6] = stimulusData[i, 3:6]\n",
        "     elif taskData[i, 6:].sum() > 0:\n",
        "         targetData[i, 6:] = stimulusData[i, 6:]\n",
        "\n",
        "\n",
        "  # Split into training and validation sets\n",
        "  dataset_size = len(stimulusData)\n",
        "  split_index = int(split_ratio * dataset_size)  # Determine split index\n",
        "\n",
        "  training_set = (stimulusData[:split_index], taskData[:split_index], targetData[:split_index])\n",
        "  validation_set = (stimulusData[split_index:], taskData[split_index:], targetData[split_index:])\n",
        "\n",
        "  return training_set, validation_set\n"
      ],
      "metadata": {
        "id": "u5PWtP67IrzM"
      },
      "execution_count": null,
      "outputs": []
    },
    {
      "cell_type": "code",
      "source": [
        "training_set, validation_set = generate_dataset_singletask(split_ratio=0.7)"
      ],
      "metadata": {
        "id": "EPrG67TAOKLE"
      },
      "execution_count": null,
      "outputs": []
    },
    {
      "cell_type": "code",
      "source": [
        "train_stimulus, train_task, train_target = training_set\n",
        "stimulusData_V, taskData_V, targetData_V  = validation_set"
      ],
      "metadata": {
        "id": "K0n5SwdT-D09"
      },
      "execution_count": null,
      "outputs": []
    },
    {
      "cell_type": "code",
      "execution_count": null,
      "metadata": {
        "id": "07chQ-FGKb-D"
      },
      "outputs": [],
      "source": [
        "#create an instance for Model\n",
        "model= Model()"
      ]
    },
    {
      "cell_type": "code",
      "source": [
        "model(train_task, train_stimulus)"
      ],
      "metadata": {
        "id": "XeNRNLqDU36X",
        "colab": {
          "base_uri": "https://localhost:8080/"
        },
        "outputId": "f20c0834-d8a9-4f5c-ca57-a186261bc875"
      },
      "execution_count": null,
      "outputs": [
        {
          "output_type": "execute_result",
          "data": {
            "text/plain": [
              "(tensor([[0.1497, 0.0943, 0.1433,  ..., 0.0945, 0.1399, 0.0891],\n",
              "         [0.1467, 0.0977, 0.1456,  ..., 0.1067, 0.1249, 0.0999],\n",
              "         [0.1548, 0.1054, 0.1359,  ..., 0.0952, 0.1393, 0.0987],\n",
              "         ...,\n",
              "         [0.1356, 0.1002, 0.1224,  ..., 0.0926, 0.1460, 0.1135],\n",
              "         [0.1358, 0.0891, 0.1159,  ..., 0.0880, 0.1643, 0.1003],\n",
              "         [0.1330, 0.0923, 0.1178,  ..., 0.0995, 0.1471, 0.1123]],\n",
              "        grad_fn=<SigmoidBackward0>),\n",
              " tensor([[0.1266, 0.1233, 0.1125,  ..., 0.1312, 0.1090, 0.1447],\n",
              "         [0.1259, 0.1236, 0.1129,  ..., 0.1311, 0.1081, 0.1445],\n",
              "         [0.1259, 0.1237, 0.1129,  ..., 0.1310, 0.1084, 0.1450],\n",
              "         ...,\n",
              "         [0.1327, 0.1152, 0.1104,  ..., 0.1308, 0.0988, 0.1421],\n",
              "         [0.1333, 0.1156, 0.1096,  ..., 0.1308, 0.0997, 0.1417],\n",
              "         [0.1327, 0.1158, 0.1100,  ..., 0.1307, 0.0989, 0.1415]],\n",
              "        grad_fn=<SigmoidBackward0>))"
            ]
          },
          "metadata": {},
          "execution_count": 9
        }
      ]
    },
    {
      "cell_type": "code",
      "source": [
        "#Check Data Sizes\n",
        "print(\"Size of taskData:\", train_task.size())\n",
        "print(\"Size of stimulusData:\", train_stimulus.size())\n",
        "print(\"Size of trainData:\", train_target.size())\n",
        "\n",
        "print(\"Size of Validation Stimulus\",stimulusData_V.shape)\n",
        "print(\"Size of Validation Task\",taskData_V.shape)\n",
        "print(\"Size of Validation Target\",targetData_V.shape)"
      ],
      "metadata": {
        "id": "9ix2uL8oI1_G",
        "colab": {
          "base_uri": "https://localhost:8080/"
        },
        "outputId": "acfab7df-ab10-4afd-b498-40d91e923882"
      },
      "execution_count": null,
      "outputs": [
        {
          "output_type": "stream",
          "name": "stdout",
          "text": [
            "Size of taskData: torch.Size([194, 9])\n",
            "Size of stimulusData: torch.Size([194, 9])\n",
            "Size of trainData: torch.Size([194, 9])\n",
            "Size of Validation Stimulus torch.Size([49, 9])\n",
            "Size of Validation Task torch.Size([49, 9])\n",
            "Size of Validation Target torch.Size([49, 9])\n"
          ]
        }
      ]
    },
    {
      "cell_type": "code",
      "source": [
        "#Train Online Method using back propagation\n",
        "def trainOnline(model, taskData, stimulusData, targetData, iterations, thresh=0.0001, lr=0.1):\n",
        "\n",
        "    criterion = nn.MSELoss()\n",
        "    optimizer = torch.optim.SGD(model.parameters(), lr=lr)\n",
        "    MSE_log = []\n",
        "\n",
        "    with tqdm(total=iterations) as pbar:\n",
        "\n",
        "        for i in range(iterations):\n",
        "            optimizer.zero_grad()\n",
        "            h_act, out_act = model(taskData, stimulusData)\n",
        "            loss = criterion(out_act, targetData)\n",
        "            loss.backward()\n",
        "            optimizer.step()\n",
        "            MSE = loss.item()\n",
        "            MSE_log.append(MSE)\n",
        "\n",
        "            if MSE < thresh:\n",
        "                break\n",
        "\n",
        "\n",
        "            pbar.set_postfix({'MSE': MSE})\n",
        "            pbar.update(1)\n",
        "\n",
        "    return MSE_log\n"
      ],
      "metadata": {
        "id": "8T0axMdrcB_S"
      },
      "execution_count": null,
      "outputs": []
    },
    {
      "cell_type": "code",
      "source": [
        "#Backpropagation learning\n",
        "iterations = 200000\n",
        "MSE_log = trainOnline(model, train_stimulus, train_task, train_target, iterations)"
      ],
      "metadata": {
        "id": "t3IBy6DZEXYZ",
        "colab": {
          "base_uri": "https://localhost:8080/"
        },
        "outputId": "5bffdc6f-a84a-46c5-c6bd-c1aa28d4490a"
      },
      "execution_count": null,
      "outputs": [
        {
          "output_type": "stream",
          "name": "stderr",
          "text": [
            "100%|██████████| 200000/200000 [19:38<00:00, 169.64it/s, MSE=0.00194]\n"
          ]
        }
      ]
    },
    {
      "cell_type": "code",
      "source": [
        "single_log=plot_losses(MSE_log, \"Single Task - Supervised Training\")"
      ],
      "metadata": {
        "colab": {
          "base_uri": "https://localhost:8080/",
          "height": 472
        },
        "id": "dXQzZBpXDxly",
        "outputId": "adc518a5-ad96-4f42-94e8-e636c56b3ce9"
      },
      "execution_count": null,
      "outputs": [
        {
          "output_type": "display_data",
          "data": {
            "text/plain": [
              "<Figure size 640x480 with 1 Axes>"
            ],
            "image/png": "[encoded data removed]"
          },
          "metadata": {}
        }
      ]
    },
    {
      "cell_type": "code",
      "source": [
        "#Re-create an instance for Model to reset the parameters\n",
        "model= Model()"
      ],
      "metadata": {
        "id": "t9l45pgWajIw"
      },
      "execution_count": null,
      "outputs": []
    },
    {
      "cell_type": "code",
      "source": [
        "model(train_task, train_stimulus)"
      ],
      "metadata": {
        "id": "kAhRU0Z1auKz"
      },
      "execution_count": null,
      "outputs": []
    },
    {
      "cell_type": "code",
      "source": [
        "#Reinforcement learning using REINFORCE algorithm\n",
        "def reinforce_train(model, optimizer, taskData, stimulusData, reward):\n",
        "\n",
        "    optimizer.zero_grad()\n",
        "\n",
        "    _, outputs = model(taskData, stimulusData)\n",
        "    log_probs = torch.log(outputs.squeeze(0))\n",
        "\n",
        "    # REINFORCE loss\n",
        "    loss = -log_probs * reward\n",
        "    loss = loss.mean()\n",
        "    #reward = torch.sum(outputs * targetData)\n",
        "    loss.backward()\n",
        "    optimizer.step()\n",
        "\n",
        "    return loss.item()"
      ],
      "metadata": {
        "id": "emD8hQGGwaxL"
      },
      "execution_count": null,
      "outputs": []
    },
    {
      "cell_type": "code",
      "source": [
        "#Reinforce traning Loop\n",
        "optimizer = torch.optim.Adam(model.parameters(), lr=0.001) #Define the Optimizer\n",
        "# Define training loop\n",
        "def train_Rein(model, optimizer, train_task, train_stimulus, train_target, num_episodes=1000, log_interval=1):\n",
        "    losses = []  # To store losses at each episode\n",
        "    for episode in range(1, num_episodes + 1):\n",
        "\n",
        "        # Forward pass\n",
        "        _, outputs = model(train_task, train_stimulus)\n",
        "\n",
        "        # Define reward\n",
        "        reward = torch.sum(outputs * train_target)\n",
        "\n",
        "        # Train using REINFORCE\n",
        "        loss = reinforce_train(model, optimizer, train_task, train_stimulus, reward)\n",
        "        losses.append(loss)\n",
        "        #Logging\n",
        "        if episode % log_interval == 0:\n",
        "            print(f\"Episode {episode}/{num_episodes} | Loss: {loss:.3f}\")\n",
        "    return losses"
      ],
      "metadata": {
        "id": "DZXU7y9Hoyya"
      },
      "execution_count": null,
      "outputs": []
    },
    {
      "cell_type": "code",
      "source": [
        "losses=train_Rein(model, optimizer, train_task, train_stimulus, train_target, num_episodes=1000, log_interval=1)"
      ],
      "metadata": {
        "colab": {
          "base_uri": "https://localhost:8080/"
        },
        "id": "GZ5VEmDxm-EB",
        "outputId": "04800a17-780d-4f84-f5ae-086d10a08113",
        "collapsed": true
      },
      "execution_count": null,
      "outputs": [
        {
          "output_type": "stream",
          "name": "stdout",
          "text": [
            "Episode 1/1000 | Loss: 42.327\n",
            "Episode 2/1000 | Loss: 41.850\n",
            "Episode 3/1000 | Loss: 41.380\n",
            "Episode 4/1000 | Loss: 40.916\n",
            "Episode 5/1000 | Loss: 40.457\n",
            "Episode 6/1000 | Loss: 40.005\n",
            "Episode 7/1000 | Loss: 39.558\n",
            "Episode 8/1000 | Loss: 39.117\n",
            "Episode 9/1000 | Loss: 38.681\n",
            "Episode 10/1000 | Loss: 38.252\n",
            "Episode 11/1000 | Loss: 37.827\n",
            "Episode 12/1000 | Loss: 37.408\n",
            "Episode 13/1000 | Loss: 36.995\n",
            "Episode 14/1000 | Loss: 36.586\n",
            "Episode 15/1000 | Loss: 36.183\n",
            "Episode 16/1000 | Loss: 35.785\n",
            "Episode 17/1000 | Loss: 35.392\n",
            "Episode 18/1000 | Loss: 35.004\n",
            "Episode 19/1000 | Loss: 34.620\n",
            "Episode 20/1000 | Loss: 34.242\n",
            "Episode 21/1000 | Loss: 33.868\n",
            "Episode 22/1000 | Loss: 33.499\n",
            "Episode 23/1000 | Loss: 33.134\n",
            "Episode 24/1000 | Loss: 32.774\n",
            "Episode 25/1000 | Loss: 32.419\n",
            "Episode 26/1000 | Loss: 32.067\n",
            "Episode 27/1000 | Loss: 31.720\n",
            "Episode 28/1000 | Loss: 31.377\n",
            "Episode 29/1000 | Loss: 31.038\n",
            "Episode 30/1000 | Loss: 30.703\n",
            "Episode 31/1000 | Loss: 30.371\n",
            "Episode 32/1000 | Loss: 30.044\n",
            "Episode 33/1000 | Loss: 29.720\n",
            "Episode 34/1000 | Loss: 29.400\n",
            "Episode 35/1000 | Loss: 29.083\n",
            "Episode 36/1000 | Loss: 28.770\n",
            "Episode 37/1000 | Loss: 28.460\n",
            "Episode 38/1000 | Loss: 28.153\n",
            "Episode 39/1000 | Loss: 27.849\n",
            "Episode 40/1000 | Loss: 27.549\n",
            "Episode 41/1000 | Loss: 27.251\n",
            "Episode 42/1000 | Loss: 26.956\n",
            "Episode 43/1000 | Loss: 26.664\n",
            "Episode 44/1000 | Loss: 26.375\n",
            "Episode 45/1000 | Loss: 26.088\n",
            "Episode 46/1000 | Loss: 25.804\n",
            "Episode 47/1000 | Loss: 25.522\n",
            "Episode 48/1000 | Loss: 25.243\n",
            "Episode 49/1000 | Loss: 24.966\n",
            "Episode 50/1000 | Loss: 24.691\n",
            "Episode 51/1000 | Loss: 24.419\n",
            "Episode 52/1000 | Loss: 24.148\n",
            "Episode 53/1000 | Loss: 23.880\n",
            "Episode 54/1000 | Loss: 23.613\n",
            "Episode 55/1000 | Loss: 23.349\n",
            "Episode 56/1000 | Loss: 23.086\n",
            "Episode 57/1000 | Loss: 22.825\n",
            "Episode 58/1000 | Loss: 22.566\n",
            "Episode 59/1000 | Loss: 22.309\n",
            "Episode 60/1000 | Loss: 22.053\n",
            "Episode 61/1000 | Loss: 21.799\n",
            "Episode 62/1000 | Loss: 21.546\n",
            "Episode 63/1000 | Loss: 21.295\n",
            "Episode 64/1000 | Loss: 21.046\n",
            "Episode 65/1000 | Loss: 20.798\n",
            "Episode 66/1000 | Loss: 20.551\n",
            "Episode 67/1000 | Loss: 20.306\n",
            "Episode 68/1000 | Loss: 20.062\n",
            "Episode 69/1000 | Loss: 19.820\n",
            "Episode 70/1000 | Loss: 19.579\n",
            "Episode 71/1000 | Loss: 19.340\n",
            "Episode 72/1000 | Loss: 19.102\n",
            "Episode 73/1000 | Loss: 18.865\n",
            "Episode 74/1000 | Loss: 18.629\n",
            "Episode 75/1000 | Loss: 18.395\n",
            "Episode 76/1000 | Loss: 18.163\n",
            "Episode 77/1000 | Loss: 17.931\n",
            "Episode 78/1000 | Loss: 17.701\n",
            "Episode 79/1000 | Loss: 17.472\n",
            "Episode 80/1000 | Loss: 17.245\n",
            "Episode 81/1000 | Loss: 17.019\n",
            "Episode 82/1000 | Loss: 16.794\n",
            "Episode 83/1000 | Loss: 16.570\n",
            "Episode 84/1000 | Loss: 16.348\n",
            "Episode 85/1000 | Loss: 16.128\n",
            "Episode 86/1000 | Loss: 15.908\n",
            "Episode 87/1000 | Loss: 15.690\n",
            "Episode 88/1000 | Loss: 15.474\n",
            "Episode 89/1000 | Loss: 15.259\n",
            "Episode 90/1000 | Loss: 15.045\n",
            "Episode 91/1000 | Loss: 14.833\n",
            "Episode 92/1000 | Loss: 14.622\n",
            "Episode 93/1000 | Loss: 14.413\n",
            "Episode 94/1000 | Loss: 14.205\n",
            "Episode 95/1000 | Loss: 13.999\n",
            "Episode 96/1000 | Loss: 13.794\n",
            "Episode 97/1000 | Loss: 13.591\n",
            "Episode 98/1000 | Loss: 13.389\n",
            "Episode 99/1000 | Loss: 13.189\n",
            "Episode 100/1000 | Loss: 12.991\n",
            "Episode 101/1000 | Loss: 12.794\n",
            "Episode 102/1000 | Loss: 12.599\n",
            "Episode 103/1000 | Loss: 12.406\n",
            "Episode 104/1000 | Loss: 12.214\n",
            "Episode 105/1000 | Loss: 12.024\n",
            "Episode 106/1000 | Loss: 11.836\n",
            "Episode 107/1000 | Loss: 11.650\n",
            "Episode 108/1000 | Loss: 11.465\n",
            "Episode 109/1000 | Loss: 11.282\n",
            "Episode 110/1000 | Loss: 11.102\n",
            "Episode 111/1000 | Loss: 10.922\n",
            "Episode 112/1000 | Loss: 10.745\n",
            "Episode 113/1000 | Loss: 10.570\n",
            "Episode 114/1000 | Loss: 10.397\n",
            "Episode 115/1000 | Loss: 10.225\n",
            "Episode 116/1000 | Loss: 10.055\n",
            "Episode 117/1000 | Loss: 9.888\n",
            "Episode 118/1000 | Loss: 9.722\n",
            "Episode 119/1000 | Loss: 9.558\n",
            "Episode 120/1000 | Loss: 9.397\n",
            "Episode 121/1000 | Loss: 9.237\n",
            "Episode 122/1000 | Loss: 9.079\n",
            "Episode 123/1000 | Loss: 8.924\n",
            "Episode 124/1000 | Loss: 8.770\n",
            "Episode 125/1000 | Loss: 8.619\n",
            "Episode 126/1000 | Loss: 8.469\n",
            "Episode 127/1000 | Loss: 8.321\n",
            "Episode 128/1000 | Loss: 8.176\n",
            "Episode 129/1000 | Loss: 8.033\n",
            "Episode 130/1000 | Loss: 7.891\n",
            "Episode 131/1000 | Loss: 7.752\n",
            "Episode 132/1000 | Loss: 7.615\n",
            "Episode 133/1000 | Loss: 7.479\n",
            "Episode 134/1000 | Loss: 7.346\n",
            "Episode 135/1000 | Loss: 7.215\n",
            "Episode 136/1000 | Loss: 7.086\n",
            "Episode 137/1000 | Loss: 6.959\n",
            "Episode 138/1000 | Loss: 6.834\n",
            "Episode 139/1000 | Loss: 6.711\n",
            "Episode 140/1000 | Loss: 6.590\n",
            "Episode 141/1000 | Loss: 6.471\n",
            "Episode 142/1000 | Loss: 6.354\n",
            "Episode 143/1000 | Loss: 6.239\n",
            "Episode 144/1000 | Loss: 6.126\n",
            "Episode 145/1000 | Loss: 6.015\n",
            "Episode 146/1000 | Loss: 5.906\n",
            "Episode 147/1000 | Loss: 5.798\n",
            "Episode 148/1000 | Loss: 5.693\n",
            "Episode 149/1000 | Loss: 5.590\n",
            "Episode 150/1000 | Loss: 5.488\n",
            "Episode 151/1000 | Loss: 5.388\n",
            "Episode 152/1000 | Loss: 5.290\n",
            "Episode 153/1000 | Loss: 5.194\n",
            "Episode 154/1000 | Loss: 5.100\n",
            "Episode 155/1000 | Loss: 5.007\n",
            "Episode 156/1000 | Loss: 4.916\n",
            "Episode 157/1000 | Loss: 4.827\n",
            "Episode 158/1000 | Loss: 4.740\n",
            "Episode 159/1000 | Loss: 4.654\n",
            "Episode 160/1000 | Loss: 4.570\n",
            "Episode 161/1000 | Loss: 4.488\n",
            "Episode 162/1000 | Loss: 4.407\n",
            "Episode 163/1000 | Loss: 4.328\n",
            "Episode 164/1000 | Loss: 4.250\n",
            "Episode 165/1000 | Loss: 4.174\n",
            "Episode 166/1000 | Loss: 4.100\n",
            "Episode 167/1000 | Loss: 4.026\n",
            "Episode 168/1000 | Loss: 3.955\n",
            "Episode 169/1000 | Loss: 3.885\n",
            "Episode 170/1000 | Loss: 3.816\n",
            "Episode 171/1000 | Loss: 3.749\n",
            "Episode 172/1000 | Loss: 3.683\n",
            "Episode 173/1000 | Loss: 3.618\n",
            "Episode 174/1000 | Loss: 3.555\n",
            "Episode 175/1000 | Loss: 3.493\n",
            "Episode 176/1000 | Loss: 3.432\n",
            "Episode 177/1000 | Loss: 3.372\n",
            "Episode 178/1000 | Loss: 3.314\n",
            "Episode 179/1000 | Loss: 3.257\n",
            "Episode 180/1000 | Loss: 3.201\n",
            "Episode 181/1000 | Loss: 3.146\n",
            "Episode 182/1000 | Loss: 3.093\n",
            "Episode 183/1000 | Loss: 3.040\n",
            "Episode 184/1000 | Loss: 2.989\n",
            "Episode 185/1000 | Loss: 2.939\n",
            "Episode 186/1000 | Loss: 2.889\n",
            "Episode 187/1000 | Loss: 2.841\n",
            "Episode 188/1000 | Loss: 2.794\n",
            "Episode 189/1000 | Loss: 2.748\n",
            "Episode 190/1000 | Loss: 2.702\n",
            "Episode 191/1000 | Loss: 2.658\n",
            "Episode 192/1000 | Loss: 2.615\n",
            "Episode 193/1000 | Loss: 2.572\n",
            "Episode 194/1000 | Loss: 2.530\n",
            "Episode 195/1000 | Loss: 2.490\n",
            "Episode 196/1000 | Loss: 2.450\n",
            "Episode 197/1000 | Loss: 2.410\n",
            "Episode 198/1000 | Loss: 2.372\n",
            "Episode 199/1000 | Loss: 2.335\n",
            "Episode 200/1000 | Loss: 2.298\n",
            "Episode 201/1000 | Loss: 2.262\n",
            "Episode 202/1000 | Loss: 2.227\n",
            "Episode 203/1000 | Loss: 2.192\n",
            "Episode 204/1000 | Loss: 2.158\n",
            "Episode 205/1000 | Loss: 2.125\n",
            "Episode 206/1000 | Loss: 2.092\n",
            "Episode 207/1000 | Loss: 2.061\n",
            "Episode 208/1000 | Loss: 2.029\n",
            "Episode 209/1000 | Loss: 1.999\n",
            "Episode 210/1000 | Loss: 1.969\n",
            "Episode 211/1000 | Loss: 1.940\n",
            "Episode 212/1000 | Loss: 1.911\n",
            "Episode 213/1000 | Loss: 1.883\n",
            "Episode 214/1000 | Loss: 1.855\n",
            "Episode 215/1000 | Loss: 1.828\n",
            "Episode 216/1000 | Loss: 1.801\n",
            "Episode 217/1000 | Loss: 1.775\n",
            "Episode 218/1000 | Loss: 1.750\n",
            "Episode 219/1000 | Loss: 1.725\n",
            "Episode 220/1000 | Loss: 1.700\n",
            "Episode 221/1000 | Loss: 1.676\n",
            "Episode 222/1000 | Loss: 1.653\n",
            "Episode 223/1000 | Loss: 1.630\n",
            "Episode 224/1000 | Loss: 1.607\n",
            "Episode 225/1000 | Loss: 1.585\n",
            "Episode 226/1000 | Loss: 1.563\n",
            "Episode 227/1000 | Loss: 1.541\n",
            "Episode 228/1000 | Loss: 1.520\n",
            "Episode 229/1000 | Loss: 1.500\n",
            "Episode 230/1000 | Loss: 1.480\n",
            "Episode 231/1000 | Loss: 1.460\n",
            "Episode 232/1000 | Loss: 1.440\n",
            "Episode 233/1000 | Loss: 1.421\n",
            "Episode 234/1000 | Loss: 1.402\n",
            "Episode 235/1000 | Loss: 1.384\n",
            "Episode 236/1000 | Loss: 1.366\n",
            "Episode 237/1000 | Loss: 1.348\n",
            "Episode 238/1000 | Loss: 1.331\n",
            "Episode 239/1000 | Loss: 1.314\n",
            "Episode 240/1000 | Loss: 1.297\n",
            "Episode 241/1000 | Loss: 1.280\n",
            "Episode 242/1000 | Loss: 1.264\n",
            "Episode 243/1000 | Loss: 1.248\n",
            "Episode 244/1000 | Loss: 1.233\n",
            "Episode 245/1000 | Loss: 1.217\n",
            "Episode 246/1000 | Loss: 1.202\n",
            "Episode 247/1000 | Loss: 1.187\n",
            "Episode 248/1000 | Loss: 1.173\n",
            "Episode 249/1000 | Loss: 1.159\n",
            "Episode 250/1000 | Loss: 1.145\n",
            "Episode 251/1000 | Loss: 1.131\n",
            "Episode 252/1000 | Loss: 1.117\n",
            "Episode 253/1000 | Loss: 1.104\n",
            "Episode 254/1000 | Loss: 1.091\n",
            "Episode 255/1000 | Loss: 1.078\n",
            "Episode 256/1000 | Loss: 1.065\n",
            "Episode 257/1000 | Loss: 1.053\n",
            "Episode 258/1000 | Loss: 1.041\n",
            "Episode 259/1000 | Loss: 1.028\n",
            "Episode 260/1000 | Loss: 1.017\n",
            "Episode 261/1000 | Loss: 1.005\n",
            "Episode 262/1000 | Loss: 0.994\n",
            "Episode 263/1000 | Loss: 0.982\n",
            "Episode 264/1000 | Loss: 0.971\n",
            "Episode 265/1000 | Loss: 0.960\n",
            "Episode 266/1000 | Loss: 0.950\n",
            "Episode 267/1000 | Loss: 0.939\n",
            "Episode 268/1000 | Loss: 0.929\n",
            "Episode 269/1000 | Loss: 0.918\n",
            "Episode 270/1000 | Loss: 0.908\n",
            "Episode 271/1000 | Loss: 0.899\n",
            "Episode 272/1000 | Loss: 0.889\n",
            "Episode 273/1000 | Loss: 0.879\n",
            "Episode 274/1000 | Loss: 0.870\n",
            "Episode 275/1000 | Loss: 0.861\n",
            "Episode 276/1000 | Loss: 0.851\n",
            "Episode 277/1000 | Loss: 0.842\n",
            "Episode 278/1000 | Loss: 0.834\n",
            "Episode 279/1000 | Loss: 0.825\n",
            "Episode 280/1000 | Loss: 0.816\n",
            "Episode 281/1000 | Loss: 0.808\n",
            "Episode 282/1000 | Loss: 0.799\n",
            "Episode 283/1000 | Loss: 0.791\n",
            "Episode 284/1000 | Loss: 0.783\n",
            "Episode 285/1000 | Loss: 0.775\n",
            "Episode 286/1000 | Loss: 0.767\n",
            "Episode 287/1000 | Loss: 0.760\n",
            "Episode 288/1000 | Loss: 0.752\n",
            "Episode 289/1000 | Loss: 0.745\n",
            "Episode 290/1000 | Loss: 0.737\n",
            "Episode 291/1000 | Loss: 0.730\n",
            "Episode 292/1000 | Loss: 0.723\n",
            "Episode 293/1000 | Loss: 0.716\n",
            "Episode 294/1000 | Loss: 0.709\n",
            "Episode 295/1000 | Loss: 0.702\n",
            "Episode 296/1000 | Loss: 0.695\n",
            "Episode 297/1000 | Loss: 0.688\n",
            "Episode 298/1000 | Loss: 0.682\n",
            "Episode 299/1000 | Loss: 0.675\n",
            "Episode 300/1000 | Loss: 0.669\n",
            "Episode 301/1000 | Loss: 0.662\n",
            "Episode 302/1000 | Loss: 0.656\n",
            "Episode 303/1000 | Loss: 0.650\n",
            "Episode 304/1000 | Loss: 0.644\n",
            "Episode 305/1000 | Loss: 0.638\n",
            "Episode 306/1000 | Loss: 0.632\n",
            "Episode 307/1000 | Loss: 0.626\n",
            "Episode 308/1000 | Loss: 0.621\n",
            "Episode 309/1000 | Loss: 0.615\n",
            "Episode 310/1000 | Loss: 0.609\n",
            "Episode 311/1000 | Loss: 0.604\n",
            "Episode 312/1000 | Loss: 0.599\n",
            "Episode 313/1000 | Loss: 0.593\n",
            "Episode 314/1000 | Loss: 0.588\n",
            "Episode 315/1000 | Loss: 0.583\n",
            "Episode 316/1000 | Loss: 0.578\n",
            "Episode 317/1000 | Loss: 0.572\n",
            "Episode 318/1000 | Loss: 0.567\n",
            "Episode 319/1000 | Loss: 0.562\n",
            "Episode 320/1000 | Loss: 0.558\n",
            "Episode 321/1000 | Loss: 0.553\n",
            "Episode 322/1000 | Loss: 0.548\n",
            "Episode 323/1000 | Loss: 0.543\n",
            "Episode 324/1000 | Loss: 0.539\n",
            "Episode 325/1000 | Loss: 0.534\n",
            "Episode 326/1000 | Loss: 0.530\n",
            "Episode 327/1000 | Loss: 0.525\n",
            "Episode 328/1000 | Loss: 0.521\n",
            "Episode 329/1000 | Loss: 0.516\n",
            "Episode 330/1000 | Loss: 0.512\n",
            "Episode 331/1000 | Loss: 0.508\n",
            "Episode 332/1000 | Loss: 0.504\n",
            "Episode 333/1000 | Loss: 0.499\n",
            "Episode 334/1000 | Loss: 0.495\n",
            "Episode 335/1000 | Loss: 0.491\n",
            "Episode 336/1000 | Loss: 0.487\n",
            "Episode 337/1000 | Loss: 0.483\n",
            "Episode 338/1000 | Loss: 0.480\n",
            "Episode 339/1000 | Loss: 0.476\n",
            "Episode 340/1000 | Loss: 0.472\n",
            "Episode 341/1000 | Loss: 0.468\n",
            "Episode 342/1000 | Loss: 0.464\n",
            "Episode 343/1000 | Loss: 0.461\n",
            "Episode 344/1000 | Loss: 0.457\n",
            "Episode 345/1000 | Loss: 0.453\n",
            "Episode 346/1000 | Loss: 0.450\n",
            "Episode 347/1000 | Loss: 0.446\n",
            "Episode 348/1000 | Loss: 0.443\n",
            "Episode 349/1000 | Loss: 0.440\n",
            "Episode 350/1000 | Loss: 0.436\n",
            "Episode 351/1000 | Loss: 0.433\n",
            "Episode 352/1000 | Loss: 0.430\n",
            "Episode 353/1000 | Loss: 0.426\n",
            "Episode 354/1000 | Loss: 0.423\n",
            "Episode 355/1000 | Loss: 0.420\n",
            "Episode 356/1000 | Loss: 0.417\n",
            "Episode 357/1000 | Loss: 0.414\n",
            "Episode 358/1000 | Loss: 0.410\n",
            "Episode 359/1000 | Loss: 0.407\n",
            "Episode 360/1000 | Loss: 0.404\n",
            "Episode 361/1000 | Loss: 0.401\n",
            "Episode 362/1000 | Loss: 0.398\n",
            "Episode 363/1000 | Loss: 0.396\n",
            "Episode 364/1000 | Loss: 0.393\n",
            "Episode 365/1000 | Loss: 0.390\n",
            "Episode 366/1000 | Loss: 0.387\n",
            "Episode 367/1000 | Loss: 0.384\n",
            "Episode 368/1000 | Loss: 0.381\n",
            "Episode 369/1000 | Loss: 0.379\n",
            "Episode 370/1000 | Loss: 0.376\n",
            "Episode 371/1000 | Loss: 0.373\n",
            "Episode 372/1000 | Loss: 0.371\n",
            "Episode 373/1000 | Loss: 0.368\n",
            "Episode 374/1000 | Loss: 0.365\n",
            "Episode 375/1000 | Loss: 0.363\n",
            "Episode 376/1000 | Loss: 0.360\n",
            "Episode 377/1000 | Loss: 0.358\n",
            "Episode 378/1000 | Loss: 0.355\n",
            "Episode 379/1000 | Loss: 0.353\n",
            "Episode 380/1000 | Loss: 0.350\n",
            "Episode 381/1000 | Loss: 0.348\n",
            "Episode 382/1000 | Loss: 0.346\n",
            "Episode 383/1000 | Loss: 0.343\n",
            "Episode 384/1000 | Loss: 0.341\n",
            "Episode 385/1000 | Loss: 0.339\n",
            "Episode 386/1000 | Loss: 0.336\n",
            "Episode 387/1000 | Loss: 0.334\n",
            "Episode 388/1000 | Loss: 0.332\n",
            "Episode 389/1000 | Loss: 0.330\n",
            "Episode 390/1000 | Loss: 0.327\n",
            "Episode 391/1000 | Loss: 0.325\n",
            "Episode 392/1000 | Loss: 0.323\n",
            "Episode 393/1000 | Loss: 0.321\n",
            "Episode 394/1000 | Loss: 0.319\n",
            "Episode 395/1000 | Loss: 0.317\n",
            "Episode 396/1000 | Loss: 0.315\n",
            "Episode 397/1000 | Loss: 0.313\n",
            "Episode 398/1000 | Loss: 0.311\n",
            "Episode 399/1000 | Loss: 0.309\n",
            "Episode 400/1000 | Loss: 0.307\n",
            "Episode 401/1000 | Loss: 0.305\n",
            "Episode 402/1000 | Loss: 0.303\n",
            "Episode 403/1000 | Loss: 0.301\n",
            "Episode 404/1000 | Loss: 0.299\n",
            "Episode 405/1000 | Loss: 0.297\n",
            "Episode 406/1000 | Loss: 0.295\n",
            "Episode 407/1000 | Loss: 0.293\n",
            "Episode 408/1000 | Loss: 0.291\n",
            "Episode 409/1000 | Loss: 0.290\n",
            "Episode 410/1000 | Loss: 0.288\n",
            "Episode 411/1000 | Loss: 0.286\n",
            "Episode 412/1000 | Loss: 0.284\n",
            "Episode 413/1000 | Loss: 0.282\n",
            "Episode 414/1000 | Loss: 0.281\n",
            "Episode 415/1000 | Loss: 0.279\n",
            "Episode 416/1000 | Loss: 0.277\n",
            "Episode 417/1000 | Loss: 0.276\n",
            "Episode 418/1000 | Loss: 0.274\n",
            "Episode 419/1000 | Loss: 0.272\n",
            "Episode 420/1000 | Loss: 0.271\n",
            "Episode 421/1000 | Loss: 0.269\n",
            "Episode 422/1000 | Loss: 0.267\n",
            "Episode 423/1000 | Loss: 0.266\n",
            "Episode 424/1000 | Loss: 0.264\n",
            "Episode 425/1000 | Loss: 0.263\n",
            "Episode 426/1000 | Loss: 0.261\n",
            "Episode 427/1000 | Loss: 0.259\n",
            "Episode 428/1000 | Loss: 0.258\n",
            "Episode 429/1000 | Loss: 0.256\n",
            "Episode 430/1000 | Loss: 0.255\n",
            "Episode 431/1000 | Loss: 0.253\n",
            "Episode 432/1000 | Loss: 0.252\n",
            "Episode 433/1000 | Loss: 0.250\n",
            "Episode 434/1000 | Loss: 0.249\n",
            "Episode 435/1000 | Loss: 0.248\n",
            "Episode 436/1000 | Loss: 0.246\n",
            "Episode 437/1000 | Loss: 0.245\n",
            "Episode 438/1000 | Loss: 0.243\n",
            "Episode 439/1000 | Loss: 0.242\n",
            "Episode 440/1000 | Loss: 0.241\n",
            "Episode 441/1000 | Loss: 0.239\n",
            "Episode 442/1000 | Loss: 0.238\n",
            "Episode 443/1000 | Loss: 0.236\n",
            "Episode 444/1000 | Loss: 0.235\n",
            "Episode 445/1000 | Loss: 0.234\n",
            "Episode 446/1000 | Loss: 0.233\n",
            "Episode 447/1000 | Loss: 0.231\n",
            "Episode 448/1000 | Loss: 0.230\n",
            "Episode 449/1000 | Loss: 0.229\n",
            "Episode 450/1000 | Loss: 0.227\n",
            "Episode 451/1000 | Loss: 0.226\n",
            "Episode 452/1000 | Loss: 0.225\n",
            "Episode 453/1000 | Loss: 0.224\n",
            "Episode 454/1000 | Loss: 0.222\n",
            "Episode 455/1000 | Loss: 0.221\n",
            "Episode 456/1000 | Loss: 0.220\n",
            "Episode 457/1000 | Loss: 0.219\n",
            "Episode 458/1000 | Loss: 0.218\n",
            "Episode 459/1000 | Loss: 0.216\n",
            "Episode 460/1000 | Loss: 0.215\n",
            "Episode 461/1000 | Loss: 0.214\n",
            "Episode 462/1000 | Loss: 0.213\n",
            "Episode 463/1000 | Loss: 0.212\n",
            "Episode 464/1000 | Loss: 0.211\n",
            "Episode 465/1000 | Loss: 0.210\n",
            "Episode 466/1000 | Loss: 0.208\n",
            "Episode 467/1000 | Loss: 0.207\n",
            "Episode 468/1000 | Loss: 0.206\n",
            "Episode 469/1000 | Loss: 0.205\n",
            "Episode 470/1000 | Loss: 0.204\n",
            "Episode 471/1000 | Loss: 0.203\n",
            "Episode 472/1000 | Loss: 0.202\n",
            "Episode 473/1000 | Loss: 0.201\n",
            "Episode 474/1000 | Loss: 0.200\n",
            "Episode 475/1000 | Loss: 0.199\n",
            "Episode 476/1000 | Loss: 0.198\n",
            "Episode 477/1000 | Loss: 0.197\n",
            "Episode 478/1000 | Loss: 0.196\n",
            "Episode 479/1000 | Loss: 0.195\n",
            "Episode 480/1000 | Loss: 0.194\n",
            "Episode 481/1000 | Loss: 0.193\n",
            "Episode 482/1000 | Loss: 0.192\n",
            "Episode 483/1000 | Loss: 0.191\n",
            "Episode 484/1000 | Loss: 0.190\n",
            "Episode 485/1000 | Loss: 0.189\n",
            "Episode 486/1000 | Loss: 0.188\n",
            "Episode 487/1000 | Loss: 0.187\n",
            "Episode 488/1000 | Loss: 0.186\n",
            "Episode 489/1000 | Loss: 0.185\n",
            "Episode 490/1000 | Loss: 0.184\n",
            "Episode 491/1000 | Loss: 0.183\n",
            "Episode 492/1000 | Loss: 0.182\n",
            "Episode 493/1000 | Loss: 0.182\n",
            "Episode 494/1000 | Loss: 0.181\n",
            "Episode 495/1000 | Loss: 0.180\n",
            "Episode 496/1000 | Loss: 0.179\n",
            "Episode 497/1000 | Loss: 0.178\n",
            "Episode 498/1000 | Loss: 0.177\n",
            "Episode 499/1000 | Loss: 0.176\n",
            "Episode 500/1000 | Loss: 0.175\n",
            "Episode 501/1000 | Loss: 0.175\n",
            "Episode 502/1000 | Loss: 0.174\n",
            "Episode 503/1000 | Loss: 0.173\n",
            "Episode 504/1000 | Loss: 0.172\n",
            "Episode 505/1000 | Loss: 0.171\n",
            "Episode 506/1000 | Loss: 0.170\n",
            "Episode 507/1000 | Loss: 0.170\n",
            "Episode 508/1000 | Loss: 0.169\n",
            "Episode 509/1000 | Loss: 0.168\n",
            "Episode 510/1000 | Loss: 0.167\n",
            "Episode 511/1000 | Loss: 0.166\n",
            "Episode 512/1000 | Loss: 0.166\n",
            "Episode 513/1000 | Loss: 0.165\n",
            "Episode 514/1000 | Loss: 0.164\n",
            "Episode 515/1000 | Loss: 0.163\n",
            "Episode 516/1000 | Loss: 0.163\n",
            "Episode 517/1000 | Loss: 0.162\n",
            "Episode 518/1000 | Loss: 0.161\n",
            "Episode 519/1000 | Loss: 0.160\n",
            "Episode 520/1000 | Loss: 0.160\n",
            "Episode 521/1000 | Loss: 0.159\n",
            "Episode 522/1000 | Loss: 0.158\n",
            "Episode 523/1000 | Loss: 0.157\n",
            "Episode 524/1000 | Loss: 0.157\n",
            "Episode 525/1000 | Loss: 0.156\n",
            "Episode 526/1000 | Loss: 0.155\n",
            "Episode 527/1000 | Loss: 0.154\n",
            "Episode 528/1000 | Loss: 0.154\n",
            "Episode 529/1000 | Loss: 0.153\n",
            "Episode 530/1000 | Loss: 0.152\n",
            "Episode 531/1000 | Loss: 0.152\n",
            "Episode 532/1000 | Loss: 0.151\n",
            "Episode 533/1000 | Loss: 0.150\n",
            "Episode 534/1000 | Loss: 0.150\n",
            "Episode 535/1000 | Loss: 0.149\n",
            "Episode 536/1000 | Loss: 0.148\n",
            "Episode 537/1000 | Loss: 0.148\n",
            "Episode 538/1000 | Loss: 0.147\n",
            "Episode 539/1000 | Loss: 0.146\n",
            "Episode 540/1000 | Loss: 0.146\n",
            "Episode 541/1000 | Loss: 0.145\n",
            "Episode 542/1000 | Loss: 0.144\n",
            "Episode 543/1000 | Loss: 0.144\n",
            "Episode 544/1000 | Loss: 0.143\n",
            "Episode 545/1000 | Loss: 0.143\n",
            "Episode 546/1000 | Loss: 0.142\n",
            "Episode 547/1000 | Loss: 0.141\n",
            "Episode 548/1000 | Loss: 0.141\n",
            "Episode 549/1000 | Loss: 0.140\n",
            "Episode 550/1000 | Loss: 0.139\n",
            "Episode 551/1000 | Loss: 0.139\n",
            "Episode 552/1000 | Loss: 0.138\n",
            "Episode 553/1000 | Loss: 0.138\n",
            "Episode 554/1000 | Loss: 0.137\n",
            "Episode 555/1000 | Loss: 0.137\n",
            "Episode 556/1000 | Loss: 0.136\n",
            "Episode 557/1000 | Loss: 0.135\n",
            "Episode 558/1000 | Loss: 0.135\n",
            "Episode 559/1000 | Loss: 0.134\n",
            "Episode 560/1000 | Loss: 0.134\n",
            "Episode 561/1000 | Loss: 0.133\n",
            "Episode 562/1000 | Loss: 0.133\n",
            "Episode 563/1000 | Loss: 0.132\n",
            "Episode 564/1000 | Loss: 0.131\n",
            "Episode 565/1000 | Loss: 0.131\n",
            "Episode 566/1000 | Loss: 0.130\n",
            "Episode 567/1000 | Loss: 0.130\n",
            "Episode 568/1000 | Loss: 0.129\n",
            "Episode 569/1000 | Loss: 0.129\n",
            "Episode 570/1000 | Loss: 0.128\n",
            "Episode 571/1000 | Loss: 0.128\n",
            "Episode 572/1000 | Loss: 0.127\n",
            "Episode 573/1000 | Loss: 0.127\n",
            "Episode 574/1000 | Loss: 0.126\n",
            "Episode 575/1000 | Loss: 0.126\n",
            "Episode 576/1000 | Loss: 0.125\n",
            "Episode 577/1000 | Loss: 0.125\n",
            "Episode 578/1000 | Loss: 0.124\n",
            "Episode 579/1000 | Loss: 0.124\n",
            "Episode 580/1000 | Loss: 0.123\n",
            "Episode 581/1000 | Loss: 0.123\n",
            "Episode 582/1000 | Loss: 0.122\n",
            "Episode 583/1000 | Loss: 0.122\n",
            "Episode 584/1000 | Loss: 0.121\n",
            "Episode 585/1000 | Loss: 0.121\n",
            "Episode 586/1000 | Loss: 0.120\n",
            "Episode 587/1000 | Loss: 0.120\n",
            "Episode 588/1000 | Loss: 0.119\n",
            "Episode 589/1000 | Loss: 0.119\n",
            "Episode 590/1000 | Loss: 0.118\n",
            "Episode 591/1000 | Loss: 0.118\n",
            "Episode 592/1000 | Loss: 0.117\n",
            "Episode 593/1000 | Loss: 0.117\n",
            "Episode 594/1000 | Loss: 0.116\n",
            "Episode 595/1000 | Loss: 0.116\n",
            "Episode 596/1000 | Loss: 0.115\n",
            "Episode 597/1000 | Loss: 0.115\n",
            "Episode 598/1000 | Loss: 0.114\n",
            "Episode 599/1000 | Loss: 0.114\n",
            "Episode 600/1000 | Loss: 0.114\n",
            "Episode 601/1000 | Loss: 0.113\n",
            "Episode 602/1000 | Loss: 0.113\n",
            "Episode 603/1000 | Loss: 0.112\n",
            "Episode 604/1000 | Loss: 0.112\n",
            "Episode 605/1000 | Loss: 0.111\n",
            "Episode 606/1000 | Loss: 0.111\n",
            "Episode 607/1000 | Loss: 0.111\n",
            "Episode 608/1000 | Loss: 0.110\n",
            "Episode 609/1000 | Loss: 0.110\n",
            "Episode 610/1000 | Loss: 0.109\n",
            "Episode 611/1000 | Loss: 0.109\n",
            "Episode 612/1000 | Loss: 0.108\n",
            "Episode 613/1000 | Loss: 0.108\n",
            "Episode 614/1000 | Loss: 0.108\n",
            "Episode 615/1000 | Loss: 0.107\n",
            "Episode 616/1000 | Loss: 0.107\n",
            "Episode 617/1000 | Loss: 0.106\n",
            "Episode 618/1000 | Loss: 0.106\n",
            "Episode 619/1000 | Loss: 0.106\n",
            "Episode 620/1000 | Loss: 0.105\n",
            "Episode 621/1000 | Loss: 0.105\n",
            "Episode 622/1000 | Loss: 0.104\n",
            "Episode 623/1000 | Loss: 0.104\n",
            "Episode 624/1000 | Loss: 0.104\n",
            "Episode 625/1000 | Loss: 0.103\n",
            "Episode 626/1000 | Loss: 0.103\n",
            "Episode 627/1000 | Loss: 0.103\n",
            "Episode 628/1000 | Loss: 0.102\n",
            "Episode 629/1000 | Loss: 0.102\n",
            "Episode 630/1000 | Loss: 0.101\n",
            "Episode 631/1000 | Loss: 0.101\n",
            "Episode 632/1000 | Loss: 0.101\n",
            "Episode 633/1000 | Loss: 0.100\n",
            "Episode 634/1000 | Loss: 0.100\n",
            "Episode 635/1000 | Loss: 0.100\n",
            "Episode 636/1000 | Loss: 0.099\n",
            "Episode 637/1000 | Loss: 0.099\n",
            "Episode 638/1000 | Loss: 0.098\n",
            "Episode 639/1000 | Loss: 0.098\n",
            "Episode 640/1000 | Loss: 0.098\n",
            "Episode 641/1000 | Loss: 0.097\n",
            "Episode 642/1000 | Loss: 0.097\n",
            "Episode 643/1000 | Loss: 0.097\n",
            "Episode 644/1000 | Loss: 0.096\n",
            "Episode 645/1000 | Loss: 0.096\n",
            "Episode 646/1000 | Loss: 0.096\n",
            "Episode 647/1000 | Loss: 0.095\n",
            "Episode 648/1000 | Loss: 0.095\n",
            "Episode 649/1000 | Loss: 0.095\n",
            "Episode 650/1000 | Loss: 0.094\n",
            "Episode 651/1000 | Loss: 0.094\n",
            "Episode 652/1000 | Loss: 0.094\n",
            "Episode 653/1000 | Loss: 0.093\n",
            "Episode 654/1000 | Loss: 0.093\n",
            "Episode 655/1000 | Loss: 0.093\n",
            "Episode 656/1000 | Loss: 0.092\n",
            "Episode 657/1000 | Loss: 0.092\n",
            "Episode 658/1000 | Loss: 0.092\n",
            "Episode 659/1000 | Loss: 0.091\n",
            "Episode 660/1000 | Loss: 0.091\n",
            "Episode 661/1000 | Loss: 0.091\n",
            "Episode 662/1000 | Loss: 0.090\n",
            "Episode 663/1000 | Loss: 0.090\n",
            "Episode 664/1000 | Loss: 0.090\n",
            "Episode 665/1000 | Loss: 0.090\n",
            "Episode 666/1000 | Loss: 0.089\n",
            "Episode 667/1000 | Loss: 0.089\n",
            "Episode 668/1000 | Loss: 0.089\n",
            "Episode 669/1000 | Loss: 0.088\n",
            "Episode 670/1000 | Loss: 0.088\n",
            "Episode 671/1000 | Loss: 0.088\n",
            "Episode 672/1000 | Loss: 0.087\n",
            "Episode 673/1000 | Loss: 0.087\n",
            "Episode 674/1000 | Loss: 0.087\n",
            "Episode 675/1000 | Loss: 0.086\n",
            "Episode 676/1000 | Loss: 0.086\n",
            "Episode 677/1000 | Loss: 0.086\n",
            "Episode 678/1000 | Loss: 0.086\n",
            "Episode 679/1000 | Loss: 0.085\n",
            "Episode 680/1000 | Loss: 0.085\n",
            "Episode 681/1000 | Loss: 0.085\n",
            "Episode 682/1000 | Loss: 0.084\n",
            "Episode 683/1000 | Loss: 0.084\n",
            "Episode 684/1000 | Loss: 0.084\n",
            "Episode 685/1000 | Loss: 0.084\n",
            "Episode 686/1000 | Loss: 0.083\n",
            "Episode 687/1000 | Loss: 0.083\n",
            "Episode 688/1000 | Loss: 0.083\n",
            "Episode 689/1000 | Loss: 0.083\n",
            "Episode 690/1000 | Loss: 0.082\n",
            "Episode 691/1000 | Loss: 0.082\n",
            "Episode 692/1000 | Loss: 0.082\n",
            "Episode 693/1000 | Loss: 0.081\n",
            "Episode 694/1000 | Loss: 0.081\n",
            "Episode 695/1000 | Loss: 0.081\n",
            "Episode 696/1000 | Loss: 0.081\n",
            "Episode 697/1000 | Loss: 0.080\n",
            "Episode 698/1000 | Loss: 0.080\n",
            "Episode 699/1000 | Loss: 0.080\n",
            "Episode 700/1000 | Loss: 0.080\n",
            "Episode 701/1000 | Loss: 0.079\n",
            "Episode 702/1000 | Loss: 0.079\n",
            "Episode 703/1000 | Loss: 0.079\n",
            "Episode 704/1000 | Loss: 0.079\n",
            "Episode 705/1000 | Loss: 0.078\n",
            "Episode 706/1000 | Loss: 0.078\n",
            "Episode 707/1000 | Loss: 0.078\n",
            "Episode 708/1000 | Loss: 0.078\n",
            "Episode 709/1000 | Loss: 0.077\n",
            "Episode 710/1000 | Loss: 0.077\n",
            "Episode 711/1000 | Loss: 0.077\n",
            "Episode 712/1000 | Loss: 0.077\n",
            "Episode 713/1000 | Loss: 0.076\n",
            "Episode 714/1000 | Loss: 0.076\n",
            "Episode 715/1000 | Loss: 0.076\n",
            "Episode 716/1000 | Loss: 0.076\n",
            "Episode 717/1000 | Loss: 0.075\n",
            "Episode 718/1000 | Loss: 0.075\n",
            "Episode 719/1000 | Loss: 0.075\n",
            "Episode 720/1000 | Loss: 0.075\n",
            "Episode 721/1000 | Loss: 0.074\n",
            "Episode 722/1000 | Loss: 0.074\n",
            "Episode 723/1000 | Loss: 0.074\n",
            "Episode 724/1000 | Loss: 0.074\n",
            "Episode 725/1000 | Loss: 0.073\n",
            "Episode 726/1000 | Loss: 0.073\n",
            "Episode 727/1000 | Loss: 0.073\n",
            "Episode 728/1000 | Loss: 0.073\n",
            "Episode 729/1000 | Loss: 0.073\n",
            "Episode 730/1000 | Loss: 0.072\n",
            "Episode 731/1000 | Loss: 0.072\n",
            "Episode 732/1000 | Loss: 0.072\n",
            "Episode 733/1000 | Loss: 0.072\n",
            "Episode 734/1000 | Loss: 0.071\n",
            "Episode 735/1000 | Loss: 0.071\n",
            "Episode 736/1000 | Loss: 0.071\n",
            "Episode 737/1000 | Loss: 0.071\n",
            "Episode 738/1000 | Loss: 0.071\n",
            "Episode 739/1000 | Loss: 0.070\n",
            "Episode 740/1000 | Loss: 0.070\n",
            "Episode 741/1000 | Loss: 0.070\n",
            "Episode 742/1000 | Loss: 0.070\n",
            "Episode 743/1000 | Loss: 0.070\n",
            "Episode 744/1000 | Loss: 0.069\n",
            "Episode 745/1000 | Loss: 0.069\n",
            "Episode 746/1000 | Loss: 0.069\n",
            "Episode 747/1000 | Loss: 0.069\n",
            "Episode 748/1000 | Loss: 0.068\n",
            "Episode 749/1000 | Loss: 0.068\n",
            "Episode 750/1000 | Loss: 0.068\n",
            "Episode 751/1000 | Loss: 0.068\n",
            "Episode 752/1000 | Loss: 0.068\n",
            "Episode 753/1000 | Loss: 0.067\n",
            "Episode 754/1000 | Loss: 0.067\n",
            "Episode 755/1000 | Loss: 0.067\n",
            "Episode 756/1000 | Loss: 0.067\n",
            "Episode 757/1000 | Loss: 0.067\n",
            "Episode 758/1000 | Loss: 0.066\n",
            "Episode 759/1000 | Loss: 0.066\n",
            "Episode 760/1000 | Loss: 0.066\n",
            "Episode 761/1000 | Loss: 0.066\n",
            "Episode 762/1000 | Loss: 0.066\n",
            "Episode 763/1000 | Loss: 0.065\n",
            "Episode 764/1000 | Loss: 0.065\n",
            "Episode 765/1000 | Loss: 0.065\n",
            "Episode 766/1000 | Loss: 0.065\n",
            "Episode 767/1000 | Loss: 0.065\n",
            "Episode 768/1000 | Loss: 0.065\n",
            "Episode 769/1000 | Loss: 0.064\n",
            "Episode 770/1000 | Loss: 0.064\n",
            "Episode 771/1000 | Loss: 0.064\n",
            "Episode 772/1000 | Loss: 0.064\n",
            "Episode 773/1000 | Loss: 0.064\n",
            "Episode 774/1000 | Loss: 0.063\n",
            "Episode 775/1000 | Loss: 0.063\n",
            "Episode 776/1000 | Loss: 0.063\n",
            "Episode 777/1000 | Loss: 0.063\n",
            "Episode 778/1000 | Loss: 0.063\n",
            "Episode 779/1000 | Loss: 0.062\n",
            "Episode 780/1000 | Loss: 0.062\n",
            "Episode 781/1000 | Loss: 0.062\n",
            "Episode 782/1000 | Loss: 0.062\n",
            "Episode 783/1000 | Loss: 0.062\n",
            "Episode 784/1000 | Loss: 0.062\n",
            "Episode 785/1000 | Loss: 0.061\n",
            "Episode 786/1000 | Loss: 0.061\n",
            "Episode 787/1000 | Loss: 0.061\n",
            "Episode 788/1000 | Loss: 0.061\n",
            "Episode 789/1000 | Loss: 0.061\n",
            "Episode 790/1000 | Loss: 0.061\n",
            "Episode 791/1000 | Loss: 0.060\n",
            "Episode 792/1000 | Loss: 0.060\n",
            "Episode 793/1000 | Loss: 0.060\n",
            "Episode 794/1000 | Loss: 0.060\n",
            "Episode 795/1000 | Loss: 0.060\n",
            "Episode 796/1000 | Loss: 0.060\n",
            "Episode 797/1000 | Loss: 0.059\n",
            "Episode 798/1000 | Loss: 0.059\n",
            "Episode 799/1000 | Loss: 0.059\n",
            "Episode 800/1000 | Loss: 0.059\n",
            "Episode 801/1000 | Loss: 0.059\n",
            "Episode 802/1000 | Loss: 0.059\n",
            "Episode 803/1000 | Loss: 0.058\n",
            "Episode 804/1000 | Loss: 0.058\n",
            "Episode 805/1000 | Loss: 0.058\n",
            "Episode 806/1000 | Loss: 0.058\n",
            "Episode 807/1000 | Loss: 0.058\n",
            "Episode 808/1000 | Loss: 0.058\n",
            "Episode 809/1000 | Loss: 0.057\n",
            "Episode 810/1000 | Loss: 0.057\n",
            "Episode 811/1000 | Loss: 0.057\n",
            "Episode 812/1000 | Loss: 0.057\n",
            "Episode 813/1000 | Loss: 0.057\n",
            "Episode 814/1000 | Loss: 0.057\n",
            "Episode 815/1000 | Loss: 0.056\n",
            "Episode 816/1000 | Loss: 0.056\n",
            "Episode 817/1000 | Loss: 0.056\n",
            "Episode 818/1000 | Loss: 0.056\n",
            "Episode 819/1000 | Loss: 0.056\n",
            "Episode 820/1000 | Loss: 0.056\n",
            "Episode 821/1000 | Loss: 0.056\n",
            "Episode 822/1000 | Loss: 0.055\n",
            "Episode 823/1000 | Loss: 0.055\n",
            "Episode 824/1000 | Loss: 0.055\n",
            "Episode 825/1000 | Loss: 0.055\n",
            "Episode 826/1000 | Loss: 0.055\n",
            "Episode 827/1000 | Loss: 0.055\n",
            "Episode 828/1000 | Loss: 0.054\n",
            "Episode 829/1000 | Loss: 0.054\n",
            "Episode 830/1000 | Loss: 0.054\n",
            "Episode 831/1000 | Loss: 0.054\n",
            "Episode 832/1000 | Loss: 0.054\n",
            "Episode 833/1000 | Loss: 0.054\n",
            "Episode 834/1000 | Loss: 0.054\n",
            "Episode 835/1000 | Loss: 0.053\n",
            "Episode 836/1000 | Loss: 0.053\n",
            "Episode 837/1000 | Loss: 0.053\n",
            "Episode 838/1000 | Loss: 0.053\n",
            "Episode 839/1000 | Loss: 0.053\n",
            "Episode 840/1000 | Loss: 0.053\n",
            "Episode 841/1000 | Loss: 0.053\n",
            "Episode 842/1000 | Loss: 0.052\n",
            "Episode 843/1000 | Loss: 0.052\n",
            "Episode 844/1000 | Loss: 0.052\n",
            "Episode 845/1000 | Loss: 0.052\n",
            "Episode 846/1000 | Loss: 0.052\n",
            "Episode 847/1000 | Loss: 0.052\n",
            "Episode 848/1000 | Loss: 0.052\n",
            "Episode 849/1000 | Loss: 0.052\n",
            "Episode 850/1000 | Loss: 0.051\n",
            "Episode 851/1000 | Loss: 0.051\n",
            "Episode 852/1000 | Loss: 0.051\n",
            "Episode 853/1000 | Loss: 0.051\n",
            "Episode 854/1000 | Loss: 0.051\n",
            "Episode 855/1000 | Loss: 0.051\n",
            "Episode 856/1000 | Loss: 0.051\n",
            "Episode 857/1000 | Loss: 0.050\n",
            "Episode 858/1000 | Loss: 0.050\n",
            "Episode 859/1000 | Loss: 0.050\n",
            "Episode 860/1000 | Loss: 0.050\n",
            "Episode 861/1000 | Loss: 0.050\n",
            "Episode 862/1000 | Loss: 0.050\n",
            "Episode 863/1000 | Loss: 0.050\n",
            "Episode 864/1000 | Loss: 0.050\n",
            "Episode 865/1000 | Loss: 0.049\n",
            "Episode 866/1000 | Loss: 0.049\n",
            "Episode 867/1000 | Loss: 0.049\n",
            "Episode 868/1000 | Loss: 0.049\n",
            "Episode 869/1000 | Loss: 0.049\n",
            "Episode 870/1000 | Loss: 0.049\n",
            "Episode 871/1000 | Loss: 0.049\n",
            "Episode 872/1000 | Loss: 0.049\n",
            "Episode 873/1000 | Loss: 0.048\n",
            "Episode 874/1000 | Loss: 0.048\n",
            "Episode 875/1000 | Loss: 0.048\n",
            "Episode 876/1000 | Loss: 0.048\n",
            "Episode 877/1000 | Loss: 0.048\n",
            "Episode 878/1000 | Loss: 0.048\n",
            "Episode 879/1000 | Loss: 0.048\n",
            "Episode 880/1000 | Loss: 0.048\n",
            "Episode 881/1000 | Loss: 0.047\n",
            "Episode 882/1000 | Loss: 0.047\n",
            "Episode 883/1000 | Loss: 0.047\n",
            "Episode 884/1000 | Loss: 0.047\n",
            "Episode 885/1000 | Loss: 0.047\n",
            "Episode 886/1000 | Loss: 0.047\n",
            "Episode 887/1000 | Loss: 0.047\n",
            "Episode 888/1000 | Loss: 0.047\n",
            "Episode 889/1000 | Loss: 0.046\n",
            "Episode 890/1000 | Loss: 0.046\n",
            "Episode 891/1000 | Loss: 0.046\n",
            "Episode 892/1000 | Loss: 0.046\n",
            "Episode 893/1000 | Loss: 0.046\n",
            "Episode 894/1000 | Loss: 0.046\n",
            "Episode 895/1000 | Loss: 0.046\n",
            "Episode 896/1000 | Loss: 0.046\n",
            "Episode 897/1000 | Loss: 0.046\n",
            "Episode 898/1000 | Loss: 0.045\n",
            "Episode 899/1000 | Loss: 0.045\n",
            "Episode 900/1000 | Loss: 0.045\n",
            "Episode 901/1000 | Loss: 0.045\n",
            "Episode 902/1000 | Loss: 0.045\n",
            "Episode 903/1000 | Loss: 0.045\n",
            "Episode 904/1000 | Loss: 0.045\n",
            "Episode 905/1000 | Loss: 0.045\n",
            "Episode 906/1000 | Loss: 0.045\n",
            "Episode 907/1000 | Loss: 0.044\n",
            "Episode 908/1000 | Loss: 0.044\n",
            "Episode 909/1000 | Loss: 0.044\n",
            "Episode 910/1000 | Loss: 0.044\n",
            "Episode 911/1000 | Loss: 0.044\n",
            "Episode 912/1000 | Loss: 0.044\n",
            "Episode 913/1000 | Loss: 0.044\n",
            "Episode 914/1000 | Loss: 0.044\n",
            "Episode 915/1000 | Loss: 0.044\n",
            "Episode 916/1000 | Loss: 0.044\n",
            "Episode 917/1000 | Loss: 0.043\n",
            "Episode 918/1000 | Loss: 0.043\n",
            "Episode 919/1000 | Loss: 0.043\n",
            "Episode 920/1000 | Loss: 0.043\n",
            "Episode 921/1000 | Loss: 0.043\n",
            "Episode 922/1000 | Loss: 0.043\n",
            "Episode 923/1000 | Loss: 0.043\n",
            "Episode 924/1000 | Loss: 0.043\n",
            "Episode 925/1000 | Loss: 0.043\n",
            "Episode 926/1000 | Loss: 0.042\n",
            "Episode 927/1000 | Loss: 0.042\n",
            "Episode 928/1000 | Loss: 0.042\n",
            "Episode 929/1000 | Loss: 0.042\n",
            "Episode 930/1000 | Loss: 0.042\n",
            "Episode 931/1000 | Loss: 0.042\n",
            "Episode 932/1000 | Loss: 0.042\n",
            "Episode 933/1000 | Loss: 0.042\n",
            "Episode 934/1000 | Loss: 0.042\n",
            "Episode 935/1000 | Loss: 0.042\n",
            "Episode 936/1000 | Loss: 0.041\n",
            "Episode 937/1000 | Loss: 0.041\n",
            "Episode 938/1000 | Loss: 0.041\n",
            "Episode 939/1000 | Loss: 0.041\n",
            "Episode 940/1000 | Loss: 0.041\n",
            "Episode 941/1000 | Loss: 0.041\n",
            "Episode 942/1000 | Loss: 0.041\n",
            "Episode 943/1000 | Loss: 0.041\n",
            "Episode 944/1000 | Loss: 0.041\n",
            "Episode 945/1000 | Loss: 0.041\n",
            "Episode 946/1000 | Loss: 0.041\n",
            "Episode 947/1000 | Loss: 0.040\n",
            "Episode 948/1000 | Loss: 0.040\n",
            "Episode 949/1000 | Loss: 0.040\n",
            "Episode 950/1000 | Loss: 0.040\n",
            "Episode 951/1000 | Loss: 0.040\n",
            "Episode 952/1000 | Loss: 0.040\n",
            "Episode 953/1000 | Loss: 0.040\n",
            "Episode 954/1000 | Loss: 0.040\n",
            "Episode 955/1000 | Loss: 0.040\n",
            "Episode 956/1000 | Loss: 0.040\n",
            "Episode 957/1000 | Loss: 0.039\n",
            "Episode 958/1000 | Loss: 0.039\n",
            "Episode 959/1000 | Loss: 0.039\n",
            "Episode 960/1000 | Loss: 0.039\n",
            "Episode 961/1000 | Loss: 0.039\n",
            "Episode 962/1000 | Loss: 0.039\n",
            "Episode 963/1000 | Loss: 0.039\n",
            "Episode 964/1000 | Loss: 0.039\n",
            "Episode 965/1000 | Loss: 0.039\n",
            "Episode 966/1000 | Loss: 0.039\n",
            "Episode 967/1000 | Loss: 0.039\n",
            "Episode 968/1000 | Loss: 0.039\n",
            "Episode 969/1000 | Loss: 0.038\n",
            "Episode 970/1000 | Loss: 0.038\n",
            "Episode 971/1000 | Loss: 0.038\n",
            "Episode 972/1000 | Loss: 0.038\n",
            "Episode 973/1000 | Loss: 0.038\n",
            "Episode 974/1000 | Loss: 0.038\n",
            "Episode 975/1000 | Loss: 0.038\n",
            "Episode 976/1000 | Loss: 0.038\n",
            "Episode 977/1000 | Loss: 0.038\n",
            "Episode 978/1000 | Loss: 0.038\n",
            "Episode 979/1000 | Loss: 0.038\n",
            "Episode 980/1000 | Loss: 0.037\n",
            "Episode 981/1000 | Loss: 0.037\n",
            "Episode 982/1000 | Loss: 0.037\n",
            "Episode 983/1000 | Loss: 0.037\n",
            "Episode 984/1000 | Loss: 0.037\n",
            "Episode 985/1000 | Loss: 0.037\n",
            "Episode 986/1000 | Loss: 0.037\n",
            "Episode 987/1000 | Loss: 0.037\n",
            "Episode 988/1000 | Loss: 0.037\n",
            "Episode 989/1000 | Loss: 0.037\n",
            "Episode 990/1000 | Loss: 0.037\n",
            "Episode 991/1000 | Loss: 0.037\n",
            "Episode 992/1000 | Loss: 0.036\n",
            "Episode 993/1000 | Loss: 0.036\n",
            "Episode 994/1000 | Loss: 0.036\n",
            "Episode 995/1000 | Loss: 0.036\n",
            "Episode 996/1000 | Loss: 0.036\n",
            "Episode 997/1000 | Loss: 0.036\n",
            "Episode 998/1000 | Loss: 0.036\n",
            "Episode 999/1000 | Loss: 0.036\n",
            "Episode 1000/1000 | Loss: 0.036\n"
          ]
        }
      ]
    },
    {
      "cell_type": "code",
      "source": [
        "Reinforce_log= plot_losses(losses, \"Single Task - Reinforce Training\")"
      ],
      "metadata": {
        "colab": {
          "base_uri": "https://localhost:8080/",
          "height": 472
        },
        "id": "KKP7mGLl7lO6",
        "outputId": "21e45f18-ad88-4a02-e8c9-c13a111beb5e"
      },
      "execution_count": null,
      "outputs": [
        {
          "output_type": "display_data",
          "data": {
            "text/plain": [
              "<Figure size 640x480 with 1 Axes>"
            ],
            "image/png": "[encoded data removed]"
          },
          "metadata": {}
        }
      ]
    },
    {
      "cell_type": "code",
      "source": [
        "#Define Evalutae function\n",
        "def evaluate(model, taskData, stimulusData, targetData):\n",
        "    model.eval()\n",
        "    with torch.no_grad():\n",
        "        _, val_output = model(taskData, stimulusData)\n",
        "        criterion = nn.MSELoss()\n",
        "        val_loss = criterion(val_output, targetData).item()\n",
        "    model.train()\n",
        "    return val_loss"
      ],
      "metadata": {
        "id": "EousKE06so1m"
      },
      "execution_count": null,
      "outputs": []
    },
    {
      "cell_type": "code",
      "source": [
        "evaluate(model, taskData_V, stimulusData_V, targetData_V)"
      ],
      "metadata": {
        "colab": {
          "base_uri": "https://localhost:8080/"
        },
        "id": "rs8ujdMUvq4w",
        "outputId": "b16e656a-7a79-4ff8-d3c9-acff5dd1cb16",
        "collapsed": true
      },
      "execution_count": null,
      "outputs": [
        {
          "output_type": "execute_result",
          "data": {
            "text/plain": [
              "0.1110457330942154"
            ]
          },
          "metadata": {},
          "execution_count": 252
        }
      ]
    },
    {
      "cell_type": "code",
      "source": [
        "#Define multiple simulations\n",
        "def run_simulations(n_simulations=100, num_episodes=1000, log_interval=100):\n",
        "    all_losses = []\n",
        "\n",
        "    for i in tqdm(range(n_simulations)):\n",
        "        model = Model()\n",
        "        optimizer = torch.optim.Adam(model.parameters(), lr=0.001)\n",
        "\n",
        "        training_set, validation_set = generate_dataset_singletask(split_ratio=0.7)\n",
        "        train_stimulus, train_task, train_target = training_set\n",
        "\n",
        "        losses = train_Rein(model, optimizer, train_task, train_stimulus, train_target, num_episodes, log_interval)\n",
        "\n",
        "        if len(losses) > 0:\n",
        "            print(f\"Simulation {i+1}: First few losses: {losses[:5]}\")\n",
        "\n",
        "        all_losses.append(losses)\n",
        "\n",
        "    print(f\"Total simulations run: {len(all_losses)}\")\n",
        "    return all_losses"
      ],
      "metadata": {
        "id": "T2DBhEuGpRAp"
      },
      "execution_count": null,
      "outputs": []
    },
    {
      "cell_type": "code",
      "source": [
        "def calculate_mean_and_standard_error(losses):\n",
        "    min_length = min(len(loss) for loss in losses)\n",
        "    trimmed_losses = [loss[:min_length] for loss in losses if loss is not None]  # Exclude None losses\n",
        "    losses_array = numpy.array(trimmed_losses) # convert to numpy array\n",
        "    mean_losses = numpy.mean(losses_array, axis=0)  #calculate mean\n",
        "    std_err_losses = numpy.std(losses_array, axis=0) / numpy.sqrt(losses_array.shape[0]) #calculate standard deviation\n",
        "    return mean_losses, std_err_losses"
      ],
      "metadata": {
        "id": "_bQYuLv5pZrN"
      },
      "execution_count": null,
      "outputs": []
    },
    {
      "cell_type": "code",
      "source": [
        "def plot_learning_curve_with_standard_error(mean_losses, std_err_losses, title):\n",
        "    epochs = range(len(mean_losses))\n",
        "    plt.figure(figsize=(10, 6))\n",
        "    plt.plot(epochs, mean_losses, label='Mean Loss', linewidth=2)\n",
        "    # Scaling the standard error for visibility; here we multiply by 10 for example purposes\n",
        "    visible_std_err_losses = std_err_losses * 100\n",
        "    plt.fill_between(epochs, mean_losses - visible_std_err_losses, mean_losses + visible_std_err_losses, color='b', alpha=0.3, label='Standard Error (Scaled)')\n",
        "    plt.xlabel('Epochs / Episodes')\n",
        "    plt.ylabel('Loss')\n",
        "    plt.title(title)\n",
        "    plt.legend()\n",
        "    plt.grid(True)\n",
        "    plt.savefig(f'{title.replace(\" \", \"_\").lower()}_learning_curve_with_standard_error.png')\n",
        "    plt.show()\n"
      ],
      "metadata": {
        "id": "q6YYniLtKzyE"
      },
      "execution_count": null,
      "outputs": []
    },
    {
      "cell_type": "code",
      "source": [
        "all_losses = run_simulations(n_simulations=100, num_episodes=1000, log_interval=100)"
      ],
      "metadata": {
        "colab": {
          "base_uri": "https://localhost:8080/"
        },
        "collapsed": true,
        "id": "py50cS7Opbpg",
        "outputId": "14cdc3e3-1a5c-42c1-852e-bc794779e99a"
      },
      "execution_count": null,
      "outputs": [
        {
          "output_type": "stream",
          "name": "stderr",
          "text": [
            "\r  0%|          | 0/100 [00:00<?, ?it/s]"
          ]
        },
        {
          "output_type": "stream",
          "name": "stdout",
          "text": [
            "Episode 100/1000 | Loss: 12.738\n",
            "Episode 200/1000 | Loss: 2.303\n",
            "Episode 300/1000 | Loss: 0.667\n",
            "Episode 400/1000 | Loss: 0.305\n",
            "Episode 500/1000 | Loss: 0.174\n",
            "Episode 600/1000 | Loss: 0.112\n",
            "Episode 700/1000 | Loss: 0.078\n",
            "Episode 800/1000 | Loss: 0.058\n",
            "Episode 900/1000 | Loss: 0.045\n"
          ]
        },
        {
          "output_type": "stream",
          "name": "stderr",
          "text": [
            "\r  1%|          | 1/100 [00:02<04:11,  2.54s/it]"
          ]
        },
        {
          "output_type": "stream",
          "name": "stdout",
          "text": [
            "Episode 1000/1000 | Loss: 0.035\n",
            "Simulation 1: First few losses: [41.957820892333984, 41.481571197509766, 41.01091384887695, 40.54585266113281, 40.086341857910156]\n",
            "Episode 100/1000 | Loss: 11.982\n",
            "Episode 200/1000 | Loss: 2.125\n",
            "Episode 300/1000 | Loss: 0.621\n",
            "Episode 400/1000 | Loss: 0.285\n",
            "Episode 500/1000 | Loss: 0.163\n",
            "Episode 600/1000 | Loss: 0.105\n",
            "Episode 700/1000 | Loss: 0.074\n",
            "Episode 800/1000 | Loss: 0.055\n",
            "Episode 900/1000 | Loss: 0.042\n"
          ]
        },
        {
          "output_type": "stream",
          "name": "stderr",
          "text": [
            "\r  2%|▏         | 2/100 [00:05<04:34,  2.81s/it]"
          ]
        },
        {
          "output_type": "stream",
          "name": "stdout",
          "text": [
            "Episode 1000/1000 | Loss: 0.033\n",
            "Simulation 2: First few losses: [38.72168731689453, 38.28701400756836, 37.85784149169922, 37.434165954589844, 37.01593017578125]\n",
            "Episode 100/1000 | Loss: 13.234\n",
            "Episode 200/1000 | Loss: 2.300\n",
            "Episode 300/1000 | Loss: 0.663\n",
            "Episode 400/1000 | Loss: 0.303\n",
            "Episode 500/1000 | Loss: 0.173\n",
            "Episode 600/1000 | Loss: 0.112\n",
            "Episode 700/1000 | Loss: 0.078\n",
            "Episode 800/1000 | Loss: 0.058\n",
            "Episode 900/1000 | Loss: 0.044\n"
          ]
        },
        {
          "output_type": "stream",
          "name": "stderr",
          "text": [
            "\r  3%|▎         | 3/100 [00:08<04:33,  2.82s/it]"
          ]
        },
        {
          "output_type": "stream",
          "name": "stdout",
          "text": [
            "Episode 1000/1000 | Loss: 0.035\n",
            "Simulation 3: First few losses: [42.709598541259766, 42.237144470214844, 41.77045440673828, 41.30948257446289, 40.854190826416016]\n",
            "Episode 100/1000 | Loss: 13.723\n",
            "Episode 200/1000 | Loss: 2.436\n",
            "Episode 300/1000 | Loss: 0.694\n",
            "Episode 400/1000 | Loss: 0.316\n",
            "Episode 500/1000 | Loss: 0.180\n",
            "Episode 600/1000 | Loss: 0.116\n",
            "Episode 700/1000 | Loss: 0.081\n",
            "Episode 800/1000 | Loss: 0.060\n",
            "Episode 900/1000 | Loss: 0.046\n"
          ]
        },
        {
          "output_type": "stream",
          "name": "stderr",
          "text": [
            "\r  4%|▍         | 4/100 [00:10<04:15,  2.66s/it]"
          ]
        },
        {
          "output_type": "stream",
          "name": "stdout",
          "text": [
            "Episode 1000/1000 | Loss: 0.037\n",
            "Simulation 4: First few losses: [43.088165283203125, 42.622276306152344, 42.161922454833984, 41.707061767578125, 41.25762939453125]\n",
            "Episode 100/1000 | Loss: 13.892\n",
            "Episode 200/1000 | Loss: 2.384\n",
            "Episode 300/1000 | Loss: 0.679\n",
            "Episode 400/1000 | Loss: 0.310\n",
            "Episode 500/1000 | Loss: 0.177\n",
            "Episode 600/1000 | Loss: 0.115\n",
            "Episode 700/1000 | Loss: 0.080\n",
            "Episode 800/1000 | Loss: 0.059\n",
            "Episode 900/1000 | Loss: 0.046\n"
          ]
        },
        {
          "output_type": "stream",
          "name": "stderr",
          "text": [
            "\r  5%|▌         | 5/100 [00:13<04:05,  2.58s/it]"
          ]
        },
        {
          "output_type": "stream",
          "name": "stdout",
          "text": [
            "Episode 1000/1000 | Loss: 0.036\n",
            "Simulation 5: First few losses: [44.07483673095703, 43.59265899658203, 43.11664962768555, 42.64677810668945, 42.1829719543457]\n",
            "Episode 100/1000 | Loss: 14.364\n",
            "Episode 200/1000 | Loss: 2.819\n",
            "Episode 300/1000 | Loss: 0.774\n",
            "Episode 400/1000 | Loss: 0.341\n",
            "Episode 500/1000 | Loss: 0.191\n",
            "Episode 600/1000 | Loss: 0.122\n",
            "Episode 700/1000 | Loss: 0.085\n",
            "Episode 800/1000 | Loss: 0.062\n",
            "Episode 900/1000 | Loss: 0.047\n"
          ]
        },
        {
          "output_type": "stream",
          "name": "stderr",
          "text": [
            "\r  6%|▌         | 6/100 [00:15<03:58,  2.54s/it]"
          ]
        },
        {
          "output_type": "stream",
          "name": "stdout",
          "text": [
            "Episode 1000/1000 | Loss: 0.037\n",
            "Simulation 6: First few losses: [44.87071990966797, 44.374114990234375, 43.883811950683594, 43.399784088134766, 42.92195510864258]\n",
            "Episode 100/1000 | Loss: 12.515\n",
            "Episode 200/1000 | Loss: 2.214\n",
            "Episode 300/1000 | Loss: 0.651\n",
            "Episode 400/1000 | Loss: 0.300\n",
            "Episode 500/1000 | Loss: 0.172\n",
            "Episode 600/1000 | Loss: 0.112\n",
            "Episode 700/1000 | Loss: 0.078\n",
            "Episode 800/1000 | Loss: 0.058\n",
            "Episode 900/1000 | Loss: 0.045\n"
          ]
        },
        {
          "output_type": "stream",
          "name": "stderr",
          "text": [
            "\r  7%|▋         | 7/100 [00:18<04:17,  2.77s/it]"
          ]
        },
        {
          "output_type": "stream",
          "name": "stdout",
          "text": [
            "Episode 1000/1000 | Loss: 0.035\n",
            "Simulation 7: First few losses: [41.751747131347656, 41.27202224731445, 40.79830551147461, 40.330535888671875, 39.868690490722656]\n",
            "Episode 100/1000 | Loss: 12.483\n",
            "Episode 200/1000 | Loss: 2.206\n",
            "Episode 300/1000 | Loss: 0.651\n",
            "Episode 400/1000 | Loss: 0.301\n",
            "Episode 500/1000 | Loss: 0.173\n",
            "Episode 600/1000 | Loss: 0.112\n",
            "Episode 700/1000 | Loss: 0.079\n",
            "Episode 800/1000 | Loss: 0.058\n",
            "Episode 900/1000 | Loss: 0.045\n"
          ]
        },
        {
          "output_type": "stream",
          "name": "stderr",
          "text": [
            "\r  8%|▊         | 8/100 [00:21<04:17,  2.80s/it]"
          ]
        },
        {
          "output_type": "stream",
          "name": "stdout",
          "text": [
            "Episode 1000/1000 | Loss: 0.036\n",
            "Simulation 8: First few losses: [41.615684509277344, 41.14161682128906, 40.67312240600586, 40.210208892822266, 39.75286865234375]\n",
            "Episode 100/1000 | Loss: 14.384\n",
            "Episode 200/1000 | Loss: 2.556\n",
            "Episode 300/1000 | Loss: 0.716\n",
            "Episode 400/1000 | Loss: 0.323\n",
            "Episode 500/1000 | Loss: 0.184\n",
            "Episode 600/1000 | Loss: 0.119\n",
            "Episode 700/1000 | Loss: 0.083\n",
            "Episode 800/1000 | Loss: 0.061\n",
            "Episode 900/1000 | Loss: 0.047\n"
          ]
        },
        {
          "output_type": "stream",
          "name": "stderr",
          "text": [
            "\r  9%|▉         | 9/100 [00:24<04:07,  2.72s/it]"
          ]
        },
        {
          "output_type": "stream",
          "name": "stdout",
          "text": [
            "Episode 1000/1000 | Loss: 0.037\n",
            "Simulation 9: First few losses: [45.245853424072266, 44.7539176940918, 44.26783752441406, 43.787601470947266, 43.31315994262695]\n",
            "Episode 100/1000 | Loss: 12.722\n",
            "Episode 200/1000 | Loss: 2.159\n",
            "Episode 300/1000 | Loss: 0.635\n",
            "Episode 400/1000 | Loss: 0.293\n",
            "Episode 500/1000 | Loss: 0.168\n",
            "Episode 600/1000 | Loss: 0.109\n",
            "Episode 700/1000 | Loss: 0.077\n",
            "Episode 800/1000 | Loss: 0.057\n",
            "Episode 900/1000 | Loss: 0.044\n"
          ]
        },
        {
          "output_type": "stream",
          "name": "stderr",
          "text": [
            "\r 10%|█         | 10/100 [00:26<04:00,  2.67s/it]"
          ]
        },
        {
          "output_type": "stream",
          "name": "stdout",
          "text": [
            "Episode 1000/1000 | Loss: 0.035\n",
            "Simulation 10: First few losses: [41.78582000732422, 41.3258056640625, 40.871761322021484, 40.42366027832031, 39.98148727416992]\n",
            "Episode 100/1000 | Loss: 15.243\n",
            "Episode 200/1000 | Loss: 3.220\n",
            "Episode 300/1000 | Loss: 0.880\n",
            "Episode 400/1000 | Loss: 0.383\n",
            "Episode 500/1000 | Loss: 0.213\n",
            "Episode 600/1000 | Loss: 0.136\n",
            "Episode 700/1000 | Loss: 0.094\n",
            "Episode 800/1000 | Loss: 0.069\n",
            "Episode 900/1000 | Loss: 0.053\n"
          ]
        },
        {
          "output_type": "stream",
          "name": "stderr",
          "text": [
            "\r 11%|█         | 11/100 [00:29<03:54,  2.64s/it]"
          ]
        },
        {
          "output_type": "stream",
          "name": "stdout",
          "text": [
            "Episode 1000/1000 | Loss: 0.042\n",
            "Simulation 11: First few losses: [48.05319595336914, 47.51155471801758, 46.97636795043945, 46.44757843017578, 45.925174713134766]\n",
            "Episode 100/1000 | Loss: 14.208\n",
            "Episode 200/1000 | Loss: 2.615\n",
            "Episode 300/1000 | Loss: 0.736\n",
            "Episode 400/1000 | Loss: 0.331\n",
            "Episode 500/1000 | Loss: 0.188\n",
            "Episode 600/1000 | Loss: 0.121\n",
            "Episode 700/1000 | Loss: 0.084\n",
            "Episode 800/1000 | Loss: 0.062\n",
            "Episode 900/1000 | Loss: 0.048\n"
          ]
        },
        {
          "output_type": "stream",
          "name": "stderr",
          "text": [
            "\r 12%|█▏        | 12/100 [00:32<04:15,  2.90s/it]"
          ]
        },
        {
          "output_type": "stream",
          "name": "stdout",
          "text": [
            "Episode 1000/1000 | Loss: 0.038\n",
            "Simulation 12: First few losses: [45.55503845214844, 45.04974365234375, 44.550601959228516, 44.057594299316406, 43.57068634033203]\n",
            "Episode 100/1000 | Loss: 10.278\n",
            "Episode 200/1000 | Loss: 1.730\n",
            "Episode 300/1000 | Loss: 0.540\n",
            "Episode 400/1000 | Loss: 0.256\n",
            "Episode 500/1000 | Loss: 0.149\n",
            "Episode 600/1000 | Loss: 0.097\n",
            "Episode 700/1000 | Loss: 0.069\n",
            "Episode 800/1000 | Loss: 0.051\n",
            "Episode 900/1000 | Loss: 0.039\n"
          ]
        },
        {
          "output_type": "stream",
          "name": "stderr",
          "text": [
            "\r 13%|█▎        | 13/100 [00:35<04:00,  2.76s/it]"
          ]
        },
        {
          "output_type": "stream",
          "name": "stdout",
          "text": [
            "Episode 1000/1000 | Loss: 0.031\n",
            "Simulation 13: First few losses: [36.67099380493164, 36.25169372558594, 35.83757781982422, 35.428646087646484, 35.02488327026367]\n",
            "Episode 100/1000 | Loss: 13.282\n",
            "Episode 200/1000 | Loss: 2.455\n",
            "Episode 300/1000 | Loss: 0.713\n",
            "Episode 400/1000 | Loss: 0.325\n",
            "Episode 500/1000 | Loss: 0.185\n",
            "Episode 600/1000 | Loss: 0.119\n",
            "Episode 700/1000 | Loss: 0.083\n",
            "Episode 800/1000 | Loss: 0.062\n",
            "Episode 900/1000 | Loss: 0.047\n"
          ]
        },
        {
          "output_type": "stream",
          "name": "stderr",
          "text": [
            "\r 14%|█▍        | 14/100 [00:37<03:52,  2.70s/it]"
          ]
        },
        {
          "output_type": "stream",
          "name": "stdout",
          "text": [
            "Episode 1000/1000 | Loss: 0.037\n",
            "Simulation 14: First few losses: [43.31511306762695, 42.8245964050293, 42.34008026123047, 41.861534118652344, 41.388916015625]\n",
            "Episode 100/1000 | Loss: 13.024\n",
            "Episode 200/1000 | Loss: 2.353\n",
            "Episode 300/1000 | Loss: 0.675\n",
            "Episode 400/1000 | Loss: 0.306\n",
            "Episode 500/1000 | Loss: 0.174\n",
            "Episode 600/1000 | Loss: 0.112\n",
            "Episode 700/1000 | Loss: 0.078\n",
            "Episode 800/1000 | Loss: 0.058\n",
            "Episode 900/1000 | Loss: 0.044\n"
          ]
        },
        {
          "output_type": "stream",
          "name": "stderr",
          "text": [
            "\r 15%|█▌        | 15/100 [00:40<03:46,  2.66s/it]"
          ]
        },
        {
          "output_type": "stream",
          "name": "stdout",
          "text": [
            "Episode 1000/1000 | Loss: 0.035\n",
            "Simulation 15: First few losses: [41.61530303955078, 41.1522216796875, 40.69505310058594, 40.2437744140625, 39.79834747314453]\n",
            "Episode 100/1000 | Loss: 12.606\n",
            "Episode 200/1000 | Loss: 2.230\n",
            "Episode 300/1000 | Loss: 0.651\n",
            "Episode 400/1000 | Loss: 0.299\n",
            "Episode 500/1000 | Loss: 0.171\n",
            "Episode 600/1000 | Loss: 0.111\n",
            "Episode 700/1000 | Loss: 0.077\n",
            "Episode 800/1000 | Loss: 0.057\n",
            "Episode 900/1000 | Loss: 0.044\n"
          ]
        },
        {
          "output_type": "stream",
          "name": "stderr",
          "text": [
            "\r 16%|█▌        | 16/100 [00:43<03:41,  2.63s/it]"
          ]
        },
        {
          "output_type": "stream",
          "name": "stdout",
          "text": [
            "Episode 1000/1000 | Loss: 0.035\n",
            "Simulation 16: First few losses: [40.80181884765625, 40.344627380371094, 39.893253326416016, 39.44767379760742, 39.007850646972656]\n",
            "Episode 100/1000 | Loss: 13.012\n",
            "Episode 200/1000 | Loss: 2.340\n",
            "Episode 300/1000 | Loss: 0.681\n",
            "Episode 400/1000 | Loss: 0.312\n",
            "Episode 500/1000 | Loss: 0.178\n",
            "Episode 600/1000 | Loss: 0.115\n",
            "Episode 700/1000 | Loss: 0.081\n",
            "Episode 800/1000 | Loss: 0.060\n",
            "Episode 900/1000 | Loss: 0.046\n"
          ]
        },
        {
          "output_type": "stream",
          "name": "stderr",
          "text": [
            "\r 17%|█▋        | 17/100 [00:46<04:01,  2.91s/it]"
          ]
        },
        {
          "output_type": "stream",
          "name": "stdout",
          "text": [
            "Episode 1000/1000 | Loss: 0.036\n",
            "Simulation 17: First few losses: [42.81733703613281, 42.334022521972656, 41.85647201538086, 41.384647369384766, 40.918487548828125]\n",
            "Episode 100/1000 | Loss: 14.815\n",
            "Episode 200/1000 | Loss: 2.938\n",
            "Episode 300/1000 | Loss: 0.802\n",
            "Episode 400/1000 | Loss: 0.353\n",
            "Episode 500/1000 | Loss: 0.197\n",
            "Episode 600/1000 | Loss: 0.126\n",
            "Episode 700/1000 | Loss: 0.088\n",
            "Episode 800/1000 | Loss: 0.064\n",
            "Episode 900/1000 | Loss: 0.049\n"
          ]
        },
        {
          "output_type": "stream",
          "name": "stderr",
          "text": [
            "\r 18%|█▊        | 18/100 [00:49<03:51,  2.83s/it]"
          ]
        },
        {
          "output_type": "stream",
          "name": "stdout",
          "text": [
            "Episode 1000/1000 | Loss: 0.039\n",
            "Simulation 18: First few losses: [45.81031036376953, 45.2955207824707, 44.78744888305664, 44.28607940673828, 43.791324615478516]\n",
            "Episode 100/1000 | Loss: 13.590\n",
            "Episode 200/1000 | Loss: 2.397\n",
            "Episode 300/1000 | Loss: 0.686\n",
            "Episode 400/1000 | Loss: 0.312\n",
            "Episode 500/1000 | Loss: 0.178\n",
            "Episode 600/1000 | Loss: 0.115\n",
            "Episode 700/1000 | Loss: 0.080\n",
            "Episode 800/1000 | Loss: 0.059\n",
            "Episode 900/1000 | Loss: 0.046\n"
          ]
        },
        {
          "output_type": "stream",
          "name": "stderr",
          "text": [
            "\r 19%|█▉        | 19/100 [00:51<03:44,  2.77s/it]"
          ]
        },
        {
          "output_type": "stream",
          "name": "stdout",
          "text": [
            "Episode 1000/1000 | Loss: 0.036\n",
            "Simulation 19: First few losses: [42.83815002441406, 42.35926818847656, 41.88664627075195, 41.42026138305664, 40.96007537841797]\n",
            "Episode 100/1000 | Loss: 13.644\n",
            "Episode 200/1000 | Loss: 2.638\n",
            "Episode 300/1000 | Loss: 0.763\n",
            "Episode 400/1000 | Loss: 0.345\n",
            "Episode 500/1000 | Loss: 0.196\n",
            "Episode 600/1000 | Loss: 0.126\n",
            "Episode 700/1000 | Loss: 0.088\n",
            "Episode 800/1000 | Loss: 0.065\n",
            "Episode 900/1000 | Loss: 0.050\n"
          ]
        },
        {
          "output_type": "stream",
          "name": "stderr",
          "text": [
            "\r 20%|██        | 20/100 [00:54<03:36,  2.70s/it]"
          ]
        },
        {
          "output_type": "stream",
          "name": "stdout",
          "text": [
            "Episode 1000/1000 | Loss: 0.039\n",
            "Simulation 20: First few losses: [45.62449264526367, 45.10305404663086, 44.58750534057617, 44.07782745361328, 43.573997497558594]\n",
            "Episode 100/1000 | Loss: 14.499\n",
            "Episode 200/1000 | Loss: 2.851\n",
            "Episode 300/1000 | Loss: 0.791\n",
            "Episode 400/1000 | Loss: 0.350\n",
            "Episode 500/1000 | Loss: 0.196\n",
            "Episode 600/1000 | Loss: 0.125\n",
            "Episode 700/1000 | Loss: 0.087\n",
            "Episode 800/1000 | Loss: 0.064\n",
            "Episode 900/1000 | Loss: 0.049\n"
          ]
        },
        {
          "output_type": "stream",
          "name": "stderr",
          "text": [
            "\r 21%|██        | 21/100 [00:57<03:37,  2.75s/it]"
          ]
        },
        {
          "output_type": "stream",
          "name": "stdout",
          "text": [
            "Episode 1000/1000 | Loss: 0.039\n",
            "Simulation 21: First few losses: [46.0266227722168, 45.52118682861328, 45.0213508605957, 44.52714538574219, 44.038516998291016]\n",
            "Episode 100/1000 | Loss: 14.290\n",
            "Episode 200/1000 | Loss: 2.811\n",
            "Episode 300/1000 | Loss: 0.791\n",
            "Episode 400/1000 | Loss: 0.352\n",
            "Episode 500/1000 | Loss: 0.198\n",
            "Episode 600/1000 | Loss: 0.127\n",
            "Episode 700/1000 | Loss: 0.088\n",
            "Episode 800/1000 | Loss: 0.065\n",
            "Episode 900/1000 | Loss: 0.050\n"
          ]
        },
        {
          "output_type": "stream",
          "name": "stderr",
          "text": [
            "\r 22%|██▏       | 22/100 [01:00<03:47,  2.92s/it]"
          ]
        },
        {
          "output_type": "stream",
          "name": "stdout",
          "text": [
            "Episode 1000/1000 | Loss: 0.039\n",
            "Simulation 22: First few losses: [45.69110107421875, 45.172691345214844, 44.660614013671875, 44.15480041503906, 43.65513610839844]\n",
            "Episode 100/1000 | Loss: 12.972\n",
            "Episode 200/1000 | Loss: 2.467\n",
            "Episode 300/1000 | Loss: 0.722\n",
            "Episode 400/1000 | Loss: 0.329\n",
            "Episode 500/1000 | Loss: 0.187\n",
            "Episode 600/1000 | Loss: 0.120\n",
            "Episode 700/1000 | Loss: 0.084\n",
            "Episode 800/1000 | Loss: 0.062\n",
            "Episode 900/1000 | Loss: 0.048\n"
          ]
        },
        {
          "output_type": "stream",
          "name": "stderr",
          "text": [
            "\r 23%|██▎       | 23/100 [01:03<03:42,  2.89s/it]"
          ]
        },
        {
          "output_type": "stream",
          "name": "stdout",
          "text": [
            "Episode 1000/1000 | Loss: 0.038\n",
            "Simulation 23: First few losses: [43.71232986450195, 43.20813751220703, 42.709877014160156, 42.21750259399414, 41.73097610473633]\n",
            "Episode 100/1000 | Loss: 14.124\n",
            "Episode 200/1000 | Loss: 2.707\n",
            "Episode 300/1000 | Loss: 0.753\n",
            "Episode 400/1000 | Loss: 0.336\n",
            "Episode 500/1000 | Loss: 0.190\n",
            "Episode 600/1000 | Loss: 0.122\n",
            "Episode 700/1000 | Loss: 0.085\n",
            "Episode 800/1000 | Loss: 0.062\n",
            "Episode 900/1000 | Loss: 0.048\n"
          ]
        },
        {
          "output_type": "stream",
          "name": "stderr",
          "text": [
            "\r 24%|██▍       | 24/100 [01:06<03:31,  2.79s/it]"
          ]
        },
        {
          "output_type": "stream",
          "name": "stdout",
          "text": [
            "Episode 1000/1000 | Loss: 0.038\n",
            "Simulation 24: First few losses: [44.338111877441406, 43.845619201660156, 43.359046936035156, 42.87839126586914, 42.40360641479492]\n",
            "Episode 100/1000 | Loss: 14.195\n",
            "Episode 200/1000 | Loss: 2.714\n",
            "Episode 300/1000 | Loss: 0.772\n",
            "Episode 400/1000 | Loss: 0.347\n",
            "Episode 500/1000 | Loss: 0.196\n",
            "Episode 600/1000 | Loss: 0.126\n",
            "Episode 700/1000 | Loss: 0.088\n",
            "Episode 800/1000 | Loss: 0.064\n",
            "Episode 900/1000 | Loss: 0.049\n"
          ]
        },
        {
          "output_type": "stream",
          "name": "stderr",
          "text": [
            "\r 25%|██▌       | 25/100 [01:08<03:23,  2.72s/it]"
          ]
        },
        {
          "output_type": "stream",
          "name": "stdout",
          "text": [
            "Episode 1000/1000 | Loss: 0.039\n",
            "Simulation 25: First few losses: [45.8879508972168, 45.372615814208984, 44.86335754394531, 44.36020278930664, 43.86310577392578]\n",
            "Episode 100/1000 | Loss: 13.056\n",
            "Episode 200/1000 | Loss: 2.517\n",
            "Episode 300/1000 | Loss: 0.734\n",
            "Episode 400/1000 | Loss: 0.333\n",
            "Episode 500/1000 | Loss: 0.190\n",
            "Episode 600/1000 | Loss: 0.122\n",
            "Episode 700/1000 | Loss: 0.085\n",
            "Episode 800/1000 | Loss: 0.063\n",
            "Episode 900/1000 | Loss: 0.048\n"
          ]
        },
        {
          "output_type": "stream",
          "name": "stderr",
          "text": [
            "\r 26%|██▌       | 26/100 [01:12<03:47,  3.07s/it]"
          ]
        },
        {
          "output_type": "stream",
          "name": "stdout",
          "text": [
            "Episode 1000/1000 | Loss: 0.038\n",
            "Simulation 26: First few losses: [43.9555778503418, 43.44319152832031, 42.937034606933594, 42.43706130981445, 41.94322204589844]\n",
            "Episode 100/1000 | Loss: 12.183\n",
            "Episode 200/1000 | Loss: 2.108\n",
            "Episode 300/1000 | Loss: 0.623\n",
            "Episode 400/1000 | Loss: 0.288\n",
            "Episode 500/1000 | Loss: 0.165\n",
            "Episode 600/1000 | Loss: 0.107\n",
            "Episode 700/1000 | Loss: 0.075\n",
            "Episode 800/1000 | Loss: 0.056\n",
            "Episode 900/1000 | Loss: 0.043\n"
          ]
        },
        {
          "output_type": "stream",
          "name": "stderr",
          "text": [
            "\r 27%|██▋       | 27/100 [01:15<03:37,  2.98s/it]"
          ]
        },
        {
          "output_type": "stream",
          "name": "stdout",
          "text": [
            "Episode 1000/1000 | Loss: 0.034\n",
            "Simulation 27: First few losses: [40.03929901123047, 39.58676528930664, 39.13991165161133, 38.6987419128418, 38.263221740722656]\n",
            "Episode 100/1000 | Loss: 15.235\n",
            "Episode 200/1000 | Loss: 2.984\n",
            "Episode 300/1000 | Loss: 0.819\n",
            "Episode 400/1000 | Loss: 0.361\n",
            "Episode 500/1000 | Loss: 0.202\n",
            "Episode 600/1000 | Loss: 0.129\n",
            "Episode 700/1000 | Loss: 0.090\n",
            "Episode 800/1000 | Loss: 0.066\n",
            "Episode 900/1000 | Loss: 0.051\n"
          ]
        },
        {
          "output_type": "stream",
          "name": "stderr",
          "text": [
            "\r 28%|██▊       | 28/100 [01:17<03:25,  2.85s/it]"
          ]
        },
        {
          "output_type": "stream",
          "name": "stdout",
          "text": [
            "Episode 1000/1000 | Loss: 0.040\n",
            "Simulation 28: First few losses: [47.320579528808594, 46.8127555847168, 46.310951232910156, 45.81512451171875, 45.3251953125]\n",
            "Episode 100/1000 | Loss: 12.474\n",
            "Episode 200/1000 | Loss: 2.183\n",
            "Episode 300/1000 | Loss: 0.651\n",
            "Episode 400/1000 | Loss: 0.302\n",
            "Episode 500/1000 | Loss: 0.174\n",
            "Episode 600/1000 | Loss: 0.113\n",
            "Episode 700/1000 | Loss: 0.079\n",
            "Episode 800/1000 | Loss: 0.059\n",
            "Episode 900/1000 | Loss: 0.045\n"
          ]
        },
        {
          "output_type": "stream",
          "name": "stderr",
          "text": [
            "\r 29%|██▉       | 29/100 [01:20<03:18,  2.79s/it]"
          ]
        },
        {
          "output_type": "stream",
          "name": "stdout",
          "text": [
            "Episode 1000/1000 | Loss: 0.036\n",
            "Simulation 29: First few losses: [41.70000076293945, 41.210426330566406, 40.727176666259766, 40.250240325927734, 39.77960968017578]\n",
            "Episode 100/1000 | Loss: 14.012\n",
            "Episode 200/1000 | Loss: 2.747\n",
            "Episode 300/1000 | Loss: 0.777\n",
            "Episode 400/1000 | Loss: 0.347\n",
            "Episode 500/1000 | Loss: 0.196\n",
            "Episode 600/1000 | Loss: 0.126\n",
            "Episode 700/1000 | Loss: 0.087\n",
            "Episode 800/1000 | Loss: 0.064\n",
            "Episode 900/1000 | Loss: 0.049\n"
          ]
        },
        {
          "output_type": "stream",
          "name": "stderr",
          "text": [
            "\r 30%|███       | 30/100 [01:23<03:17,  2.82s/it]"
          ]
        },
        {
          "output_type": "stream",
          "name": "stdout",
          "text": [
            "Episode 1000/1000 | Loss: 0.039\n",
            "Simulation 30: First few losses: [45.352603912353516, 44.835208892822266, 44.32423782348633, 43.81966781616211, 43.32148742675781]\n",
            "Episode 100/1000 | Loss: 15.000\n",
            "Episode 200/1000 | Loss: 2.866\n",
            "Episode 300/1000 | Loss: 0.791\n",
            "Episode 400/1000 | Loss: 0.352\n",
            "Episode 500/1000 | Loss: 0.198\n",
            "Episode 600/1000 | Loss: 0.127\n",
            "Episode 700/1000 | Loss: 0.089\n",
            "Episode 800/1000 | Loss: 0.065\n",
            "Episode 900/1000 | Loss: 0.050\n"
          ]
        },
        {
          "output_type": "stream",
          "name": "stderr",
          "text": [
            "\r 31%|███       | 31/100 [01:26<03:23,  2.96s/it]"
          ]
        },
        {
          "output_type": "stream",
          "name": "stdout",
          "text": [
            "Episode 1000/1000 | Loss: 0.039\n",
            "Simulation 31: First few losses: [46.947731018066406, 46.43027877807617, 45.919105529785156, 45.41416931152344, 44.9154167175293]\n",
            "Episode 100/1000 | Loss: 14.541\n",
            "Episode 200/1000 | Loss: 2.617\n",
            "Episode 300/1000 | Loss: 0.736\n",
            "Episode 400/1000 | Loss: 0.333\n",
            "Episode 500/1000 | Loss: 0.189\n",
            "Episode 600/1000 | Loss: 0.122\n",
            "Episode 700/1000 | Loss: 0.085\n",
            "Episode 800/1000 | Loss: 0.063\n",
            "Episode 900/1000 | Loss: 0.048\n"
          ]
        },
        {
          "output_type": "stream",
          "name": "stderr",
          "text": [
            "\r 32%|███▏      | 32/100 [01:29<03:10,  2.81s/it]"
          ]
        },
        {
          "output_type": "stream",
          "name": "stdout",
          "text": [
            "Episode 1000/1000 | Loss: 0.038\n",
            "Simulation 32: First few losses: [45.64514923095703, 45.13825225830078, 44.63772964477539, 44.14356994628906, 43.655723571777344]\n",
            "Episode 100/1000 | Loss: 12.097\n",
            "Episode 200/1000 | Loss: 2.132\n",
            "Episode 300/1000 | Loss: 0.629\n",
            "Episode 400/1000 | Loss: 0.289\n",
            "Episode 500/1000 | Loss: 0.166\n",
            "Episode 600/1000 | Loss: 0.107\n",
            "Episode 700/1000 | Loss: 0.075\n",
            "Episode 800/1000 | Loss: 0.055\n",
            "Episode 900/1000 | Loss: 0.043\n"
          ]
        },
        {
          "output_type": "stream",
          "name": "stderr",
          "text": [
            "\r 33%|███▎      | 33/100 [01:31<03:01,  2.71s/it]"
          ]
        },
        {
          "output_type": "stream",
          "name": "stdout",
          "text": [
            "Episode 1000/1000 | Loss: 0.034\n",
            "Simulation 33: First few losses: [39.560386657714844, 39.109493255615234, 38.66481399536133, 38.226314544677734, 37.79393768310547]\n",
            "Episode 100/1000 | Loss: 13.357\n",
            "Episode 200/1000 | Loss: 2.469\n",
            "Episode 300/1000 | Loss: 0.717\n",
            "Episode 400/1000 | Loss: 0.327\n",
            "Episode 500/1000 | Loss: 0.186\n",
            "Episode 600/1000 | Loss: 0.120\n",
            "Episode 700/1000 | Loss: 0.084\n",
            "Episode 800/1000 | Loss: 0.062\n",
            "Episode 900/1000 | Loss: 0.048\n"
          ]
        },
        {
          "output_type": "stream",
          "name": "stderr",
          "text": [
            "\r 34%|███▍      | 34/100 [01:34<02:54,  2.64s/it]"
          ]
        },
        {
          "output_type": "stream",
          "name": "stdout",
          "text": [
            "Episode 1000/1000 | Loss: 0.038\n",
            "Simulation 34: First few losses: [44.0402946472168, 43.5436897277832, 43.0527458190918, 42.56745910644531, 42.08779525756836]\n",
            "Episode 100/1000 | Loss: 13.767\n",
            "Episode 200/1000 | Loss: 2.430\n",
            "Episode 300/1000 | Loss: 0.693\n",
            "Episode 400/1000 | Loss: 0.315\n",
            "Episode 500/1000 | Loss: 0.180\n",
            "Episode 600/1000 | Loss: 0.116\n",
            "Episode 700/1000 | Loss: 0.081\n",
            "Episode 800/1000 | Loss: 0.060\n",
            "Episode 900/1000 | Loss: 0.046\n"
          ]
        },
        {
          "output_type": "stream",
          "name": "stderr",
          "text": [
            "\r 35%|███▌      | 35/100 [01:36<02:56,  2.71s/it]"
          ]
        },
        {
          "output_type": "stream",
          "name": "stdout",
          "text": [
            "Episode 1000/1000 | Loss: 0.037\n",
            "Simulation 35: First few losses: [44.417240142822266, 43.92401885986328, 43.43684768676758, 42.955684661865234, 42.480525970458984]\n",
            "Episode 100/1000 | Loss: 13.639\n",
            "Episode 200/1000 | Loss: 2.625\n",
            "Episode 300/1000 | Loss: 0.745\n",
            "Episode 400/1000 | Loss: 0.334\n",
            "Episode 500/1000 | Loss: 0.189\n",
            "Episode 600/1000 | Loss: 0.121\n",
            "Episode 700/1000 | Loss: 0.085\n",
            "Episode 800/1000 | Loss: 0.062\n",
            "Episode 900/1000 | Loss: 0.048\n"
          ]
        },
        {
          "output_type": "stream",
          "name": "stderr",
          "text": [
            "\r 36%|███▌      | 36/100 [01:40<03:01,  2.84s/it]"
          ]
        },
        {
          "output_type": "stream",
          "name": "stdout",
          "text": [
            "Episode 1000/1000 | Loss: 0.038\n",
            "Simulation 36: First few losses: [44.05154037475586, 43.555938720703125, 43.06581497192383, 42.58116912841797, 42.102020263671875]\n",
            "Episode 100/1000 | Loss: 13.779\n",
            "Episode 200/1000 | Loss: 2.534\n",
            "Episode 300/1000 | Loss: 0.721\n",
            "Episode 400/1000 | Loss: 0.326\n",
            "Episode 500/1000 | Loss: 0.185\n",
            "Episode 600/1000 | Loss: 0.119\n",
            "Episode 700/1000 | Loss: 0.083\n",
            "Episode 800/1000 | Loss: 0.061\n",
            "Episode 900/1000 | Loss: 0.047\n"
          ]
        },
        {
          "output_type": "stream",
          "name": "stderr",
          "text": [
            "\r 37%|███▋      | 37/100 [01:42<02:52,  2.74s/it]"
          ]
        },
        {
          "output_type": "stream",
          "name": "stdout",
          "text": [
            "Episode 1000/1000 | Loss: 0.037\n",
            "Simulation 37: First few losses: [43.87335968017578, 43.370689392089844, 42.87483596801758, 42.385772705078125, 41.90343475341797]\n",
            "Episode 100/1000 | Loss: 15.295\n",
            "Episode 200/1000 | Loss: 3.010\n",
            "Episode 300/1000 | Loss: 0.811\n",
            "Episode 400/1000 | Loss: 0.356\n",
            "Episode 500/1000 | Loss: 0.199\n",
            "Episode 600/1000 | Loss: 0.127\n",
            "Episode 700/1000 | Loss: 0.088\n",
            "Episode 800/1000 | Loss: 0.065\n",
            "Episode 900/1000 | Loss: 0.050\n"
          ]
        },
        {
          "output_type": "stream",
          "name": "stderr",
          "text": [
            "\r 38%|███▊      | 38/100 [01:45<02:44,  2.65s/it]"
          ]
        },
        {
          "output_type": "stream",
          "name": "stdout",
          "text": [
            "Episode 1000/1000 | Loss: 0.039\n",
            "Simulation 38: First few losses: [46.05684280395508, 45.54332733154297, 45.03653335571289, 44.536502838134766, 44.043212890625]\n",
            "Episode 100/1000 | Loss: 15.155\n",
            "Episode 200/1000 | Loss: 2.867\n",
            "Episode 300/1000 | Loss: 0.793\n",
            "Episode 400/1000 | Loss: 0.353\n",
            "Episode 500/1000 | Loss: 0.199\n",
            "Episode 600/1000 | Loss: 0.128\n",
            "Episode 700/1000 | Loss: 0.089\n",
            "Episode 800/1000 | Loss: 0.065\n",
            "Episode 900/1000 | Loss: 0.050\n"
          ]
        },
        {
          "output_type": "stream",
          "name": "stderr",
          "text": [
            "\r 39%|███▉      | 39/100 [01:47<02:39,  2.62s/it]"
          ]
        },
        {
          "output_type": "stream",
          "name": "stdout",
          "text": [
            "Episode 1000/1000 | Loss: 0.040\n",
            "Simulation 39: First few losses: [47.0508918762207, 46.53184127807617, 46.01930618286133, 45.51323699951172, 45.013572692871094]\n",
            "Episode 100/1000 | Loss: 13.837\n",
            "Episode 200/1000 | Loss: 2.550\n",
            "Episode 300/1000 | Loss: 0.722\n",
            "Episode 400/1000 | Loss: 0.325\n",
            "Episode 500/1000 | Loss: 0.184\n",
            "Episode 600/1000 | Loss: 0.118\n",
            "Episode 700/1000 | Loss: 0.082\n",
            "Episode 800/1000 | Loss: 0.061\n",
            "Episode 900/1000 | Loss: 0.047\n"
          ]
        },
        {
          "output_type": "stream",
          "name": "stderr",
          "text": [
            "\r 40%|████      | 40/100 [01:50<02:48,  2.81s/it]"
          ]
        },
        {
          "output_type": "stream",
          "name": "stdout",
          "text": [
            "Episode 1000/1000 | Loss: 0.037\n",
            "Simulation 40: First few losses: [44.858699798583984, 44.36320495605469, 43.87388229370117, 43.390716552734375, 42.91363525390625]\n",
            "Episode 100/1000 | Loss: 12.687\n",
            "Episode 200/1000 | Loss: 2.418\n",
            "Episode 300/1000 | Loss: 0.706\n",
            "Episode 400/1000 | Loss: 0.322\n",
            "Episode 500/1000 | Loss: 0.183\n",
            "Episode 600/1000 | Loss: 0.118\n",
            "Episode 700/1000 | Loss: 0.083\n",
            "Episode 800/1000 | Loss: 0.061\n",
            "Episode 900/1000 | Loss: 0.047\n"
          ]
        },
        {
          "output_type": "stream",
          "name": "stderr",
          "text": [
            "\r 41%|████      | 41/100 [01:53<02:46,  2.81s/it]"
          ]
        },
        {
          "output_type": "stream",
          "name": "stdout",
          "text": [
            "Episode 1000/1000 | Loss: 0.037\n",
            "Simulation 41: First few losses: [43.136009216308594, 42.624820709228516, 42.12010955810547, 41.621856689453125, 41.130035400390625]\n",
            "Episode 100/1000 | Loss: 13.214\n",
            "Episode 200/1000 | Loss: 2.458\n",
            "Episode 300/1000 | Loss: 0.711\n",
            "Episode 400/1000 | Loss: 0.323\n",
            "Episode 500/1000 | Loss: 0.184\n",
            "Episode 600/1000 | Loss: 0.119\n",
            "Episode 700/1000 | Loss: 0.083\n",
            "Episode 800/1000 | Loss: 0.061\n",
            "Episode 900/1000 | Loss: 0.047\n"
          ]
        },
        {
          "output_type": "stream",
          "name": "stderr",
          "text": [
            "\r 42%|████▏     | 42/100 [01:57<03:07,  3.23s/it]"
          ]
        },
        {
          "output_type": "stream",
          "name": "stdout",
          "text": [
            "Episode 1000/1000 | Loss: 0.037\n",
            "Simulation 42: First few losses: [43.56107711791992, 43.0646858215332, 42.57402801513672, 42.08909225463867, 41.60979461669922]\n",
            "Episode 100/1000 | Loss: 14.487\n",
            "Episode 200/1000 | Loss: 2.800\n",
            "Episode 300/1000 | Loss: 0.787\n",
            "Episode 400/1000 | Loss: 0.351\n",
            "Episode 500/1000 | Loss: 0.198\n",
            "Episode 600/1000 | Loss: 0.127\n",
            "Episode 700/1000 | Loss: 0.089\n",
            "Episode 800/1000 | Loss: 0.065\n",
            "Episode 900/1000 | Loss: 0.050\n"
          ]
        },
        {
          "output_type": "stream",
          "name": "stderr",
          "text": [
            "\r 43%|████▎     | 43/100 [02:00<03:00,  3.17s/it]"
          ]
        },
        {
          "output_type": "stream",
          "name": "stdout",
          "text": [
            "Episode 1000/1000 | Loss: 0.040\n",
            "Simulation 43: First few losses: [47.034698486328125, 46.50628662109375, 45.98408508300781, 45.46809005737305, 44.95827102661133]\n",
            "Episode 100/1000 | Loss: 13.307\n",
            "Episode 200/1000 | Loss: 2.535\n",
            "Episode 300/1000 | Loss: 0.728\n",
            "Episode 400/1000 | Loss: 0.329\n",
            "Episode 500/1000 | Loss: 0.187\n",
            "Episode 600/1000 | Loss: 0.120\n",
            "Episode 700/1000 | Loss: 0.084\n",
            "Episode 800/1000 | Loss: 0.062\n",
            "Episode 900/1000 | Loss: 0.047\n"
          ]
        },
        {
          "output_type": "stream",
          "name": "stderr",
          "text": [
            "\r 44%|████▍     | 44/100 [02:04<03:10,  3.40s/it]"
          ]
        },
        {
          "output_type": "stream",
          "name": "stdout",
          "text": [
            "Episode 1000/1000 | Loss: 0.037\n",
            "Simulation 44: First few losses: [43.957801818847656, 43.45131301879883, 42.950721740722656, 42.45599365234375, 41.96710968017578]\n",
            "Episode 100/1000 | Loss: 13.194\n",
            "Episode 200/1000 | Loss: 2.250\n",
            "Episode 300/1000 | Loss: 0.654\n",
            "Episode 400/1000 | Loss: 0.301\n",
            "Episode 500/1000 | Loss: 0.173\n",
            "Episode 600/1000 | Loss: 0.112\n",
            "Episode 700/1000 | Loss: 0.079\n",
            "Episode 800/1000 | Loss: 0.058\n",
            "Episode 900/1000 | Loss: 0.045\n"
          ]
        },
        {
          "output_type": "stream",
          "name": "stderr",
          "text": [
            "\r 45%|████▌     | 45/100 [02:07<02:55,  3.19s/it]"
          ]
        },
        {
          "output_type": "stream",
          "name": "stdout",
          "text": [
            "Episode 1000/1000 | Loss: 0.035\n",
            "Simulation 45: First few losses: [42.855648040771484, 42.379886627197266, 41.90995788574219, 41.445858001708984, 40.98758316040039]\n",
            "Episode 100/1000 | Loss: 13.440\n",
            "Episode 200/1000 | Loss: 2.374\n",
            "Episode 300/1000 | Loss: 0.677\n",
            "Episode 400/1000 | Loss: 0.308\n",
            "Episode 500/1000 | Loss: 0.175\n",
            "Episode 600/1000 | Loss: 0.113\n",
            "Episode 700/1000 | Loss: 0.079\n",
            "Episode 800/1000 | Loss: 0.059\n",
            "Episode 900/1000 | Loss: 0.045\n"
          ]
        },
        {
          "output_type": "stream",
          "name": "stderr",
          "text": [
            "\r 46%|████▌     | 46/100 [02:09<02:41,  2.98s/it]"
          ]
        },
        {
          "output_type": "stream",
          "name": "stdout",
          "text": [
            "Episode 1000/1000 | Loss: 0.036\n",
            "Simulation 46: First few losses: [42.00090026855469, 41.536643981933594, 41.078346252441406, 40.62599182128906, 40.17959213256836]\n",
            "Episode 100/1000 | Loss: 13.600\n",
            "Episode 200/1000 | Loss: 2.423\n",
            "Episode 300/1000 | Loss: 0.693\n",
            "Episode 400/1000 | Loss: 0.315\n",
            "Episode 500/1000 | Loss: 0.180\n",
            "Episode 600/1000 | Loss: 0.116\n",
            "Episode 700/1000 | Loss: 0.081\n",
            "Episode 800/1000 | Loss: 0.060\n",
            "Episode 900/1000 | Loss: 0.046\n"
          ]
        },
        {
          "output_type": "stream",
          "name": "stderr",
          "text": [
            "\r 47%|████▋     | 47/100 [02:12<02:30,  2.84s/it]"
          ]
        },
        {
          "output_type": "stream",
          "name": "stdout",
          "text": [
            "Episode 1000/1000 | Loss: 0.037\n",
            "Simulation 47: First few losses: [44.15471267700195, 43.667625427246094, 43.1862907409668, 42.710670471191406, 42.240726470947266]\n",
            "Episode 100/1000 | Loss: 15.134\n",
            "Episode 200/1000 | Loss: 2.923\n",
            "Episode 300/1000 | Loss: 0.800\n",
            "Episode 400/1000 | Loss: 0.354\n",
            "Episode 500/1000 | Loss: 0.199\n",
            "Episode 600/1000 | Loss: 0.128\n",
            "Episode 700/1000 | Loss: 0.089\n",
            "Episode 800/1000 | Loss: 0.065\n",
            "Episode 900/1000 | Loss: 0.050\n"
          ]
        },
        {
          "output_type": "stream",
          "name": "stderr",
          "text": [
            "\r 48%|████▊     | 48/100 [02:15<02:22,  2.75s/it]"
          ]
        },
        {
          "output_type": "stream",
          "name": "stdout",
          "text": [
            "Episode 1000/1000 | Loss: 0.040\n",
            "Simulation 48: First few losses: [47.233821868896484, 46.69694137573242, 46.167144775390625, 45.64436721801758, 45.12854766845703]\n",
            "Episode 100/1000 | Loss: 13.048\n",
            "Episode 200/1000 | Loss: 2.442\n",
            "Episode 300/1000 | Loss: 0.699\n",
            "Episode 400/1000 | Loss: 0.315\n",
            "Episode 500/1000 | Loss: 0.179\n",
            "Episode 600/1000 | Loss: 0.115\n",
            "Episode 700/1000 | Loss: 0.080\n",
            "Episode 800/1000 | Loss: 0.059\n",
            "Episode 900/1000 | Loss: 0.045\n"
          ]
        },
        {
          "output_type": "stream",
          "name": "stderr",
          "text": [
            "\r 49%|████▉     | 49/100 [02:18<02:28,  2.91s/it]"
          ]
        },
        {
          "output_type": "stream",
          "name": "stdout",
          "text": [
            "Episode 1000/1000 | Loss: 0.036\n",
            "Simulation 49: First few losses: [42.30108642578125, 41.818031311035156, 41.341068267822266, 40.870201110839844, 40.405418395996094]\n",
            "Episode 100/1000 | Loss: 13.506\n",
            "Episode 200/1000 | Loss: 2.423\n",
            "Episode 300/1000 | Loss: 0.688\n",
            "Episode 400/1000 | Loss: 0.312\n",
            "Episode 500/1000 | Loss: 0.178\n",
            "Episode 600/1000 | Loss: 0.115\n",
            "Episode 700/1000 | Loss: 0.080\n",
            "Episode 800/1000 | Loss: 0.059\n",
            "Episode 900/1000 | Loss: 0.046\n"
          ]
        },
        {
          "output_type": "stream",
          "name": "stderr",
          "text": [
            "\r 50%|█████     | 50/100 [02:20<02:20,  2.81s/it]"
          ]
        },
        {
          "output_type": "stream",
          "name": "stdout",
          "text": [
            "Episode 1000/1000 | Loss: 0.036\n",
            "Simulation 50: First few losses: [42.77070999145508, 42.28982925415039, 41.81503677368164, 41.346309661865234, 40.883644104003906]\n",
            "Episode 100/1000 | Loss: 14.487\n",
            "Episode 200/1000 | Loss: 2.858\n",
            "Episode 300/1000 | Loss: 0.800\n",
            "Episode 400/1000 | Loss: 0.356\n",
            "Episode 500/1000 | Loss: 0.200\n",
            "Episode 600/1000 | Loss: 0.128\n",
            "Episode 700/1000 | Loss: 0.089\n",
            "Episode 800/1000 | Loss: 0.066\n",
            "Episode 900/1000 | Loss: 0.050\n"
          ]
        },
        {
          "output_type": "stream",
          "name": "stderr",
          "text": [
            "\r 51%|█████     | 51/100 [02:23<02:14,  2.75s/it]"
          ]
        },
        {
          "output_type": "stream",
          "name": "stdout",
          "text": [
            "Episode 1000/1000 | Loss: 0.040\n",
            "Simulation 51: First few losses: [46.50828170776367, 45.97859573364258, 45.455265045166016, 44.938297271728516, 44.427669525146484]\n",
            "Episode 100/1000 | Loss: 14.217\n",
            "Episode 200/1000 | Loss: 2.624\n",
            "Episode 300/1000 | Loss: 0.746\n",
            "Episode 400/1000 | Loss: 0.337\n",
            "Episode 500/1000 | Loss: 0.191\n",
            "Episode 600/1000 | Loss: 0.123\n",
            "Episode 700/1000 | Loss: 0.086\n",
            "Episode 800/1000 | Loss: 0.063\n",
            "Episode 900/1000 | Loss: 0.049\n"
          ]
        },
        {
          "output_type": "stream",
          "name": "stderr",
          "text": [
            "\r 52%|█████▏    | 52/100 [02:26<02:08,  2.68s/it]"
          ]
        },
        {
          "output_type": "stream",
          "name": "stdout",
          "text": [
            "Episode 1000/1000 | Loss: 0.039\n",
            "Simulation 52: First few losses: [45.43360900878906, 44.92995834350586, 44.43274688720703, 43.94192886352539, 43.45742416381836]\n",
            "Episode 100/1000 | Loss: 12.969\n",
            "Episode 200/1000 | Loss: 2.307\n",
            "Episode 300/1000 | Loss: 0.663\n",
            "Episode 400/1000 | Loss: 0.303\n",
            "Episode 500/1000 | Loss: 0.173\n",
            "Episode 600/1000 | Loss: 0.112\n",
            "Episode 700/1000 | Loss: 0.078\n",
            "Episode 800/1000 | Loss: 0.058\n",
            "Episode 900/1000 | Loss: 0.044\n"
          ]
        },
        {
          "output_type": "stream",
          "name": "stderr",
          "text": [
            "\r 53%|█████▎    | 53/100 [02:28<02:02,  2.62s/it]"
          ]
        },
        {
          "output_type": "stream",
          "name": "stdout",
          "text": [
            "Episode 1000/1000 | Loss: 0.035\n",
            "Simulation 53: First few losses: [41.54121780395508, 41.065338134765625, 40.59623336791992, 40.133872985839844, 39.67821502685547]\n",
            "Episode 100/1000 | Loss: 13.694\n",
            "Episode 200/1000 | Loss: 2.780\n",
            "Episode 300/1000 | Loss: 0.794\n",
            "Episode 400/1000 | Loss: 0.355\n",
            "Episode 500/1000 | Loss: 0.200\n",
            "Episode 600/1000 | Loss: 0.128\n",
            "Episode 700/1000 | Loss: 0.089\n",
            "Episode 800/1000 | Loss: 0.065\n",
            "Episode 900/1000 | Loss: 0.050\n"
          ]
        },
        {
          "output_type": "stream",
          "name": "stderr",
          "text": [
            "\r 54%|█████▍    | 54/100 [02:32<02:13,  2.91s/it]"
          ]
        },
        {
          "output_type": "stream",
          "name": "stdout",
          "text": [
            "Episode 1000/1000 | Loss: 0.040\n",
            "Simulation 54: First few losses: [45.323707580566406, 44.791866302490234, 44.26654815673828, 43.747764587402344, 43.23544692993164]\n",
            "Episode 100/1000 | Loss: 12.983\n",
            "Episode 200/1000 | Loss: 2.268\n",
            "Episode 300/1000 | Loss: 0.644\n",
            "Episode 400/1000 | Loss: 0.292\n",
            "Episode 500/1000 | Loss: 0.166\n",
            "Episode 600/1000 | Loss: 0.107\n",
            "Episode 700/1000 | Loss: 0.075\n",
            "Episode 800/1000 | Loss: 0.055\n",
            "Episode 900/1000 | Loss: 0.042\n"
          ]
        },
        {
          "output_type": "stream",
          "name": "stderr",
          "text": [
            "\r 55%|█████▌    | 55/100 [02:34<02:07,  2.82s/it]"
          ]
        },
        {
          "output_type": "stream",
          "name": "stdout",
          "text": [
            "Episode 1000/1000 | Loss: 0.033\n",
            "Simulation 55: First few losses: [40.78713607788086, 40.34983444213867, 39.91759490966797, 39.49039077758789, 39.06820297241211]\n",
            "Episode 100/1000 | Loss: 14.640\n",
            "Episode 200/1000 | Loss: 2.593\n",
            "Episode 300/1000 | Loss: 0.713\n",
            "Episode 400/1000 | Loss: 0.319\n",
            "Episode 500/1000 | Loss: 0.181\n",
            "Episode 600/1000 | Loss: 0.116\n",
            "Episode 700/1000 | Loss: 0.081\n",
            "Episode 800/1000 | Loss: 0.060\n",
            "Episode 900/1000 | Loss: 0.046\n"
          ]
        },
        {
          "output_type": "stream",
          "name": "stderr",
          "text": [
            "\r 56%|█████▌    | 56/100 [02:37<01:59,  2.72s/it]"
          ]
        },
        {
          "output_type": "stream",
          "name": "stdout",
          "text": [
            "Episode 1000/1000 | Loss: 0.036\n",
            "Simulation 56: First few losses: [44.414676666259766, 43.932376861572266, 43.45644760131836, 42.98684310913086, 42.52350997924805]\n",
            "Episode 100/1000 | Loss: 13.057\n",
            "Episode 200/1000 | Loss: 2.348\n",
            "Episode 300/1000 | Loss: 0.676\n",
            "Episode 400/1000 | Loss: 0.308\n",
            "Episode 500/1000 | Loss: 0.175\n",
            "Episode 600/1000 | Loss: 0.113\n",
            "Episode 700/1000 | Loss: 0.079\n",
            "Episode 800/1000 | Loss: 0.058\n",
            "Episode 900/1000 | Loss: 0.045\n"
          ]
        },
        {
          "output_type": "stream",
          "name": "stderr",
          "text": [
            "\r 57%|█████▋    | 57/100 [02:39<01:54,  2.66s/it]"
          ]
        },
        {
          "output_type": "stream",
          "name": "stdout",
          "text": [
            "Episode 1000/1000 | Loss: 0.035\n",
            "Simulation 57: First few losses: [42.26588821411133, 41.79969787597656, 41.33892822265625, 40.88356399536133, 40.43355178833008]\n",
            "Episode 100/1000 | Loss: 13.456\n",
            "Episode 200/1000 | Loss: 2.477\n",
            "Episode 300/1000 | Loss: 0.709\n",
            "Episode 400/1000 | Loss: 0.321\n",
            "Episode 500/1000 | Loss: 0.182\n",
            "Episode 600/1000 | Loss: 0.118\n",
            "Episode 700/1000 | Loss: 0.082\n",
            "Episode 800/1000 | Loss: 0.061\n",
            "Episode 900/1000 | Loss: 0.046\n"
          ]
        },
        {
          "output_type": "stream",
          "name": "stderr",
          "text": [
            "\r 58%|█████▊    | 58/100 [02:42<01:52,  2.67s/it]"
          ]
        },
        {
          "output_type": "stream",
          "name": "stdout",
          "text": [
            "Episode 1000/1000 | Loss: 0.037\n",
            "Simulation 58: First few losses: [42.999454498291016, 42.50883483886719, 42.02464294433594, 41.54689025878906, 41.075523376464844]\n",
            "Episode 100/1000 | Loss: 12.639\n",
            "Episode 200/1000 | Loss: 2.239\n",
            "Episode 300/1000 | Loss: 0.657\n",
            "Episode 400/1000 | Loss: 0.302\n",
            "Episode 500/1000 | Loss: 0.173\n",
            "Episode 600/1000 | Loss: 0.112\n",
            "Episode 700/1000 | Loss: 0.078\n",
            "Episode 800/1000 | Loss: 0.058\n",
            "Episode 900/1000 | Loss: 0.045\n"
          ]
        },
        {
          "output_type": "stream",
          "name": "stderr",
          "text": [
            "\r 59%|█████▉    | 59/100 [02:45<01:57,  2.86s/it]"
          ]
        },
        {
          "output_type": "stream",
          "name": "stdout",
          "text": [
            "Episode 1000/1000 | Loss: 0.035\n",
            "Simulation 59: First few losses: [41.84629821777344, 41.37412643432617, 40.90744400024414, 40.44623565673828, 39.990474700927734]\n",
            "Episode 100/1000 | Loss: 13.820\n",
            "Episode 200/1000 | Loss: 2.546\n",
            "Episode 300/1000 | Loss: 0.723\n",
            "Episode 400/1000 | Loss: 0.326\n",
            "Episode 500/1000 | Loss: 0.185\n",
            "Episode 600/1000 | Loss: 0.119\n",
            "Episode 700/1000 | Loss: 0.083\n",
            "Episode 800/1000 | Loss: 0.061\n",
            "Episode 900/1000 | Loss: 0.047\n"
          ]
        },
        {
          "output_type": "stream",
          "name": "stderr",
          "text": [
            "\r 60%|██████    | 60/100 [02:48<01:50,  2.77s/it]"
          ]
        },
        {
          "output_type": "stream",
          "name": "stdout",
          "text": [
            "Episode 1000/1000 | Loss: 0.037\n",
            "Simulation 60: First few losses: [44.60234832763672, 44.108421325683594, 43.62022018432617, 43.13775634765625, 42.66102600097656]\n",
            "Episode 100/1000 | Loss: 12.525\n",
            "Episode 200/1000 | Loss: 2.424\n",
            "Episode 300/1000 | Loss: 0.707\n",
            "Episode 400/1000 | Loss: 0.321\n",
            "Episode 500/1000 | Loss: 0.182\n",
            "Episode 600/1000 | Loss: 0.117\n",
            "Episode 700/1000 | Loss: 0.082\n",
            "Episode 800/1000 | Loss: 0.060\n",
            "Episode 900/1000 | Loss: 0.046\n"
          ]
        },
        {
          "output_type": "stream",
          "name": "stderr",
          "text": [
            "\r 61%|██████    | 61/100 [02:51<01:48,  2.78s/it]"
          ]
        },
        {
          "output_type": "stream",
          "name": "stdout",
          "text": [
            "Episode 1000/1000 | Loss: 0.036\n",
            "Simulation 61: First few losses: [41.76500701904297, 41.270137786865234, 40.78200149536133, 40.30052185058594, 39.825660705566406]\n",
            "Episode 100/1000 | Loss: 12.985\n",
            "Episode 200/1000 | Loss: 2.386\n",
            "Episode 300/1000 | Loss: 0.677\n",
            "Episode 400/1000 | Loss: 0.305\n",
            "Episode 500/1000 | Loss: 0.173\n",
            "Episode 600/1000 | Loss: 0.112\n",
            "Episode 700/1000 | Loss: 0.078\n",
            "Episode 800/1000 | Loss: 0.057\n",
            "Episode 900/1000 | Loss: 0.044\n"
          ]
        },
        {
          "output_type": "stream",
          "name": "stderr",
          "text": [
            "\r 62%|██████▏   | 62/100 [02:53<01:44,  2.74s/it]"
          ]
        },
        {
          "output_type": "stream",
          "name": "stdout",
          "text": [
            "Episode 1000/1000 | Loss: 0.035\n",
            "Simulation 62: First few losses: [40.80539321899414, 40.353919982910156, 39.90813064575195, 39.46800231933594, 39.033485412597656]\n",
            "Episode 100/1000 | Loss: 14.709\n",
            "Episode 200/1000 | Loss: 2.879\n",
            "Episode 300/1000 | Loss: 0.808\n",
            "Episode 400/1000 | Loss: 0.361\n",
            "Episode 500/1000 | Loss: 0.204\n",
            "Episode 600/1000 | Loss: 0.131\n",
            "Episode 700/1000 | Loss: 0.091\n",
            "Episode 800/1000 | Loss: 0.067\n",
            "Episode 900/1000 | Loss: 0.051\n"
          ]
        },
        {
          "output_type": "stream",
          "name": "stderr",
          "text": [
            "\r 63%|██████▎   | 63/100 [02:56<01:47,  2.90s/it]"
          ]
        },
        {
          "output_type": "stream",
          "name": "stdout",
          "text": [
            "Episode 1000/1000 | Loss: 0.041\n",
            "Simulation 63: First few losses: [47.43828582763672, 46.90069580078125, 46.36956787109375, 45.844871520996094, 45.3265380859375]\n",
            "Episode 100/1000 | Loss: 13.463\n",
            "Episode 200/1000 | Loss: 2.201\n",
            "Episode 300/1000 | Loss: 0.640\n",
            "Episode 400/1000 | Loss: 0.296\n",
            "Episode 500/1000 | Loss: 0.170\n",
            "Episode 600/1000 | Loss: 0.110\n",
            "Episode 700/1000 | Loss: 0.078\n",
            "Episode 800/1000 | Loss: 0.057\n",
            "Episode 900/1000 | Loss: 0.044\n"
          ]
        },
        {
          "output_type": "stream",
          "name": "stderr",
          "text": [
            "\r 64%|██████▍   | 64/100 [03:00<01:46,  2.96s/it]"
          ]
        },
        {
          "output_type": "stream",
          "name": "stdout",
          "text": [
            "Episode 1000/1000 | Loss: 0.035\n",
            "Simulation 64: First few losses: [42.943016052246094, 42.48326873779297, 42.02935028076172, 41.58119583129883, 41.13875198364258]\n",
            "Episode 100/1000 | Loss: 14.719\n",
            "Episode 200/1000 | Loss: 2.825\n",
            "Episode 300/1000 | Loss: 0.783\n",
            "Episode 400/1000 | Loss: 0.349\n",
            "Episode 500/1000 | Loss: 0.196\n",
            "Episode 600/1000 | Loss: 0.126\n",
            "Episode 700/1000 | Loss: 0.088\n",
            "Episode 800/1000 | Loss: 0.065\n",
            "Episode 900/1000 | Loss: 0.049\n"
          ]
        },
        {
          "output_type": "stream",
          "name": "stderr",
          "text": [
            "\r 65%|██████▌   | 65/100 [03:03<01:43,  2.95s/it]"
          ]
        },
        {
          "output_type": "stream",
          "name": "stdout",
          "text": [
            "Episode 1000/1000 | Loss: 0.039\n",
            "Simulation 65: First few losses: [46.279483795166016, 45.759422302246094, 45.2455940246582, 44.737998962402344, 44.23660659790039]\n",
            "Episode 100/1000 | Loss: 13.026\n",
            "Episode 200/1000 | Loss: 2.360\n",
            "Episode 300/1000 | Loss: 0.681\n",
            "Episode 400/1000 | Loss: 0.310\n",
            "Episode 500/1000 | Loss: 0.177\n",
            "Episode 600/1000 | Loss: 0.114\n",
            "Episode 700/1000 | Loss: 0.080\n",
            "Episode 800/1000 | Loss: 0.059\n",
            "Episode 900/1000 | Loss: 0.045\n"
          ]
        },
        {
          "output_type": "stream",
          "name": "stderr",
          "text": [
            "\r 66%|██████▌   | 66/100 [03:05<01:37,  2.87s/it]"
          ]
        },
        {
          "output_type": "stream",
          "name": "stdout",
          "text": [
            "Episode 1000/1000 | Loss: 0.036\n",
            "Simulation 66: First few losses: [42.64234161376953, 42.154022216796875, 41.671756744384766, 41.195533752441406, 40.72532272338867]\n",
            "Episode 100/1000 | Loss: 14.073\n",
            "Episode 200/1000 | Loss: 2.589\n",
            "Episode 300/1000 | Loss: 0.735\n",
            "Episode 400/1000 | Loss: 0.332\n",
            "Episode 500/1000 | Loss: 0.188\n",
            "Episode 600/1000 | Loss: 0.121\n",
            "Episode 700/1000 | Loss: 0.085\n",
            "Episode 800/1000 | Loss: 0.062\n",
            "Episode 900/1000 | Loss: 0.048\n"
          ]
        },
        {
          "output_type": "stream",
          "name": "stderr",
          "text": [
            "\r 67%|██████▋   | 67/100 [03:08<01:34,  2.87s/it]"
          ]
        },
        {
          "output_type": "stream",
          "name": "stdout",
          "text": [
            "Episode 1000/1000 | Loss: 0.038\n",
            "Simulation 67: First few losses: [45.28927230834961, 44.78143310546875, 44.280059814453125, 43.78505325317383, 43.296302795410156]\n",
            "Episode 100/1000 | Loss: 11.340\n",
            "Episode 200/1000 | Loss: 2.010\n",
            "Episode 300/1000 | Loss: 0.602\n",
            "Episode 400/1000 | Loss: 0.279\n",
            "Episode 500/1000 | Loss: 0.160\n",
            "Episode 600/1000 | Loss: 0.104\n",
            "Episode 700/1000 | Loss: 0.073\n",
            "Episode 800/1000 | Loss: 0.054\n",
            "Episode 900/1000 | Loss: 0.041\n"
          ]
        },
        {
          "output_type": "stream",
          "name": "stderr",
          "text": [
            "\r 68%|██████▊   | 68/100 [03:12<01:39,  3.11s/it]"
          ]
        },
        {
          "output_type": "stream",
          "name": "stdout",
          "text": [
            "Episode 1000/1000 | Loss: 0.033\n",
            "Simulation 68: First few losses: [38.38282775878906, 37.94134521484375, 37.50564956665039, 37.075706481933594, 36.651493072509766]\n",
            "Episode 100/1000 | Loss: 13.675\n",
            "Episode 200/1000 | Loss: 2.496\n",
            "Episode 300/1000 | Loss: 0.710\n",
            "Episode 400/1000 | Loss: 0.321\n",
            "Episode 500/1000 | Loss: 0.182\n",
            "Episode 600/1000 | Loss: 0.117\n",
            "Episode 700/1000 | Loss: 0.082\n",
            "Episode 800/1000 | Loss: 0.060\n",
            "Episode 900/1000 | Loss: 0.046\n"
          ]
        },
        {
          "output_type": "stream",
          "name": "stderr",
          "text": [
            "\r 69%|██████▉   | 69/100 [03:14<01:32,  2.97s/it]"
          ]
        },
        {
          "output_type": "stream",
          "name": "stdout",
          "text": [
            "Episode 1000/1000 | Loss: 0.037\n",
            "Simulation 69: First few losses: [43.47933578491211, 42.99632263183594, 42.51945877075195, 42.048683166503906, 41.58396530151367]\n",
            "Episode 100/1000 | Loss: 13.609\n",
            "Episode 200/1000 | Loss: 2.536\n",
            "Episode 300/1000 | Loss: 0.721\n",
            "Episode 400/1000 | Loss: 0.325\n",
            "Episode 500/1000 | Loss: 0.184\n",
            "Episode 600/1000 | Loss: 0.119\n",
            "Episode 700/1000 | Loss: 0.083\n",
            "Episode 800/1000 | Loss: 0.061\n",
            "Episode 900/1000 | Loss: 0.047\n"
          ]
        },
        {
          "output_type": "stream",
          "name": "stderr",
          "text": [
            "\r 70%|███████   | 70/100 [03:17<01:25,  2.85s/it]"
          ]
        },
        {
          "output_type": "stream",
          "name": "stdout",
          "text": [
            "Episode 1000/1000 | Loss: 0.037\n",
            "Simulation 70: First few losses: [43.58420181274414, 43.089073181152344, 42.60021209716797, 42.11761474609375, 41.64128112792969]\n",
            "Episode 100/1000 | Loss: 14.574\n",
            "Episode 200/1000 | Loss: 2.784\n",
            "Episode 300/1000 | Loss: 0.776\n",
            "Episode 400/1000 | Loss: 0.347\n",
            "Episode 500/1000 | Loss: 0.196\n",
            "Episode 600/1000 | Loss: 0.126\n",
            "Episode 700/1000 | Loss: 0.088\n",
            "Episode 800/1000 | Loss: 0.065\n",
            "Episode 900/1000 | Loss: 0.049\n"
          ]
        },
        {
          "output_type": "stream",
          "name": "stderr",
          "text": [
            "\r 71%|███████   | 71/100 [03:20<01:20,  2.77s/it]"
          ]
        },
        {
          "output_type": "stream",
          "name": "stdout",
          "text": [
            "Episode 1000/1000 | Loss: 0.039\n",
            "Simulation 71: First few losses: [46.17404556274414, 45.6475830078125, 45.12775802612305, 44.61454772949219, 44.1079216003418]\n",
            "Episode 100/1000 | Loss: 12.223\n",
            "Episode 200/1000 | Loss: 2.250\n",
            "Episode 300/1000 | Loss: 0.662\n",
            "Episode 400/1000 | Loss: 0.303\n",
            "Episode 500/1000 | Loss: 0.173\n",
            "Episode 600/1000 | Loss: 0.112\n",
            "Episode 700/1000 | Loss: 0.078\n",
            "Episode 800/1000 | Loss: 0.058\n",
            "Episode 900/1000 | Loss: 0.044\n"
          ]
        },
        {
          "output_type": "stream",
          "name": "stderr",
          "text": [
            "\r 72%|███████▏  | 72/100 [03:23<01:19,  2.86s/it]"
          ]
        },
        {
          "output_type": "stream",
          "name": "stdout",
          "text": [
            "Episode 1000/1000 | Loss: 0.035\n",
            "Simulation 72: First few losses: [40.784725189208984, 40.30704879760742, 39.83551025390625, 39.37006378173828, 38.91068649291992]\n",
            "Episode 100/1000 | Loss: 13.984\n",
            "Episode 200/1000 | Loss: 2.596\n",
            "Episode 300/1000 | Loss: 0.733\n",
            "Episode 400/1000 | Loss: 0.330\n",
            "Episode 500/1000 | Loss: 0.187\n",
            "Episode 600/1000 | Loss: 0.121\n",
            "Episode 700/1000 | Loss: 0.084\n",
            "Episode 800/1000 | Loss: 0.062\n",
            "Episode 900/1000 | Loss: 0.048\n"
          ]
        },
        {
          "output_type": "stream",
          "name": "stderr",
          "text": [
            "\r 73%|███████▎  | 73/100 [03:26<01:18,  2.90s/it]"
          ]
        },
        {
          "output_type": "stream",
          "name": "stdout",
          "text": [
            "Episode 1000/1000 | Loss: 0.038\n",
            "Simulation 73: First few losses: [44.63584518432617, 44.133148193359375, 43.63689422607422, 43.147037506103516, 42.663509368896484]\n",
            "Episode 100/1000 | Loss: 13.163\n",
            "Episode 200/1000 | Loss: 2.274\n",
            "Episode 300/1000 | Loss: 0.653\n",
            "Episode 400/1000 | Loss: 0.299\n",
            "Episode 500/1000 | Loss: 0.170\n",
            "Episode 600/1000 | Loss: 0.110\n",
            "Episode 700/1000 | Loss: 0.077\n",
            "Episode 800/1000 | Loss: 0.057\n",
            "Episode 900/1000 | Loss: 0.044\n"
          ]
        },
        {
          "output_type": "stream",
          "name": "stderr",
          "text": [
            "\r 74%|███████▍  | 74/100 [03:28<01:12,  2.77s/it]"
          ]
        },
        {
          "output_type": "stream",
          "name": "stdout",
          "text": [
            "Episode 1000/1000 | Loss: 0.035\n",
            "Simulation 74: First few losses: [41.58491516113281, 41.13605499267578, 40.69252395629883, 40.25425720214844, 39.821231842041016]\n",
            "Episode 100/1000 | Loss: 13.168\n",
            "Episode 200/1000 | Loss: 2.412\n",
            "Episode 300/1000 | Loss: 0.693\n",
            "Episode 400/1000 | Loss: 0.315\n",
            "Episode 500/1000 | Loss: 0.179\n",
            "Episode 600/1000 | Loss: 0.115\n",
            "Episode 700/1000 | Loss: 0.081\n",
            "Episode 800/1000 | Loss: 0.059\n",
            "Episode 900/1000 | Loss: 0.046\n"
          ]
        },
        {
          "output_type": "stream",
          "name": "stderr",
          "text": [
            "\r 75%|███████▌  | 75/100 [03:31<01:07,  2.72s/it]"
          ]
        },
        {
          "output_type": "stream",
          "name": "stdout",
          "text": [
            "Episode 1000/1000 | Loss: 0.036\n",
            "Simulation 75: First few losses: [42.73298263549805, 42.25332260131836, 41.77939224243164, 41.31117248535156, 40.8486442565918]\n",
            "Episode 100/1000 | Loss: 13.901\n",
            "Episode 200/1000 | Loss: 2.503\n",
            "Episode 300/1000 | Loss: 0.708\n",
            "Episode 400/1000 | Loss: 0.320\n",
            "Episode 500/1000 | Loss: 0.182\n",
            "Episode 600/1000 | Loss: 0.117\n",
            "Episode 700/1000 | Loss: 0.082\n",
            "Episode 800/1000 | Loss: 0.060\n",
            "Episode 900/1000 | Loss: 0.046\n"
          ]
        },
        {
          "output_type": "stream",
          "name": "stderr",
          "text": [
            "\r 76%|███████▌  | 76/100 [03:33<01:04,  2.70s/it]"
          ]
        },
        {
          "output_type": "stream",
          "name": "stdout",
          "text": [
            "Episode 1000/1000 | Loss: 0.037\n",
            "Simulation 76: First few losses: [43.8657341003418, 43.38322067260742, 42.90653610229492, 42.435638427734375, 41.970481872558594]\n",
            "Episode 100/1000 | Loss: 12.779\n",
            "Episode 200/1000 | Loss: 2.432\n",
            "Episode 300/1000 | Loss: 0.708\n",
            "Episode 400/1000 | Loss: 0.322\n",
            "Episode 500/1000 | Loss: 0.183\n",
            "Episode 600/1000 | Loss: 0.118\n",
            "Episode 700/1000 | Loss: 0.082\n",
            "Episode 800/1000 | Loss: 0.061\n",
            "Episode 900/1000 | Loss: 0.047\n"
          ]
        },
        {
          "output_type": "stream",
          "name": "stderr",
          "text": [
            "\r 77%|███████▋  | 77/100 [03:37<01:06,  2.91s/it]"
          ]
        },
        {
          "output_type": "stream",
          "name": "stdout",
          "text": [
            "Episode 1000/1000 | Loss: 0.037\n",
            "Simulation 77: First few losses: [42.63268280029297, 42.13336181640625, 41.640602111816406, 41.15433883666992, 40.67448043823242]\n",
            "Episode 100/1000 | Loss: 12.576\n",
            "Episode 200/1000 | Loss: 2.169\n",
            "Episode 300/1000 | Loss: 0.635\n",
            "Episode 400/1000 | Loss: 0.292\n",
            "Episode 500/1000 | Loss: 0.168\n",
            "Episode 600/1000 | Loss: 0.109\n",
            "Episode 700/1000 | Loss: 0.076\n",
            "Episode 800/1000 | Loss: 0.056\n",
            "Episode 900/1000 | Loss: 0.043\n"
          ]
        },
        {
          "output_type": "stream",
          "name": "stderr",
          "text": [
            "\r 78%|███████▊  | 78/100 [03:39<01:02,  2.84s/it]"
          ]
        },
        {
          "output_type": "stream",
          "name": "stdout",
          "text": [
            "Episode 1000/1000 | Loss: 0.034\n",
            "Simulation 78: First few losses: [41.1205940246582, 40.661216735839844, 40.20746612548828, 39.75931930541992, 39.31671905517578]\n",
            "Episode 100/1000 | Loss: 13.820\n",
            "Episode 200/1000 | Loss: 2.712\n",
            "Episode 300/1000 | Loss: 0.779\n",
            "Episode 400/1000 | Loss: 0.351\n",
            "Episode 500/1000 | Loss: 0.198\n",
            "Episode 600/1000 | Loss: 0.127\n",
            "Episode 700/1000 | Loss: 0.089\n",
            "Episode 800/1000 | Loss: 0.065\n",
            "Episode 900/1000 | Loss: 0.050\n"
          ]
        },
        {
          "output_type": "stream",
          "name": "stderr",
          "text": [
            "\r 79%|███████▉  | 79/100 [03:42<00:58,  2.77s/it]"
          ]
        },
        {
          "output_type": "stream",
          "name": "stdout",
          "text": [
            "Episode 1000/1000 | Loss: 0.040\n",
            "Simulation 79: First few losses: [45.64827346801758, 45.12001037597656, 44.59815216064453, 44.08266830444336, 43.57358932495117]\n",
            "Episode 100/1000 | Loss: 14.450\n",
            "Episode 200/1000 | Loss: 2.526\n",
            "Episode 300/1000 | Loss: 0.713\n",
            "Episode 400/1000 | Loss: 0.323\n",
            "Episode 500/1000 | Loss: 0.184\n",
            "Episode 600/1000 | Loss: 0.119\n",
            "Episode 700/1000 | Loss: 0.083\n",
            "Episode 800/1000 | Loss: 0.061\n",
            "Episode 900/1000 | Loss: 0.047\n"
          ]
        },
        {
          "output_type": "stream",
          "name": "stderr",
          "text": [
            "\r 80%|████████  | 80/100 [03:45<00:54,  2.72s/it]"
          ]
        },
        {
          "output_type": "stream",
          "name": "stdout",
          "text": [
            "Episode 1000/1000 | Loss: 0.037\n",
            "Simulation 80: First few losses: [44.93119430541992, 44.438358306884766, 43.95158386230469, 43.470863342285156, 42.99620056152344]\n",
            "Episode 100/1000 | Loss: 13.709\n",
            "Episode 200/1000 | Loss: 2.330\n",
            "Episode 300/1000 | Loss: 0.666\n",
            "Episode 400/1000 | Loss: 0.304\n",
            "Episode 500/1000 | Loss: 0.174\n",
            "Episode 600/1000 | Loss: 0.112\n",
            "Episode 700/1000 | Loss: 0.079\n",
            "Episode 800/1000 | Loss: 0.058\n",
            "Episode 900/1000 | Loss: 0.045\n"
          ]
        },
        {
          "output_type": "stream",
          "name": "stderr",
          "text": [
            "\r 81%|████████  | 81/100 [03:47<00:51,  2.72s/it]"
          ]
        },
        {
          "output_type": "stream",
          "name": "stdout",
          "text": [
            "Episode 1000/1000 | Loss: 0.035\n",
            "Simulation 81: First few losses: [43.059139251708984, 42.590309143066406, 42.1275634765625, 41.670860290527344, 41.22012710571289]\n",
            "Episode 100/1000 | Loss: 14.180\n",
            "Episode 200/1000 | Loss: 2.843\n",
            "Episode 300/1000 | Loss: 0.795\n",
            "Episode 400/1000 | Loss: 0.353\n",
            "Episode 500/1000 | Loss: 0.198\n",
            "Episode 600/1000 | Loss: 0.127\n",
            "Episode 700/1000 | Loss: 0.088\n",
            "Episode 800/1000 | Loss: 0.065\n",
            "Episode 900/1000 | Loss: 0.050\n"
          ]
        },
        {
          "output_type": "stream",
          "name": "stderr",
          "text": [
            "\r 82%|████████▏ | 82/100 [03:51<00:53,  2.96s/it]"
          ]
        },
        {
          "output_type": "stream",
          "name": "stdout",
          "text": [
            "Episode 1000/1000 | Loss: 0.039\n",
            "Simulation 82: First few losses: [45.75572967529297, 45.24070739746094, 44.73183059692383, 44.229007720947266, 43.73216247558594]\n",
            "Episode 100/1000 | Loss: 14.329\n",
            "Episode 200/1000 | Loss: 2.700\n",
            "Episode 300/1000 | Loss: 0.755\n",
            "Episode 400/1000 | Loss: 0.337\n",
            "Episode 500/1000 | Loss: 0.190\n",
            "Episode 600/1000 | Loss: 0.122\n",
            "Episode 700/1000 | Loss: 0.085\n",
            "Episode 800/1000 | Loss: 0.063\n",
            "Episode 900/1000 | Loss: 0.048\n"
          ]
        },
        {
          "output_type": "stream",
          "name": "stderr",
          "text": [
            "\r 83%|████████▎ | 83/100 [03:53<00:48,  2.84s/it]"
          ]
        },
        {
          "output_type": "stream",
          "name": "stdout",
          "text": [
            "Episode 1000/1000 | Loss: 0.038\n",
            "Simulation 83: First few losses: [45.25892639160156, 44.75178146362305, 44.251121520996094, 43.756919860839844, 43.26912307739258]\n",
            "Episode 100/1000 | Loss: 13.508\n",
            "Episode 200/1000 | Loss: 2.379\n",
            "Episode 300/1000 | Loss: 0.674\n",
            "Episode 400/1000 | Loss: 0.305\n",
            "Episode 500/1000 | Loss: 0.173\n",
            "Episode 600/1000 | Loss: 0.111\n",
            "Episode 700/1000 | Loss: 0.078\n",
            "Episode 800/1000 | Loss: 0.057\n",
            "Episode 900/1000 | Loss: 0.044\n"
          ]
        },
        {
          "output_type": "stream",
          "name": "stderr",
          "text": [
            "\r 84%|████████▍ | 84/100 [03:56<00:44,  2.78s/it]"
          ]
        },
        {
          "output_type": "stream",
          "name": "stdout",
          "text": [
            "Episode 1000/1000 | Loss: 0.035\n",
            "Simulation 84: First few losses: [41.839664459228516, 41.38838577270508, 40.94281768798828, 40.502899169921875, 40.06859588623047]\n",
            "Episode 100/1000 | Loss: 14.319\n",
            "Episode 200/1000 | Loss: 2.754\n",
            "Episode 300/1000 | Loss: 0.777\n",
            "Episode 400/1000 | Loss: 0.348\n",
            "Episode 500/1000 | Loss: 0.196\n",
            "Episode 600/1000 | Loss: 0.126\n",
            "Episode 700/1000 | Loss: 0.088\n",
            "Episode 800/1000 | Loss: 0.065\n",
            "Episode 900/1000 | Loss: 0.050\n"
          ]
        },
        {
          "output_type": "stream",
          "name": "stderr",
          "text": [
            "\r 85%|████████▌ | 85/100 [03:59<00:41,  2.74s/it]"
          ]
        },
        {
          "output_type": "stream",
          "name": "stdout",
          "text": [
            "Episode 1000/1000 | Loss: 0.039\n",
            "Simulation 85: First few losses: [46.48326110839844, 45.953426361083984, 45.43029022216797, 44.913787841796875, 44.40386962890625]\n",
            "Episode 100/1000 | Loss: 12.332\n",
            "Episode 200/1000 | Loss: 2.240\n",
            "Episode 300/1000 | Loss: 0.652\n",
            "Episode 400/1000 | Loss: 0.298\n",
            "Episode 500/1000 | Loss: 0.170\n",
            "Episode 600/1000 | Loss: 0.110\n",
            "Episode 700/1000 | Loss: 0.077\n",
            "Episode 800/1000 | Loss: 0.057\n",
            "Episode 900/1000 | Loss: 0.044\n"
          ]
        },
        {
          "output_type": "stream",
          "name": "stderr",
          "text": [
            "\r 86%|████████▌ | 86/100 [04:02<00:40,  2.88s/it]"
          ]
        },
        {
          "output_type": "stream",
          "name": "stdout",
          "text": [
            "Episode 1000/1000 | Loss: 0.034\n",
            "Simulation 86: First few losses: [40.41543197631836, 39.946998596191406, 39.48476791381836, 39.02871322631836, 38.578800201416016]\n",
            "Episode 100/1000 | Loss: 13.705\n",
            "Episode 200/1000 | Loss: 2.542\n",
            "Episode 300/1000 | Loss: 0.721\n",
            "Episode 400/1000 | Loss: 0.325\n",
            "Episode 500/1000 | Loss: 0.185\n",
            "Episode 600/1000 | Loss: 0.119\n",
            "Episode 700/1000 | Loss: 0.083\n",
            "Episode 800/1000 | Loss: 0.061\n",
            "Episode 900/1000 | Loss: 0.047\n"
          ]
        },
        {
          "output_type": "stream",
          "name": "stderr",
          "text": [
            "\r 87%|████████▋ | 87/100 [04:05<00:39,  3.03s/it]"
          ]
        },
        {
          "output_type": "stream",
          "name": "stdout",
          "text": [
            "Episode 1000/1000 | Loss: 0.037\n",
            "Simulation 87: First few losses: [43.81955337524414, 43.32242202758789, 42.83192825317383, 42.34803771972656, 41.87066650390625]\n",
            "Episode 100/1000 | Loss: 14.465\n",
            "Episode 200/1000 | Loss: 2.912\n",
            "Episode 300/1000 | Loss: 0.815\n",
            "Episode 400/1000 | Loss: 0.360\n",
            "Episode 500/1000 | Loss: 0.202\n",
            "Episode 600/1000 | Loss: 0.129\n",
            "Episode 700/1000 | Loss: 0.090\n",
            "Episode 800/1000 | Loss: 0.066\n",
            "Episode 900/1000 | Loss: 0.050\n"
          ]
        },
        {
          "output_type": "stream",
          "name": "stderr",
          "text": [
            "\r 88%|████████▊ | 88/100 [04:08<00:35,  2.93s/it]"
          ]
        },
        {
          "output_type": "stream",
          "name": "stdout",
          "text": [
            "Episode 1000/1000 | Loss: 0.040\n",
            "Simulation 88: First few losses: [46.312652587890625, 45.796409606933594, 45.286407470703125, 44.78263854980469, 44.285064697265625]\n",
            "Episode 100/1000 | Loss: 13.365\n",
            "Episode 200/1000 | Loss: 2.253\n",
            "Episode 300/1000 | Loss: 0.655\n",
            "Episode 400/1000 | Loss: 0.302\n",
            "Episode 500/1000 | Loss: 0.173\n",
            "Episode 600/1000 | Loss: 0.112\n",
            "Episode 700/1000 | Loss: 0.079\n",
            "Episode 800/1000 | Loss: 0.058\n",
            "Episode 900/1000 | Loss: 0.045\n"
          ]
        },
        {
          "output_type": "stream",
          "name": "stderr",
          "text": [
            "\r 89%|████████▉ | 89/100 [04:11<00:31,  2.86s/it]"
          ]
        },
        {
          "output_type": "stream",
          "name": "stdout",
          "text": [
            "Episode 1000/1000 | Loss: 0.035\n",
            "Simulation 89: First few losses: [42.934391021728516, 42.469268798828125, 42.00985336303711, 41.556121826171875, 41.108070373535156]\n",
            "Episode 100/1000 | Loss: 13.809\n",
            "Episode 200/1000 | Loss: 2.543\n",
            "Episode 300/1000 | Loss: 0.724\n",
            "Episode 400/1000 | Loss: 0.327\n",
            "Episode 500/1000 | Loss: 0.186\n",
            "Episode 600/1000 | Loss: 0.120\n",
            "Episode 700/1000 | Loss: 0.084\n",
            "Episode 800/1000 | Loss: 0.062\n",
            "Episode 900/1000 | Loss: 0.047\n"
          ]
        },
        {
          "output_type": "stream",
          "name": "stderr",
          "text": [
            "\r 90%|█████████ | 90/100 [04:13<00:27,  2.80s/it]"
          ]
        },
        {
          "output_type": "stream",
          "name": "stdout",
          "text": [
            "Episode 1000/1000 | Loss: 0.037\n",
            "Simulation 90: First few losses: [44.68045425415039, 44.1849365234375, 43.69538497924805, 43.21177673339844, 42.73406219482422]\n",
            "Episode 100/1000 | Loss: 13.549\n",
            "Episode 200/1000 | Loss: 2.636\n",
            "Episode 300/1000 | Loss: 0.764\n",
            "Episode 400/1000 | Loss: 0.346\n",
            "Episode 500/1000 | Loss: 0.196\n",
            "Episode 600/1000 | Loss: 0.126\n",
            "Episode 700/1000 | Loss: 0.088\n",
            "Episode 800/1000 | Loss: 0.065\n",
            "Episode 900/1000 | Loss: 0.050\n"
          ]
        },
        {
          "output_type": "stream",
          "name": "stderr",
          "text": [
            "\r 91%|█████████ | 91/100 [04:17<00:27,  3.06s/it]"
          ]
        },
        {
          "output_type": "stream",
          "name": "stdout",
          "text": [
            "Episode 1000/1000 | Loss: 0.039\n",
            "Simulation 91: First few losses: [45.30277633666992, 44.78177261352539, 44.266761779785156, 43.75775146484375, 43.254695892333984]\n",
            "Episode 100/1000 | Loss: 14.359\n",
            "Episode 200/1000 | Loss: 2.949\n",
            "Episode 300/1000 | Loss: 0.830\n",
            "Episode 400/1000 | Loss: 0.367\n",
            "Episode 500/1000 | Loss: 0.205\n",
            "Episode 600/1000 | Loss: 0.131\n",
            "Episode 700/1000 | Loss: 0.091\n",
            "Episode 800/1000 | Loss: 0.066\n",
            "Episode 900/1000 | Loss: 0.051\n"
          ]
        },
        {
          "output_type": "stream",
          "name": "stderr",
          "text": [
            "\r 92%|█████████▏| 92/100 [04:20<00:23,  2.91s/it]"
          ]
        },
        {
          "output_type": "stream",
          "name": "stdout",
          "text": [
            "Episode 1000/1000 | Loss: 0.040\n",
            "Simulation 92: First few losses: [46.36922836303711, 45.838653564453125, 45.314762115478516, 44.79751968383789, 44.286865234375]\n",
            "Episode 100/1000 | Loss: 14.061\n",
            "Episode 200/1000 | Loss: 2.631\n",
            "Episode 300/1000 | Loss: 0.756\n",
            "Episode 400/1000 | Loss: 0.343\n",
            "Episode 500/1000 | Loss: 0.195\n",
            "Episode 600/1000 | Loss: 0.126\n",
            "Episode 700/1000 | Loss: 0.088\n",
            "Episode 800/1000 | Loss: 0.065\n",
            "Episode 900/1000 | Loss: 0.050\n"
          ]
        },
        {
          "output_type": "stream",
          "name": "stderr",
          "text": [
            "\r 93%|█████████▎| 93/100 [04:22<00:19,  2.83s/it]"
          ]
        },
        {
          "output_type": "stream",
          "name": "stdout",
          "text": [
            "Episode 1000/1000 | Loss: 0.039\n",
            "Simulation 93: First few losses: [46.47749710083008, 45.94706726074219, 45.42324447631836, 44.90601348876953, 44.39530563354492]\n",
            "Episode 100/1000 | Loss: 13.524\n",
            "Episode 200/1000 | Loss: 2.384\n",
            "Episode 300/1000 | Loss: 0.678\n",
            "Episode 400/1000 | Loss: 0.308\n",
            "Episode 500/1000 | Loss: 0.175\n",
            "Episode 600/1000 | Loss: 0.113\n",
            "Episode 700/1000 | Loss: 0.079\n",
            "Episode 800/1000 | Loss: 0.058\n",
            "Episode 900/1000 | Loss: 0.045\n"
          ]
        },
        {
          "output_type": "stream",
          "name": "stderr",
          "text": [
            "\r 94%|█████████▍| 94/100 [04:25<00:16,  2.77s/it]"
          ]
        },
        {
          "output_type": "stream",
          "name": "stdout",
          "text": [
            "Episode 1000/1000 | Loss: 0.035\n",
            "Simulation 94: First few losses: [42.974510192871094, 42.51261901855469, 42.0560302734375, 41.60471725463867, 41.158626556396484]\n",
            "Episode 100/1000 | Loss: 14.774\n",
            "Episode 200/1000 | Loss: 2.857\n",
            "Episode 300/1000 | Loss: 0.776\n",
            "Episode 400/1000 | Loss: 0.342\n",
            "Episode 500/1000 | Loss: 0.191\n",
            "Episode 600/1000 | Loss: 0.122\n",
            "Episode 700/1000 | Loss: 0.085\n",
            "Episode 800/1000 | Loss: 0.062\n",
            "Episode 900/1000 | Loss: 0.048\n"
          ]
        },
        {
          "output_type": "stream",
          "name": "stderr",
          "text": [
            "\r 95%|█████████▌| 95/100 [04:28<00:14,  2.83s/it]"
          ]
        },
        {
          "output_type": "stream",
          "name": "stdout",
          "text": [
            "Episode 1000/1000 | Loss: 0.038\n",
            "Simulation 95: First few losses: [45.55365753173828, 45.052608489990234, 44.557640075683594, 44.0687255859375, 43.58583068847656]\n",
            "Episode 100/1000 | Loss: 14.788\n",
            "Episode 200/1000 | Loss: 2.765\n",
            "Episode 300/1000 | Loss: 0.767\n",
            "Episode 400/1000 | Loss: 0.343\n",
            "Episode 500/1000 | Loss: 0.194\n",
            "Episode 600/1000 | Loss: 0.125\n",
            "Episode 700/1000 | Loss: 0.087\n",
            "Episode 800/1000 | Loss: 0.064\n",
            "Episode 900/1000 | Loss: 0.049\n"
          ]
        },
        {
          "output_type": "stream",
          "name": "stderr",
          "text": [
            "\r 96%|█████████▌| 96/100 [04:31<00:11,  2.94s/it]"
          ]
        },
        {
          "output_type": "stream",
          "name": "stdout",
          "text": [
            "Episode 1000/1000 | Loss: 0.039\n",
            "Simulation 96: First few losses: [46.18294143676758, 45.67044448852539, 45.16413497924805, 44.663970947265625, 44.169944763183594]\n",
            "Episode 100/1000 | Loss: 12.629\n",
            "Episode 200/1000 | Loss: 2.362\n",
            "Episode 300/1000 | Loss: 0.688\n",
            "Episode 400/1000 | Loss: 0.313\n",
            "Episode 500/1000 | Loss: 0.178\n",
            "Episode 600/1000 | Loss: 0.115\n",
            "Episode 700/1000 | Loss: 0.080\n",
            "Episode 800/1000 | Loss: 0.059\n",
            "Episode 900/1000 | Loss: 0.045\n"
          ]
        },
        {
          "output_type": "stream",
          "name": "stderr",
          "text": [
            "\r 97%|█████████▋| 97/100 [04:34<00:08,  2.83s/it]"
          ]
        },
        {
          "output_type": "stream",
          "name": "stdout",
          "text": [
            "Episode 1000/1000 | Loss: 0.036\n",
            "Simulation 97: First few losses: [42.06804656982422, 41.58678436279297, 41.11141586303711, 40.64194107055664, 40.17831039428711]\n",
            "Episode 100/1000 | Loss: 12.882\n",
            "Episode 200/1000 | Loss: 2.203\n",
            "Episode 300/1000 | Loss: 0.647\n",
            "Episode 400/1000 | Loss: 0.299\n",
            "Episode 500/1000 | Loss: 0.171\n",
            "Episode 600/1000 | Loss: 0.111\n",
            "Episode 700/1000 | Loss: 0.078\n",
            "Episode 800/1000 | Loss: 0.058\n",
            "Episode 900/1000 | Loss: 0.044\n"
          ]
        },
        {
          "output_type": "stream",
          "name": "stderr",
          "text": [
            "\r 98%|█████████▊| 98/100 [04:36<00:05,  2.74s/it]"
          ]
        },
        {
          "output_type": "stream",
          "name": "stdout",
          "text": [
            "Episode 1000/1000 | Loss: 0.035\n",
            "Simulation 98: First few losses: [42.34391784667969, 41.8751106262207, 41.411983489990234, 40.95447540283203, 40.50254821777344]\n",
            "Episode 100/1000 | Loss: 12.954\n",
            "Episode 200/1000 | Loss: 2.464\n",
            "Episode 300/1000 | Loss: 0.716\n",
            "Episode 400/1000 | Loss: 0.324\n",
            "Episode 500/1000 | Loss: 0.184\n",
            "Episode 600/1000 | Loss: 0.118\n",
            "Episode 700/1000 | Loss: 0.083\n",
            "Episode 800/1000 | Loss: 0.061\n",
            "Episode 900/1000 | Loss: 0.047\n"
          ]
        },
        {
          "output_type": "stream",
          "name": "stderr",
          "text": [
            "\r 99%|█████████▉| 99/100 [04:39<00:02,  2.69s/it]"
          ]
        },
        {
          "output_type": "stream",
          "name": "stdout",
          "text": [
            "Episode 1000/1000 | Loss: 0.037\n",
            "Simulation 99: First few losses: [42.7687873840332, 42.276458740234375, 41.79017639160156, 41.30992126464844, 40.8356819152832]\n",
            "Episode 100/1000 | Loss: 14.641\n",
            "Episode 200/1000 | Loss: 2.714\n",
            "Episode 300/1000 | Loss: 0.767\n",
            "Episode 400/1000 | Loss: 0.346\n",
            "Episode 500/1000 | Loss: 0.197\n",
            "Episode 600/1000 | Loss: 0.127\n",
            "Episode 700/1000 | Loss: 0.089\n",
            "Episode 800/1000 | Loss: 0.066\n",
            "Episode 900/1000 | Loss: 0.050\n"
          ]
        },
        {
          "output_type": "stream",
          "name": "stderr",
          "text": [
            "100%|██████████| 100/100 [04:42<00:00,  2.82s/it]"
          ]
        },
        {
          "output_type": "stream",
          "name": "stdout",
          "text": [
            "Episode 1000/1000 | Loss: 0.040\n",
            "Simulation 100: First few losses: [47.37472915649414, 46.836002349853516, 46.30402755737305, 45.77876663208008, 45.26018142700195]\n",
            "Total simulations run: 100\n"
          ]
        },
        {
          "output_type": "stream",
          "name": "stderr",
          "text": [
            "\n"
          ]
        }
      ]
    },
    {
      "cell_type": "code",
      "source": [
        "mean_losses, std_err_losses = calculate_mean_and_standard_error(all_losses)"
      ],
      "metadata": {
        "id": "Ch7u6eZoXjq_"
      },
      "execution_count": null,
      "outputs": []
    },
    {
      "cell_type": "code",
      "source": [
        "print(std_err_losses)"
      ],
      "metadata": {
        "collapsed": true,
        "id": "qE1F-wsoZTl8",
        "colab": {
          "base_uri": "https://localhost:8080/"
        },
        "outputId": "67b04ec1-bc0e-4b2d-e3b9-27dac08f65d4"
      },
      "execution_count": null,
      "outputs": [
        {
          "output_type": "stream",
          "name": "stdout",
          "text": [
            "[2.21230917e-01 2.18858154e-01 2.16513051e-01 2.14195383e-01\n",
            " 2.11904482e-01 2.09639890e-01 2.07400996e-01 2.05187167e-01\n",
            " 2.02997968e-01 2.00832562e-01 1.98690324e-01 1.96570476e-01\n",
            " 1.94472611e-01 1.92396040e-01 1.90340142e-01 1.88304442e-01\n",
            " 1.86288567e-01 1.84292065e-01 1.82314580e-01 1.80355822e-01\n",
            " 1.78415610e-01 1.76493790e-01 1.74590141e-01 1.72704782e-01\n",
            " 1.70837670e-01 1.68988895e-01 1.67158629e-01 1.65347073e-01\n",
            " 1.63554447e-01 1.61781095e-01 1.60027220e-01 1.58293218e-01\n",
            " 1.56579521e-01 1.54886510e-01 1.53214437e-01 1.51563850e-01\n",
            " 1.49935085e-01 1.48328516e-01 1.46744654e-01 1.45183720e-01\n",
            " 1.43646153e-01 1.42132348e-01 1.40642527e-01 1.39177179e-01\n",
            " 1.37736367e-01 1.36320467e-01 1.34929616e-01 1.33564032e-01\n",
            " 1.32223837e-01 1.30909206e-01 1.29620042e-01 1.28356521e-01\n",
            " 1.27118517e-01 1.25905964e-01 1.24718751e-01 1.23556815e-01\n",
            " 1.22419786e-01 1.21307559e-01 1.20219820e-01 1.19156197e-01\n",
            " 1.18116294e-01 1.17099796e-01 1.16106195e-01 1.15135074e-01\n",
            " 1.14185810e-01 1.13257937e-01 1.12350940e-01 1.11464154e-01\n",
            " 1.10596919e-01 1.09748732e-01 1.08918798e-01 1.08106576e-01\n",
            " 1.07311276e-01 1.06532256e-01 1.05768833e-01 1.05020237e-01\n",
            " 1.04285874e-01 1.03564937e-01 1.02856730e-01 1.02160549e-01\n",
            " 1.01475737e-01 1.00801525e-01 1.00137250e-01 9.94822645e-02\n",
            " 9.88358393e-02 9.81973280e-02 9.75660851e-02 9.69414680e-02\n",
            " 9.63228635e-02 9.57096293e-02 9.51011916e-02 9.44969510e-02\n",
            " 9.38963237e-02 9.32988371e-02 9.27038627e-02 9.21109133e-02\n",
            " 9.15195598e-02 9.09292258e-02 9.03394768e-02 8.97498675e-02\n",
            " 8.91599734e-02 8.85693952e-02 8.79777172e-02 8.73846152e-02\n",
            " 8.67897101e-02 8.61926411e-02 8.55931291e-02 8.49908955e-02\n",
            " 8.43856353e-02 8.37771185e-02 8.31650939e-02 8.25493396e-02\n",
            " 8.19297023e-02 8.13059725e-02 8.06779933e-02 8.00456780e-02\n",
            " 7.94088426e-02 7.87674655e-02 7.81214155e-02 7.74706926e-02\n",
            " 7.68152479e-02 7.61550152e-02 7.54900801e-02 7.48203981e-02\n",
            " 7.41460745e-02 7.34671342e-02 7.27836621e-02 7.20957698e-02\n",
            " 7.14035521e-02 7.07071655e-02 7.00067360e-02 6.93024237e-02\n",
            " 6.85944352e-02 6.78829486e-02 6.71681723e-02 6.64503112e-02\n",
            " 6.57296062e-02 6.50063015e-02 6.42806405e-02 6.35528987e-02\n",
            " 6.28233402e-02 6.20922182e-02 6.13598657e-02 6.06265157e-02\n",
            " 5.98925022e-02 5.91581105e-02 5.84236653e-02 5.76894448e-02\n",
            " 5.69557610e-02 5.62229152e-02 5.54912267e-02 5.47609965e-02\n",
            " 5.40325359e-02 5.33061262e-02 5.25820931e-02 5.18607022e-02\n",
            " 5.11422503e-02 5.04270313e-02 4.97153136e-02 4.90073680e-02\n",
            " 4.83034554e-02 4.76038438e-02 4.69087777e-02 4.62184870e-02\n",
            " 4.55332154e-02 4.48531855e-02 4.41786088e-02 4.35096754e-02\n",
            " 4.28466037e-02 4.21895575e-02 4.15387232e-02 4.08942600e-02\n",
            " 4.02563249e-02 3.96250532e-02 3.90005939e-02 3.83830580e-02\n",
            " 3.77725676e-02 3.71692205e-02 3.65731209e-02 3.59843514e-02\n",
            " 3.54029747e-02 3.48290738e-02 3.42626982e-02 3.37039016e-02\n",
            " 3.31527191e-02 3.26091868e-02 3.20733243e-02 3.15451542e-02\n",
            " 3.10246769e-02 3.05119021e-02 3.00068205e-02 2.95094188e-02\n",
            " 2.90196838e-02 2.85375864e-02 2.80631044e-02 2.75961992e-02\n",
            " 2.71368233e-02 2.66849368e-02 2.62404947e-02 2.58034352e-02\n",
            " 2.53736970e-02 2.49512280e-02 2.45359617e-02 2.41278236e-02\n",
            " 2.37267497e-02 2.33326556e-02 2.29454676e-02 2.25651146e-02\n",
            " 2.21915038e-02 2.18245608e-02 2.14641956e-02 2.11103194e-02\n",
            " 2.07628535e-02 2.04217075e-02 2.00867761e-02 1.97579922e-02\n",
            " 1.94352473e-02 1.91184603e-02 1.88075345e-02 1.85023743e-02\n",
            " 1.82028924e-02 1.79089997e-02 1.76205924e-02 1.73375874e-02\n",
            " 1.70598910e-02 1.67874141e-02 1.65200603e-02 1.62577442e-02\n",
            " 1.60003737e-02 1.57478601e-02 1.55001163e-02 1.52570574e-02\n",
            " 1.50185890e-02 1.47846317e-02 1.45551027e-02 1.43299111e-02\n",
            " 1.41089812e-02 1.38922272e-02 1.36795684e-02 1.34709306e-02\n",
            " 1.32662250e-02 1.30653892e-02 1.28683333e-02 1.26749909e-02\n",
            " 1.24852849e-02 1.22991432e-02 1.21164945e-02 1.19372736e-02\n",
            " 1.17613989e-02 1.15888167e-02 1.14194527e-02 1.12532450e-02\n",
            " 1.10901262e-02 1.09300375e-02 1.07729111e-02 1.06186911e-02\n",
            " 1.04673175e-02 1.03187309e-02 1.01728751e-02 1.00296932e-02\n",
            " 9.88912859e-03 9.75113133e-03 9.61564414e-03 9.48261861e-03\n",
            " 9.35200434e-03 9.22374713e-03 9.09780295e-03 8.97412431e-03\n",
            " 8.85265921e-03 8.73336954e-03 8.61620448e-03 8.50112231e-03\n",
            " 8.38808172e-03 8.27703629e-03 8.16794851e-03 8.06078177e-03\n",
            " 7.95548766e-03 7.85203811e-03 7.75038528e-03 7.65049865e-03\n",
            " 7.55234074e-03 7.45587704e-03 7.36107198e-03 7.26789308e-03\n",
            " 7.17630471e-03 7.08627585e-03 6.99777982e-03 6.91077671e-03\n",
            " 6.82524324e-03 6.74114661e-03 6.65846111e-03 6.57715402e-03\n",
            " 6.49720006e-03 6.41857384e-03 6.34124573e-03 6.26519409e-03\n",
            " 6.19038801e-03 6.11680664e-03 6.04442526e-03 5.97321854e-03\n",
            " 5.90316731e-03 5.83424479e-03 5.76643157e-03 5.69970182e-03\n",
            " 5.63403962e-03 5.56942296e-03 5.50582913e-03 5.44324042e-03\n",
            " 5.38163801e-03 5.32099856e-03 5.26131030e-03 5.20254907e-03\n",
            " 5.14470068e-03 5.08774727e-03 5.03167083e-03 4.97645495e-03\n",
            " 4.92208346e-03 4.86853993e-03 4.81581265e-03 4.76388063e-03\n",
            " 4.71273251e-03 4.66235319e-03 4.61272638e-03 4.56384097e-03\n",
            " 4.51568164e-03 4.46823584e-03 4.42148908e-03 4.37542982e-03\n",
            " 4.33004536e-03 4.28532354e-03 4.24125265e-03 4.19781999e-03\n",
            " 4.15501314e-03 4.11282263e-03 4.07123807e-03 4.03024472e-03\n",
            " 3.98983794e-03 3.95000202e-03 3.91072921e-03 3.87200998e-03\n",
            " 3.83383385e-03 3.79618986e-03 3.75907145e-03 3.72246860e-03\n",
            " 3.68637051e-03 3.65077013e-03 3.61565964e-03 3.58102808e-03\n",
            " 3.54686912e-03 3.51317169e-03 3.47993269e-03 3.44714161e-03\n",
            " 3.41479182e-03 3.38287413e-03 3.35138257e-03 3.32030869e-03\n",
            " 3.28964836e-03 3.25939113e-03 3.22953305e-03 3.20006622e-03\n",
            " 3.17098336e-03 3.14227957e-03 3.11394733e-03 3.08598252e-03\n",
            " 3.05837708e-03 3.03112570e-03 3.00422379e-03 2.97766469e-03\n",
            " 2.95144260e-03 2.92555232e-03 2.89998898e-03 2.87474616e-03\n",
            " 2.84982087e-03 2.82520607e-03 2.80089715e-03 2.77688921e-03\n",
            " 2.75317882e-03 2.72976070e-03 2.70662901e-03 2.68378097e-03\n",
            " 2.66121092e-03 2.63891490e-03 2.61688763e-03 2.59512796e-03\n",
            " 2.57363065e-03 2.55238836e-03 2.53140121e-03 2.51066362e-03\n",
            " 2.49017150e-03 2.46992129e-03 2.44991075e-03 2.43013524e-03\n",
            " 2.41059019e-03 2.39127399e-03 2.37218165e-03 2.35331111e-03\n",
            " 2.33465937e-03 2.31622080e-03 2.29799341e-03 2.27997629e-03\n",
            " 2.26216344e-03 2.24455275e-03 2.22714217e-03 2.20992797e-03\n",
            " 2.19290745e-03 2.17607762e-03 2.15943489e-03 2.14297893e-03\n",
            " 2.12670634e-03 2.11061240e-03 2.09469583e-03 2.07895598e-03\n",
            " 2.06338725e-03 2.04798849e-03 2.03275887e-03 2.01769342e-03\n",
            " 2.00279118e-03 1.98805136e-03 1.97346755e-03 1.95904173e-03\n",
            " 1.94476889e-03 1.93064895e-03 1.91667838e-03 1.90285677e-03\n",
            " 1.88918119e-03 1.87564892e-03 1.86225775e-03 1.84900738e-03\n",
            " 1.83589578e-03 1.82291964e-03 1.81007717e-03 1.79736811e-03\n",
            " 1.78479018e-03 1.77234234e-03 1.76002046e-03 1.74782416e-03\n",
            " 1.73575309e-03 1.72380367e-03 1.71197519e-03 1.70026504e-03\n",
            " 1.68867271e-03 1.67719748e-03 1.66583638e-03 1.65458882e-03\n",
            " 1.64345283e-03 1.63242663e-03 1.62151000e-03 1.61069997e-03\n",
            " 1.59999618e-03 1.58939748e-03 1.57890169e-03 1.56850812e-03\n",
            " 1.55821522e-03 1.54802215e-03 1.53792763e-03 1.52792893e-03\n",
            " 1.51802748e-03 1.50821922e-03 1.49850570e-03 1.48888330e-03\n",
            " 1.47935299e-03 1.46991211e-03 1.46056016e-03 1.45129668e-03\n",
            " 1.44211929e-03 1.43302732e-03 1.42402040e-03 1.41509723e-03\n",
            " 1.40625638e-03 1.39749705e-03 1.38881828e-03 1.38021929e-03\n",
            " 1.37169970e-03 1.36325739e-03 1.35489157e-03 1.34660265e-03\n",
            " 1.33838774e-03 1.33024707e-03 1.32218040e-03 1.31418537e-03\n",
            " 1.30626216e-03 1.29840952e-03 1.29062674e-03 1.28291306e-03\n",
            " 1.27526823e-03 1.26769014e-03 1.26017927e-03 1.25273403e-03\n",
            " 1.24535418e-03 1.23803801e-03 1.23078607e-03 1.22359755e-03\n",
            " 1.21647070e-03 1.20940552e-03 1.20240200e-03 1.19545750e-03\n",
            " 1.18857349e-03 1.18174757e-03 1.17497994e-03 1.16827029e-03\n",
            " 1.16161674e-03 1.15502059e-03 1.14847870e-03 1.14199278e-03\n",
            " 1.13556083e-03 1.12918290e-03 1.12285827e-03 1.11658528e-03\n",
            " 1.11036575e-03 1.10419715e-03 1.09807954e-03 1.09201243e-03\n",
            " 1.08599478e-03 1.08002654e-03 1.07410689e-03 1.06823601e-03\n",
            " 1.06241247e-03 1.05663617e-03 1.05090679e-03 1.04522355e-03\n",
            " 1.03958631e-03 1.03399375e-03 1.02844609e-03 1.02294363e-03\n",
            " 1.01748420e-03 1.01206753e-03 1.00669482e-03 1.00136409e-03\n",
            " 9.96075363e-04 9.90828673e-04 9.85623123e-04 9.80457886e-04\n",
            " 9.75333320e-04 9.70248182e-04 9.65202883e-04 9.60196813e-04\n",
            " 9.55229180e-04 9.50299838e-04 9.45408977e-04 9.40555214e-04\n",
            " 9.35738904e-04 9.30958624e-04 9.26215183e-04 9.21508149e-04\n",
            " 9.16836022e-04 9.12199794e-04 9.07598452e-04 9.03031601e-04\n",
            " 8.98499504e-04 8.94000863e-04 8.89535948e-04 8.85104455e-04\n",
            " 8.80705655e-04 8.76339288e-04 8.72005394e-04 8.67703838e-04\n",
            " 8.63434045e-04 8.59195309e-04 8.54987382e-04 8.50810900e-04\n",
            " 8.46664217e-04 8.42547985e-04 8.38461606e-04 8.34404764e-04\n",
            " 8.30377334e-04 8.26379052e-04 8.22409674e-04 8.18468602e-04\n",
            " 8.14555720e-04 8.10670751e-04 8.06813430e-04 8.02983729e-04\n",
            " 7.99181014e-04 7.95405365e-04 7.91656225e-04 7.87933810e-04\n",
            " 7.84236856e-04 7.80566555e-04 7.76921891e-04 7.73302127e-04\n",
            " 7.69707925e-04 7.66139012e-04 7.62594293e-04 7.59074701e-04\n",
            " 7.55579081e-04 7.52107398e-04 7.48659744e-04 7.45235572e-04\n",
            " 7.41835245e-04 7.38457877e-04 7.35103391e-04 7.31771635e-04\n",
            " 7.28462575e-04 7.25176171e-04 7.21911782e-04 7.18669469e-04\n",
            " 7.15448454e-04 7.12249638e-04 7.09071876e-04 7.05915785e-04\n",
            " 7.02780427e-04 6.99665835e-04 6.96571944e-04 6.93498582e-04\n",
            " 6.90445404e-04 6.87412679e-04 6.84399542e-04 6.81406392e-04\n",
            " 6.78432898e-04 6.75478889e-04 6.72544081e-04 6.69628232e-04\n",
            " 6.66731516e-04 6.63853046e-04 6.60993588e-04 6.58152483e-04\n",
            " 6.55329955e-04 6.52525492e-04 6.49738818e-04 6.46969683e-04\n",
            " 6.44218678e-04 6.41485221e-04 6.38768960e-04 6.36069704e-04\n",
            " 6.33387950e-04 6.30723323e-04 6.28074822e-04 6.25443447e-04\n",
            " 6.22828423e-04 6.20229992e-04 6.17647671e-04 6.15081494e-04\n",
            " 6.12531190e-04 6.09996854e-04 6.07478233e-04 6.04974978e-04\n",
            " 6.02487932e-04 6.00015260e-04 5.97558265e-04 5.95116406e-04\n",
            " 5.92689386e-04 5.90277072e-04 5.87879814e-04 5.85496663e-04\n",
            " 5.83128738e-04 5.80774197e-04 5.78434827e-04 5.76109059e-04\n",
            " 5.73797531e-04 5.71499843e-04 5.69215938e-04 5.66945699e-04\n",
            " 5.64688889e-04 5.62445794e-04 5.60216015e-04 5.57999590e-04\n",
            " 5.55796290e-04 5.53605767e-04 5.51428405e-04 5.49263866e-04\n",
            " 5.47111997e-04 5.44972938e-04 5.42846228e-04 5.40732095e-04\n",
            " 5.38630138e-04 5.36540510e-04 5.34463299e-04 5.32398003e-04\n",
            " 5.30344659e-04 5.28303248e-04 5.26273623e-04 5.24255465e-04\n",
            " 5.22248947e-04 5.20253973e-04 5.18270570e-04 5.16298697e-04\n",
            " 5.14337639e-04 5.12388092e-04 5.10449606e-04 5.08521965e-04\n",
            " 5.06605340e-04 5.04699543e-04 5.02804295e-04 5.00919800e-04\n",
            " 4.99046184e-04 4.97182866e-04 4.95330055e-04 4.93487524e-04\n",
            " 4.91655371e-04 4.89833267e-04 4.88021399e-04 4.86219708e-04\n",
            " 4.84427749e-04 4.82645990e-04 4.80873740e-04 4.79111549e-04\n",
            " 4.77358784e-04 4.75615752e-04 4.73882514e-04 4.72158599e-04\n",
            " 4.70443837e-04 4.68738529e-04 4.67042681e-04 4.65355891e-04\n",
            " 4.63678144e-04 4.62009808e-04 4.60350079e-04 4.58699426e-04\n",
            " 4.57057991e-04 4.55425187e-04 4.53800960e-04 4.52185660e-04\n",
            " 4.50578810e-04 4.48980509e-04 4.47390710e-04 4.45809521e-04\n",
            " 4.44236559e-04 4.42671973e-04 4.41115487e-04 4.39567486e-04\n",
            " 4.38027527e-04 4.36495788e-04 4.34971994e-04 4.33455973e-04\n",
            " 4.31948071e-04 4.30448089e-04 4.28955867e-04 4.27471344e-04\n",
            " 4.25994856e-04 4.24525595e-04 4.23064046e-04 4.21610194e-04\n",
            " 4.20163618e-04 4.18724830e-04 4.17293137e-04 4.15868680e-04\n",
            " 4.14451810e-04 4.13042167e-04 4.11639554e-04 4.10244294e-04\n",
            " 4.08855838e-04 4.07474745e-04 4.06100216e-04 4.04733012e-04\n",
            " 4.03372679e-04 4.02018942e-04 4.00672385e-04 3.99332523e-04\n",
            " 3.97999452e-04 3.96672653e-04 3.95352856e-04 3.94039377e-04\n",
            " 3.92732523e-04 3.91432296e-04 3.90138705e-04 3.88851084e-04\n",
            " 3.87570110e-04 3.86295583e-04 3.85027066e-04 3.83764902e-04\n",
            " 3.82509006e-04 3.81259196e-04 3.80015497e-04 3.78777944e-04\n",
            " 3.77546321e-04 3.76320994e-04 3.75101126e-04 3.73887658e-04\n",
            " 3.72679676e-04 3.71477778e-04 3.70281753e-04 3.69091543e-04\n",
            " 3.67906872e-04 3.66728050e-04 3.65554750e-04 3.64387256e-04\n",
            " 3.63225275e-04 3.62068643e-04 3.60917765e-04 3.59772391e-04\n",
            " 3.58632329e-04 3.57497788e-04 3.56368719e-04 3.55244709e-04\n",
            " 3.54126323e-04 3.53013049e-04 3.51904993e-04 3.50802199e-04\n",
            " 3.49704620e-04 3.48612036e-04 3.47524842e-04 3.46442547e-04\n",
            " 3.45365215e-04 3.44293001e-04 3.43225752e-04 3.42163757e-04\n",
            " 3.41106288e-04 3.40053996e-04 3.39006411e-04 3.37963744e-04\n",
            " 3.36925695e-04 3.35892569e-04 3.34864213e-04 3.33840563e-04\n",
            " 3.32821452e-04 3.31807334e-04 3.30797540e-04 3.29792390e-04\n",
            " 3.28791956e-04 3.27796062e-04 3.26804533e-04 3.25817901e-04\n",
            " 3.24835187e-04 3.23857205e-04 3.22883538e-04 3.21914189e-04\n",
            " 3.20949200e-04 3.19988688e-04 3.19032602e-04 3.18080397e-04\n",
            " 3.17132870e-04 3.16189479e-04 3.15250091e-04 3.14315016e-04\n",
            " 3.13384093e-04 3.12457230e-04 3.11534591e-04 3.10615932e-04\n",
            " 3.09701331e-04 3.08790712e-04 3.07884252e-04 3.06981627e-04\n",
            " 3.06083146e-04 3.05188602e-04 3.04297724e-04 3.03410807e-04\n",
            " 3.02527934e-04 3.01648774e-04 3.00773435e-04 2.99902074e-04\n",
            " 2.99034264e-04 2.98170373e-04 2.97310125e-04 2.96453533e-04\n",
            " 2.95600610e-04 2.94751452e-04 2.93906070e-04 2.93064251e-04\n",
            " 2.92226092e-04 2.91391285e-04 2.90560301e-04 2.89732620e-04\n",
            " 2.88908699e-04 2.88088036e-04 2.87271170e-04 2.86457403e-04\n",
            " 2.85647414e-04 2.84840607e-04 2.84037486e-04 2.83237381e-04\n",
            " 2.82441001e-04 2.81647805e-04 2.80858072e-04 2.80071465e-04\n",
            " 2.79288223e-04 2.78508307e-04 2.77731530e-04 2.76957992e-04\n",
            " 2.76187831e-04 2.75420770e-04 2.74656911e-04 2.73896209e-04\n",
            " 2.73138693e-04 2.72384312e-04 2.71633101e-04 2.70884757e-04\n",
            " 2.70139771e-04 2.69397657e-04 2.68658711e-04 2.67922598e-04\n",
            " 2.67189744e-04 2.66459752e-04 2.65732851e-04 2.65008640e-04\n",
            " 2.64287725e-04 2.63569591e-04 2.62854180e-04 2.62141986e-04\n",
            " 2.61432655e-04 2.60726193e-04 2.60022324e-04 2.59321619e-04\n",
            " 2.58623425e-04 2.57928169e-04 2.57235807e-04 2.56545963e-04\n",
            " 2.55859122e-04 2.55174968e-04 2.54493502e-04 2.53814921e-04\n",
            " 2.53138963e-04 2.52465630e-04 2.51794890e-04 2.51126823e-04\n",
            " 2.50461784e-04 2.49798979e-04 2.49138934e-04 2.48481306e-04\n",
            " 2.47826460e-04 2.47174103e-04 2.46524423e-04 2.45877343e-04\n",
            " 2.45232611e-04 2.44590487e-04 2.43950707e-04 2.43313631e-04\n",
            " 2.42679108e-04 2.42046823e-04 2.41417242e-04 2.40789828e-04\n",
            " 2.40165094e-04 2.39542707e-04 2.38922525e-04 2.38304962e-04\n",
            " 2.37689864e-04 2.37076982e-04 2.36466422e-04 2.35858249e-04\n",
            " 2.35252452e-04 2.34648954e-04 2.34047603e-04 2.33448805e-04\n",
            " 2.32852152e-04 2.32257700e-04 2.31665590e-04 2.31075780e-04\n",
            " 2.30488229e-04 2.29902924e-04 2.29319712e-04 2.28738851e-04\n",
            " 2.28159998e-04 2.27583424e-04 2.27009038e-04 2.26436894e-04\n",
            " 2.25866823e-04 2.25298757e-04 2.24733047e-04 2.24169415e-04\n",
            " 2.23607758e-04 2.23048191e-04 2.22490895e-04 2.21935534e-04\n",
            " 2.21382170e-04 2.20831044e-04 2.20281899e-04 2.19734729e-04\n",
            " 2.19189732e-04 2.18646508e-04 2.18105457e-04 2.17566372e-04\n",
            " 2.17029146e-04 2.16494103e-04 2.15961047e-04 2.15429814e-04\n",
            " 2.14900557e-04 2.14373151e-04 2.13847687e-04 2.13324271e-04\n",
            " 2.12802716e-04 2.12282967e-04 2.11765122e-04 2.11249315e-04\n",
            " 2.10735293e-04 2.10223019e-04 2.09712745e-04 2.09204251e-04\n",
            " 2.08697558e-04 2.08192837e-04 2.07689736e-04 2.07188561e-04\n",
            " 2.06689318e-04 2.06191682e-04 2.05695705e-04 2.05201829e-04\n",
            " 2.04709523e-04 2.04219075e-04 2.03730144e-04 2.03243155e-04\n",
            " 2.02757896e-04 2.02274463e-04 2.01792464e-04 2.01312355e-04\n",
            " 2.00833830e-04 2.00357040e-04 1.99881983e-04 1.99408614e-04\n",
            " 1.98936786e-04 1.98466769e-04 1.97998308e-04 1.97531557e-04]\n"
          ]
        }
      ]
    },
    {
      "cell_type": "code",
      "source": [
        "plot_learning_curve_with_standard_error(mean_losses, std_err_losses, 'Learning Curve with SE for Single Task Reinforcement Learning')"
      ],
      "metadata": {
        "colab": {
          "base_uri": "https://localhost:8080/",
          "height": 564
        },
        "id": "vD-y5TFIpixf",
        "outputId": "8dd99e97-3ea4-48fb-e924-93715eaa23d8"
      },
      "execution_count": null,
      "outputs": [
        {
          "output_type": "display_data",
          "data": {
            "text/plain": [
              "<Figure size 1000x600 with 1 Axes>"
            ],
            "image/png": "[encoded data removed]"
          },
          "metadata": {}
        }
      ]
    }
  ],
  "metadata": {
    "accelerator": "GPU",
    "colab": {
      "gpuType": "T4",
      "provenance": []
    },
    "kernelspec": {
      "display_name": "Python 3",
      "name": "python3"
    },
    "language_info": {
      "name": "python"
    }
  },
  "nbformat": 4,
  "nbformat_minor": 0
}