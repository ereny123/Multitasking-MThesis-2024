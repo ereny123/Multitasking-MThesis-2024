{
  "nbformat": 4,
  "nbformat_minor": 0,
  "metadata": {
    "colab": {
      "provenance": [],
      "gpuType": "T4",
      "include_colab_link": true
    },
    "kernelspec": {
      "name": "python3",
      "display_name": "Python 3"
    },
    "language_info": {
      "name": "python"
    },
    "accelerator": "GPU"
  },
  "cells": [
    {
      "cell_type": "markdown",
      "metadata": {
        "id": "view-in-github",
        "colab_type": "text"
      },
      "source": [
        "<a href=\"https://colab.research.google.com/github/ereny123/Multitasking-MThesis-2024/blob/main/Pytorch_NET_Multitasking.ipynb\" target=\"_parent\"><img src=\"https://colab.research.google.com/assets/colab-badge.svg\" alt=\"Open In Colab\"/></a>"
      ]
    },
    {
      "cell_type": "code",
      "source": [
        "import torch\n",
        "import torch.nn as nn\n",
        "import torch.nn.functional as F"
      ],
      "metadata": {
        "id": "vEze7K4r8bU1"
      },
      "execution_count": null,
      "outputs": []
    },
    {
      "cell_type": "code",
      "source": [
        "#create a model class\n",
        "class Model(nn.Module):\n",
        "  #Input (Tasks) random array of 9 units\n",
        "  def __init__(self, in_tasks=9, h1= 100, output=9):\n",
        "    super().__init__()\n",
        "    self.fc1=nn.Linear(in_tasks, h1)\n",
        "    self.fc2=nn.Linear(h1, output)\n",
        "\n",
        "  def forward(self, x):\n",
        "    x= F.leaky_relu(self.fc1(x))\n",
        "    x=self.out(x)\n",
        "\n",
        "    return x\n",
        "\n",
        "\n"
      ],
      "metadata": {
        "id": "Eo6cAkSZm1pN"
      },
      "execution_count": null,
      "outputs": []
    },
    {
      "cell_type": "code",
      "source": [
        "#Pick a manual seed for randomization for the input values\n",
        "torch.manual_seed(1729)\n",
        "#tasks= torch.rand(1,9)\n",
        "#tasks\n",
        "\n",
        "\n",
        "#create an instance for Model\n",
        "model = Model()\n"
      ],
      "metadata": {
        "id": "07chQ-FGKb-D"
      },
      "execution_count": null,
      "outputs": []
    }
  ]
}