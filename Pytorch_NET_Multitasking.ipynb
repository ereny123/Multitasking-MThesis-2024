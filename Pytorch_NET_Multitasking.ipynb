{
  "cells": [
    {
      "cell_type": "markdown",
      "metadata": {
        "id": "view-in-github",
        "colab_type": "text"
      },
      "source": [
        "<a href=\"https://colab.research.google.com/github/ereny123/Multitasking-MThesis-2024/blob/main/Pytorch_NET_Multitasking.ipynb\" target=\"_parent\"><img src=\"https://colab.research.google.com/assets/colab-badge.svg\" alt=\"Open In Colab\"/></a>"
      ]
    },
    {
      "cell_type": "code",
      "execution_count": null,
      "metadata": {
        "id": "vEze7K4r8bU1"
      },
      "outputs": [],
      "source": [
        "import torch\n",
        "import torch.nn as nn\n",
        "import torch.nn.functional as F\n",
        "import numpy"
      ]
    },
    {
      "cell_type": "code",
      "execution_count": null,
      "metadata": {
        "id": "Eo6cAkSZm1pN"
      },
      "outputs": [],
      "source": [
        "#create a model class\n",
        "class Model(nn.Module):\n",
        "  #Input (Tasks) random array of 9 units\n",
        "  def __init__(self, in_tasks=9, in_stim=3, hidden= 100, output=9, bias_weight=-2):\n",
        "    super().__init__()\n",
        "\n",
        "    #Set Parameters\n",
        "    self.bias_weight = bias_weight   # default bias weight\n",
        "\n",
        "    self.task_hidden=nn.Linear(in_tasks, hidden)    #input layer(tasks) --> hidden layer\n",
        "    self.stim_hidden=nn.Linear(in_stim, hidden)     #input layer(stimuls) --> hidden layer\n",
        "    self.task_out=nn.Linear(in_tasks, output)       #Input Layer(tasks) --> output layer\n",
        "    self.hidden_out=nn.Linear(hidden, output)       #hidden layer --> output layer\n",
        "\n",
        "    self.task_hidden.weight=nn.Parameter(torch.FloatTensor(hidden, in_tasks).uniform_(-0.1, 0.1))   #input(tasks)-->hidden  weight\n",
        "    self.task_out.weight=nn.Parameter(torch.FloatTensor(output, in_tasks).uniform_(-0.1, 0.1))      #input(task) --> output weight\n",
        "    self.stim_hidden.weight=nn.Parameter(torch.FloatTensor(hidden, in_stim).uniform_(-0.1, 0.1))    #input(stimulus) -->hidden weight\n",
        "    self.hidden_out.weight=nn.Parameter(torch.FloatTensor(output, hidden).uniform_(-0.1, 0.1))      #hidden-->output  weight\n",
        "\n",
        "    self.task_hidden.bias=nn.Parameter(torch.ones(hidden) * bias_weight)                         #hidden layer bias\n",
        "    self.hidden_out.bias=nn.Parameter(torch.ones(output) * bias_weight)                    #output layer bias\n",
        "\n",
        "  def forward(self, taskData, stimulusData):\n",
        "    h_act=torch.sigmoid(self.task_hidden(taskData)+self.stim_hidden(stimulusData))   #hidden layer activation\n",
        "    out_act= torch.sigmoid(self.hidden_out(h_act))   #output layer activation\n",
        "\n",
        "    return h_act, out_act\n",
        "\n",
        "\n"
      ]
    },
    {
      "cell_type": "code",
      "execution_count": null,
      "metadata": {
        "colab": {
          "base_uri": "https://localhost:8080/"
        },
        "id": "07chQ-FGKb-D",
        "outputId": "45fed6fc-40a0-48d6-c148-db775b1e1749"
      },
      "outputs": [
        {
          "output_type": "stream",
          "name": "stdout",
          "text": [
            "Model(\n",
            "  (task_hidden): Linear(in_features=9, out_features=100, bias=True)\n",
            "  (stim_hidden): Linear(in_features=3, out_features=100, bias=True)\n",
            "  (task_out): Linear(in_features=9, out_features=9, bias=True)\n",
            "  (hidden_out): Linear(in_features=100, out_features=9, bias=True)\n",
            ")\n"
          ]
        }
      ],
      "source": [
        "#create an instance for Model\n",
        "model = Model()\n",
        "print(model)\n"
      ]
    },
    {
      "cell_type": "code",
      "execution_count": null,
      "metadata": {
        "id": "rML6CIvDCqW4",
        "colab": {
          "base_uri": "https://localhost:8080/"
        },
        "outputId": "0cc61621-4d10-48f8-e423-24d316073edf"
      },
      "outputs": [
        {
          "output_type": "stream",
          "name": "stdout",
          "text": [
            "tensor([[0.7590, 0.7293, 0.1906, 0.8723, 0.2060, 0.3310, 0.6429, 0.4788, 0.7661]])\n",
            "tensor([0., 1., 1.])\n"
          ]
        }
      ],
      "source": [
        "#Pick a manual seed for randomization for the input values\n",
        "torch.manual_seed(3407)\n",
        "taskData= torch.rand(1,9)\n",
        "print(taskData)\n",
        "\n",
        "\n",
        "Z=numpy.array([0,1,1])\n",
        "stimulusData= torch.from_numpy(Z)\n",
        "stimulusData=stimulusData.to(torch.float32)\n",
        "print(stimulusData)"
      ]
    },
    {
      "cell_type": "code",
      "source": [
        "model(taskData, stimulusData)"
      ],
      "metadata": {
        "id": "XeNRNLqDU36X",
        "outputId": "edabff34-8c38-446b-dfa2-b89a4d75ed97",
        "colab": {
          "base_uri": "https://localhost:8080/"
        }
      },
      "execution_count": null,
      "outputs": [
        {
          "output_type": "execute_result",
          "data": {
            "text/plain": [
              "(tensor([[0.0862, 0.1171, 0.1410, 0.0861, 0.1399, 0.0840, 0.1265, 0.1155, 0.0744,\n",
              "          0.1049, 0.0920, 0.1608, 0.0778, 0.1422, 0.1325, 0.1381, 0.1612, 0.0836,\n",
              "          0.0922, 0.1392, 0.0937, 0.1945, 0.1774, 0.1130, 0.0858, 0.1488, 0.0832,\n",
              "          0.1408, 0.1556, 0.2220, 0.2072, 0.1163, 0.1546, 0.1869, 0.0735, 0.1517,\n",
              "          0.0713, 0.1284, 0.1302, 0.1837, 0.1523, 0.1527, 0.1731, 0.2174, 0.1928,\n",
              "          0.1123, 0.0881, 0.1725, 0.1515, 0.1420, 0.1778, 0.1449, 0.1657, 0.1012,\n",
              "          0.1389, 0.1400, 0.1711, 0.0962, 0.0926, 0.2070, 0.0760, 0.0729, 0.2068,\n",
              "          0.1004, 0.0818, 0.0680, 0.0786, 0.1785, 0.0892, 0.1838, 0.1858, 0.1832,\n",
              "          0.1124, 0.0827, 0.1746, 0.1080, 0.1195, 0.1474, 0.1403, 0.1043, 0.0967,\n",
              "          0.0867, 0.1629, 0.1483, 0.1052, 0.1209, 0.1014, 0.1569, 0.0879, 0.1065,\n",
              "          0.1387, 0.0656, 0.0992, 0.1274, 0.0926, 0.1468, 0.0850, 0.1088, 0.1111,\n",
              "          0.0668]], grad_fn=<SigmoidBackward0>),\n",
              " tensor([[0.1385, 0.1203, 0.1115, 0.1158, 0.1252, 0.1250, 0.1219, 0.1263, 0.1180]],\n",
              "        grad_fn=<SigmoidBackward0>))"
            ]
          },
          "metadata": {},
          "execution_count": 20
        }
      ]
    }
  ],
  "metadata": {
    "accelerator": "GPU",
    "colab": {
      "gpuType": "T4",
      "provenance": [],
      "include_colab_link": true
    },
    "kernelspec": {
      "display_name": "Python 3",
      "name": "python3"
    },
    "language_info": {
      "name": "python"
    }
  },
  "nbformat": 4,
  "nbformat_minor": 0
}