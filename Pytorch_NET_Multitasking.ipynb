{
  "cells": [
    {
      "cell_type": "markdown",
      "metadata": {
        "id": "view-in-github",
        "colab_type": "text"
      },
      "source": [
        "<a href=\"https://colab.research.google.com/github/ereny123/Multitasking-MThesis-2024/blob/main/Pytorch_NET_Multitasking.ipynb\" target=\"_parent\"><img src=\"https://colab.research.google.com/assets/colab-badge.svg\" alt=\"Open In Colab\"/></a>"
      ]
    },
    {
      "cell_type": "code",
      "execution_count": null,
      "metadata": {
        "id": "vEze7K4r8bU1"
      },
      "outputs": [],
      "source": [
        "import torch\n",
        "import torch.nn as nn\n",
        "import torch.nn.functional as F\n",
        "import numpy\n",
        "import pandas as pd\n",
        "from tqdm import tqdm\n",
        "import matplotlib.pyplot as plt"
      ]
    },
    {
      "cell_type": "code",
      "execution_count": null,
      "metadata": {
        "id": "Eo6cAkSZm1pN"
      },
      "outputs": [],
      "source": [
        "#create a model class\n",
        "class Model(nn.Module):\n",
        "  #Input (Tasks) random array of 9 units\n",
        "  def __init__(self, in_tasks=9, in_stim=9, hidden= 100, output=9, bias_weight=-2, coeff=0.3, thresh=0.0001):\n",
        "    super().__init__()\n",
        "\n",
        "    #Set Parameters\n",
        "    self.bias_weight = bias_weight   # default bias weight\n",
        "    self.coeff = coeff\n",
        "    self.thresh = thresh\n",
        "\n",
        "    self.task_hidden=nn.Linear(in_tasks, hidden)    #input layer(tasks) --> hidden layer\n",
        "    self.stim_hidden=nn.Linear(in_stim, hidden)     #input layer(stimuls) --> hidden layer\n",
        "    self.task_out=nn.Linear(in_tasks, output)       #Input Layer(tasks) --> output layer\n",
        "    self.hidden_out=nn.Linear(hidden, output)       #hidden layer --> output layer\n",
        "\n",
        "    self.task_hidden.weight=nn.Parameter(torch.FloatTensor(hidden, in_tasks).uniform_(-0.1, 0.1))   #input(tasks)-->hidden  weight\n",
        "    self.task_out.weight=nn.Parameter(torch.FloatTensor(output, in_tasks).uniform_(-0.1, 0.1))      #input(tasks) --> output weight\n",
        "    self.stim_hidden.weight=nn.Parameter(torch.FloatTensor(hidden, in_stim).uniform_(-0.1, 0.1))    #input(stimulus) -->hidden weight\n",
        "    self.hidden_out.weight=nn.Parameter(torch.FloatTensor(output, hidden).uniform_(-0.1, 0.1))      #hidden-->output  weight\n",
        "\n",
        "\n",
        "    # print(\"Task Hidden Weight Shape:\", self.task_hidden.weight)\n",
        "    # print(\"Task Output Weight Shape:\", self.task_out.weight.shape)\n",
        "    # print(\"Stimulus Hidden Weight Shape:\", self.stim_hidden.weight.shape)\n",
        "    # print(\"Hidden Output Weight Shape:\", self.hidden_out.weight.shape)\n",
        "\n",
        "    self.task_hidden.bias=nn.Parameter(torch.ones(hidden) * bias_weight)                   #hidden layer bias\n",
        "    self.hidden_out.bias=nn.Parameter(torch.ones(output) * bias_weight)                    #output layer bias\n",
        "\n",
        "  def forward(self, taskData, stimulusData):\n",
        "    h_act=torch.sigmoid(self.task_hidden(taskData)+self.stim_hidden(stimulusData))   #hidden layer activation\n",
        "    out_act= torch.sigmoid(self.hidden_out(h_act)+self.task_out(taskData))           #output layer activation\n",
        "\n",
        "    # print(\"Shape of hidden_out output:\", self.hidden_out(h_act).shape)\n",
        "    # print(\"Shape of task_out output:\", self.task_out(taskData).shape)\n",
        "\n",
        "    return h_act, out_act\n",
        "\n",
        "  def reset_parameters(self):\n",
        "        for param in self.parameters():\n",
        "            if param.requires_grad:\n",
        "                nn.init.uniform_(param, -0.1, 0.1)\n",
        "\n",
        "\n",
        "\n",
        "#Train Online Method using back propagation\n",
        "def trainOnline(model, iterations, stimulusData, taskData, trainData):\n",
        "     criterion = nn.MSELoss()\n",
        "     optimizer = torch.optim.SGD(model.parameters(), lr=model.coeff)\n",
        "\n",
        "     MSE_log = [0]\n",
        "     MSE_patterns_log = [0]\n",
        "\n",
        "     with tqdm(total=iterations) as pbar:  # Initialize the progress bar\n",
        "        for i in range(iterations):\n",
        "            order = torch.randperm(stimulusData.size(0))\n",
        "            stimulusData = stimulusData[order]\n",
        "            taskData = taskData[order]\n",
        "            trainData = trainData[order]\n",
        "\n",
        "            mse_values = []\n",
        "\n",
        "            for dset in range(stimulusData.size(0)):\n",
        "                optimizer.zero_grad()\n",
        "                h_act, out_act = model(taskData[dset], stimulusData[dset])\n",
        "                loss = criterion(out_act, trainData[dset])\n",
        "                loss.backward()\n",
        "                optimizer.step()\n",
        "                mse_values.append(loss.item())\n",
        "\n",
        "            mean_mse = sum(mse_values) / len(mse_values)\n",
        "            MSE_log.append(mean_mse)\n",
        "            MSE_patterns_log.append(mse_values)\n",
        "\n",
        "            pbar.update(1)  # Update the progress bar\n",
        "\n",
        "            if mean_mse < model.thresh:\n",
        "                break\n",
        "\n",
        "            if i == 0 or i == iterations - 1:  # Print only the first and last MSE error logs\n",
        "                print(f\"Iteration {i}: MSE = {mean_mse}\")\n",
        "                print(\"MSE Patterns:\", MSE_patterns_log[i])\n",
        "\n",
        "     return MSE_log, MSE_patterns_log\n",
        "\n",
        "\n",
        "# Define Advantage Actor-Critic (A2C) training method\n",
        "def a2c_train(model, optimizer, taskData, stimulusData, reward, value_target, entropy_beta=0.01):\n",
        "\n",
        "   # model.train()\n",
        "    optimizer.zero_grad()\n",
        "\n",
        "    _, outputs = model(taskData, stimulusData)\n",
        "    log_probs = torch.log(outputs.squeeze(0))\n",
        "\n",
        "    # Compute advantage\n",
        "    advantage = reward - value_target\n",
        "\n",
        "    # Compute actor loss\n",
        "    actor_loss = -(log_probs * advantage.detach()).mean()\n",
        "\n",
        "    # Compute critic loss (value function loss)\n",
        "    critic_loss = 0.5 * advantage.pow(2).mean()\n",
        "\n",
        "    # Compute total loss\n",
        "    total_loss = actor_loss + critic_loss - entropy_beta * (log_probs * outputs).sum()\n",
        "\n",
        "    total_loss.backward()\n",
        "    optimizer.step()\n",
        "\n",
        "    return total_loss.item(), reward.item(), value_target.item()\n",
        "\n",
        "\n",
        "# Using REINFORCE algorithm\n",
        "def reinforce_train(model, optimizer, taskData, stimulusData, reward):\n",
        "\n",
        "    optimizer.zero_grad()\n",
        "\n",
        "    _, outputs = model(taskData, stimulusData)\n",
        "    log_probs = torch.log(outputs.squeeze(0))\n",
        "\n",
        "    # REINFORCE loss\n",
        "    loss = -log_probs * reward\n",
        "    loss = loss.mean()\n",
        "\n",
        "    loss.backward()\n",
        "    optimizer.step()\n",
        "\n",
        "    return loss.item()\n",
        "\n",
        "\n",
        "\n",
        "# Define the Q-learning algorithm\n",
        "class QLearning:\n",
        "    def __init__(self, model, learning_rate=0.1, gamma=0.9, epsilon=0.1):\n",
        "        self.model = model\n",
        "        self.learning_rate = learning_rate\n",
        "        self.gamma = gamma\n",
        "        self.epsilon = epsilon\n",
        "\n",
        "    def train(self, taskData, stimulusData, target):\n",
        "        # Convert inputs to tensors\n",
        "        #taskData_tensor = torch.tensor(taskData, dtype=torch.float32)\n",
        "        #stimulusData_tensor = torch.tensor(stimulusData, dtype=torch.float32)\n",
        "\n",
        "        #  Get current Q-value\n",
        "        _, current_Q = self.model(taskData, stimulusData)\n",
        "\n",
        "        # Calculate target Q-value\n",
        "        target_tensor = torch.tensor(target, dtype=torch.float32)\n",
        "        target_Q = current_Q.clone()\n",
        "        target_Q[0][target_tensor.argmax()] = target_tensor.max().item()\n",
        "\n",
        "        # Compute loss using mean squared error\n",
        "        loss = nn.MSELoss()(current_Q, target_Q.detach())\n",
        "\n",
        "        # Backpropagation\n",
        "        self.model.zero_grad()\n",
        "        loss.backward()\n",
        "\n",
        "        # Update weights\n",
        "        with torch.no_grad():\n",
        "            for param in self.model.parameters():\n",
        "                param.data -= self.learning_rate * param.grad\n",
        "\n",
        "    def choose_action(self, taskData, stimulusData):\n",
        "        # Convert inputs to tensors\n",
        "        #taskData_tensor = torch.tensor(taskData, dtype=torch.float32)\n",
        "        #stimulusData_tensor = torch.tensor(stimulusData, dtype=torch.float32)\n",
        "\n",
        "        # Forward pass to get Q-values\n",
        "        _, Q_values = self.model(taskData, stimulusData)\n",
        "\n",
        "        # Epsilon-greedy action selection\n",
        "        if numpy.random.rand() < self.epsilon:\n",
        "            action = numpy.random.randint(0, Q_values.shape[1])  # Random action\n",
        "        else:\n",
        "            action = Q_values.argmax().item()  # Greedy action\n",
        "\n",
        "        return action\n",
        "\n",
        "\n",
        "def plot_losses(losses):\n",
        "    plt.plot(losses)\n",
        "    plt.xlabel('Episode')\n",
        "    plt.ylabel('Loss')\n",
        "    plt.title('Training Loss')\n",
        "    plt.show()"
      ]
    },
    {
      "cell_type": "code",
      "execution_count": null,
      "metadata": {
        "colab": {
          "base_uri": "https://localhost:8080/"
        },
        "id": "07chQ-FGKb-D",
        "outputId": "fd8bd175-26ba-48cf-f830-fa1fa7b203bc"
      },
      "outputs": [
        {
          "output_type": "stream",
          "name": "stdout",
          "text": [
            "Model(\n",
            "  (task_hidden): Linear(in_features=9, out_features=100, bias=True)\n",
            "  (stim_hidden): Linear(in_features=9, out_features=100, bias=True)\n",
            "  (task_out): Linear(in_features=9, out_features=9, bias=True)\n",
            "  (hidden_out): Linear(in_features=100, out_features=9, bias=True)\n",
            ")\n"
          ]
        }
      ],
      "source": [
        "#create an instance for Model --> Backpropagation learned Model\n",
        "model= Model()\n",
        "model.reset_parameters\n",
        "print(model)"
      ]
    },
    {
      "cell_type": "code",
      "source": [
        "# Create an empty DataFrame with 3 columns and 9 rows\n",
        "df = pd.DataFrame(index=range(9), columns=['stimulus', 'task', 'output'])"
      ],
      "metadata": {
        "id": "dv-Kr4WLJEFe"
      },
      "execution_count": null,
      "outputs": []
    },
    {
      "cell_type": "code",
      "execution_count": null,
      "metadata": {
        "id": "rML6CIvDCqW4",
        "colab": {
          "base_uri": "https://localhost:8080/"
        },
        "outputId": "a3c2d572-9e0b-484a-8371-ce994b245c91"
      },
      "outputs": [
        {
          "output_type": "stream",
          "name": "stdout",
          "text": [
            "tensor([[0., 1., 1., 0., 1.]])\n",
            "tensor([[0., 1., 1.]])\n",
            "tensor([[0., 1., 0.]])\n"
          ]
        }
      ],
      "source": [
        "#Pick a manual seed for randomization for the input values\n",
        "#torch.manual_seed(3407)\n",
        "#taskData= torch.rand(1,5)\n",
        "t=numpy.array([0,1,1,0,1])\n",
        "taskData= torch.from_numpy(t).unsqueeze(0).to(torch.float32)\n",
        "print(taskData)\n",
        "\n",
        "\n",
        "z=numpy.array([0,1,1])\n",
        "stimulusData= torch.from_numpy(z).unsqueeze(0).to(torch.float32)\n",
        "print(stimulusData)\n",
        "\n",
        "\n",
        "#torch.manual_seed(3407)\n",
        "#trainData = torch.randn(1, 3)\n",
        "\n",
        "y=numpy.array([0,1,0])\n",
        "trainData= torch.from_numpy(y).unsqueeze(0).to(torch.float32)\n",
        "print(trainData)"
      ]
    },
    {
      "cell_type": "code",
      "source": [
        "model(taskData, stimulusData)"
      ],
      "metadata": {
        "id": "XeNRNLqDU36X",
        "outputId": "9a987b7a-99f1-4cdc-ac6d-2a6cbdd3177b",
        "colab": {
          "base_uri": "https://localhost:8080/"
        }
      },
      "execution_count": null,
      "outputs": [
        {
          "output_type": "execute_result",
          "data": {
            "text/plain": [
              "(tensor([[0.0702, 0.1210, 0.1557, 0.1105, 0.1468, 0.0985, 0.1115, 0.1648, 0.1514,\n",
              "          0.1816, 0.0861, 0.2003, 0.1458, 0.1229, 0.1950, 0.0695, 0.0759, 0.1760,\n",
              "          0.0923, 0.1815, 0.1873, 0.0961, 0.1312, 0.1514, 0.0826, 0.0865, 0.1499,\n",
              "          0.1793, 0.1444, 0.1796, 0.1012, 0.1469, 0.0799, 0.0943, 0.1693, 0.1355,\n",
              "          0.1386, 0.0780, 0.0964, 0.0948, 0.1165, 0.1437, 0.0811, 0.1275, 0.0975,\n",
              "          0.1006, 0.1015, 0.0748, 0.1553, 0.1564, 0.0733, 0.0938, 0.1062, 0.1211,\n",
              "          0.1012, 0.1148, 0.0877, 0.1053, 0.1375, 0.1202, 0.1397, 0.1115, 0.1294,\n",
              "          0.1226, 0.1945, 0.1426, 0.1596, 0.0809, 0.0869, 0.0996, 0.1372, 0.1273,\n",
              "          0.1367, 0.1078, 0.1524, 0.0773, 0.1072, 0.0675, 0.1445, 0.1745, 0.1024,\n",
              "          0.0872, 0.0845, 0.1811, 0.1430, 0.1295, 0.0966, 0.1259, 0.0701, 0.1685,\n",
              "          0.0710, 0.1738, 0.0703, 0.1310, 0.1581, 0.0831, 0.0585, 0.1473, 0.1803,\n",
              "          0.0769]], grad_fn=<SigmoidBackward0>),\n",
              " tensor([[0.0968, 0.0688, 0.0829]], grad_fn=<SigmoidBackward0>))"
            ]
          },
          "metadata": {},
          "execution_count": 155
        }
      ]
    },
    {
      "cell_type": "code",
      "source": [
        "print(\"Size of taskData:\", taskData.size())\n",
        "print(\"Size of stimulusData:\", stimulusData.size())\n",
        "print(\"Size of trainData:\", trainData.size())\n"
      ],
      "metadata": {
        "id": "Sfdhn1m9kZql"
      },
      "execution_count": null,
      "outputs": []
    },
    {
      "cell_type": "code",
      "source": [
        "MSE_log, MSE_patterns_log = trainOnline(model, 100, stimulusData, taskData, trainData)\n",
        "\n",
        "#print(\"MSE Log:\", MSE_log)\n",
        "#print(\"MSE Patterns Log:\", MSE_patterns_log)"
      ],
      "metadata": {
        "colab": {
          "base_uri": "https://localhost:8080/"
        },
        "id": "LUcgY_UbM9mn",
        "outputId": "f4566f50-7533-417c-a867-8f60d893dc0c"
      },
      "execution_count": null,
      "outputs": [
        {
          "output_type": "stream",
          "name": "stderr",
          "text": [
            "100%|██████████| 100/100 [00:00<00:00, 1057.35it/s]"
          ]
        },
        {
          "output_type": "stream",
          "name": "stdout",
          "text": [
            "Iteration 0: MSE = 0.29448869824409485\n",
            "MSE Patterns: 0\n",
            "Iteration 99: MSE = 0.0038277904968708754\n",
            "MSE Patterns: [0.003868606174364686]\n"
          ]
        },
        {
          "output_type": "stream",
          "name": "stderr",
          "text": [
            "\n"
          ]
        }
      ]
    },
    {
      "cell_type": "code",
      "source": [
        "plot_losses(MSE_log)"
      ],
      "metadata": {
        "colab": {
          "base_uri": "https://localhost:8080/",
          "height": 472
        },
        "id": "AIv0brpxeiOH",
        "outputId": "c46db1a8-41c6-4d03-c932-9bf382f82954"
      },
      "execution_count": null,
      "outputs": [
        {
          "output_type": "display_data",
          "data": {
            "text/plain": [
              "<Figure size 640x480 with 1 Axes>"
            ],
            "image/png": "[encoded data removed]"
          },
          "metadata": {}
        }
      ]
    },
    {
      "cell_type": "code",
      "source": [
        "#create an instance for Model --> Reinforcement learned Model -A2C\n",
        "model_2 = Model()\n",
        "model_2.reset_parameters\n",
        "print(model_2)\n"
      ],
      "metadata": {
        "id": "ZVhTFxDvzBgs",
        "colab": {
          "base_uri": "https://localhost:8080/"
        },
        "outputId": "7fb3fac0-891d-4571-8e11-202461065ff6"
      },
      "execution_count": null,
      "outputs": [
        {
          "output_type": "stream",
          "name": "stdout",
          "text": [
            "Model(\n",
            "  (task_hidden): Linear(in_features=5, out_features=100, bias=True)\n",
            "  (stim_hidden): Linear(in_features=3, out_features=100, bias=True)\n",
            "  (task_out): Linear(in_features=5, out_features=3, bias=True)\n",
            "  (hidden_out): Linear(in_features=100, out_features=3, bias=True)\n",
            ")\n"
          ]
        }
      ]
    },
    {
      "cell_type": "code",
      "source": [
        "model_2(taskData, stimulusData)"
      ],
      "metadata": {
        "id": "d215OeKfzpOm",
        "colab": {
          "base_uri": "https://localhost:8080/"
        },
        "outputId": "386ddc09-4d5b-4622-d2ec-1fa0669a02bf"
      },
      "execution_count": null,
      "outputs": [
        {
          "output_type": "execute_result",
          "data": {
            "text/plain": [
              "(tensor([[0.1543, 0.1947, 0.1685, 0.1457, 0.0735, 0.0799, 0.0703, 0.1057, 0.1694,\n",
              "          0.1709, 0.1555, 0.0838, 0.0929, 0.1039, 0.1751, 0.1432, 0.1050, 0.0865,\n",
              "          0.0857, 0.0962, 0.1426, 0.1034, 0.0930, 0.0947, 0.1325, 0.1130, 0.1886,\n",
              "          0.1256, 0.0820, 0.1088, 0.1007, 0.1259, 0.1816, 0.1205, 0.1553, 0.0848,\n",
              "          0.1406, 0.1012, 0.1438, 0.1923, 0.1570, 0.0758, 0.1318, 0.1237, 0.1205,\n",
              "          0.0738, 0.1713, 0.1924, 0.1452, 0.1321, 0.0833, 0.1024, 0.0985, 0.1777,\n",
              "          0.1331, 0.1253, 0.0759, 0.0892, 0.1440, 0.0996, 0.1580, 0.0994, 0.0678,\n",
              "          0.1678, 0.0981, 0.1173, 0.1329, 0.2044, 0.2170, 0.0692, 0.0837, 0.0811,\n",
              "          0.1614, 0.1413, 0.1589, 0.1150, 0.2290, 0.1312, 0.1365, 0.0978, 0.1062,\n",
              "          0.1804, 0.0978, 0.1341, 0.1572, 0.1652, 0.0655, 0.1087, 0.2392, 0.0917,\n",
              "          0.1423, 0.0952, 0.1336, 0.0994, 0.1343, 0.1066, 0.0724, 0.1631, 0.0926,\n",
              "          0.0805]], grad_fn=<SigmoidBackward0>),\n",
              " tensor([[0.0808, 0.0935, 0.1052]], grad_fn=<SigmoidBackward0>))"
            ]
          },
          "metadata": {},
          "execution_count": 81
        }
      ]
    },
    {
      "cell_type": "code",
      "source": [
        "# Define optimizer\n",
        "optimizer = torch.optim.Adam(model_2.parameters(), lr=0.001)\n",
        "\n",
        "\n",
        "\n",
        "def train_A2C(num_episodes=100, log_interval=1):\n",
        "    losses=[]\n",
        "    for episode in range(1, num_episodes + 1):\n",
        "        # Generate random task and stimulus data\n",
        "        taskData = torch.rand(1, 5)\n",
        "        stimulusData = torch.tensor([[0, 1, 1]], dtype=torch.float32)\n",
        "\n",
        "        # Generate random training data\n",
        "        trainData = torch.randn(1, 3)\n",
        "\n",
        "        # Forward pass through model\n",
        "        _, outputs = model_2(taskData, stimulusData)\n",
        "\n",
        "        # Define reward\n",
        "        reward = torch.sum(outputs * trainData)\n",
        "\n",
        "        # Compute value estimate\n",
        "        value_target = torch.mean(outputs * trainData)\n",
        "\n",
        "        # Train using A2C\n",
        "        loss, reward_val, value_est = a2c_train(model_2, optimizer, taskData, stimulusData, reward, value_target)\n",
        "        losses.append(loss)\n",
        "        # Logging\n",
        "        if episode % log_interval == 0:\n",
        "            print(f\"Episode {episode}/{num_episodes} | Loss: {loss:.2f} | Reward: {reward_val:.2f} | Value Estimate: {value_est:.2f}\")\n",
        "\n",
        "    plot_losses(losses)"
      ],
      "metadata": {
        "id": "GBbOht51TsW0"
      },
      "execution_count": null,
      "outputs": []
    },
    {
      "cell_type": "code",
      "source": [
        "# Train the model\n",
        "train_A2C()\n",
        "\n",
        "# Test the trained model output\n",
        "with torch.no_grad():\n",
        "    taskData = torch.rand(1, 5)\n",
        "    stimulusData = torch.tensor([[0, 1, 1]], dtype=torch.float32)\n",
        "    _, outputs = model_2(taskData, stimulusData)\n",
        "    print(\"Output after training:\", outputs)"
      ],
      "metadata": {
        "colab": {
          "base_uri": "https://localhost:8080/",
          "height": 1000
        },
        "id": "eMT4sBvOnqd7",
        "outputId": "fe5ebbca-69f5-4934-aa47-277979a4c680"
      },
      "execution_count": null,
      "outputs": [
        {
          "output_type": "stream",
          "name": "stdout",
          "text": [
            "Episode 1/100 | Loss: -0.18 | Reward: -0.12 | Value Estimate: -0.04\n",
            "Episode 2/100 | Loss: 0.00 | Reward: -0.00 | Value Estimate: -0.00\n",
            "Episode 3/100 | Loss: 0.17 | Reward: 0.10 | Value Estimate: 0.03\n",
            "Episode 4/100 | Loss: 0.57 | Reward: 0.33 | Value Estimate: 0.11\n",
            "Episode 5/100 | Loss: 0.09 | Reward: 0.05 | Value Estimate: 0.02\n",
            "Episode 6/100 | Loss: 0.29 | Reward: 0.17 | Value Estimate: 0.06\n",
            "Episode 7/100 | Loss: -0.04 | Reward: -0.03 | Value Estimate: -0.01\n",
            "Episode 8/100 | Loss: -0.03 | Reward: -0.02 | Value Estimate: -0.01\n",
            "Episode 9/100 | Loss: -0.08 | Reward: -0.05 | Value Estimate: -0.02\n",
            "Episode 10/100 | Loss: -0.07 | Reward: -0.05 | Value Estimate: -0.02\n",
            "Episode 11/100 | Loss: -0.06 | Reward: -0.04 | Value Estimate: -0.01\n",
            "Episode 12/100 | Loss: -0.05 | Reward: -0.03 | Value Estimate: -0.01\n",
            "Episode 13/100 | Loss: 0.40 | Reward: 0.23 | Value Estimate: 0.08\n",
            "Episode 14/100 | Loss: -0.11 | Reward: -0.07 | Value Estimate: -0.02\n",
            "Episode 15/100 | Loss: -0.06 | Reward: -0.04 | Value Estimate: -0.01\n",
            "Episode 16/100 | Loss: -0.09 | Reward: -0.06 | Value Estimate: -0.02\n",
            "Episode 17/100 | Loss: -0.23 | Reward: -0.15 | Value Estimate: -0.05\n",
            "Episode 18/100 | Loss: -0.23 | Reward: -0.15 | Value Estimate: -0.05\n",
            "Episode 19/100 | Loss: -0.05 | Reward: -0.04 | Value Estimate: -0.01\n",
            "Episode 20/100 | Loss: 0.67 | Reward: 0.39 | Value Estimate: 0.13\n",
            "Episode 21/100 | Loss: 0.23 | Reward: 0.14 | Value Estimate: 0.05\n",
            "Episode 22/100 | Loss: 0.18 | Reward: 0.10 | Value Estimate: 0.03\n",
            "Episode 23/100 | Loss: -0.08 | Reward: -0.05 | Value Estimate: -0.02\n",
            "Episode 24/100 | Loss: -0.15 | Reward: -0.10 | Value Estimate: -0.03\n",
            "Episode 25/100 | Loss: 0.38 | Reward: 0.23 | Value Estimate: 0.08\n",
            "Episode 26/100 | Loss: 0.35 | Reward: 0.21 | Value Estimate: 0.07\n",
            "Episode 27/100 | Loss: -0.17 | Reward: -0.11 | Value Estimate: -0.04\n",
            "Episode 28/100 | Loss: 0.10 | Reward: 0.05 | Value Estimate: 0.02\n",
            "Episode 29/100 | Loss: -0.08 | Reward: -0.06 | Value Estimate: -0.02\n",
            "Episode 30/100 | Loss: -0.13 | Reward: -0.08 | Value Estimate: -0.03\n",
            "Episode 31/100 | Loss: 0.01 | Reward: 0.00 | Value Estimate: 0.00\n",
            "Episode 32/100 | Loss: 0.14 | Reward: 0.08 | Value Estimate: 0.03\n",
            "Episode 33/100 | Loss: -0.06 | Reward: -0.04 | Value Estimate: -0.01\n",
            "Episode 34/100 | Loss: 0.27 | Reward: 0.16 | Value Estimate: 0.05\n",
            "Episode 35/100 | Loss: -0.44 | Reward: -0.29 | Value Estimate: -0.10\n",
            "Episode 36/100 | Loss: 0.21 | Reward: 0.13 | Value Estimate: 0.04\n",
            "Episode 37/100 | Loss: -0.15 | Reward: -0.10 | Value Estimate: -0.03\n",
            "Episode 38/100 | Loss: -0.08 | Reward: -0.06 | Value Estimate: -0.02\n",
            "Episode 39/100 | Loss: -0.17 | Reward: -0.11 | Value Estimate: -0.04\n",
            "Episode 40/100 | Loss: -0.27 | Reward: -0.18 | Value Estimate: -0.06\n",
            "Episode 41/100 | Loss: 0.34 | Reward: 0.20 | Value Estimate: 0.07\n",
            "Episode 42/100 | Loss: -0.27 | Reward: -0.18 | Value Estimate: -0.06\n",
            "Episode 43/100 | Loss: -0.04 | Reward: -0.03 | Value Estimate: -0.01\n",
            "Episode 44/100 | Loss: -0.32 | Reward: -0.21 | Value Estimate: -0.07\n",
            "Episode 45/100 | Loss: -0.23 | Reward: -0.15 | Value Estimate: -0.05\n",
            "Episode 46/100 | Loss: -0.08 | Reward: -0.05 | Value Estimate: -0.02\n",
            "Episode 47/100 | Loss: -0.15 | Reward: -0.10 | Value Estimate: -0.03\n",
            "Episode 48/100 | Loss: 0.18 | Reward: 0.11 | Value Estimate: 0.04\n",
            "Episode 49/100 | Loss: 0.42 | Reward: 0.25 | Value Estimate: 0.08\n",
            "Episode 50/100 | Loss: 0.07 | Reward: 0.04 | Value Estimate: 0.01\n",
            "Episode 51/100 | Loss: -0.19 | Reward: -0.12 | Value Estimate: -0.04\n",
            "Episode 52/100 | Loss: -0.18 | Reward: -0.12 | Value Estimate: -0.04\n",
            "Episode 53/100 | Loss: -0.11 | Reward: -0.07 | Value Estimate: -0.02\n",
            "Episode 54/100 | Loss: 0.06 | Reward: 0.03 | Value Estimate: 0.01\n",
            "Episode 55/100 | Loss: 0.52 | Reward: 0.30 | Value Estimate: 0.10\n",
            "Episode 56/100 | Loss: -0.13 | Reward: -0.09 | Value Estimate: -0.03\n",
            "Episode 57/100 | Loss: 0.35 | Reward: 0.21 | Value Estimate: 0.07\n",
            "Episode 58/100 | Loss: -0.32 | Reward: -0.20 | Value Estimate: -0.07\n",
            "Episode 59/100 | Loss: 0.11 | Reward: 0.06 | Value Estimate: 0.02\n",
            "Episode 60/100 | Loss: -0.06 | Reward: -0.04 | Value Estimate: -0.01\n",
            "Episode 61/100 | Loss: -0.10 | Reward: -0.07 | Value Estimate: -0.02\n",
            "Episode 62/100 | Loss: -0.29 | Reward: -0.19 | Value Estimate: -0.06\n",
            "Episode 63/100 | Loss: -0.01 | Reward: -0.01 | Value Estimate: -0.00\n",
            "Episode 64/100 | Loss: -0.08 | Reward: -0.06 | Value Estimate: -0.02\n",
            "Episode 65/100 | Loss: 0.23 | Reward: 0.14 | Value Estimate: 0.05\n",
            "Episode 66/100 | Loss: 0.51 | Reward: 0.29 | Value Estimate: 0.10\n",
            "Episode 67/100 | Loss: -0.13 | Reward: -0.09 | Value Estimate: -0.03\n",
            "Episode 68/100 | Loss: 0.12 | Reward: 0.07 | Value Estimate: 0.02\n",
            "Episode 69/100 | Loss: 0.62 | Reward: 0.37 | Value Estimate: 0.12\n",
            "Episode 70/100 | Loss: 0.35 | Reward: 0.21 | Value Estimate: 0.07\n",
            "Episode 71/100 | Loss: 0.45 | Reward: 0.26 | Value Estimate: 0.09\n",
            "Episode 72/100 | Loss: 0.27 | Reward: 0.16 | Value Estimate: 0.05\n",
            "Episode 73/100 | Loss: 0.12 | Reward: 0.07 | Value Estimate: 0.02\n",
            "Episode 74/100 | Loss: -0.02 | Reward: -0.02 | Value Estimate: -0.01\n",
            "Episode 75/100 | Loss: 0.04 | Reward: 0.02 | Value Estimate: 0.01\n",
            "Episode 76/100 | Loss: -0.25 | Reward: -0.16 | Value Estimate: -0.05\n",
            "Episode 77/100 | Loss: -0.21 | Reward: -0.14 | Value Estimate: -0.05\n",
            "Episode 78/100 | Loss: -0.09 | Reward: -0.06 | Value Estimate: -0.02\n",
            "Episode 79/100 | Loss: -0.06 | Reward: -0.04 | Value Estimate: -0.01\n",
            "Episode 80/100 | Loss: 0.37 | Reward: 0.22 | Value Estimate: 0.07\n",
            "Episode 81/100 | Loss: 0.31 | Reward: 0.18 | Value Estimate: 0.06\n",
            "Episode 82/100 | Loss: 0.03 | Reward: 0.02 | Value Estimate: 0.01\n",
            "Episode 83/100 | Loss: 0.13 | Reward: 0.08 | Value Estimate: 0.03\n",
            "Episode 84/100 | Loss: 0.23 | Reward: 0.14 | Value Estimate: 0.05\n",
            "Episode 85/100 | Loss: 0.28 | Reward: 0.17 | Value Estimate: 0.06\n",
            "Episode 86/100 | Loss: -0.19 | Reward: -0.13 | Value Estimate: -0.04\n",
            "Episode 87/100 | Loss: 0.78 | Reward: 0.45 | Value Estimate: 0.15\n",
            "Episode 88/100 | Loss: 0.09 | Reward: 0.05 | Value Estimate: 0.02\n",
            "Episode 89/100 | Loss: -0.51 | Reward: -0.33 | Value Estimate: -0.11\n",
            "Episode 90/100 | Loss: -0.21 | Reward: -0.14 | Value Estimate: -0.05\n",
            "Episode 91/100 | Loss: -0.23 | Reward: -0.15 | Value Estimate: -0.05\n",
            "Episode 92/100 | Loss: 0.13 | Reward: 0.07 | Value Estimate: 0.02\n",
            "Episode 93/100 | Loss: 0.18 | Reward: 0.11 | Value Estimate: 0.04\n",
            "Episode 94/100 | Loss: -0.32 | Reward: -0.21 | Value Estimate: -0.07\n",
            "Episode 95/100 | Loss: -0.30 | Reward: -0.20 | Value Estimate: -0.07\n",
            "Episode 96/100 | Loss: -0.12 | Reward: -0.08 | Value Estimate: -0.03\n",
            "Episode 97/100 | Loss: -0.07 | Reward: -0.05 | Value Estimate: -0.02\n",
            "Episode 98/100 | Loss: -0.07 | Reward: -0.05 | Value Estimate: -0.02\n",
            "Episode 99/100 | Loss: 0.31 | Reward: 0.18 | Value Estimate: 0.06\n",
            "Episode 100/100 | Loss: 0.18 | Reward: 0.11 | Value Estimate: 0.04\n"
          ]
        },
        {
          "output_type": "display_data",
          "data": {
            "text/plain": [
              "<Figure size 640x480 with 1 Axes>"
            ],
            "image/png": "[encoded data removed]"
          },
          "metadata": {}
        },
        {
          "output_type": "stream",
          "name": "stdout",
          "text": [
            "Output after training: tensor([[0.0773, 0.0991, 0.0932]])\n"
          ]
        }
      ]
    },
    {
      "cell_type": "code",
      "source": [
        "# Create model instance for Reinforce algorithm\n",
        "model_3 = Model()\n",
        "model_3.reset_parameters\n",
        "model_3(taskData, stimulusData)"
      ],
      "metadata": {
        "colab": {
          "base_uri": "https://localhost:8080/"
        },
        "id": "5WZvS8jkPRJS",
        "outputId": "cddbcd94-a940-4af8-8a5b-930a464cfdc8"
      },
      "execution_count": null,
      "outputs": [
        {
          "output_type": "execute_result",
          "data": {
            "text/plain": [
              "(tensor([[0.0827, 0.0983, 0.0716, 0.1041, 0.1682, 0.1270, 0.2128, 0.2265, 0.1111,\n",
              "          0.1138, 0.1063, 0.0974, 0.1565, 0.1833, 0.1458, 0.1060, 0.1697, 0.1162,\n",
              "          0.1348, 0.1244, 0.1626, 0.1267, 0.1144, 0.1279, 0.1205, 0.1615, 0.1623,\n",
              "          0.1084, 0.0984, 0.0751, 0.1036, 0.0985, 0.0643, 0.1157, 0.0925, 0.1179,\n",
              "          0.1230, 0.2147, 0.0709, 0.0638, 0.0875, 0.0909, 0.0989, 0.1893, 0.1063,\n",
              "          0.0642, 0.1044, 0.1521, 0.1500, 0.1431, 0.0908, 0.1154, 0.1995, 0.1408,\n",
              "          0.1559, 0.1231, 0.1556, 0.1029, 0.0868, 0.0744, 0.0923, 0.1809, 0.1432,\n",
              "          0.0749, 0.1232, 0.1790, 0.0751, 0.0952, 0.1093, 0.1507, 0.1164, 0.1619,\n",
              "          0.1550, 0.1359, 0.1368, 0.0845, 0.1271, 0.0871, 0.1770, 0.1296, 0.1244,\n",
              "          0.1289, 0.1177, 0.1048, 0.1877, 0.1433, 0.0838, 0.0958, 0.0947, 0.0859,\n",
              "          0.1717, 0.1062, 0.0908, 0.0943, 0.0903, 0.1623, 0.1108, 0.2406, 0.0866,\n",
              "          0.1384]], grad_fn=<SigmoidBackward0>),\n",
              " tensor([[0.1490, 0.1155, 0.0805]], grad_fn=<SigmoidBackward0>))"
            ]
          },
          "metadata": {},
          "execution_count": 146
        }
      ]
    },
    {
      "cell_type": "code",
      "source": [
        "# Define optimizer\n",
        "optimizer = torch.optim.Adam(model_3.parameters(), lr=0.001)\n",
        "\n",
        "# Define training loop\n",
        "def train_Rein(num_episodes=100, log_interval=1):\n",
        "    losses = []  # To store losses at each episode\n",
        "    for episode in range(1, num_episodes + 1):\n",
        "\n",
        "        # Forward pass\n",
        "        _, outputs = model_3(taskData, stimulusData)\n",
        "\n",
        "        # Define reward\n",
        "        reward = torch.sum(outputs * trainData)\n",
        "\n",
        "        # Train using REINFORCE\n",
        "        loss = reinforce_train(model_3, optimizer, taskData, stimulusData, reward)\n",
        "        losses.append(loss)\n",
        "        # Logging\n",
        "        if episode % log_interval == 0:\n",
        "            print(f\"Episode {episode}/{num_episodes} | Loss: {loss:.4f}\")\n",
        "    plot_losses(losses)\n",
        "# Train the model\n",
        "train_Rein()"
      ],
      "metadata": {
        "colab": {
          "base_uri": "https://localhost:8080/",
          "height": 1000
        },
        "id": "AJ2-eJZ8NDFm",
        "outputId": "617c09e7-1344-4872-c049-62941a466221"
      },
      "execution_count": null,
      "outputs": [
        {
          "output_type": "stream",
          "name": "stdout",
          "text": [
            "Episode 1/100 | Loss: 0.2534\n",
            "Episode 2/100 | Loss: 0.2481\n",
            "Episode 3/100 | Loss: 0.2429\n",
            "Episode 4/100 | Loss: 0.2377\n",
            "Episode 5/100 | Loss: 0.2327\n",
            "Episode 6/100 | Loss: 0.2278\n",
            "Episode 7/100 | Loss: 0.2230\n",
            "Episode 8/100 | Loss: 0.2183\n",
            "Episode 9/100 | Loss: 0.2137\n",
            "Episode 10/100 | Loss: 0.2092\n",
            "Episode 11/100 | Loss: 0.2048\n",
            "Episode 12/100 | Loss: 0.2005\n",
            "Episode 13/100 | Loss: 0.1962\n",
            "Episode 14/100 | Loss: 0.1921\n",
            "Episode 15/100 | Loss: 0.1880\n",
            "Episode 16/100 | Loss: 0.1841\n",
            "Episode 17/100 | Loss: 0.1802\n",
            "Episode 18/100 | Loss: 0.1764\n",
            "Episode 19/100 | Loss: 0.1727\n",
            "Episode 20/100 | Loss: 0.1691\n",
            "Episode 21/100 | Loss: 0.1656\n",
            "Episode 22/100 | Loss: 0.1621\n",
            "Episode 23/100 | Loss: 0.1587\n",
            "Episode 24/100 | Loss: 0.1554\n",
            "Episode 25/100 | Loss: 0.1522\n",
            "Episode 26/100 | Loss: 0.1490\n",
            "Episode 27/100 | Loss: 0.1460\n",
            "Episode 28/100 | Loss: 0.1429\n",
            "Episode 29/100 | Loss: 0.1400\n",
            "Episode 30/100 | Loss: 0.1371\n",
            "Episode 31/100 | Loss: 0.1343\n",
            "Episode 32/100 | Loss: 0.1316\n",
            "Episode 33/100 | Loss: 0.1289\n",
            "Episode 34/100 | Loss: 0.1263\n",
            "Episode 35/100 | Loss: 0.1237\n",
            "Episode 36/100 | Loss: 0.1212\n",
            "Episode 37/100 | Loss: 0.1187\n",
            "Episode 38/100 | Loss: 0.1163\n",
            "Episode 39/100 | Loss: 0.1140\n",
            "Episode 40/100 | Loss: 0.1117\n",
            "Episode 41/100 | Loss: 0.1095\n",
            "Episode 42/100 | Loss: 0.1073\n",
            "Episode 43/100 | Loss: 0.1051\n",
            "Episode 44/100 | Loss: 0.1030\n",
            "Episode 45/100 | Loss: 0.1010\n",
            "Episode 46/100 | Loss: 0.0990\n",
            "Episode 47/100 | Loss: 0.0970\n",
            "Episode 48/100 | Loss: 0.0951\n",
            "Episode 49/100 | Loss: 0.0932\n",
            "Episode 50/100 | Loss: 0.0914\n",
            "Episode 51/100 | Loss: 0.0896\n",
            "Episode 52/100 | Loss: 0.0879\n",
            "Episode 53/100 | Loss: 0.0862\n",
            "Episode 54/100 | Loss: 0.0845\n",
            "Episode 55/100 | Loss: 0.0829\n",
            "Episode 56/100 | Loss: 0.0813\n",
            "Episode 57/100 | Loss: 0.0797\n",
            "Episode 58/100 | Loss: 0.0782\n",
            "Episode 59/100 | Loss: 0.0767\n",
            "Episode 60/100 | Loss: 0.0752\n",
            "Episode 61/100 | Loss: 0.0738\n",
            "Episode 62/100 | Loss: 0.0724\n",
            "Episode 63/100 | Loss: 0.0710\n",
            "Episode 64/100 | Loss: 0.0696\n",
            "Episode 65/100 | Loss: 0.0683\n",
            "Episode 66/100 | Loss: 0.0670\n",
            "Episode 67/100 | Loss: 0.0658\n",
            "Episode 68/100 | Loss: 0.0645\n",
            "Episode 69/100 | Loss: 0.0633\n",
            "Episode 70/100 | Loss: 0.0622\n",
            "Episode 71/100 | Loss: 0.0610\n",
            "Episode 72/100 | Loss: 0.0599\n",
            "Episode 73/100 | Loss: 0.0588\n",
            "Episode 74/100 | Loss: 0.0577\n",
            "Episode 75/100 | Loss: 0.0566\n",
            "Episode 76/100 | Loss: 0.0556\n",
            "Episode 77/100 | Loss: 0.0546\n",
            "Episode 78/100 | Loss: 0.0536\n",
            "Episode 79/100 | Loss: 0.0526\n",
            "Episode 80/100 | Loss: 0.0517\n",
            "Episode 81/100 | Loss: 0.0507\n",
            "Episode 82/100 | Loss: 0.0498\n",
            "Episode 83/100 | Loss: 0.0489\n",
            "Episode 84/100 | Loss: 0.0481\n",
            "Episode 85/100 | Loss: 0.0472\n",
            "Episode 86/100 | Loss: 0.0464\n",
            "Episode 87/100 | Loss: 0.0456\n",
            "Episode 88/100 | Loss: 0.0448\n",
            "Episode 89/100 | Loss: 0.0440\n",
            "Episode 90/100 | Loss: 0.0432\n",
            "Episode 91/100 | Loss: 0.0425\n",
            "Episode 92/100 | Loss: 0.0417\n",
            "Episode 93/100 | Loss: 0.0410\n",
            "Episode 94/100 | Loss: 0.0403\n",
            "Episode 95/100 | Loss: 0.0396\n",
            "Episode 96/100 | Loss: 0.0389\n",
            "Episode 97/100 | Loss: 0.0383\n",
            "Episode 98/100 | Loss: 0.0376\n",
            "Episode 99/100 | Loss: 0.0370\n",
            "Episode 100/100 | Loss: 0.0364\n"
          ]
        },
        {
          "output_type": "display_data",
          "data": {
            "text/plain": [
              "<Figure size 640x480 with 1 Axes>"
            ],
            "image/png": "[encoded data removed]"
          },
          "metadata": {}
        }
      ]
    },
    {
      "cell_type": "code",
      "source": [
        "# Instantiate the model, Q-learning algorithm\n",
        "model_4 = Model()\n",
        "model_4.reset_parameters\n",
        "model_4(taskData, stimulusData)\n"
      ],
      "metadata": {
        "colab": {
          "base_uri": "https://localhost:8080/"
        },
        "id": "nB3nGUmMkxnY",
        "outputId": "e59500ad-4690-4be6-d15c-2c876792676b"
      },
      "execution_count": null,
      "outputs": [
        {
          "output_type": "execute_result",
          "data": {
            "text/plain": [
              "(tensor([[0.0958, 0.1317, 0.0837, 0.1901, 0.1686, 0.1431, 0.1505, 0.0841, 0.1055,\n",
              "          0.1053, 0.0955, 0.0734, 0.1774, 0.0975, 0.1274, 0.1384, 0.1326, 0.0979,\n",
              "          0.0738, 0.0959, 0.1171, 0.1019, 0.1086, 0.0710, 0.0881, 0.1701, 0.1043,\n",
              "          0.1618, 0.0842, 0.1782, 0.1542, 0.1524, 0.1553, 0.1289, 0.1463, 0.1565,\n",
              "          0.2041, 0.1472, 0.0906, 0.1870, 0.0800, 0.0801, 0.0714, 0.1073, 0.1376,\n",
              "          0.0673, 0.0969, 0.1323, 0.0890, 0.0913, 0.1498, 0.0756, 0.1081, 0.1104,\n",
              "          0.0868, 0.1472, 0.1299, 0.1710, 0.1317, 0.0778, 0.1285, 0.1378, 0.1401,\n",
              "          0.1355, 0.1239, 0.1943, 0.1534, 0.1769, 0.1520, 0.1429, 0.0602, 0.1275,\n",
              "          0.1081, 0.1157, 0.1859, 0.1245, 0.0804, 0.1179, 0.1476, 0.0801, 0.1696,\n",
              "          0.2055, 0.1471, 0.1725, 0.0679, 0.1287, 0.1378, 0.1480, 0.0916, 0.1670,\n",
              "          0.0847, 0.0843, 0.1343, 0.1842, 0.1113, 0.0801, 0.1685, 0.1620, 0.1038,\n",
              "          0.0989]], grad_fn=<SigmoidBackward0>),\n",
              " tensor([[0.1034, 0.1359, 0.0939]], grad_fn=<SigmoidBackward0>))"
            ]
          },
          "metadata": {},
          "execution_count": 143
        }
      ]
    },
    {
      "cell_type": "code",
      "source": [
        "# Main training loop\n",
        "def Q_training():\n",
        "\n",
        "\n",
        "    # Initialize Q-learning agent\n",
        "    agent = QLearning(model_4)\n",
        "\n",
        "    # Sample input data\n",
        "    #taskData = torch.rand(1, 5)\n",
        "    #stimulusData = np.array([0, 1, 1])\n",
        "    target = numpy.array([0, 1, 0])\n",
        "\n",
        "    # Training loop\n",
        "    num_episodes = 100\n",
        "    losses = []  # To store losses at each episode\n",
        "\n",
        "    for episode in range(num_episodes):\n",
        "        # Choose action\n",
        "        action = agent.choose_action(taskData, stimulusData)\n",
        "\n",
        "        #assuming target is given directly as reward\n",
        "        agent.train(taskData, stimulusData, target)\n",
        "\n",
        "        _, current_Q = model_4(taskData, stimulusData)\n",
        "        target_tensor = torch.tensor(target, dtype=torch.float32)\n",
        "        target_Q = current_Q.clone()\n",
        "        target_Q[0][target_tensor.argmax()] = target_tensor.max().item()\n",
        "        loss = nn.MSELoss()(current_Q, target_Q.detach())\n",
        "        losses.append(loss.item())\n",
        "        # Update epsilon for epsilon-greedy strategy\n",
        "        # agent.epsilon = max(0.1, agent.epsilon * 0.99)\n",
        "\n",
        "        # Print progress\n",
        "        if (episode + 1) % 1 == 0:\n",
        "            print(f\"Episode {episode + 1}/{num_episodes}, Loss: {loss.item()}\")\n",
        "\n",
        "\n",
        "    plot_losses(losses)"
      ],
      "metadata": {
        "id": "QP8d81N-k2Ph"
      },
      "execution_count": null,
      "outputs": []
    },
    {
      "cell_type": "code",
      "source": [
        "Q_training()"
      ],
      "metadata": {
        "colab": {
          "base_uri": "https://localhost:8080/",
          "height": 1000
        },
        "id": "cUPkGjWmUD-Z",
        "outputId": "8dfa45b8-a05a-4dae-cb5c-fca1fd51853b"
      },
      "execution_count": null,
      "outputs": [
        {
          "output_type": "stream",
          "name": "stdout",
          "text": [
            "Episode 1/100, Loss: 0.2457415610551834\n",
            "Episode 2/100, Loss: 0.24245209991931915\n",
            "Episode 3/100, Loss: 0.2389838844537735\n",
            "Episode 4/100, Loss: 0.23532851040363312\n",
            "Episode 5/100, Loss: 0.23147766292095184\n",
            "Episode 6/100, Loss: 0.22742384672164917\n",
            "Episode 7/100, Loss: 0.22316016256809235\n",
            "Episode 8/100, Loss: 0.21868111193180084\n",
            "Episode 9/100, Loss: 0.2139824777841568\n",
            "Episode 10/100, Loss: 0.2090621143579483\n",
            "Episode 11/100, Loss: 0.20392024517059326\n",
            "Episode 12/100, Loss: 0.19855983555316925\n",
            "Episode 13/100, Loss: 0.19298726320266724\n",
            "Episode 14/100, Loss: 0.18721240758895874\n",
            "Episode 15/100, Loss: 0.18124938011169434\n",
            "Episode 16/100, Loss: 0.17511659860610962\n",
            "Episode 17/100, Loss: 0.1688367873430252\n",
            "Episode 18/100, Loss: 0.16243697702884674\n",
            "Episode 19/100, Loss: 0.15594817698001862\n",
            "Episode 20/100, Loss: 0.14940470457077026\n",
            "Episode 21/100, Loss: 0.14284352958202362\n",
            "Episode 22/100, Loss: 0.1363030970096588\n",
            "Episode 23/100, Loss: 0.12982217967510223\n",
            "Episode 24/100, Loss: 0.12343883514404297\n",
            "Episode 25/100, Loss: 0.1171889528632164\n",
            "Episode 26/100, Loss: 0.11110535264015198\n",
            "Episode 27/100, Loss: 0.10521673411130905\n",
            "Episode 28/100, Loss: 0.09954717010259628\n",
            "Episode 29/100, Loss: 0.09411569684743881\n",
            "Episode 30/100, Loss: 0.08893603086471558\n",
            "Episode 31/100, Loss: 0.08401716500520706\n",
            "Episode 32/100, Loss: 0.07936319708824158\n",
            "Episode 33/100, Loss: 0.07497420907020569\n",
            "Episode 34/100, Loss: 0.07084671407938004\n",
            "Episode 35/100, Loss: 0.06697432696819305\n",
            "Episode 36/100, Loss: 0.06334836781024933\n",
            "Episode 37/100, Loss: 0.059958431869745255\n",
            "Episode 38/100, Loss: 0.05679301917552948\n",
            "Episode 39/100, Loss: 0.053839799016714096\n",
            "Episode 40/100, Loss: 0.0510861761868\n",
            "Episode 41/100, Loss: 0.04851948097348213\n",
            "Episode 42/100, Loss: 0.046127256006002426\n",
            "Episode 43/100, Loss: 0.04389740899205208\n",
            "Episode 44/100, Loss: 0.041818324476480484\n",
            "Episode 45/100, Loss: 0.03987901285290718\n",
            "Episode 46/100, Loss: 0.038069043308496475\n",
            "Episode 47/100, Loss: 0.036378730088472366\n",
            "Episode 48/100, Loss: 0.0347989946603775\n",
            "Episode 49/100, Loss: 0.03332139179110527\n",
            "Episode 50/100, Loss: 0.031938135623931885\n",
            "Episode 51/100, Loss: 0.030642030760645866\n",
            "Episode 52/100, Loss: 0.029426440596580505\n",
            "Episode 53/100, Loss: 0.02828528732061386\n",
            "Episode 54/100, Loss: 0.027212925255298615\n",
            "Episode 55/100, Loss: 0.026204250752925873\n",
            "Episode 56/100, Loss: 0.025254497304558754\n",
            "Episode 57/100, Loss: 0.02435937337577343\n",
            "Episode 58/100, Loss: 0.0235148798674345\n",
            "Episode 59/100, Loss: 0.022717369720339775\n",
            "Episode 60/100, Loss: 0.021963492035865784\n",
            "Episode 61/100, Loss: 0.021250195801258087\n",
            "Episode 62/100, Loss: 0.020574642345309258\n",
            "Episode 63/100, Loss: 0.01993424817919731\n",
            "Episode 64/100, Loss: 0.019326617941260338\n",
            "Episode 65/100, Loss: 0.018749574199318886\n",
            "Episode 66/100, Loss: 0.018201075494289398\n",
            "Episode 67/100, Loss: 0.017679255455732346\n",
            "Episode 68/100, Loss: 0.017182430252432823\n",
            "Episode 69/100, Loss: 0.016708990558981895\n",
            "Episode 70/100, Loss: 0.01625746674835682\n",
            "Episode 71/100, Loss: 0.015826532617211342\n",
            "Episode 72/100, Loss: 0.015414890833199024\n",
            "Episode 73/100, Loss: 0.015021435916423798\n",
            "Episode 74/100, Loss: 0.014645048417150974\n",
            "Episode 75/100, Loss: 0.014284755103290081\n",
            "Episode 76/100, Loss: 0.013939606957137585\n",
            "Episode 77/100, Loss: 0.013608753681182861\n",
            "Episode 78/100, Loss: 0.013291395269334316\n",
            "Episode 79/100, Loss: 0.012986790388822556\n",
            "Episode 80/100, Loss: 0.012694223783910275\n",
            "Episode 81/100, Loss: 0.01241306122392416\n",
            "Episode 82/100, Loss: 0.012142684310674667\n",
            "Episode 83/100, Loss: 0.011882553808391094\n",
            "Episode 84/100, Loss: 0.011632103472948074\n",
            "Episode 85/100, Loss: 0.011390873230993748\n",
            "Episode 86/100, Loss: 0.011158357374370098\n",
            "Episode 87/100, Loss: 0.010934152640402317\n",
            "Episode 88/100, Loss: 0.010717852972447872\n",
            "Episode 89/100, Loss: 0.010509061627089977\n",
            "Episode 90/100, Loss: 0.010307430289685726\n",
            "Episode 91/100, Loss: 0.010112603195011616\n",
            "Episode 92/100, Loss: 0.009924270212650299\n",
            "Episode 93/100, Loss: 0.009742136113345623\n",
            "Episode 94/100, Loss: 0.009565908461809158\n",
            "Episode 95/100, Loss: 0.009395338594913483\n",
            "Episode 96/100, Loss: 0.009230157360434532\n",
            "Episode 97/100, Loss: 0.009070138446986675\n",
            "Episode 98/100, Loss: 0.008915039710700512\n",
            "Episode 99/100, Loss: 0.008764673955738544\n",
            "Episode 100/100, Loss: 0.008618826977908611\n"
          ]
        },
        {
          "output_type": "display_data",
          "data": {
            "text/plain": [
              "<Figure size 640x480 with 1 Axes>"
            ],
            "image/png": "[encoded data removed]"
          },
          "metadata": {}
        }
      ]
    }
  ],
  "metadata": {
    "accelerator": "GPU",
    "colab": {
      "gpuType": "T4",
      "provenance": [],
      "include_colab_link": true
    },
    "kernelspec": {
      "display_name": "Python 3",
      "name": "python3"
    },
    "language_info": {
      "name": "python"
    }
  },
  "nbformat": 4,
  "nbformat_minor": 0
}