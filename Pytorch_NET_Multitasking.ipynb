{
  "nbformat": 4,
  "nbformat_minor": 0,
  "metadata": {
    "colab": {
      "provenance": [],
      "gpuType": "T4",
      "include_colab_link": true
    },
    "kernelspec": {
      "name": "python3",
      "display_name": "Python 3"
    },
    "language_info": {
      "name": "python"
    },
    "accelerator": "GPU"
  },
  "cells": [
    {
      "cell_type": "markdown",
      "metadata": {
        "id": "view-in-github",
        "colab_type": "text"
      },
      "source": [
        "<a href=\"https://colab.research.google.com/github/ereny123/Multitasking-MThesis-2024/blob/main/Pytorch_NET_Multitasking.ipynb\" target=\"_parent\"><img src=\"https://colab.research.google.com/assets/colab-badge.svg\" alt=\"Open In Colab\"/></a>"
      ]
    },
    {
      "cell_type": "code",
      "source": [
        "import torch\n",
        "import torch.nn as nn\n",
        "import torch.nn.functional as F"
      ],
      "metadata": {
        "id": "vEze7K4r8bU1"
      },
      "execution_count": 11,
      "outputs": []
    },
    {
      "cell_type": "code",
      "source": [
        "#create a model class\n",
        "class Model(nn.Module):\n",
        "  #Input (Tasks) random array of 9 units\n",
        "  def __init__(self, in_tasks=9, h= 100, output=9, bias_weight=-1):\n",
        "    super().__init__()\n",
        "\n",
        "    #Set Parameters\n",
        "    self.bias_weight = bias_weight   # default bias weight\n",
        "\n",
        "    self.fc1=nn.Linear(in_tasks, h)   #input layer(tasks) --> hidden layer\n",
        "    self.fc2=nn.Linear(h, output)     #hidden layer --> output layer\n",
        "\n",
        "    self.fc1.weight=nn.Parameter(torch.FloatTensor(h, in_tasks).uniform_(-0.1, 0.1))   #input-->hidden  weight\n",
        "    self.fc2.weight=nn.Parameter(torch.FloatTensor(output, h).uniform_(-0.1, 0.1))     #hidden-->output  weight\n",
        "\n",
        "    self.fc1.bias=nn.Parameter(torch.ones(h, 1) * bias_weight)                         #hidden layer bias\n",
        "    self.fc2.bias=nn.Parameter(torch.ones(output, 1) * bias_weight)                    #output layer bias\n",
        "\n",
        "  def forward(self, x, taskData):\n",
        "    h_act=torch.mm(self.fc1.weight, taskData)+ self.fc1.bias   #hidden layer activation\n",
        "    h_act= F.tanh(self.h_act)\n",
        "    out_act=torch.mm(self.fc2.weight, h_act) + self.fc2.bias    #output layer activation\n",
        "\n",
        "    return h_act, out_act\n",
        "\n",
        "\n"
      ],
      "metadata": {
        "id": "Eo6cAkSZm1pN"
      },
      "execution_count": 12,
      "outputs": []
    },
    {
      "cell_type": "code",
      "source": [
        "#Pick a manual seed for randomization for the input values\n",
        "torch.manual_seed(1729)\n",
        "#tasks= torch.rand(1,9)\n",
        "#tasks\n",
        "\n",
        "\n",
        "#create an instance for Model\n",
        "model = Model()\n"
      ],
      "metadata": {
        "id": "07chQ-FGKb-D"
      },
      "execution_count": 13,
      "outputs": []
    }
  ]
}