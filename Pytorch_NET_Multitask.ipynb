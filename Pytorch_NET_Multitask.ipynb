{
  "cells": [
    {
      "cell_type": "markdown",
      "metadata": {
        "id": "view-in-github",
        "colab_type": "text"
      },
      "source": [
        "<a href=\"https://colab.research.google.com/github/ereny123/Multitasking-MThesis-2024/blob/main/Pytorch_NET_Multitask.ipynb\" target=\"_parent\"><img src=\"https://colab.research.google.com/assets/colab-badge.svg\" alt=\"Open In Colab\"/></a>"
      ]
    },
    {
      "cell_type": "code",
      "execution_count": null,
      "metadata": {
        "id": "vEze7K4r8bU1"
      },
      "outputs": [],
      "source": [
        "import torch\n",
        "import torch.nn as nn\n",
        "import torch.nn.functional as F\n",
        "import numpy\n",
        "from tqdm import tqdm\n",
        "import matplotlib.pyplot as plt\n",
        "import itertools\n",
        "import seaborn as sns"
      ]
    },
    {
      "cell_type": "code",
      "execution_count": null,
      "metadata": {
        "id": "Eo6cAkSZm1pN"
      },
      "outputs": [],
      "source": [
        "#create a model class\n",
        "class Model(nn.Module):\n",
        "\n",
        "  def __init__(self, in_tasks=9, in_stim=9, hidden=100, output=9, bias_weight=-2, coeff=0.3, thresh=0.0001):\n",
        "    super().__init__()\n",
        "\n",
        "    #Set Parameters\n",
        "    self.bias_weight = bias_weight   # default bias weight\n",
        "    self.coeff = coeff\n",
        "    self.thresh = thresh\n",
        "\n",
        "    self.task_hidden=nn.Linear(in_tasks, hidden)    #input layer(tasks) --> hidden layer\n",
        "    self.stim_hidden=nn.Linear(in_stim, hidden)     #input layer(stimuls) --> hidden layer\n",
        "    self.task_out=nn.Linear(in_tasks, output)       #Input Layer(tasks) --> output layer\n",
        "    self.hidden_out=nn.Linear(hidden, output)       #hidden layer --> output layer\n",
        "\n",
        "    self.task_hidden.weight=nn.Parameter(torch.FloatTensor(hidden, in_tasks).uniform_(-0.1, 0.1))   #input(tasks)-->hidden  weight\n",
        "    self.task_out.weight=nn.Parameter(torch.FloatTensor(output, in_tasks).uniform_(-0.1, 0.1))      #input(tasks) --> output weight\n",
        "    self.stim_hidden.weight=nn.Parameter(torch.FloatTensor(hidden, in_stim).uniform_(-0.1, 0.1))    #input(stimulus) -->hidden weight\n",
        "    self.hidden_out.weight=nn.Parameter(torch.FloatTensor(output, hidden).uniform_(-0.1, 0.1))      #hidden-->output  weight\n",
        "\n",
        "\n",
        "    self.task_hidden.bias=nn.Parameter(torch.ones(hidden) * bias_weight)                   #hidden layer bias\n",
        "    self.hidden_out.bias=nn.Parameter(torch.ones(output) * bias_weight)                    #output layer bias\n",
        "\n",
        "  def forward(self, taskData, stimulusData):\n",
        "\n",
        "    h_act=torch.sigmoid(self.task_hidden(taskData)+self.stim_hidden(stimulusData))   #hidden layer activation\n",
        "    out_act= torch.sigmoid(self.hidden_out(h_act)+self.task_out(taskData))           #output layer activation\n",
        "\n",
        "    return h_act, out_act\n",
        "\n",
        "\n",
        "#Train Online Method using back propagation\n",
        "def trainOnline(model, taskData, stimulusData, targetData, iterations, thresh=0.0001, lr=0.1):\n",
        "\n",
        "    criterion = nn.MSELoss()\n",
        "    optimizer = torch.optim.SGD(model.parameters(), lr=lr)\n",
        "    MSE_log = []\n",
        "\n",
        "    with tqdm(total=iterations) as pbar:\n",
        "        for i in range(iterations):\n",
        "            optimizer.zero_grad()\n",
        "            h_act, out_act = model(taskData, stimulusData)\n",
        "            loss = criterion(out_act, targetData)\n",
        "            loss.backward()\n",
        "            optimizer.step()\n",
        "            MSE = loss.item()\n",
        "            MSE_log.append(MSE)\n",
        "\n",
        "            if MSE < thresh:\n",
        "                break\n",
        "\n",
        "\n",
        "            pbar.set_postfix({'MSE': MSE})\n",
        "            pbar.update(1)\n",
        "\n",
        "    return MSE_log\n",
        "\n",
        "\n",
        "\n",
        "#Reinforcement learning using REINFORCE algorithm\n",
        "def reinforce_train(model, optimizer, taskData, stimulusData, reward):\n",
        "\n",
        "    optimizer.zero_grad()\n",
        "\n",
        "    _, outputs = model(taskData, stimulusData)\n",
        "    log_probs = torch.log(outputs.squeeze(0))\n",
        "\n",
        "    # REINFORCE loss\n",
        "    loss = -log_probs * reward\n",
        "    loss = loss.mean()\n",
        "    #reward = torch.sum(outputs * targetData)\n",
        "    loss.backward()\n",
        "    optimizer.step()\n",
        "\n",
        "    return loss.item()\n",
        "\n",
        "\n",
        "\n",
        "# Define training loop\n",
        "def train_Rein(model, taskData, stimulusData, targetData, num_episodes=1000, lr=0.001):\n",
        "    optimizer = torch.optim.Adam(model.parameters(), lr=lr) # Define optimizer\n",
        "    losses = [] # To store losses at each episode\n",
        "\n",
        "    for episode in range(1, num_episodes + 1):\n",
        "        loss = reinforce_train(model, optimizer, taskData, stimulusData, targetData) # Train using REINFORCE\n",
        "        losses.append(loss)\n",
        "\n",
        "        if episode % 100 == 0:  #Logging\n",
        "            print(f\"Episode {episode}/{num_episodes} | Loss: {loss:.3f}\")\n",
        "\n",
        "    return losses"
      ]
    },
    {
      "cell_type": "code",
      "source": [
        "def plot_losses(losses, title):\n",
        "    plt.plot(losses)\n",
        "    plt.xlabel('Episode')\n",
        "    plt.ylabel('Loss')\n",
        "    plt.title(title)\n",
        "    plt.show()"
      ],
      "metadata": {
        "id": "8b7gAguAKdrO"
      },
      "execution_count": null,
      "outputs": []
    },
    {
      "cell_type": "code",
      "execution_count": null,
      "metadata": {
        "id": "u5PWtP67IrzM"
      },
      "outputs": [],
      "source": [
        "# Generate training data\n",
        "def generate_dataset_multitask(split_ratio=None):\n",
        "\n",
        "  #Generate stimulusData Patterns\n",
        "  stimulusData = torch.tensor([ [0, 0, 1, 0, 0, 1, 0, 0, 1],\n",
        "                                [0, 0, 1, 0, 0, 1, 0, 1, 0],\n",
        "                                [0, 0, 1, 0, 0, 1, 1, 0, 0],\n",
        "                                [0, 0, 1, 0, 1, 0, 0, 0, 1],\n",
        "                                [0, 0, 1, 0, 1, 0, 0, 1, 0],\n",
        "                                [0, 0, 1, 0, 1, 0, 1, 0, 0],\n",
        "                                [0, 0, 1, 1, 0, 0, 0, 0, 1],\n",
        "                                [0, 0, 1, 1, 0, 0, 0, 1, 0],\n",
        "                                [0, 0, 1, 1, 0, 0, 1, 0, 0],\n",
        "                                [0, 1, 0, 0, 0, 1, 0, 0, 1],\n",
        "                                [0, 1, 0, 0, 1, 0, 0, 0, 1],\n",
        "                                [0, 1, 0, 0, 0, 1, 0, 1, 0],\n",
        "                                [0, 1, 0, 0, 0, 1, 1, 0, 0],\n",
        "                                [0, 1, 0, 0, 1, 0, 0, 1, 0],\n",
        "                                [0, 1, 0, 0, 1, 0, 1, 0, 0],\n",
        "                                [0, 1, 0, 1, 0, 0, 0, 0, 1],\n",
        "                                [0, 1, 0, 1, 0, 0, 0, 1, 0],\n",
        "                                [0, 1, 0, 1, 0, 0, 1, 0, 0],\n",
        "                                [1, 0, 0, 0, 0, 1, 0, 0, 1],\n",
        "                                [1, 0, 0, 0, 0, 1, 0, 1, 0],\n",
        "                                [1, 0, 0, 0, 0, 1, 1, 0, 0],\n",
        "                                [1, 0, 0, 0, 1, 0, 0, 0, 1],\n",
        "                                [1, 0, 0, 1, 0, 0, 0, 0, 1],\n",
        "                                [1, 0, 0, 1, 0, 0, 0, 1, 0],\n",
        "                                [1, 0, 0, 1, 0, 0, 1, 0, 0],\n",
        "                                [1, 0, 0, 0, 1, 0, 0, 1, 0],\n",
        "                                [1, 0, 0, 0, 1, 0, 1, 0, 0]\n",
        "                                                           ] *20 , dtype=torch.float)\n",
        "\n",
        "\n",
        "# Generate task data patterns\n",
        "  taskDatapattern = torch.tensor([\n",
        "\n",
        "    [1, 1, 1, 0, 0, 0, 0, 0, 0] , #Task 1\n",
        "    [1, 1, 0, 1, 0, 0, 0, 0, 0] , #Task 2\n",
        "    [1, 1, 0, 0, 1, 0, 0, 0, 0] , #Task 3\n",
        "    [1, 1, 0, 0, 0, 1, 0, 0, 0] , #Task 4\n",
        "    [1, 1, 0, 0, 0, 0, 1, 0, 0] , #Task 5\n",
        "    [1, 1, 0, 0, 0, 0, 0, 1, 0] , #Task 6\n",
        "    [1, 1, 0, 0, 0, 0, 0, 0, 1] , #Task 7\n",
        "    [1, 0, 1, 0, 0, 0, 0, 0, 1] , #Task 8\n",
        "    [1, 0, 0, 1, 0, 0, 0, 0, 1] , #Task 9\n",
        "    [1, 0, 0, 0, 1, 0, 0, 0, 1] , #Task 10\n",
        "    [1, 0, 0, 0, 0, 1, 0, 0, 1] , #Task 11\n",
        "    [1, 0, 0, 0, 0, 0, 1, 0, 1] , #Task 12\n",
        "    [1, 0, 0, 0, 0, 0, 0, 1, 1] , #Task 13\n",
        "    [1, 0, 0, 0, 0, 0, 0, 1, 1] , #Task 14\n",
        "    [0, 1, 0, 0, 0, 0, 0, 1, 1] , #Task 15\n",
        "    [0, 0, 1, 0, 0, 0, 0, 1, 1] , #Task 16\n",
        "    [0, 0, 0, 1, 0, 0, 0, 1, 1] , #Task 17\n",
        "    [0, 0, 0, 0, 1, 0, 0, 1, 1] , #Task 18\n",
        "    [0, 0, 0, 0, 0, 1, 0, 1, 1] , #Task 19\n",
        "    [0, 0, 0, 0, 0, 0, 1, 1, 1] ] #Task 20\n",
        "\n",
        "                          , dtype=torch.float)\n",
        "\n",
        "  taskData = torch.cat([torch.stack([row] * 27) for row in taskDatapattern])\n",
        "\n",
        "#Define target data\n",
        "  targetData = torch.zeros((540,9), dtype=torch.float)\n",
        "\n",
        "\n",
        "  for i in range(len(targetData)):\n",
        "    for j in range(0, len(targetData[i]), 3):\n",
        "        if taskData[i, j:j+3].sum() > 0:\n",
        "            targetData[i, j:j+3] = stimulusData[i, j:j+3]\n",
        "\n",
        "\n",
        "  # Split into training and validation sets\n",
        "    dataset_size = len(stimulusData)\n",
        "    split_index = int(split_ratio * dataset_size)  # Determine split index\n",
        "\n",
        "    training_set = (stimulusData[:split_index], taskData[:split_index], targetData[:split_index])\n",
        "    validation_set = (stimulusData[split_index:], taskData[split_index:], targetData[split_index:])\n",
        "\n",
        "  return training_set, validation_set"
      ]
    },
    {
      "cell_type": "code",
      "execution_count": null,
      "metadata": {
        "id": "DdIxR1pxflNB"
      },
      "outputs": [],
      "source": [
        "training_set, validation_set = generate_dataset_multitask(split_ratio=0.7)"
      ]
    },
    {
      "cell_type": "code",
      "source": [
        "train_stimulus, train_task, train_target = training_set\n",
        "val_stimulus, val_task, val_target = validation_set"
      ],
      "metadata": {
        "id": "epiOY0SiNu6d"
      },
      "execution_count": null,
      "outputs": []
    },
    {
      "cell_type": "code",
      "execution_count": null,
      "metadata": {
        "colab": {
          "base_uri": "https://localhost:8080/"
        },
        "collapsed": true,
        "id": "Abq89Crk7DGU",
        "outputId": "97aab447-a015-468e-9f01-e210521bc1e3"
      },
      "outputs": [
        {
          "name": "stdout",
          "output_type": "stream",
          "text": [
            "tensor([[1., 0., 0., 1., 0., 0., 0., 0., 0.],\n",
            "        [1., 0., 0., 1., 0., 0., 0., 0., 0.],\n",
            "        [1., 0., 0., 0., 1., 0., 0., 0., 0.],\n",
            "        [1., 0., 0., 0., 1., 0., 0., 0., 0.],\n",
            "        [0., 0., 1., 0., 0., 1., 0., 0., 0.],\n",
            "        [0., 0., 1., 0., 0., 1., 0., 0., 0.],\n",
            "        [0., 0., 1., 0., 0., 1., 0., 0., 0.],\n",
            "        [0., 0., 1., 0., 1., 0., 0., 0., 0.],\n",
            "        [0., 0., 1., 0., 1., 0., 0., 0., 0.],\n",
            "        [0., 0., 1., 0., 1., 0., 0., 0., 0.]])\n",
            "tensor([[1., 1., 0., 1., 0., 0., 0., 0., 0.],\n",
            "        [1., 1., 0., 1., 0., 0., 0., 0., 0.],\n",
            "        [1., 1., 0., 1., 0., 0., 0., 0., 0.],\n",
            "        [1., 1., 0., 1., 0., 0., 0., 0., 0.],\n",
            "        [1., 1., 0., 0., 1., 0., 0., 0., 0.],\n",
            "        [1., 1., 0., 0., 1., 0., 0., 0., 0.],\n",
            "        [1., 1., 0., 0., 1., 0., 0., 0., 0.],\n",
            "        [1., 1., 0., 0., 1., 0., 0., 0., 0.],\n",
            "        [1., 1., 0., 0., 1., 0., 0., 0., 0.],\n",
            "        [1., 1., 0., 0., 1., 0., 0., 0., 0.]])\n"
          ]
        }
      ],
      "source": [
        "#check points\n",
        "print(train_target[50:60])\n",
        "print(train_task[50:60])"
      ]
    },
    {
      "cell_type": "code",
      "execution_count": null,
      "metadata": {
        "id": "07chQ-FGKb-D"
      },
      "outputs": [],
      "source": [
        "#create an instance for Model\n",
        "model= Model()"
      ]
    },
    {
      "cell_type": "code",
      "execution_count": null,
      "metadata": {
        "colab": {
          "base_uri": "https://localhost:8080/"
        },
        "id": "XeNRNLqDU36X",
        "outputId": "ecdd8b0f-a477-4d7b-c645-fdb4ebcc7c77"
      },
      "outputs": [
        {
          "output_type": "execute_result",
          "data": {
            "text/plain": [
              "(tensor([[0.1612, 0.1013, 0.1224,  ..., 0.1197, 0.0908, 0.1459],\n",
              "         [0.1521, 0.1146, 0.1310,  ..., 0.1222, 0.0861, 0.1428],\n",
              "         [0.1702, 0.1091, 0.1338,  ..., 0.1169, 0.0992, 0.1445],\n",
              "         ...,\n",
              "         [0.1872, 0.1285, 0.1353,  ..., 0.1144, 0.1142, 0.1355],\n",
              "         [0.1839, 0.1406, 0.1492,  ..., 0.1225, 0.0937, 0.1325],\n",
              "         [0.2049, 0.1341, 0.1524,  ..., 0.1171, 0.1079, 0.1341]],\n",
              "        grad_fn=<SigmoidBackward0>),\n",
              " tensor([[0.1074, 0.1030, 0.1076,  ..., 0.0914, 0.1598, 0.1066],\n",
              "         [0.1049, 0.1182, 0.1021,  ..., 0.0930, 0.1612, 0.1012],\n",
              "         [0.1007, 0.1171, 0.1170,  ..., 0.1022, 0.1632, 0.1048],\n",
              "         ...,\n",
              "         [0.1004, 0.1400, 0.1271,  ..., 0.1124, 0.1393, 0.1169],\n",
              "         [0.0918, 0.1269, 0.1015,  ..., 0.1055, 0.1465, 0.1049],\n",
              "         [0.0880, 0.1258, 0.1163,  ..., 0.1157, 0.1483, 0.1086]],\n",
              "        grad_fn=<SigmoidBackward0>))"
            ]
          },
          "metadata": {},
          "execution_count": 8
        }
      ],
      "source": [
        "model(train_stimulus, train_task)"
      ]
    },
    {
      "cell_type": "code",
      "execution_count": null,
      "metadata": {
        "colab": {
          "base_uri": "https://localhost:8080/"
        },
        "id": "9ix2uL8oI1_G",
        "outputId": "46f234d5-83b2-40e6-c370-5e505f1849fe"
      },
      "outputs": [
        {
          "output_type": "stream",
          "name": "stdout",
          "text": [
            "Size of taskData: torch.Size([378, 9])\n",
            "Size of stimulusData: torch.Size([378, 9])\n",
            "Size of trainData: torch.Size([378, 9])\n",
            "Size of Validation Stimulus torch.Size([162, 9])\n",
            "Size of Validation Task torch.Size([162, 9])\n",
            "Size of Validation Target torch.Size([162, 9])\n"
          ]
        }
      ],
      "source": [
        "#Check Sizes\n",
        "print(\"Size of taskData:\", train_task.size())\n",
        "print(\"Size of stimulusData:\", train_stimulus.size())\n",
        "print(\"Size of trainData:\", train_target.size())\n",
        "\n",
        "print(\"Size of Validation Stimulus\",val_stimulus.shape)\n",
        "print(\"Size of Validation Task\",val_task.shape)\n",
        "print(\"Size of Validation Target\",val_target.shape)\n"
      ]
    },
    {
      "cell_type": "code",
      "execution_count": null,
      "metadata": {
        "colab": {
          "base_uri": "https://localhost:8080/"
        },
        "id": "t3IBy6DZEXYZ",
        "outputId": "62029b68-faea-4f53-e329-9792bdf9b184"
      },
      "outputs": [
        {
          "output_type": "stream",
          "name": "stderr",
          "text": [
            "100%|██████████| 200000/200000 [21:53<00:00, 152.22it/s, MSE=0.000839]\n"
          ]
        }
      ],
      "source": [
        "MSE_log = trainOnline(model, train_stimulus, train_task, train_target, 200000)"
      ]
    },
    {
      "cell_type": "code",
      "execution_count": null,
      "metadata": {
        "colab": {
          "base_uri": "https://localhost:8080/",
          "height": 472
        },
        "id": "dXQzZBpXDxly",
        "outputId": "462a1e84-5e45-44b5-a83e-f2695b63bc14"
      },
      "outputs": [
        {
          "output_type": "display_data",
          "data": {
            "text/plain": [
              "<Figure size 640x480 with 1 Axes>"
            ],
            "image/png": "[encoded data removed]"
          },
          "metadata": {}
        }
      ],
      "source": [
        "single_log=plot_losses(MSE_log,'Multi Task')"
      ]
    },
    {
      "cell_type": "code",
      "execution_count": null,
      "metadata": {
        "colab": {
          "base_uri": "https://localhost:8080/"
        },
        "collapsed": true,
        "id": "Ss29TQZLbK3j",
        "outputId": "39bb2be1-f144-429d-b6d2-d3f2bde65cfe"
      },
      "outputs": [
        {
          "output_type": "stream",
          "name": "stdout",
          "text": [
            "Episode 100/1000 | Loss: 0.093\n",
            "Episode 200/1000 | Loss: 0.008\n",
            "Episode 300/1000 | Loss: 0.003\n",
            "Episode 400/1000 | Loss: 0.002\n",
            "Episode 500/1000 | Loss: 0.001\n",
            "Episode 600/1000 | Loss: 0.001\n",
            "Episode 700/1000 | Loss: 0.000\n",
            "Episode 800/1000 | Loss: 0.000\n",
            "Episode 900/1000 | Loss: 0.000\n",
            "Episode 1000/1000 | Loss: 0.000\n"
          ]
        }
      ],
      "source": [
        "# Train the model with Reinforce\n",
        "Loss_reinforce=train_Rein(model, train_task, train_stimulus, train_target)"
      ]
    },
    {
      "cell_type": "code",
      "source": [
        "plot_losses(Loss_reinforce, 'Multitask')"
      ],
      "metadata": {
        "colab": {
          "base_uri": "https://localhost:8080/",
          "height": 472
        },
        "id": "OTDL8H-HJQqF",
        "outputId": "7779f014-f186-415c-930f-1f0cfa278e46"
      },
      "execution_count": null,
      "outputs": [
        {
          "output_type": "display_data",
          "data": {
            "text/plain": [
              "<Figure size 640x480 with 1 Axes>"
            ],
            "image/png": "[encoded data removed]"
          },
          "metadata": {}
        }
      ]
    },
    {
      "cell_type": "code",
      "execution_count": null,
      "metadata": {
        "id": "ZhCrOyV-Q7rF"
      },
      "outputs": [],
      "source": [
        "#Define Evaluation\n",
        "def evaluate(model, val_task, val_stimulus, val_target):\n",
        "    model.eval()\n",
        "    with torch.no_grad():\n",
        "        _, val_output = model(val_task, val_stimulus)\n",
        "        criterion = nn.MSELoss()\n",
        "        val_loss = criterion(val_output, val_target).item()\n",
        "    model.train()\n",
        "    return val_loss"
      ]
    },
    {
      "cell_type": "code",
      "execution_count": null,
      "metadata": {
        "colab": {
          "base_uri": "https://localhost:8080/"
        },
        "id": "JvczdpigEKUC",
        "outputId": "cad2242d-4490-42a3-c3f7-87ae3beb339f"
      },
      "outputs": [
        {
          "output_type": "execute_result",
          "data": {
            "text/plain": [
              "0.7945866584777832"
            ]
          },
          "metadata": {},
          "execution_count": 63
        }
      ],
      "source": [
        "evaluate(model, val_task, val_stimulus, val_target)"
      ]
    },
    {
      "cell_type": "code",
      "source": [
        "#Define multiple simulations\n",
        "\n",
        "def run_simulations(n_simulations=100, config=None):\n",
        "    all_losses = []\n",
        "\n",
        "    for _ in tqdm(range(n_simulations)):\n",
        "        model = Model()\n",
        "        training_set, validation_set = generate_dataset_multitask(split_ratio=0.7)\n",
        "        taskData, stimulusData, targetData = training_set\n",
        "\n",
        "        # if config == 'multitask_supervised':\n",
        "        #     loss_log = trainOnline(model, taskData, stimulusData, targetData, iterations=200000)\n",
        "        if config == 'multitask_reinforcement':\n",
        "            loss_log = train_Rein(model, taskData, stimulusData, targetData, num_episodes=1000)\n",
        "\n",
        "        all_losses.append(loss_log)\n",
        "\n",
        "    return all_losses"
      ],
      "metadata": {
        "id": "UAaG8ixW8WU9"
      },
      "execution_count": null,
      "outputs": []
    },
    {
      "cell_type": "code",
      "source": [
        "#Calculate mean and standard error\n",
        "def calculate_mean_and_standard_error(all_losses):\n",
        "    min_length = min(len(loss) for loss in all_losses)\n",
        "    trimmed_losses = [loss[:min_length] for loss in all_losses]\n",
        "    losses_array = numpy.array(trimmed_losses)\n",
        "    mean_losses = numpy.mean(losses_array, axis=0)\n",
        "    std_err_losses = numpy.std(losses_array, axis=0) / numpy.sqrt(losses_array.shape[0])\n",
        "    return mean_losses, std_err_losses\n",
        "\n",
        "def plot_standard_error(mean_losses, std_err_losses, title):\n",
        "    epochs = range(len(mean_losses))\n",
        "    plt.figure(figsize=(10, 6))\n",
        "    plt.plot(epochs, mean_losses, label='Mean Loss', linewidth=2)\n",
        "    # Scaling the standard error for visibility\n",
        "    visible_std_err_losses = std_err_losses * 100\n",
        "    plt.fill_between(epochs, mean_losses - visible_std_err_losses, mean_losses + visible_std_err_losses, color='b', alpha=0.3, label='Standard Error (Scaled)')\n",
        "    plt.xlabel('Epochs / Episodes')\n",
        "    plt.ylabel('Loss')\n",
        "    plt.title(title)\n",
        "    plt.legend()\n",
        "    plt.grid(True)\n",
        "    plt.savefig(f'{title.replace(\" \", \"_\").lower()}_learning_curve_with_standard_error.png')\n",
        "    plt.show()\n"
      ],
      "metadata": {
        "id": "LAsvz_g-BiJT"
      },
      "execution_count": null,
      "outputs": []
    },
    {
      "cell_type": "code",
      "source": [
        "all_losses_reinforce = run_simulations(n_simulations=100, config='multitask_reinforcement')"
      ],
      "metadata": {
        "colab": {
          "base_uri": "https://localhost:8080/"
        },
        "id": "NP8j_H_1CcKl",
        "outputId": "07b8e278-0693-4f62-9968-62796e10bae9",
        "collapsed": true
      },
      "execution_count": null,
      "outputs": [
        {
          "output_type": "stream",
          "name": "stderr",
          "text": [
            "\r  0%|          | 0/100 [00:00<?, ?it/s]"
          ]
        },
        {
          "output_type": "stream",
          "name": "stdout",
          "text": [
            "Episode 100/1000 | Loss: 0.094\n",
            "Episode 200/1000 | Loss: 0.008\n",
            "Episode 300/1000 | Loss: 0.003\n",
            "Episode 400/1000 | Loss: 0.002\n",
            "Episode 500/1000 | Loss: 0.001\n",
            "Episode 600/1000 | Loss: 0.001\n",
            "Episode 700/1000 | Loss: 0.000\n",
            "Episode 800/1000 | Loss: 0.000\n",
            "Episode 900/1000 | Loss: 0.000\n"
          ]
        },
        {
          "output_type": "stream",
          "name": "stderr",
          "text": [
            "\r  1%|          | 1/100 [00:02<04:11,  2.54s/it]"
          ]
        },
        {
          "output_type": "stream",
          "name": "stdout",
          "text": [
            "Episode 1000/1000 | Loss: 0.000\n",
            "Episode 100/1000 | Loss: 0.085\n",
            "Episode 200/1000 | Loss: 0.008\n",
            "Episode 300/1000 | Loss: 0.003\n",
            "Episode 400/1000 | Loss: 0.002\n",
            "Episode 500/1000 | Loss: 0.001\n",
            "Episode 600/1000 | Loss: 0.001\n",
            "Episode 700/1000 | Loss: 0.000\n",
            "Episode 800/1000 | Loss: 0.000\n",
            "Episode 900/1000 | Loss: 0.000\n"
          ]
        },
        {
          "output_type": "stream",
          "name": "stderr",
          "text": [
            "\r  2%|▏         | 2/100 [00:06<05:19,  3.26s/it]"
          ]
        },
        {
          "output_type": "stream",
          "name": "stdout",
          "text": [
            "Episode 1000/1000 | Loss: 0.000\n",
            "Episode 100/1000 | Loss: 0.089\n",
            "Episode 200/1000 | Loss: 0.008\n",
            "Episode 300/1000 | Loss: 0.003\n",
            "Episode 400/1000 | Loss: 0.002\n",
            "Episode 500/1000 | Loss: 0.001\n",
            "Episode 600/1000 | Loss: 0.001\n",
            "Episode 700/1000 | Loss: 0.000\n",
            "Episode 800/1000 | Loss: 0.000\n"
          ]
        },
        {
          "output_type": "stream",
          "name": "stderr",
          "text": [
            "\r  3%|▎         | 3/100 [00:09<05:34,  3.45s/it]"
          ]
        },
        {
          "output_type": "stream",
          "name": "stdout",
          "text": [
            "Episode 900/1000 | Loss: 0.000\n",
            "Episode 1000/1000 | Loss: 0.000\n",
            "Episode 100/1000 | Loss: 0.083\n",
            "Episode 200/1000 | Loss: 0.008\n",
            "Episode 300/1000 | Loss: 0.003\n",
            "Episode 400/1000 | Loss: 0.002\n",
            "Episode 500/1000 | Loss: 0.001\n",
            "Episode 600/1000 | Loss: 0.001\n",
            "Episode 700/1000 | Loss: 0.000\n",
            "Episode 800/1000 | Loss: 0.000\n"
          ]
        },
        {
          "output_type": "stream",
          "name": "stderr",
          "text": [
            "\r  4%|▍         | 4/100 [00:11<04:27,  2.78s/it]"
          ]
        },
        {
          "output_type": "stream",
          "name": "stdout",
          "text": [
            "Episode 900/1000 | Loss: 0.000\n",
            "Episode 1000/1000 | Loss: 0.000\n",
            "Episode 100/1000 | Loss: 0.083\n",
            "Episode 200/1000 | Loss: 0.008\n",
            "Episode 300/1000 | Loss: 0.003\n",
            "Episode 400/1000 | Loss: 0.002\n",
            "Episode 500/1000 | Loss: 0.001\n",
            "Episode 600/1000 | Loss: 0.001\n",
            "Episode 700/1000 | Loss: 0.000\n",
            "Episode 800/1000 | Loss: 0.000\n",
            "Episode 900/1000 | Loss: 0.000\n"
          ]
        },
        {
          "output_type": "stream",
          "name": "stderr",
          "text": [
            "\r  5%|▌         | 5/100 [00:13<03:57,  2.50s/it]"
          ]
        },
        {
          "output_type": "stream",
          "name": "stdout",
          "text": [
            "Episode 1000/1000 | Loss: 0.000\n",
            "Episode 100/1000 | Loss: 0.085\n",
            "Episode 200/1000 | Loss: 0.008\n",
            "Episode 300/1000 | Loss: 0.003\n",
            "Episode 400/1000 | Loss: 0.002\n",
            "Episode 500/1000 | Loss: 0.001\n",
            "Episode 600/1000 | Loss: 0.001\n",
            "Episode 700/1000 | Loss: 0.000\n",
            "Episode 800/1000 | Loss: 0.000\n",
            "Episode 900/1000 | Loss: 0.000\n"
          ]
        },
        {
          "output_type": "stream",
          "name": "stderr",
          "text": [
            "\r  6%|▌         | 6/100 [00:16<03:56,  2.52s/it]"
          ]
        },
        {
          "output_type": "stream",
          "name": "stdout",
          "text": [
            "Episode 1000/1000 | Loss: 0.000\n",
            "Episode 100/1000 | Loss: 0.084\n",
            "Episode 200/1000 | Loss: 0.008\n",
            "Episode 300/1000 | Loss: 0.003\n",
            "Episode 400/1000 | Loss: 0.002\n",
            "Episode 500/1000 | Loss: 0.001\n",
            "Episode 600/1000 | Loss: 0.001\n",
            "Episode 700/1000 | Loss: 0.000\n",
            "Episode 800/1000 | Loss: 0.000\n"
          ]
        },
        {
          "output_type": "stream",
          "name": "stderr",
          "text": [
            "\r  7%|▋         | 7/100 [00:18<03:33,  2.29s/it]"
          ]
        },
        {
          "output_type": "stream",
          "name": "stdout",
          "text": [
            "Episode 900/1000 | Loss: 0.000\n",
            "Episode 1000/1000 | Loss: 0.000\n",
            "Episode 100/1000 | Loss: 0.085\n",
            "Episode 200/1000 | Loss: 0.008\n",
            "Episode 300/1000 | Loss: 0.003\n",
            "Episode 400/1000 | Loss: 0.002\n",
            "Episode 500/1000 | Loss: 0.001\n",
            "Episode 600/1000 | Loss: 0.001\n",
            "Episode 700/1000 | Loss: 0.000\n",
            "Episode 800/1000 | Loss: 0.000\n"
          ]
        },
        {
          "output_type": "stream",
          "name": "stderr",
          "text": [
            "\r  8%|▊         | 8/100 [00:19<03:17,  2.14s/it]"
          ]
        },
        {
          "output_type": "stream",
          "name": "stdout",
          "text": [
            "Episode 900/1000 | Loss: 0.000\n",
            "Episode 1000/1000 | Loss: 0.000\n",
            "Episode 100/1000 | Loss: 0.090\n",
            "Episode 200/1000 | Loss: 0.008\n",
            "Episode 300/1000 | Loss: 0.003\n",
            "Episode 400/1000 | Loss: 0.002\n",
            "Episode 500/1000 | Loss: 0.001\n",
            "Episode 600/1000 | Loss: 0.001\n",
            "Episode 700/1000 | Loss: 0.000\n",
            "Episode 800/1000 | Loss: 0.000\n"
          ]
        },
        {
          "output_type": "stream",
          "name": "stderr",
          "text": [
            "\r  9%|▉         | 9/100 [00:21<03:05,  2.04s/it]"
          ]
        },
        {
          "output_type": "stream",
          "name": "stdout",
          "text": [
            "Episode 900/1000 | Loss: 0.000\n",
            "Episode 1000/1000 | Loss: 0.000\n",
            "Episode 100/1000 | Loss: 0.076\n",
            "Episode 200/1000 | Loss: 0.008\n",
            "Episode 300/1000 | Loss: 0.003\n",
            "Episode 400/1000 | Loss: 0.001\n",
            "Episode 500/1000 | Loss: 0.001\n",
            "Episode 600/1000 | Loss: 0.001\n",
            "Episode 700/1000 | Loss: 0.000\n",
            "Episode 800/1000 | Loss: 0.000\n"
          ]
        },
        {
          "output_type": "stream",
          "name": "stderr",
          "text": [
            "\r 10%|█         | 10/100 [00:23<03:00,  2.00s/it]"
          ]
        },
        {
          "output_type": "stream",
          "name": "stdout",
          "text": [
            "Episode 900/1000 | Loss: 0.000\n",
            "Episode 1000/1000 | Loss: 0.000\n",
            "Episode 100/1000 | Loss: 0.094\n",
            "Episode 200/1000 | Loss: 0.008\n",
            "Episode 300/1000 | Loss: 0.003\n",
            "Episode 400/1000 | Loss: 0.002\n",
            "Episode 500/1000 | Loss: 0.001\n",
            "Episode 600/1000 | Loss: 0.001\n",
            "Episode 700/1000 | Loss: 0.000\n",
            "Episode 800/1000 | Loss: 0.000\n"
          ]
        },
        {
          "output_type": "stream",
          "name": "stderr",
          "text": [
            "\r 11%|█         | 11/100 [00:25<02:52,  1.94s/it]"
          ]
        },
        {
          "output_type": "stream",
          "name": "stdout",
          "text": [
            "Episode 900/1000 | Loss: 0.000\n",
            "Episode 1000/1000 | Loss: 0.000\n",
            "Episode 100/1000 | Loss: 0.093\n",
            "Episode 200/1000 | Loss: 0.008\n",
            "Episode 300/1000 | Loss: 0.003\n",
            "Episode 400/1000 | Loss: 0.002\n",
            "Episode 500/1000 | Loss: 0.001\n",
            "Episode 600/1000 | Loss: 0.001\n",
            "Episode 700/1000 | Loss: 0.001\n",
            "Episode 800/1000 | Loss: 0.000\n",
            "Episode 900/1000 | Loss: 0.000\n"
          ]
        },
        {
          "output_type": "stream",
          "name": "stderr",
          "text": [
            "\r 12%|█▏        | 12/100 [00:27<02:57,  2.02s/it]"
          ]
        },
        {
          "output_type": "stream",
          "name": "stdout",
          "text": [
            "Episode 1000/1000 | Loss: 0.000\n",
            "Episode 100/1000 | Loss: 0.097\n",
            "Episode 200/1000 | Loss: 0.008\n",
            "Episode 300/1000 | Loss: 0.003\n",
            "Episode 400/1000 | Loss: 0.002\n",
            "Episode 500/1000 | Loss: 0.001\n",
            "Episode 600/1000 | Loss: 0.001\n",
            "Episode 700/1000 | Loss: 0.001\n",
            "Episode 800/1000 | Loss: 0.000\n"
          ]
        },
        {
          "output_type": "stream",
          "name": "stderr",
          "text": [
            "\r 13%|█▎        | 13/100 [00:30<03:05,  2.13s/it]"
          ]
        },
        {
          "output_type": "stream",
          "name": "stdout",
          "text": [
            "Episode 900/1000 | Loss: 0.000\n",
            "Episode 1000/1000 | Loss: 0.000\n",
            "Episode 100/1000 | Loss: 0.090\n",
            "Episode 200/1000 | Loss: 0.008\n",
            "Episode 300/1000 | Loss: 0.003\n",
            "Episode 400/1000 | Loss: 0.002\n",
            "Episode 500/1000 | Loss: 0.001\n",
            "Episode 600/1000 | Loss: 0.001\n",
            "Episode 700/1000 | Loss: 0.000\n",
            "Episode 800/1000 | Loss: 0.000\n"
          ]
        },
        {
          "output_type": "stream",
          "name": "stderr",
          "text": [
            "\r 14%|█▍        | 14/100 [00:31<02:55,  2.04s/it]"
          ]
        },
        {
          "output_type": "stream",
          "name": "stdout",
          "text": [
            "Episode 900/1000 | Loss: 0.000\n",
            "Episode 1000/1000 | Loss: 0.000\n",
            "Episode 100/1000 | Loss: 0.094\n",
            "Episode 200/1000 | Loss: 0.008\n",
            "Episode 300/1000 | Loss: 0.003\n",
            "Episode 400/1000 | Loss: 0.002\n",
            "Episode 500/1000 | Loss: 0.001\n",
            "Episode 600/1000 | Loss: 0.001\n",
            "Episode 700/1000 | Loss: 0.000\n",
            "Episode 800/1000 | Loss: 0.000\n"
          ]
        },
        {
          "output_type": "stream",
          "name": "stderr",
          "text": [
            "\r 15%|█▌        | 15/100 [00:33<02:46,  1.96s/it]"
          ]
        },
        {
          "output_type": "stream",
          "name": "stdout",
          "text": [
            "Episode 900/1000 | Loss: 0.000\n",
            "Episode 1000/1000 | Loss: 0.000\n",
            "Episode 100/1000 | Loss: 0.086\n",
            "Episode 200/1000 | Loss: 0.008\n",
            "Episode 300/1000 | Loss: 0.003\n",
            "Episode 400/1000 | Loss: 0.002\n",
            "Episode 500/1000 | Loss: 0.001\n",
            "Episode 600/1000 | Loss: 0.001\n",
            "Episode 700/1000 | Loss: 0.000\n",
            "Episode 800/1000 | Loss: 0.000\n"
          ]
        },
        {
          "output_type": "stream",
          "name": "stderr",
          "text": [
            "\r 16%|█▌        | 16/100 [00:35<02:39,  1.90s/it]"
          ]
        },
        {
          "output_type": "stream",
          "name": "stdout",
          "text": [
            "Episode 900/1000 | Loss: 0.000\n",
            "Episode 1000/1000 | Loss: 0.000\n",
            "Episode 100/1000 | Loss: 0.087\n",
            "Episode 200/1000 | Loss: 0.008\n",
            "Episode 300/1000 | Loss: 0.003\n",
            "Episode 400/1000 | Loss: 0.002\n",
            "Episode 500/1000 | Loss: 0.001\n",
            "Episode 600/1000 | Loss: 0.001\n",
            "Episode 700/1000 | Loss: 0.000\n",
            "Episode 800/1000 | Loss: 0.000\n"
          ]
        },
        {
          "output_type": "stream",
          "name": "stderr",
          "text": [
            "\r 17%|█▋        | 17/100 [00:37<02:34,  1.86s/it]"
          ]
        },
        {
          "output_type": "stream",
          "name": "stdout",
          "text": [
            "Episode 900/1000 | Loss: 0.000\n",
            "Episode 1000/1000 | Loss: 0.000\n",
            "Episode 100/1000 | Loss: 0.092\n",
            "Episode 200/1000 | Loss: 0.008\n",
            "Episode 300/1000 | Loss: 0.003\n",
            "Episode 400/1000 | Loss: 0.002\n",
            "Episode 500/1000 | Loss: 0.001\n",
            "Episode 600/1000 | Loss: 0.001\n",
            "Episode 700/1000 | Loss: 0.000\n",
            "Episode 800/1000 | Loss: 0.000\n"
          ]
        },
        {
          "output_type": "stream",
          "name": "stderr",
          "text": [
            "\r 18%|█▊        | 18/100 [00:38<02:29,  1.82s/it]"
          ]
        },
        {
          "output_type": "stream",
          "name": "stdout",
          "text": [
            "Episode 900/1000 | Loss: 0.000\n",
            "Episode 1000/1000 | Loss: 0.000\n",
            "Episode 100/1000 | Loss: 0.099\n",
            "Episode 200/1000 | Loss: 0.009\n",
            "Episode 300/1000 | Loss: 0.003\n",
            "Episode 400/1000 | Loss: 0.002\n",
            "Episode 500/1000 | Loss: 0.001\n",
            "Episode 600/1000 | Loss: 0.001\n",
            "Episode 700/1000 | Loss: 0.001\n",
            "Episode 800/1000 | Loss: 0.000\n",
            "Episode 900/1000 | Loss: 0.000\n"
          ]
        },
        {
          "output_type": "stream",
          "name": "stderr",
          "text": [
            "\r 19%|█▉        | 19/100 [00:41<02:38,  1.96s/it]"
          ]
        },
        {
          "output_type": "stream",
          "name": "stdout",
          "text": [
            "Episode 1000/1000 | Loss: 0.000\n",
            "Episode 100/1000 | Loss: 0.088\n",
            "Episode 200/1000 | Loss: 0.008\n",
            "Episode 300/1000 | Loss: 0.003\n",
            "Episode 400/1000 | Loss: 0.002\n",
            "Episode 500/1000 | Loss: 0.001\n",
            "Episode 600/1000 | Loss: 0.001\n",
            "Episode 700/1000 | Loss: 0.000\n",
            "Episode 800/1000 | Loss: 0.000\n"
          ]
        },
        {
          "output_type": "stream",
          "name": "stderr",
          "text": [
            "\r 20%|██        | 20/100 [00:43<02:42,  2.04s/it]"
          ]
        },
        {
          "output_type": "stream",
          "name": "stdout",
          "text": [
            "Episode 900/1000 | Loss: 0.000\n",
            "Episode 1000/1000 | Loss: 0.000\n",
            "Episode 100/1000 | Loss: 0.083\n",
            "Episode 200/1000 | Loss: 0.008\n",
            "Episode 300/1000 | Loss: 0.003\n",
            "Episode 400/1000 | Loss: 0.002\n",
            "Episode 500/1000 | Loss: 0.001\n",
            "Episode 600/1000 | Loss: 0.001\n",
            "Episode 700/1000 | Loss: 0.000\n",
            "Episode 800/1000 | Loss: 0.000\n"
          ]
        },
        {
          "output_type": "stream",
          "name": "stderr",
          "text": [
            "\r 21%|██        | 21/100 [00:45<02:34,  1.96s/it]"
          ]
        },
        {
          "output_type": "stream",
          "name": "stdout",
          "text": [
            "Episode 900/1000 | Loss: 0.000\n",
            "Episode 1000/1000 | Loss: 0.000\n",
            "Episode 100/1000 | Loss: 0.081\n",
            "Episode 200/1000 | Loss: 0.008\n",
            "Episode 300/1000 | Loss: 0.003\n",
            "Episode 400/1000 | Loss: 0.002\n",
            "Episode 500/1000 | Loss: 0.001\n",
            "Episode 600/1000 | Loss: 0.001\n",
            "Episode 700/1000 | Loss: 0.000\n",
            "Episode 800/1000 | Loss: 0.000\n"
          ]
        },
        {
          "output_type": "stream",
          "name": "stderr",
          "text": [
            "\r 22%|██▏       | 22/100 [00:46<02:28,  1.90s/it]"
          ]
        },
        {
          "output_type": "stream",
          "name": "stdout",
          "text": [
            "Episode 900/1000 | Loss: 0.000\n",
            "Episode 1000/1000 | Loss: 0.000\n",
            "Episode 100/1000 | Loss: 0.091\n",
            "Episode 200/1000 | Loss: 0.008\n",
            "Episode 300/1000 | Loss: 0.003\n",
            "Episode 400/1000 | Loss: 0.002\n",
            "Episode 500/1000 | Loss: 0.001\n",
            "Episode 600/1000 | Loss: 0.001\n",
            "Episode 700/1000 | Loss: 0.000\n",
            "Episode 800/1000 | Loss: 0.000\n"
          ]
        },
        {
          "output_type": "stream",
          "name": "stderr",
          "text": [
            "\r 23%|██▎       | 23/100 [00:48<02:24,  1.88s/it]"
          ]
        },
        {
          "output_type": "stream",
          "name": "stdout",
          "text": [
            "Episode 900/1000 | Loss: 0.000\n",
            "Episode 1000/1000 | Loss: 0.000\n",
            "Episode 100/1000 | Loss: 0.090\n",
            "Episode 200/1000 | Loss: 0.008\n",
            "Episode 300/1000 | Loss: 0.003\n",
            "Episode 400/1000 | Loss: 0.002\n",
            "Episode 500/1000 | Loss: 0.001\n",
            "Episode 600/1000 | Loss: 0.001\n",
            "Episode 700/1000 | Loss: 0.000\n",
            "Episode 800/1000 | Loss: 0.000\n"
          ]
        },
        {
          "output_type": "stream",
          "name": "stderr",
          "text": [
            "\r 24%|██▍       | 24/100 [00:50<02:21,  1.86s/it]"
          ]
        },
        {
          "output_type": "stream",
          "name": "stdout",
          "text": [
            "Episode 900/1000 | Loss: 0.000\n",
            "Episode 1000/1000 | Loss: 0.000\n",
            "Episode 100/1000 | Loss: 0.083\n",
            "Episode 200/1000 | Loss: 0.008\n",
            "Episode 300/1000 | Loss: 0.003\n",
            "Episode 400/1000 | Loss: 0.002\n",
            "Episode 500/1000 | Loss: 0.001\n",
            "Episode 600/1000 | Loss: 0.001\n",
            "Episode 700/1000 | Loss: 0.000\n",
            "Episode 800/1000 | Loss: 0.000\n"
          ]
        },
        {
          "output_type": "stream",
          "name": "stderr",
          "text": [
            "\r 25%|██▌       | 25/100 [00:52<02:18,  1.84s/it]"
          ]
        },
        {
          "output_type": "stream",
          "name": "stdout",
          "text": [
            "Episode 900/1000 | Loss: 0.000\n",
            "Episode 1000/1000 | Loss: 0.000\n",
            "Episode 100/1000 | Loss: 0.082\n",
            "Episode 200/1000 | Loss: 0.008\n",
            "Episode 300/1000 | Loss: 0.003\n",
            "Episode 400/1000 | Loss: 0.002\n",
            "Episode 500/1000 | Loss: 0.001\n",
            "Episode 600/1000 | Loss: 0.001\n",
            "Episode 700/1000 | Loss: 0.000\n",
            "Episode 800/1000 | Loss: 0.000\n",
            "Episode 900/1000 | Loss: 0.000\n"
          ]
        },
        {
          "output_type": "stream",
          "name": "stderr",
          "text": [
            "\r 26%|██▌       | 26/100 [00:54<02:30,  2.04s/it]"
          ]
        },
        {
          "output_type": "stream",
          "name": "stdout",
          "text": [
            "Episode 1000/1000 | Loss: 0.000\n",
            "Episode 100/1000 | Loss: 0.086\n",
            "Episode 200/1000 | Loss: 0.008\n",
            "Episode 300/1000 | Loss: 0.003\n",
            "Episode 400/1000 | Loss: 0.002\n",
            "Episode 500/1000 | Loss: 0.001\n",
            "Episode 600/1000 | Loss: 0.001\n",
            "Episode 700/1000 | Loss: 0.000\n",
            "Episode 800/1000 | Loss: 0.000\n",
            "Episode 900/1000 | Loss: 0.000\n"
          ]
        },
        {
          "output_type": "stream",
          "name": "stderr",
          "text": [
            "\r 27%|██▋       | 27/100 [00:56<02:29,  2.05s/it]"
          ]
        },
        {
          "output_type": "stream",
          "name": "stdout",
          "text": [
            "Episode 1000/1000 | Loss: 0.000\n",
            "Episode 100/1000 | Loss: 0.084\n",
            "Episode 200/1000 | Loss: 0.008\n",
            "Episode 300/1000 | Loss: 0.003\n",
            "Episode 400/1000 | Loss: 0.002\n",
            "Episode 500/1000 | Loss: 0.001\n",
            "Episode 600/1000 | Loss: 0.001\n",
            "Episode 700/1000 | Loss: 0.000\n",
            "Episode 800/1000 | Loss: 0.000\n"
          ]
        },
        {
          "output_type": "stream",
          "name": "stderr",
          "text": [
            "\r 28%|██▊       | 28/100 [00:58<02:22,  1.98s/it]"
          ]
        },
        {
          "output_type": "stream",
          "name": "stdout",
          "text": [
            "Episode 900/1000 | Loss: 0.000\n",
            "Episode 1000/1000 | Loss: 0.000\n",
            "Episode 100/1000 | Loss: 0.084\n",
            "Episode 200/1000 | Loss: 0.008\n",
            "Episode 300/1000 | Loss: 0.003\n",
            "Episode 400/1000 | Loss: 0.002\n",
            "Episode 500/1000 | Loss: 0.001\n",
            "Episode 600/1000 | Loss: 0.001\n",
            "Episode 700/1000 | Loss: 0.000\n",
            "Episode 800/1000 | Loss: 0.000\n"
          ]
        },
        {
          "output_type": "stream",
          "name": "stderr",
          "text": [
            "\r 29%|██▉       | 29/100 [01:00<02:17,  1.93s/it]"
          ]
        },
        {
          "output_type": "stream",
          "name": "stdout",
          "text": [
            "Episode 900/1000 | Loss: 0.000\n",
            "Episode 1000/1000 | Loss: 0.000\n",
            "Episode 100/1000 | Loss: 0.096\n",
            "Episode 200/1000 | Loss: 0.008\n",
            "Episode 300/1000 | Loss: 0.003\n",
            "Episode 400/1000 | Loss: 0.002\n",
            "Episode 500/1000 | Loss: 0.001\n",
            "Episode 600/1000 | Loss: 0.001\n",
            "Episode 700/1000 | Loss: 0.000\n",
            "Episode 800/1000 | Loss: 0.000\n",
            "Episode 900/1000 | Loss: 0.000\n"
          ]
        },
        {
          "output_type": "stream",
          "name": "stderr",
          "text": [
            "\r 30%|███       | 30/100 [01:02<02:19,  1.99s/it]"
          ]
        },
        {
          "output_type": "stream",
          "name": "stdout",
          "text": [
            "Episode 1000/1000 | Loss: 0.000\n",
            "Episode 100/1000 | Loss: 0.081\n",
            "Episode 200/1000 | Loss: 0.008\n",
            "Episode 300/1000 | Loss: 0.003\n",
            "Episode 400/1000 | Loss: 0.002\n",
            "Episode 500/1000 | Loss: 0.001\n",
            "Episode 600/1000 | Loss: 0.001\n",
            "Episode 700/1000 | Loss: 0.000\n",
            "Episode 800/1000 | Loss: 0.000\n"
          ]
        },
        {
          "output_type": "stream",
          "name": "stderr",
          "text": [
            "\r 31%|███       | 31/100 [01:04<02:17,  2.00s/it]"
          ]
        },
        {
          "output_type": "stream",
          "name": "stdout",
          "text": [
            "Episode 900/1000 | Loss: 0.000\n",
            "Episode 1000/1000 | Loss: 0.000\n",
            "Episode 100/1000 | Loss: 0.091\n",
            "Episode 200/1000 | Loss: 0.008\n",
            "Episode 300/1000 | Loss: 0.003\n",
            "Episode 400/1000 | Loss: 0.002\n",
            "Episode 500/1000 | Loss: 0.001\n",
            "Episode 600/1000 | Loss: 0.001\n",
            "Episode 700/1000 | Loss: 0.000\n",
            "Episode 800/1000 | Loss: 0.000\n",
            "Episode 900/1000 | Loss: 0.000\n"
          ]
        },
        {
          "output_type": "stream",
          "name": "stderr",
          "text": [
            "\r 32%|███▏      | 32/100 [01:07<02:21,  2.08s/it]"
          ]
        },
        {
          "output_type": "stream",
          "name": "stdout",
          "text": [
            "Episode 1000/1000 | Loss: 0.000\n",
            "Episode 100/1000 | Loss: 0.088\n",
            "Episode 200/1000 | Loss: 0.008\n",
            "Episode 300/1000 | Loss: 0.003\n",
            "Episode 400/1000 | Loss: 0.002\n",
            "Episode 500/1000 | Loss: 0.001\n",
            "Episode 600/1000 | Loss: 0.001\n",
            "Episode 700/1000 | Loss: 0.000\n",
            "Episode 800/1000 | Loss: 0.000\n"
          ]
        },
        {
          "output_type": "stream",
          "name": "stderr",
          "text": [
            "\r 33%|███▎      | 33/100 [01:10<02:47,  2.49s/it]"
          ]
        },
        {
          "output_type": "stream",
          "name": "stdout",
          "text": [
            "Episode 900/1000 | Loss: 0.000\n",
            "Episode 1000/1000 | Loss: 0.000\n",
            "Episode 100/1000 | Loss: 0.091\n",
            "Episode 200/1000 | Loss: 0.008\n",
            "Episode 300/1000 | Loss: 0.003\n",
            "Episode 400/1000 | Loss: 0.002\n",
            "Episode 500/1000 | Loss: 0.001\n",
            "Episode 600/1000 | Loss: 0.001\n",
            "Episode 700/1000 | Loss: 0.000\n",
            "Episode 800/1000 | Loss: 0.000\n"
          ]
        },
        {
          "output_type": "stream",
          "name": "stderr",
          "text": [
            "\r 34%|███▍      | 34/100 [01:12<02:32,  2.30s/it]"
          ]
        },
        {
          "output_type": "stream",
          "name": "stdout",
          "text": [
            "Episode 900/1000 | Loss: 0.000\n",
            "Episode 1000/1000 | Loss: 0.000\n",
            "Episode 100/1000 | Loss: 0.084\n",
            "Episode 200/1000 | Loss: 0.008\n",
            "Episode 300/1000 | Loss: 0.003\n",
            "Episode 400/1000 | Loss: 0.002\n",
            "Episode 500/1000 | Loss: 0.001\n",
            "Episode 600/1000 | Loss: 0.001\n",
            "Episode 700/1000 | Loss: 0.000\n",
            "Episode 800/1000 | Loss: 0.000\n"
          ]
        },
        {
          "output_type": "stream",
          "name": "stderr",
          "text": [
            "\r 35%|███▌      | 35/100 [01:14<02:20,  2.17s/it]"
          ]
        },
        {
          "output_type": "stream",
          "name": "stdout",
          "text": [
            "Episode 900/1000 | Loss: 0.000\n",
            "Episode 1000/1000 | Loss: 0.000\n",
            "Episode 100/1000 | Loss: 0.091\n",
            "Episode 200/1000 | Loss: 0.008\n",
            "Episode 300/1000 | Loss: 0.003\n",
            "Episode 400/1000 | Loss: 0.002\n",
            "Episode 500/1000 | Loss: 0.001\n",
            "Episode 600/1000 | Loss: 0.001\n",
            "Episode 700/1000 | Loss: 0.000\n",
            "Episode 800/1000 | Loss: 0.000\n"
          ]
        },
        {
          "output_type": "stream",
          "name": "stderr",
          "text": [
            "\r 36%|███▌      | 36/100 [01:16<02:12,  2.08s/it]"
          ]
        },
        {
          "output_type": "stream",
          "name": "stdout",
          "text": [
            "Episode 900/1000 | Loss: 0.000\n",
            "Episode 1000/1000 | Loss: 0.000\n",
            "Episode 100/1000 | Loss: 0.084\n",
            "Episode 200/1000 | Loss: 0.008\n",
            "Episode 300/1000 | Loss: 0.003\n",
            "Episode 400/1000 | Loss: 0.002\n",
            "Episode 500/1000 | Loss: 0.001\n",
            "Episode 600/1000 | Loss: 0.001\n",
            "Episode 700/1000 | Loss: 0.000\n",
            "Episode 800/1000 | Loss: 0.000\n"
          ]
        },
        {
          "output_type": "stream",
          "name": "stderr",
          "text": [
            "\r 37%|███▋      | 37/100 [01:17<02:06,  2.01s/it]"
          ]
        },
        {
          "output_type": "stream",
          "name": "stdout",
          "text": [
            "Episode 900/1000 | Loss: 0.000\n",
            "Episode 1000/1000 | Loss: 0.000\n",
            "Episode 100/1000 | Loss: 0.084\n",
            "Episode 200/1000 | Loss: 0.008\n",
            "Episode 300/1000 | Loss: 0.003\n",
            "Episode 400/1000 | Loss: 0.002\n",
            "Episode 500/1000 | Loss: 0.001\n",
            "Episode 600/1000 | Loss: 0.001\n",
            "Episode 700/1000 | Loss: 0.000\n",
            "Episode 800/1000 | Loss: 0.000\n",
            "Episode 900/1000 | Loss: 0.000\n"
          ]
        },
        {
          "output_type": "stream",
          "name": "stderr",
          "text": [
            "\r 38%|███▊      | 38/100 [01:20<02:09,  2.09s/it]"
          ]
        },
        {
          "output_type": "stream",
          "name": "stdout",
          "text": [
            "Episode 1000/1000 | Loss: 0.000\n",
            "Episode 100/1000 | Loss: 0.087\n",
            "Episode 200/1000 | Loss: 0.008\n",
            "Episode 300/1000 | Loss: 0.003\n",
            "Episode 400/1000 | Loss: 0.002\n",
            "Episode 500/1000 | Loss: 0.001\n",
            "Episode 600/1000 | Loss: 0.001\n",
            "Episode 700/1000 | Loss: 0.000\n",
            "Episode 800/1000 | Loss: 0.000\n"
          ]
        },
        {
          "output_type": "stream",
          "name": "stderr",
          "text": [
            "\r 39%|███▉      | 39/100 [01:22<02:13,  2.19s/it]"
          ]
        },
        {
          "output_type": "stream",
          "name": "stdout",
          "text": [
            "Episode 900/1000 | Loss: 0.000\n",
            "Episode 1000/1000 | Loss: 0.000\n",
            "Episode 100/1000 | Loss: 0.091\n",
            "Episode 200/1000 | Loss: 0.008\n",
            "Episode 300/1000 | Loss: 0.003\n",
            "Episode 400/1000 | Loss: 0.002\n",
            "Episode 500/1000 | Loss: 0.001\n",
            "Episode 600/1000 | Loss: 0.001\n",
            "Episode 700/1000 | Loss: 0.000\n",
            "Episode 800/1000 | Loss: 0.000\n"
          ]
        },
        {
          "output_type": "stream",
          "name": "stderr",
          "text": [
            "\r 40%|████      | 40/100 [01:24<02:05,  2.09s/it]"
          ]
        },
        {
          "output_type": "stream",
          "name": "stdout",
          "text": [
            "Episode 900/1000 | Loss: 0.000\n",
            "Episode 1000/1000 | Loss: 0.000\n",
            "Episode 100/1000 | Loss: 0.094\n",
            "Episode 200/1000 | Loss: 0.008\n",
            "Episode 300/1000 | Loss: 0.003\n",
            "Episode 400/1000 | Loss: 0.002\n",
            "Episode 500/1000 | Loss: 0.001\n",
            "Episode 600/1000 | Loss: 0.001\n",
            "Episode 700/1000 | Loss: 0.000\n",
            "Episode 800/1000 | Loss: 0.000\n"
          ]
        },
        {
          "output_type": "stream",
          "name": "stderr",
          "text": [
            "\r 41%|████      | 41/100 [01:26<01:58,  2.01s/it]"
          ]
        },
        {
          "output_type": "stream",
          "name": "stdout",
          "text": [
            "Episode 900/1000 | Loss: 0.000\n",
            "Episode 1000/1000 | Loss: 0.000\n",
            "Episode 100/1000 | Loss: 0.085\n",
            "Episode 200/1000 | Loss: 0.008\n",
            "Episode 300/1000 | Loss: 0.003\n",
            "Episode 400/1000 | Loss: 0.002\n",
            "Episode 500/1000 | Loss: 0.001\n",
            "Episode 600/1000 | Loss: 0.001\n",
            "Episode 700/1000 | Loss: 0.000\n",
            "Episode 800/1000 | Loss: 0.000\n"
          ]
        },
        {
          "output_type": "stream",
          "name": "stderr",
          "text": [
            "\r 42%|████▏     | 42/100 [01:28<01:54,  1.98s/it]"
          ]
        },
        {
          "output_type": "stream",
          "name": "stdout",
          "text": [
            "Episode 900/1000 | Loss: 0.000\n",
            "Episode 1000/1000 | Loss: 0.000\n",
            "Episode 100/1000 | Loss: 0.092\n",
            "Episode 200/1000 | Loss: 0.008\n",
            "Episode 300/1000 | Loss: 0.003\n",
            "Episode 400/1000 | Loss: 0.002\n",
            "Episode 500/1000 | Loss: 0.001\n",
            "Episode 600/1000 | Loss: 0.001\n",
            "Episode 700/1000 | Loss: 0.000\n",
            "Episode 800/1000 | Loss: 0.000\n"
          ]
        },
        {
          "output_type": "stream",
          "name": "stderr",
          "text": [
            "\r 43%|████▎     | 43/100 [01:30<01:50,  1.95s/it]"
          ]
        },
        {
          "output_type": "stream",
          "name": "stdout",
          "text": [
            "Episode 900/1000 | Loss: 0.000\n",
            "Episode 1000/1000 | Loss: 0.000\n",
            "Episode 100/1000 | Loss: 0.091\n",
            "Episode 200/1000 | Loss: 0.008\n",
            "Episode 300/1000 | Loss: 0.003\n",
            "Episode 400/1000 | Loss: 0.002\n",
            "Episode 500/1000 | Loss: 0.001\n",
            "Episode 600/1000 | Loss: 0.001\n",
            "Episode 700/1000 | Loss: 0.000\n",
            "Episode 800/1000 | Loss: 0.000\n",
            "Episode 900/1000 | Loss: 0.000\n"
          ]
        },
        {
          "output_type": "stream",
          "name": "stderr",
          "text": [
            "\r 44%|████▍     | 44/100 [01:31<01:48,  1.94s/it]"
          ]
        },
        {
          "output_type": "stream",
          "name": "stdout",
          "text": [
            "Episode 1000/1000 | Loss: 0.000\n",
            "Episode 100/1000 | Loss: 0.077\n",
            "Episode 200/1000 | Loss: 0.008\n",
            "Episode 300/1000 | Loss: 0.003\n",
            "Episode 400/1000 | Loss: 0.002\n",
            "Episode 500/1000 | Loss: 0.001\n",
            "Episode 600/1000 | Loss: 0.001\n",
            "Episode 700/1000 | Loss: 0.000\n",
            "Episode 800/1000 | Loss: 0.000\n",
            "Episode 900/1000 | Loss: 0.000\n"
          ]
        },
        {
          "output_type": "stream",
          "name": "stderr",
          "text": [
            "\r 45%|████▌     | 45/100 [01:34<01:58,  2.15s/it]"
          ]
        },
        {
          "output_type": "stream",
          "name": "stdout",
          "text": [
            "Episode 1000/1000 | Loss: 0.000\n",
            "Episode 100/1000 | Loss: 0.091\n",
            "Episode 200/1000 | Loss: 0.008\n",
            "Episode 300/1000 | Loss: 0.003\n",
            "Episode 400/1000 | Loss: 0.002\n",
            "Episode 500/1000 | Loss: 0.001\n",
            "Episode 600/1000 | Loss: 0.001\n",
            "Episode 700/1000 | Loss: 0.000\n",
            "Episode 800/1000 | Loss: 0.000\n",
            "Episode 900/1000 | Loss: 0.000\n"
          ]
        },
        {
          "output_type": "stream",
          "name": "stderr",
          "text": [
            "\r 46%|████▌     | 46/100 [01:36<01:54,  2.13s/it]"
          ]
        },
        {
          "output_type": "stream",
          "name": "stdout",
          "text": [
            "Episode 1000/1000 | Loss: 0.000\n",
            "Episode 100/1000 | Loss: 0.097\n",
            "Episode 200/1000 | Loss: 0.008\n",
            "Episode 300/1000 | Loss: 0.003\n",
            "Episode 400/1000 | Loss: 0.002\n",
            "Episode 500/1000 | Loss: 0.001\n",
            "Episode 600/1000 | Loss: 0.001\n",
            "Episode 700/1000 | Loss: 0.000\n",
            "Episode 800/1000 | Loss: 0.000\n"
          ]
        },
        {
          "output_type": "stream",
          "name": "stderr",
          "text": [
            "\r 47%|████▋     | 47/100 [01:38<01:48,  2.05s/it]"
          ]
        },
        {
          "output_type": "stream",
          "name": "stdout",
          "text": [
            "Episode 900/1000 | Loss: 0.000\n",
            "Episode 1000/1000 | Loss: 0.000\n",
            "Episode 100/1000 | Loss: 0.094\n",
            "Episode 200/1000 | Loss: 0.008\n",
            "Episode 300/1000 | Loss: 0.003\n",
            "Episode 400/1000 | Loss: 0.002\n",
            "Episode 500/1000 | Loss: 0.001\n",
            "Episode 600/1000 | Loss: 0.001\n",
            "Episode 700/1000 | Loss: 0.000\n",
            "Episode 800/1000 | Loss: 0.000\n"
          ]
        },
        {
          "output_type": "stream",
          "name": "stderr",
          "text": [
            "\r 48%|████▊     | 48/100 [01:40<01:42,  1.98s/it]"
          ]
        },
        {
          "output_type": "stream",
          "name": "stdout",
          "text": [
            "Episode 900/1000 | Loss: 0.000\n",
            "Episode 1000/1000 | Loss: 0.000\n",
            "Episode 100/1000 | Loss: 0.088\n",
            "Episode 200/1000 | Loss: 0.008\n",
            "Episode 300/1000 | Loss: 0.003\n",
            "Episode 400/1000 | Loss: 0.002\n",
            "Episode 500/1000 | Loss: 0.001\n",
            "Episode 600/1000 | Loss: 0.001\n",
            "Episode 700/1000 | Loss: 0.000\n",
            "Episode 800/1000 | Loss: 0.000\n"
          ]
        },
        {
          "output_type": "stream",
          "name": "stderr",
          "text": [
            "\r 49%|████▉     | 49/100 [01:42<01:38,  1.94s/it]"
          ]
        },
        {
          "output_type": "stream",
          "name": "stdout",
          "text": [
            "Episode 900/1000 | Loss: 0.000\n",
            "Episode 1000/1000 | Loss: 0.000\n",
            "Episode 100/1000 | Loss: 0.085\n",
            "Episode 200/1000 | Loss: 0.008\n",
            "Episode 300/1000 | Loss: 0.003\n",
            "Episode 400/1000 | Loss: 0.002\n",
            "Episode 500/1000 | Loss: 0.001\n",
            "Episode 600/1000 | Loss: 0.001\n",
            "Episode 700/1000 | Loss: 0.000\n",
            "Episode 800/1000 | Loss: 0.000\n"
          ]
        },
        {
          "output_type": "stream",
          "name": "stderr",
          "text": [
            "\r 50%|█████     | 50/100 [01:44<01:36,  1.93s/it]"
          ]
        },
        {
          "output_type": "stream",
          "name": "stdout",
          "text": [
            "Episode 900/1000 | Loss: 0.000\n",
            "Episode 1000/1000 | Loss: 0.000\n",
            "Episode 100/1000 | Loss: 0.091\n",
            "Episode 200/1000 | Loss: 0.008\n",
            "Episode 300/1000 | Loss: 0.003\n",
            "Episode 400/1000 | Loss: 0.002\n",
            "Episode 500/1000 | Loss: 0.001\n",
            "Episode 600/1000 | Loss: 0.001\n",
            "Episode 700/1000 | Loss: 0.000\n",
            "Episode 800/1000 | Loss: 0.000\n",
            "Episode 900/1000 | Loss: 0.000\n"
          ]
        },
        {
          "output_type": "stream",
          "name": "stderr",
          "text": [
            "\r 51%|█████     | 51/100 [01:46<01:37,  2.00s/it]"
          ]
        },
        {
          "output_type": "stream",
          "name": "stdout",
          "text": [
            "Episode 1000/1000 | Loss: 0.000\n",
            "Episode 100/1000 | Loss: 0.095\n",
            "Episode 200/1000 | Loss: 0.009\n",
            "Episode 300/1000 | Loss: 0.003\n",
            "Episode 400/1000 | Loss: 0.002\n",
            "Episode 500/1000 | Loss: 0.001\n",
            "Episode 600/1000 | Loss: 0.001\n",
            "Episode 700/1000 | Loss: 0.000\n",
            "Episode 800/1000 | Loss: 0.000\n"
          ]
        },
        {
          "output_type": "stream",
          "name": "stderr",
          "text": [
            "\r 52%|█████▏    | 52/100 [01:48<01:43,  2.16s/it]"
          ]
        },
        {
          "output_type": "stream",
          "name": "stdout",
          "text": [
            "Episode 900/1000 | Loss: 0.000\n",
            "Episode 1000/1000 | Loss: 0.000\n",
            "Episode 100/1000 | Loss: 0.099\n",
            "Episode 200/1000 | Loss: 0.009\n",
            "Episode 300/1000 | Loss: 0.003\n",
            "Episode 400/1000 | Loss: 0.002\n",
            "Episode 500/1000 | Loss: 0.001\n",
            "Episode 600/1000 | Loss: 0.001\n",
            "Episode 700/1000 | Loss: 0.000\n",
            "Episode 800/1000 | Loss: 0.000\n"
          ]
        },
        {
          "output_type": "stream",
          "name": "stderr",
          "text": [
            "\r 53%|█████▎    | 53/100 [01:50<01:37,  2.08s/it]"
          ]
        },
        {
          "output_type": "stream",
          "name": "stdout",
          "text": [
            "Episode 900/1000 | Loss: 0.000\n",
            "Episode 1000/1000 | Loss: 0.000\n",
            "Episode 100/1000 | Loss: 0.084\n",
            "Episode 200/1000 | Loss: 0.008\n",
            "Episode 300/1000 | Loss: 0.003\n",
            "Episode 400/1000 | Loss: 0.002\n",
            "Episode 500/1000 | Loss: 0.001\n",
            "Episode 600/1000 | Loss: 0.001\n",
            "Episode 700/1000 | Loss: 0.000\n",
            "Episode 800/1000 | Loss: 0.000\n"
          ]
        },
        {
          "output_type": "stream",
          "name": "stderr",
          "text": [
            "\r 54%|█████▍    | 54/100 [01:52<01:32,  2.01s/it]"
          ]
        },
        {
          "output_type": "stream",
          "name": "stdout",
          "text": [
            "Episode 900/1000 | Loss: 0.000\n",
            "Episode 1000/1000 | Loss: 0.000\n",
            "Episode 100/1000 | Loss: 0.086\n",
            "Episode 200/1000 | Loss: 0.008\n",
            "Episode 300/1000 | Loss: 0.003\n",
            "Episode 400/1000 | Loss: 0.002\n",
            "Episode 500/1000 | Loss: 0.001\n",
            "Episode 600/1000 | Loss: 0.001\n",
            "Episode 700/1000 | Loss: 0.000\n",
            "Episode 800/1000 | Loss: 0.000\n"
          ]
        },
        {
          "output_type": "stream",
          "name": "stderr",
          "text": [
            "\r 55%|█████▌    | 55/100 [01:54<01:28,  1.96s/it]"
          ]
        },
        {
          "output_type": "stream",
          "name": "stdout",
          "text": [
            "Episode 900/1000 | Loss: 0.000\n",
            "Episode 1000/1000 | Loss: 0.000\n",
            "Episode 100/1000 | Loss: 0.093\n",
            "Episode 200/1000 | Loss: 0.008\n",
            "Episode 300/1000 | Loss: 0.003\n",
            "Episode 400/1000 | Loss: 0.002\n",
            "Episode 500/1000 | Loss: 0.001\n",
            "Episode 600/1000 | Loss: 0.001\n",
            "Episode 700/1000 | Loss: 0.000\n",
            "Episode 800/1000 | Loss: 0.000\n"
          ]
        },
        {
          "output_type": "stream",
          "name": "stderr",
          "text": [
            "\r 56%|█████▌    | 56/100 [01:56<01:24,  1.93s/it]"
          ]
        },
        {
          "output_type": "stream",
          "name": "stdout",
          "text": [
            "Episode 900/1000 | Loss: 0.000\n",
            "Episode 1000/1000 | Loss: 0.000\n",
            "Episode 100/1000 | Loss: 0.094\n",
            "Episode 200/1000 | Loss: 0.009\n",
            "Episode 300/1000 | Loss: 0.003\n",
            "Episode 400/1000 | Loss: 0.002\n",
            "Episode 500/1000 | Loss: 0.001\n",
            "Episode 600/1000 | Loss: 0.001\n",
            "Episode 700/1000 | Loss: 0.000\n",
            "Episode 800/1000 | Loss: 0.000\n"
          ]
        },
        {
          "output_type": "stream",
          "name": "stderr",
          "text": [
            "\r 57%|█████▋    | 57/100 [01:58<01:22,  1.91s/it]"
          ]
        },
        {
          "output_type": "stream",
          "name": "stdout",
          "text": [
            "Episode 900/1000 | Loss: 0.000\n",
            "Episode 1000/1000 | Loss: 0.000\n",
            "Episode 100/1000 | Loss: 0.083\n",
            "Episode 200/1000 | Loss: 0.008\n",
            "Episode 300/1000 | Loss: 0.003\n",
            "Episode 400/1000 | Loss: 0.002\n",
            "Episode 500/1000 | Loss: 0.001\n",
            "Episode 600/1000 | Loss: 0.001\n",
            "Episode 700/1000 | Loss: 0.000\n",
            "Episode 800/1000 | Loss: 0.000\n",
            "Episode 900/1000 | Loss: 0.000\n"
          ]
        },
        {
          "output_type": "stream",
          "name": "stderr",
          "text": [
            "\r 58%|█████▊    | 58/100 [02:00<01:26,  2.07s/it]"
          ]
        },
        {
          "output_type": "stream",
          "name": "stdout",
          "text": [
            "Episode 1000/1000 | Loss: 0.000\n",
            "Episode 100/1000 | Loss: 0.089\n",
            "Episode 200/1000 | Loss: 0.008\n",
            "Episode 300/1000 | Loss: 0.003\n",
            "Episode 400/1000 | Loss: 0.002\n",
            "Episode 500/1000 | Loss: 0.001\n",
            "Episode 600/1000 | Loss: 0.001\n",
            "Episode 700/1000 | Loss: 0.000\n",
            "Episode 800/1000 | Loss: 0.000\n",
            "Episode 900/1000 | Loss: 0.000\n"
          ]
        },
        {
          "output_type": "stream",
          "name": "stderr",
          "text": [
            "\r 59%|█████▉    | 59/100 [02:02<01:27,  2.13s/it]"
          ]
        },
        {
          "output_type": "stream",
          "name": "stdout",
          "text": [
            "Episode 1000/1000 | Loss: 0.000\n",
            "Episode 100/1000 | Loss: 0.078\n",
            "Episode 200/1000 | Loss: 0.008\n",
            "Episode 300/1000 | Loss: 0.003\n",
            "Episode 400/1000 | Loss: 0.001\n",
            "Episode 500/1000 | Loss: 0.001\n",
            "Episode 600/1000 | Loss: 0.001\n",
            "Episode 700/1000 | Loss: 0.000\n",
            "Episode 800/1000 | Loss: 0.000\n"
          ]
        },
        {
          "output_type": "stream",
          "name": "stderr",
          "text": [
            "\r 60%|██████    | 60/100 [02:04<01:22,  2.05s/it]"
          ]
        },
        {
          "output_type": "stream",
          "name": "stdout",
          "text": [
            "Episode 900/1000 | Loss: 0.000\n",
            "Episode 1000/1000 | Loss: 0.000\n",
            "Episode 100/1000 | Loss: 0.084\n",
            "Episode 200/1000 | Loss: 0.008\n",
            "Episode 300/1000 | Loss: 0.003\n",
            "Episode 400/1000 | Loss: 0.002\n",
            "Episode 500/1000 | Loss: 0.001\n",
            "Episode 600/1000 | Loss: 0.001\n",
            "Episode 700/1000 | Loss: 0.000\n",
            "Episode 800/1000 | Loss: 0.000\n"
          ]
        },
        {
          "output_type": "stream",
          "name": "stderr",
          "text": [
            "\r 61%|██████    | 61/100 [02:06<01:17,  1.98s/it]"
          ]
        },
        {
          "output_type": "stream",
          "name": "stdout",
          "text": [
            "Episode 900/1000 | Loss: 0.000\n",
            "Episode 1000/1000 | Loss: 0.000\n",
            "Episode 100/1000 | Loss: 0.092\n",
            "Episode 200/1000 | Loss: 0.008\n",
            "Episode 300/1000 | Loss: 0.003\n",
            "Episode 400/1000 | Loss: 0.002\n",
            "Episode 500/1000 | Loss: 0.001\n",
            "Episode 600/1000 | Loss: 0.001\n",
            "Episode 700/1000 | Loss: 0.001\n",
            "Episode 800/1000 | Loss: 0.000\n",
            "Episode 900/1000 | Loss: 0.000\n"
          ]
        },
        {
          "output_type": "stream",
          "name": "stderr",
          "text": [
            "\r 62%|██████▏   | 62/100 [02:08<01:14,  1.95s/it]"
          ]
        },
        {
          "output_type": "stream",
          "name": "stdout",
          "text": [
            "Episode 1000/1000 | Loss: 0.000\n",
            "Episode 100/1000 | Loss: 0.088\n",
            "Episode 200/1000 | Loss: 0.008\n",
            "Episode 300/1000 | Loss: 0.003\n",
            "Episode 400/1000 | Loss: 0.002\n",
            "Episode 500/1000 | Loss: 0.001\n",
            "Episode 600/1000 | Loss: 0.001\n",
            "Episode 700/1000 | Loss: 0.000\n",
            "Episode 800/1000 | Loss: 0.000\n"
          ]
        },
        {
          "output_type": "stream",
          "name": "stderr",
          "text": [
            "\r 63%|██████▎   | 63/100 [02:10<01:11,  1.92s/it]"
          ]
        },
        {
          "output_type": "stream",
          "name": "stdout",
          "text": [
            "Episode 900/1000 | Loss: 0.000\n",
            "Episode 1000/1000 | Loss: 0.000\n",
            "Episode 100/1000 | Loss: 0.087\n",
            "Episode 200/1000 | Loss: 0.008\n",
            "Episode 300/1000 | Loss: 0.003\n",
            "Episode 400/1000 | Loss: 0.002\n",
            "Episode 500/1000 | Loss: 0.001\n",
            "Episode 600/1000 | Loss: 0.001\n",
            "Episode 700/1000 | Loss: 0.000\n",
            "Episode 800/1000 | Loss: 0.000\n",
            "Episode 900/1000 | Loss: 0.000\n"
          ]
        },
        {
          "output_type": "stream",
          "name": "stderr",
          "text": [
            "\r 64%|██████▍   | 64/100 [02:12<01:09,  1.94s/it]"
          ]
        },
        {
          "output_type": "stream",
          "name": "stdout",
          "text": [
            "Episode 1000/1000 | Loss: 0.000\n",
            "Episode 100/1000 | Loss: 0.079\n",
            "Episode 200/1000 | Loss: 0.008\n",
            "Episode 300/1000 | Loss: 0.003\n",
            "Episode 400/1000 | Loss: 0.002\n",
            "Episode 500/1000 | Loss: 0.001\n",
            "Episode 600/1000 | Loss: 0.001\n",
            "Episode 700/1000 | Loss: 0.000\n",
            "Episode 800/1000 | Loss: 0.000\n",
            "Episode 900/1000 | Loss: 0.000\n"
          ]
        },
        {
          "output_type": "stream",
          "name": "stderr",
          "text": [
            "\r 65%|██████▌   | 65/100 [02:14<01:15,  2.15s/it]"
          ]
        },
        {
          "output_type": "stream",
          "name": "stdout",
          "text": [
            "Episode 1000/1000 | Loss: 0.000\n",
            "Episode 100/1000 | Loss: 0.088\n",
            "Episode 200/1000 | Loss: 0.008\n",
            "Episode 300/1000 | Loss: 0.003\n",
            "Episode 400/1000 | Loss: 0.002\n",
            "Episode 500/1000 | Loss: 0.001\n",
            "Episode 600/1000 | Loss: 0.001\n",
            "Episode 700/1000 | Loss: 0.000\n",
            "Episode 800/1000 | Loss: 0.000\n"
          ]
        },
        {
          "output_type": "stream",
          "name": "stderr",
          "text": [
            "\r 66%|██████▌   | 66/100 [02:16<01:10,  2.07s/it]"
          ]
        },
        {
          "output_type": "stream",
          "name": "stdout",
          "text": [
            "Episode 900/1000 | Loss: 0.000\n",
            "Episode 1000/1000 | Loss: 0.000\n",
            "Episode 100/1000 | Loss: 0.081\n",
            "Episode 200/1000 | Loss: 0.008\n",
            "Episode 300/1000 | Loss: 0.003\n",
            "Episode 400/1000 | Loss: 0.002\n",
            "Episode 500/1000 | Loss: 0.001\n",
            "Episode 600/1000 | Loss: 0.001\n",
            "Episode 700/1000 | Loss: 0.000\n",
            "Episode 800/1000 | Loss: 0.000\n"
          ]
        },
        {
          "output_type": "stream",
          "name": "stderr",
          "text": [
            "\r 67%|██████▋   | 67/100 [02:18<01:06,  2.00s/it]"
          ]
        },
        {
          "output_type": "stream",
          "name": "stdout",
          "text": [
            "Episode 900/1000 | Loss: 0.000\n",
            "Episode 1000/1000 | Loss: 0.000\n",
            "Episode 100/1000 | Loss: 0.079\n",
            "Episode 200/1000 | Loss: 0.008\n",
            "Episode 300/1000 | Loss: 0.003\n",
            "Episode 400/1000 | Loss: 0.002\n",
            "Episode 500/1000 | Loss: 0.001\n",
            "Episode 600/1000 | Loss: 0.001\n",
            "Episode 700/1000 | Loss: 0.000\n",
            "Episode 800/1000 | Loss: 0.000\n"
          ]
        },
        {
          "output_type": "stream",
          "name": "stderr",
          "text": [
            "\r 68%|██████▊   | 68/100 [02:20<01:02,  1.97s/it]"
          ]
        },
        {
          "output_type": "stream",
          "name": "stdout",
          "text": [
            "Episode 900/1000 | Loss: 0.000\n",
            "Episode 1000/1000 | Loss: 0.000\n",
            "Episode 100/1000 | Loss: 0.078\n",
            "Episode 200/1000 | Loss: 0.008\n",
            "Episode 300/1000 | Loss: 0.003\n",
            "Episode 400/1000 | Loss: 0.001\n",
            "Episode 500/1000 | Loss: 0.001\n",
            "Episode 600/1000 | Loss: 0.001\n",
            "Episode 700/1000 | Loss: 0.000\n",
            "Episode 800/1000 | Loss: 0.000\n"
          ]
        },
        {
          "output_type": "stream",
          "name": "stderr",
          "text": [
            "\r 69%|██████▉   | 69/100 [02:22<00:59,  1.93s/it]"
          ]
        },
        {
          "output_type": "stream",
          "name": "stdout",
          "text": [
            "Episode 900/1000 | Loss: 0.000\n",
            "Episode 1000/1000 | Loss: 0.000\n",
            "Episode 100/1000 | Loss: 0.090\n",
            "Episode 200/1000 | Loss: 0.008\n",
            "Episode 300/1000 | Loss: 0.003\n",
            "Episode 400/1000 | Loss: 0.002\n",
            "Episode 500/1000 | Loss: 0.001\n",
            "Episode 600/1000 | Loss: 0.001\n",
            "Episode 700/1000 | Loss: 0.000\n",
            "Episode 800/1000 | Loss: 0.000\n"
          ]
        },
        {
          "output_type": "stream",
          "name": "stderr",
          "text": [
            "\r 70%|███████   | 70/100 [02:24<00:57,  1.91s/it]"
          ]
        },
        {
          "output_type": "stream",
          "name": "stdout",
          "text": [
            "Episode 900/1000 | Loss: 0.000\n",
            "Episode 1000/1000 | Loss: 0.000\n",
            "Episode 100/1000 | Loss: 0.095\n",
            "Episode 200/1000 | Loss: 0.009\n",
            "Episode 300/1000 | Loss: 0.003\n",
            "Episode 400/1000 | Loss: 0.002\n",
            "Episode 500/1000 | Loss: 0.001\n",
            "Episode 600/1000 | Loss: 0.001\n",
            "Episode 700/1000 | Loss: 0.001\n",
            "Episode 800/1000 | Loss: 0.000\n",
            "Episode 900/1000 | Loss: 0.000\n"
          ]
        },
        {
          "output_type": "stream",
          "name": "stderr",
          "text": [
            "\r 71%|███████   | 71/100 [02:26<00:58,  2.01s/it]"
          ]
        },
        {
          "output_type": "stream",
          "name": "stdout",
          "text": [
            "Episode 1000/1000 | Loss: 0.000\n",
            "Episode 100/1000 | Loss: 0.092\n",
            "Episode 200/1000 | Loss: 0.008\n",
            "Episode 300/1000 | Loss: 0.003\n",
            "Episode 400/1000 | Loss: 0.002\n",
            "Episode 500/1000 | Loss: 0.001\n",
            "Episode 600/1000 | Loss: 0.001\n",
            "Episode 700/1000 | Loss: 0.000\n",
            "Episode 800/1000 | Loss: 0.000\n",
            "Episode 900/1000 | Loss: 0.000\n"
          ]
        },
        {
          "output_type": "stream",
          "name": "stderr",
          "text": [
            "\r 72%|███████▏  | 72/100 [02:28<00:59,  2.11s/it]"
          ]
        },
        {
          "output_type": "stream",
          "name": "stdout",
          "text": [
            "Episode 1000/1000 | Loss: 0.000\n",
            "Episode 100/1000 | Loss: 0.090\n",
            "Episode 200/1000 | Loss: 0.008\n",
            "Episode 300/1000 | Loss: 0.003\n",
            "Episode 400/1000 | Loss: 0.002\n",
            "Episode 500/1000 | Loss: 0.001\n",
            "Episode 600/1000 | Loss: 0.001\n",
            "Episode 700/1000 | Loss: 0.000\n",
            "Episode 800/1000 | Loss: 0.000\n"
          ]
        },
        {
          "output_type": "stream",
          "name": "stderr",
          "text": [
            "\r 73%|███████▎  | 73/100 [02:30<00:54,  2.03s/it]"
          ]
        },
        {
          "output_type": "stream",
          "name": "stdout",
          "text": [
            "Episode 900/1000 | Loss: 0.000\n",
            "Episode 1000/1000 | Loss: 0.000\n",
            "Episode 100/1000 | Loss: 0.089\n",
            "Episode 200/1000 | Loss: 0.008\n",
            "Episode 300/1000 | Loss: 0.003\n",
            "Episode 400/1000 | Loss: 0.002\n",
            "Episode 500/1000 | Loss: 0.001\n",
            "Episode 600/1000 | Loss: 0.001\n",
            "Episode 700/1000 | Loss: 0.000\n",
            "Episode 800/1000 | Loss: 0.000\n"
          ]
        },
        {
          "output_type": "stream",
          "name": "stderr",
          "text": [
            "\r 74%|███████▍  | 74/100 [02:32<00:51,  1.98s/it]"
          ]
        },
        {
          "output_type": "stream",
          "name": "stdout",
          "text": [
            "Episode 900/1000 | Loss: 0.000\n",
            "Episode 1000/1000 | Loss: 0.000\n",
            "Episode 100/1000 | Loss: 0.077\n",
            "Episode 200/1000 | Loss: 0.008\n",
            "Episode 300/1000 | Loss: 0.003\n",
            "Episode 400/1000 | Loss: 0.002\n",
            "Episode 500/1000 | Loss: 0.001\n",
            "Episode 600/1000 | Loss: 0.001\n",
            "Episode 700/1000 | Loss: 0.000\n",
            "Episode 800/1000 | Loss: 0.000\n"
          ]
        },
        {
          "output_type": "stream",
          "name": "stderr",
          "text": [
            "\r 75%|███████▌  | 75/100 [02:34<00:48,  1.94s/it]"
          ]
        },
        {
          "output_type": "stream",
          "name": "stdout",
          "text": [
            "Episode 900/1000 | Loss: 0.000\n",
            "Episode 1000/1000 | Loss: 0.000\n",
            "Episode 100/1000 | Loss: 0.089\n",
            "Episode 200/1000 | Loss: 0.008\n",
            "Episode 300/1000 | Loss: 0.003\n",
            "Episode 400/1000 | Loss: 0.002\n",
            "Episode 500/1000 | Loss: 0.001\n",
            "Episode 600/1000 | Loss: 0.001\n",
            "Episode 700/1000 | Loss: 0.000\n",
            "Episode 800/1000 | Loss: 0.000\n"
          ]
        },
        {
          "output_type": "stream",
          "name": "stderr",
          "text": [
            "\r 76%|███████▌  | 76/100 [02:36<00:45,  1.90s/it]"
          ]
        },
        {
          "output_type": "stream",
          "name": "stdout",
          "text": [
            "Episode 900/1000 | Loss: 0.000\n",
            "Episode 1000/1000 | Loss: 0.000\n",
            "Episode 100/1000 | Loss: 0.095\n",
            "Episode 200/1000 | Loss: 0.008\n",
            "Episode 300/1000 | Loss: 0.003\n",
            "Episode 400/1000 | Loss: 0.002\n",
            "Episode 500/1000 | Loss: 0.001\n",
            "Episode 600/1000 | Loss: 0.001\n",
            "Episode 700/1000 | Loss: 0.001\n",
            "Episode 800/1000 | Loss: 0.000\n"
          ]
        },
        {
          "output_type": "stream",
          "name": "stderr",
          "text": [
            "\r 77%|███████▋  | 77/100 [02:38<00:43,  1.89s/it]"
          ]
        },
        {
          "output_type": "stream",
          "name": "stdout",
          "text": [
            "Episode 900/1000 | Loss: 0.000\n",
            "Episode 1000/1000 | Loss: 0.000\n",
            "Episode 100/1000 | Loss: 0.092\n",
            "Episode 200/1000 | Loss: 0.008\n",
            "Episode 300/1000 | Loss: 0.003\n",
            "Episode 400/1000 | Loss: 0.002\n",
            "Episode 500/1000 | Loss: 0.001\n",
            "Episode 600/1000 | Loss: 0.001\n",
            "Episode 700/1000 | Loss: 0.001\n",
            "Episode 800/1000 | Loss: 0.000\n",
            "Episode 900/1000 | Loss: 0.000\n"
          ]
        },
        {
          "output_type": "stream",
          "name": "stderr",
          "text": [
            "\r 78%|███████▊  | 78/100 [02:40<00:46,  2.11s/it]"
          ]
        },
        {
          "output_type": "stream",
          "name": "stdout",
          "text": [
            "Episode 1000/1000 | Loss: 0.000\n",
            "Episode 100/1000 | Loss: 0.088\n",
            "Episode 200/1000 | Loss: 0.008\n",
            "Episode 300/1000 | Loss: 0.003\n",
            "Episode 400/1000 | Loss: 0.002\n",
            "Episode 500/1000 | Loss: 0.001\n",
            "Episode 600/1000 | Loss: 0.001\n",
            "Episode 700/1000 | Loss: 0.000\n",
            "Episode 800/1000 | Loss: 0.000\n",
            "Episode 900/1000 | Loss: 0.000\n"
          ]
        },
        {
          "output_type": "stream",
          "name": "stderr",
          "text": [
            "\r 79%|███████▉  | 79/100 [02:42<00:44,  2.10s/it]"
          ]
        },
        {
          "output_type": "stream",
          "name": "stdout",
          "text": [
            "Episode 1000/1000 | Loss: 0.000\n",
            "Episode 100/1000 | Loss: 0.093\n",
            "Episode 200/1000 | Loss: 0.009\n",
            "Episode 300/1000 | Loss: 0.003\n",
            "Episode 400/1000 | Loss: 0.002\n",
            "Episode 500/1000 | Loss: 0.001\n",
            "Episode 600/1000 | Loss: 0.001\n",
            "Episode 700/1000 | Loss: 0.000\n",
            "Episode 800/1000 | Loss: 0.000\n"
          ]
        },
        {
          "output_type": "stream",
          "name": "stderr",
          "text": [
            "\r 80%|████████  | 80/100 [02:44<00:40,  2.03s/it]"
          ]
        },
        {
          "output_type": "stream",
          "name": "stdout",
          "text": [
            "Episode 900/1000 | Loss: 0.000\n",
            "Episode 1000/1000 | Loss: 0.000\n",
            "Episode 100/1000 | Loss: 0.092\n",
            "Episode 200/1000 | Loss: 0.008\n",
            "Episode 300/1000 | Loss: 0.003\n",
            "Episode 400/1000 | Loss: 0.002\n",
            "Episode 500/1000 | Loss: 0.001\n",
            "Episode 600/1000 | Loss: 0.001\n",
            "Episode 700/1000 | Loss: 0.000\n",
            "Episode 800/1000 | Loss: 0.000\n"
          ]
        },
        {
          "output_type": "stream",
          "name": "stderr",
          "text": [
            "\r 81%|████████  | 81/100 [02:46<00:37,  1.97s/it]"
          ]
        },
        {
          "output_type": "stream",
          "name": "stdout",
          "text": [
            "Episode 900/1000 | Loss: 0.000\n",
            "Episode 1000/1000 | Loss: 0.000\n",
            "Episode 100/1000 | Loss: 0.079\n",
            "Episode 200/1000 | Loss: 0.008\n",
            "Episode 300/1000 | Loss: 0.003\n",
            "Episode 400/1000 | Loss: 0.002\n",
            "Episode 500/1000 | Loss: 0.001\n",
            "Episode 600/1000 | Loss: 0.001\n",
            "Episode 700/1000 | Loss: 0.000\n",
            "Episode 800/1000 | Loss: 0.000\n"
          ]
        },
        {
          "output_type": "stream",
          "name": "stderr",
          "text": [
            "\r 82%|████████▏ | 82/100 [02:48<00:34,  1.94s/it]"
          ]
        },
        {
          "output_type": "stream",
          "name": "stdout",
          "text": [
            "Episode 900/1000 | Loss: 0.000\n",
            "Episode 1000/1000 | Loss: 0.000\n",
            "Episode 100/1000 | Loss: 0.084\n",
            "Episode 200/1000 | Loss: 0.008\n",
            "Episode 300/1000 | Loss: 0.003\n",
            "Episode 400/1000 | Loss: 0.002\n",
            "Episode 500/1000 | Loss: 0.001\n",
            "Episode 600/1000 | Loss: 0.001\n",
            "Episode 700/1000 | Loss: 0.000\n",
            "Episode 800/1000 | Loss: 0.000\n"
          ]
        },
        {
          "output_type": "stream",
          "name": "stderr",
          "text": [
            "\r 83%|████████▎ | 83/100 [02:50<00:32,  1.93s/it]"
          ]
        },
        {
          "output_type": "stream",
          "name": "stdout",
          "text": [
            "Episode 900/1000 | Loss: 0.000\n",
            "Episode 1000/1000 | Loss: 0.000\n",
            "Episode 100/1000 | Loss: 0.084\n",
            "Episode 200/1000 | Loss: 0.008\n",
            "Episode 300/1000 | Loss: 0.003\n",
            "Episode 400/1000 | Loss: 0.002\n",
            "Episode 500/1000 | Loss: 0.001\n",
            "Episode 600/1000 | Loss: 0.001\n",
            "Episode 700/1000 | Loss: 0.000\n",
            "Episode 800/1000 | Loss: 0.000\n",
            "Episode 900/1000 | Loss: 0.000\n"
          ]
        },
        {
          "output_type": "stream",
          "name": "stderr",
          "text": [
            "\r 84%|████████▍ | 84/100 [02:52<00:32,  2.01s/it]"
          ]
        },
        {
          "output_type": "stream",
          "name": "stdout",
          "text": [
            "Episode 1000/1000 | Loss: 0.000\n",
            "Episode 100/1000 | Loss: 0.085\n",
            "Episode 200/1000 | Loss: 0.008\n",
            "Episode 300/1000 | Loss: 0.003\n",
            "Episode 400/1000 | Loss: 0.002\n",
            "Episode 500/1000 | Loss: 0.001\n",
            "Episode 600/1000 | Loss: 0.001\n",
            "Episode 700/1000 | Loss: 0.000\n",
            "Episode 800/1000 | Loss: 0.000\n"
          ]
        },
        {
          "output_type": "stream",
          "name": "stderr",
          "text": [
            "\r 85%|████████▌ | 85/100 [02:54<00:31,  2.13s/it]"
          ]
        },
        {
          "output_type": "stream",
          "name": "stdout",
          "text": [
            "Episode 900/1000 | Loss: 0.000\n",
            "Episode 1000/1000 | Loss: 0.000\n",
            "Episode 100/1000 | Loss: 0.087\n",
            "Episode 200/1000 | Loss: 0.008\n",
            "Episode 300/1000 | Loss: 0.003\n",
            "Episode 400/1000 | Loss: 0.002\n",
            "Episode 500/1000 | Loss: 0.001\n",
            "Episode 600/1000 | Loss: 0.001\n",
            "Episode 700/1000 | Loss: 0.000\n",
            "Episode 800/1000 | Loss: 0.000\n"
          ]
        },
        {
          "output_type": "stream",
          "name": "stderr",
          "text": [
            "\r 86%|████████▌ | 86/100 [02:56<00:28,  2.04s/it]"
          ]
        },
        {
          "output_type": "stream",
          "name": "stdout",
          "text": [
            "Episode 900/1000 | Loss: 0.000\n",
            "Episode 1000/1000 | Loss: 0.000\n",
            "Episode 100/1000 | Loss: 0.087\n",
            "Episode 200/1000 | Loss: 0.008\n",
            "Episode 300/1000 | Loss: 0.003\n",
            "Episode 400/1000 | Loss: 0.002\n",
            "Episode 500/1000 | Loss: 0.001\n",
            "Episode 600/1000 | Loss: 0.001\n",
            "Episode 700/1000 | Loss: 0.000\n",
            "Episode 800/1000 | Loss: 0.000\n"
          ]
        },
        {
          "output_type": "stream",
          "name": "stderr",
          "text": [
            "\r 87%|████████▋ | 87/100 [02:58<00:25,  1.99s/it]"
          ]
        },
        {
          "output_type": "stream",
          "name": "stdout",
          "text": [
            "Episode 900/1000 | Loss: 0.000\n",
            "Episode 1000/1000 | Loss: 0.000\n",
            "Episode 100/1000 | Loss: 0.088\n",
            "Episode 200/1000 | Loss: 0.008\n",
            "Episode 300/1000 | Loss: 0.003\n",
            "Episode 400/1000 | Loss: 0.002\n",
            "Episode 500/1000 | Loss: 0.001\n",
            "Episode 600/1000 | Loss: 0.001\n",
            "Episode 700/1000 | Loss: 0.000\n",
            "Episode 800/1000 | Loss: 0.000\n"
          ]
        },
        {
          "output_type": "stream",
          "name": "stderr",
          "text": [
            "\r 88%|████████▊ | 88/100 [03:00<00:23,  1.95s/it]"
          ]
        },
        {
          "output_type": "stream",
          "name": "stdout",
          "text": [
            "Episode 900/1000 | Loss: 0.000\n",
            "Episode 1000/1000 | Loss: 0.000\n",
            "Episode 100/1000 | Loss: 0.080\n",
            "Episode 200/1000 | Loss: 0.008\n",
            "Episode 300/1000 | Loss: 0.003\n",
            "Episode 400/1000 | Loss: 0.002\n",
            "Episode 500/1000 | Loss: 0.001\n",
            "Episode 600/1000 | Loss: 0.001\n",
            "Episode 700/1000 | Loss: 0.000\n",
            "Episode 800/1000 | Loss: 0.000\n"
          ]
        },
        {
          "output_type": "stream",
          "name": "stderr",
          "text": [
            "\r 89%|████████▉ | 89/100 [03:02<00:21,  1.93s/it]"
          ]
        },
        {
          "output_type": "stream",
          "name": "stdout",
          "text": [
            "Episode 900/1000 | Loss: 0.000\n",
            "Episode 1000/1000 | Loss: 0.000\n",
            "Episode 100/1000 | Loss: 0.084\n",
            "Episode 200/1000 | Loss: 0.008\n",
            "Episode 300/1000 | Loss: 0.003\n",
            "Episode 400/1000 | Loss: 0.002\n",
            "Episode 500/1000 | Loss: 0.001\n",
            "Episode 600/1000 | Loss: 0.001\n",
            "Episode 700/1000 | Loss: 0.000\n",
            "Episode 800/1000 | Loss: 0.000\n",
            "Episode 900/1000 | Loss: 0.000\n"
          ]
        },
        {
          "output_type": "stream",
          "name": "stderr",
          "text": [
            "\r 90%|█████████ | 90/100 [03:04<00:19,  1.94s/it]"
          ]
        },
        {
          "output_type": "stream",
          "name": "stdout",
          "text": [
            "Episode 1000/1000 | Loss: 0.000\n",
            "Episode 100/1000 | Loss: 0.096\n",
            "Episode 200/1000 | Loss: 0.008\n",
            "Episode 300/1000 | Loss: 0.003\n",
            "Episode 400/1000 | Loss: 0.002\n",
            "Episode 500/1000 | Loss: 0.001\n",
            "Episode 600/1000 | Loss: 0.001\n",
            "Episode 700/1000 | Loss: 0.000\n",
            "Episode 800/1000 | Loss: 0.000\n",
            "Episode 900/1000 | Loss: 0.000\n"
          ]
        },
        {
          "output_type": "stream",
          "name": "stderr",
          "text": [
            "\r 91%|█████████ | 91/100 [03:06<00:19,  2.14s/it]"
          ]
        },
        {
          "output_type": "stream",
          "name": "stdout",
          "text": [
            "Episode 1000/1000 | Loss: 0.000\n",
            "Episode 100/1000 | Loss: 0.081\n",
            "Episode 200/1000 | Loss: 0.008\n",
            "Episode 300/1000 | Loss: 0.003\n",
            "Episode 400/1000 | Loss: 0.001\n",
            "Episode 500/1000 | Loss: 0.001\n",
            "Episode 600/1000 | Loss: 0.001\n",
            "Episode 700/1000 | Loss: 0.000\n",
            "Episode 800/1000 | Loss: 0.000\n",
            "Episode 900/1000 | Loss: 0.000\n"
          ]
        },
        {
          "output_type": "stream",
          "name": "stderr",
          "text": [
            "\r 92%|█████████▏| 92/100 [03:08<00:17,  2.13s/it]"
          ]
        },
        {
          "output_type": "stream",
          "name": "stdout",
          "text": [
            "Episode 1000/1000 | Loss: 0.000\n",
            "Episode 100/1000 | Loss: 0.091\n",
            "Episode 200/1000 | Loss: 0.008\n",
            "Episode 300/1000 | Loss: 0.003\n",
            "Episode 400/1000 | Loss: 0.002\n",
            "Episode 500/1000 | Loss: 0.001\n",
            "Episode 600/1000 | Loss: 0.001\n",
            "Episode 700/1000 | Loss: 0.000\n",
            "Episode 800/1000 | Loss: 0.000\n"
          ]
        },
        {
          "output_type": "stream",
          "name": "stderr",
          "text": [
            "\r 93%|█████████▎| 93/100 [03:10<00:14,  2.04s/it]"
          ]
        },
        {
          "output_type": "stream",
          "name": "stdout",
          "text": [
            "Episode 900/1000 | Loss: 0.000\n",
            "Episode 1000/1000 | Loss: 0.000\n",
            "Episode 100/1000 | Loss: 0.093\n",
            "Episode 200/1000 | Loss: 0.008\n",
            "Episode 300/1000 | Loss: 0.003\n",
            "Episode 400/1000 | Loss: 0.002\n",
            "Episode 500/1000 | Loss: 0.001\n",
            "Episode 600/1000 | Loss: 0.001\n",
            "Episode 700/1000 | Loss: 0.000\n",
            "Episode 800/1000 | Loss: 0.000\n"
          ]
        },
        {
          "output_type": "stream",
          "name": "stderr",
          "text": [
            "\r 94%|█████████▍| 94/100 [03:12<00:11,  1.99s/it]"
          ]
        },
        {
          "output_type": "stream",
          "name": "stdout",
          "text": [
            "Episode 900/1000 | Loss: 0.000\n",
            "Episode 1000/1000 | Loss: 0.000\n",
            "Episode 100/1000 | Loss: 0.089\n",
            "Episode 200/1000 | Loss: 0.008\n",
            "Episode 300/1000 | Loss: 0.003\n",
            "Episode 400/1000 | Loss: 0.002\n",
            "Episode 500/1000 | Loss: 0.001\n",
            "Episode 600/1000 | Loss: 0.001\n",
            "Episode 700/1000 | Loss: 0.000\n",
            "Episode 800/1000 | Loss: 0.000\n"
          ]
        },
        {
          "output_type": "stream",
          "name": "stderr",
          "text": [
            "\r 95%|█████████▌| 95/100 [03:14<00:09,  1.92s/it]"
          ]
        },
        {
          "output_type": "stream",
          "name": "stdout",
          "text": [
            "Episode 900/1000 | Loss: 0.000\n",
            "Episode 1000/1000 | Loss: 0.000\n",
            "Episode 100/1000 | Loss: 0.091\n",
            "Episode 200/1000 | Loss: 0.008\n",
            "Episode 300/1000 | Loss: 0.003\n",
            "Episode 400/1000 | Loss: 0.002\n",
            "Episode 500/1000 | Loss: 0.001\n",
            "Episode 600/1000 | Loss: 0.001\n",
            "Episode 700/1000 | Loss: 0.000\n",
            "Episode 800/1000 | Loss: 0.000\n"
          ]
        },
        {
          "output_type": "stream",
          "name": "stderr",
          "text": [
            "\r 96%|█████████▌| 96/100 [03:16<00:07,  1.90s/it]"
          ]
        },
        {
          "output_type": "stream",
          "name": "stdout",
          "text": [
            "Episode 900/1000 | Loss: 0.000\n",
            "Episode 1000/1000 | Loss: 0.000\n",
            "Episode 100/1000 | Loss: 0.087\n",
            "Episode 200/1000 | Loss: 0.008\n",
            "Episode 300/1000 | Loss: 0.003\n",
            "Episode 400/1000 | Loss: 0.002\n",
            "Episode 500/1000 | Loss: 0.001\n",
            "Episode 600/1000 | Loss: 0.001\n",
            "Episode 700/1000 | Loss: 0.000\n",
            "Episode 800/1000 | Loss: 0.000\n",
            "Episode 900/1000 | Loss: 0.000\n"
          ]
        },
        {
          "output_type": "stream",
          "name": "stderr",
          "text": [
            "\r 97%|█████████▋| 97/100 [03:18<00:05,  1.94s/it]"
          ]
        },
        {
          "output_type": "stream",
          "name": "stdout",
          "text": [
            "Episode 1000/1000 | Loss: 0.000\n",
            "Episode 100/1000 | Loss: 0.091\n",
            "Episode 200/1000 | Loss: 0.008\n",
            "Episode 300/1000 | Loss: 0.003\n",
            "Episode 400/1000 | Loss: 0.002\n",
            "Episode 500/1000 | Loss: 0.001\n",
            "Episode 600/1000 | Loss: 0.001\n",
            "Episode 700/1000 | Loss: 0.000\n",
            "Episode 800/1000 | Loss: 0.000\n",
            "Episode 900/1000 | Loss: 0.000\n"
          ]
        },
        {
          "output_type": "stream",
          "name": "stderr",
          "text": [
            "\r 98%|█████████▊| 98/100 [03:20<00:04,  2.13s/it]"
          ]
        },
        {
          "output_type": "stream",
          "name": "stdout",
          "text": [
            "Episode 1000/1000 | Loss: 0.000\n",
            "Episode 100/1000 | Loss: 0.091\n",
            "Episode 200/1000 | Loss: 0.008\n",
            "Episode 300/1000 | Loss: 0.003\n",
            "Episode 400/1000 | Loss: 0.002\n",
            "Episode 500/1000 | Loss: 0.001\n",
            "Episode 600/1000 | Loss: 0.001\n",
            "Episode 700/1000 | Loss: 0.001\n",
            "Episode 800/1000 | Loss: 0.000\n"
          ]
        },
        {
          "output_type": "stream",
          "name": "stderr",
          "text": [
            "\r 99%|█████████▉| 99/100 [03:22<00:02,  2.03s/it]"
          ]
        },
        {
          "output_type": "stream",
          "name": "stdout",
          "text": [
            "Episode 900/1000 | Loss: 0.000\n",
            "Episode 1000/1000 | Loss: 0.000\n",
            "Episode 100/1000 | Loss: 0.091\n",
            "Episode 200/1000 | Loss: 0.008\n",
            "Episode 300/1000 | Loss: 0.003\n",
            "Episode 400/1000 | Loss: 0.002\n",
            "Episode 500/1000 | Loss: 0.001\n",
            "Episode 600/1000 | Loss: 0.001\n",
            "Episode 700/1000 | Loss: 0.000\n",
            "Episode 800/1000 | Loss: 0.000\n"
          ]
        },
        {
          "output_type": "stream",
          "name": "stderr",
          "text": [
            "100%|██████████| 100/100 [03:24<00:00,  2.04s/it]"
          ]
        },
        {
          "output_type": "stream",
          "name": "stdout",
          "text": [
            "Episode 900/1000 | Loss: 0.000\n",
            "Episode 1000/1000 | Loss: 0.000\n"
          ]
        },
        {
          "output_type": "stream",
          "name": "stderr",
          "text": [
            "\n"
          ]
        }
      ]
    },
    {
      "cell_type": "code",
      "source": [
        "mean_losses_reinforce, std_err_losses_reinforce = calculate_mean_and_standard_error(all_losses_reinforce)"
      ],
      "metadata": {
        "id": "02QIhMeEQxa6"
      },
      "execution_count": null,
      "outputs": []
    },
    {
      "cell_type": "code",
      "source": [
        "print(std_err_losses_reinforce)"
      ],
      "metadata": {
        "id": "JJ7h0d5mNWzU",
        "colab": {
          "base_uri": "https://localhost:8080/"
        },
        "collapsed": true,
        "outputId": "a2fec4c9-7153-41b8-88db-9c7aa8845fc9"
      },
      "execution_count": null,
      "outputs": [
        {
          "output_type": "stream",
          "name": "stdout",
          "text": [
            "[1.49834740e-03 1.49575485e-03 1.49318394e-03 1.49063494e-03\n",
            " 1.48810487e-03 1.48559297e-03 1.48309389e-03 1.48060783e-03\n",
            " 1.47812969e-03 1.47565692e-03 1.47318255e-03 1.47070343e-03\n",
            " 1.46821423e-03 1.46570990e-03 1.46318581e-03 1.46063804e-03\n",
            " 1.45806158e-03 1.45545367e-03 1.45280947e-03 1.45012617e-03\n",
            " 1.44740034e-03 1.44462802e-03 1.44180614e-03 1.43893125e-03\n",
            " 1.43599940e-03 1.43300651e-03 1.42994859e-03 1.42682109e-03\n",
            " 1.42361982e-03 1.42033826e-03 1.41697241e-03 1.41351470e-03\n",
            " 1.40996046e-03 1.40630197e-03 1.40253266e-03 1.39864510e-03\n",
            " 1.39463090e-03 1.39048222e-03 1.38619043e-03 1.38174717e-03\n",
            " 1.37714244e-03 1.37236701e-03 1.36741027e-03 1.36226305e-03\n",
            " 1.35691462e-03 1.35135372e-03 1.34556960e-03 1.33955091e-03\n",
            " 1.33328565e-03 1.32676338e-03 1.31997173e-03 1.31289827e-03\n",
            " 1.30553116e-03 1.29785904e-03 1.28986957e-03 1.28155094e-03\n",
            " 1.27289144e-03 1.26387937e-03 1.25450470e-03 1.24475579e-03\n",
            " 1.23462296e-03 1.22409674e-03 1.21316779e-03 1.20182886e-03\n",
            " 1.19007242e-03 1.17789255e-03 1.16528393e-03 1.15224360e-03\n",
            " 1.13876880e-03 1.12485860e-03 1.11051414e-03 1.09573754e-03\n",
            " 1.08053287e-03 1.06490604e-03 1.04886544e-03 1.03242028e-03\n",
            " 1.01558243e-03 9.98365744e-04 9.80786326e-04 9.62861705e-04\n",
            " 9.44611450e-04 9.26057365e-04 9.07223096e-04 8.88133302e-04\n",
            " 8.68815670e-04 8.49297553e-04 8.29609272e-04 8.09781390e-04\n",
            " 7.89845503e-04 7.69834191e-04 7.49780213e-04 7.29717063e-04\n",
            " 7.09678310e-04 6.89697036e-04 6.69806140e-04 6.50037952e-04\n",
            " 6.30423899e-04 6.10994678e-04 5.91779456e-04 5.72806285e-04\n",
            " 5.54101614e-04 5.35689979e-04 5.17594645e-04 4.99836604e-04\n",
            " 4.82435116e-04 4.65407137e-04 4.48767904e-04 4.32530875e-04\n",
            " 4.16706641e-04 4.01304690e-04 3.86332087e-04 3.71794073e-04\n",
            " 3.57694240e-04 3.44034371e-04 3.30814702e-04 3.18033744e-04\n",
            " 3.05688992e-04 2.93776238e-04 2.82290431e-04 2.71225282e-04\n",
            " 2.60573547e-04 2.50327362e-04 2.40477804e-04 2.31015715e-04\n",
            " 2.21931117e-04 2.13213826e-04 2.04853124e-04 1.96838193e-04\n",
            " 1.89158042e-04 1.81801402e-04 1.74757164e-04 1.68014208e-04\n",
            " 1.61561293e-04 1.55387557e-04 1.49482032e-04 1.43834106e-04\n",
            " 1.38433344e-04 1.33269450e-04 1.28332541e-04 1.23612782e-04\n",
            " 1.19100953e-04 1.14787773e-04 1.10664496e-04 1.06722620e-04\n",
            " 1.02953918e-04 9.93505245e-05 9.59048001e-05 9.26094977e-05\n",
            " 8.94576039e-05 8.64424734e-05 8.35576604e-05 8.07970012e-05\n",
            " 7.81546978e-05 7.56251224e-05 7.32029839e-05 7.08831459e-05\n",
            " 6.86607847e-05 6.65312980e-05 6.44902416e-05 6.25334345e-05\n",
            " 6.06569030e-05 5.88568871e-05 5.71296893e-05 5.54719758e-05\n",
            " 5.38804677e-05 5.23520285e-05 5.08837333e-05 4.94728057e-05\n",
            " 4.81165552e-05 4.68124681e-05 4.55581545e-05 4.43513313e-05\n",
            " 4.31898468e-05 4.20716338e-05 4.09947202e-05 3.99572732e-05\n",
            " 3.89575368e-05 3.79938318e-05 3.70645634e-05 3.61681979e-05\n",
            " 3.53033153e-05 3.44685468e-05 3.36626065e-05 3.28842340e-05\n",
            " 3.21322998e-05 3.14056185e-05 3.07031750e-05 3.00239375e-05\n",
            " 2.93669308e-05 2.87312952e-05 2.81160898e-05 2.75205044e-05\n",
            " 2.69437352e-05 2.63850550e-05 2.58437314e-05 2.53190792e-05\n",
            " 2.48104364e-05 2.43172042e-05 2.38387395e-05 2.33745046e-05\n",
            " 2.29239579e-05 2.24865735e-05 2.20618633e-05 2.16493385e-05\n",
            " 2.12485830e-05 2.08591340e-05 2.04805644e-05 2.01125310e-05\n",
            " 1.97546054e-05 1.94064447e-05 1.90677051e-05 1.87380584e-05\n",
            " 1.84171824e-05 1.81047718e-05 1.78005524e-05 1.75042139e-05\n",
            " 1.72155181e-05 1.69341716e-05 1.66599677e-05 1.63926409e-05\n",
            " 1.61319864e-05 1.58777959e-05 1.56298066e-05 1.53878667e-05\n",
            " 1.51517629e-05 1.49213334e-05 1.46963709e-05 1.44767151e-05\n",
            " 1.42622113e-05 1.40526745e-05 1.38479685e-05 1.36479664e-05\n",
            " 1.34524825e-05 1.32614135e-05 1.30746268e-05 1.28919720e-05\n",
            " 1.27133449e-05 1.25386415e-05 1.23677059e-05 1.22004800e-05\n",
            " 1.20368103e-05 1.18766502e-05 1.17198409e-05 1.15663379e-05\n",
            " 1.14159990e-05 1.12687899e-05 1.11245862e-05 1.09833301e-05\n",
            " 1.08449337e-05 1.07093097e-05 1.05763869e-05 1.04461060e-05\n",
            " 1.03183926e-05 1.01931596e-05 1.00703763e-05 9.94994696e-06\n",
            " 9.83181864e-06 9.71595680e-06 9.60228280e-06 9.49073022e-06\n",
            " 9.38126413e-06 9.27381990e-06 9.16837273e-06 9.06484782e-06\n",
            " 8.96319169e-06 8.86338398e-06 8.76536908e-06 8.66909195e-06\n",
            " 8.57454099e-06 8.48162611e-06 8.39035284e-06 8.30067392e-06\n",
            " 8.21253172e-06 8.12590678e-06 8.04077191e-06 7.95707367e-06\n",
            " 7.87478523e-06 7.79387255e-06 7.71432423e-06 7.63607841e-06\n",
            " 7.55911964e-06 7.48342552e-06 7.40897112e-06 7.33571177e-06\n",
            " 7.26363429e-06 7.19270450e-06 7.12290618e-06 7.05419595e-06\n",
            " 6.98658354e-06 6.92002251e-06 6.85449189e-06 6.78997625e-06\n",
            " 6.72645348e-06 6.66389740e-06 6.60229533e-06 6.54161584e-06\n",
            " 6.48185120e-06 6.42298428e-06 6.36498872e-06 6.30784313e-06\n",
            " 6.25154292e-06 6.19606156e-06 6.14138939e-06 6.08750368e-06\n",
            " 6.03439662e-06 5.98205069e-06 5.93044002e-06 5.87956573e-06\n",
            " 5.82940903e-06 5.77993854e-06 5.73117887e-06 5.68308324e-06\n",
            " 5.63564212e-06 5.58886210e-06 5.54271798e-06 5.49720364e-06\n",
            " 5.45228704e-06 5.40797904e-06 5.36426831e-06 5.32114148e-06\n",
            " 5.27858200e-06 5.23657304e-06 5.19511835e-06 5.15421795e-06\n",
            " 5.11382447e-06 5.07397258e-06 5.03461597e-06 4.99577486e-06\n",
            " 4.95741304e-06 4.91954156e-06 4.88214762e-06 4.84522790e-06\n",
            " 4.80875700e-06 4.77274621e-06 4.73717502e-06 4.70204671e-06\n",
            " 4.66733480e-06 4.63305855e-06 4.59918741e-06 4.56573661e-06\n",
            " 4.53267591e-06 4.50001051e-06 4.46773527e-06 4.43584577e-06\n",
            " 4.40433011e-06 4.37317219e-06 4.34239120e-06 4.31197130e-06\n",
            " 4.28189581e-06 4.25216370e-06 4.22277259e-06 4.19371798e-06\n",
            " 4.16498752e-06 4.13659147e-06 4.10850834e-06 4.08073474e-06\n",
            " 4.05328556e-06 4.02613794e-06 3.99928412e-06 3.97273125e-06\n",
            " 3.94645797e-06 3.92047970e-06 3.89477787e-06 3.86936619e-06\n",
            " 3.84421943e-06 3.81934221e-06 3.79473411e-06 3.77038758e-06\n",
            " 3.74630507e-06 3.72246090e-06 3.69887110e-06 3.67553125e-06\n",
            " 3.65242920e-06 3.62957227e-06 3.60694760e-06 3.58456013e-06\n",
            " 3.56239497e-06 3.54046247e-06 3.51875811e-06 3.49726292e-06\n",
            " 3.47598520e-06 3.45493251e-06 3.43408171e-06 3.41343104e-06\n",
            " 3.39298681e-06 3.37275138e-06 3.35271242e-06 3.33287225e-06\n",
            " 3.31321692e-06 3.29376078e-06 3.27449776e-06 3.25541376e-06\n",
            " 3.23651509e-06 3.21778849e-06 3.19925118e-06 3.18088375e-06\n",
            " 3.16269903e-06 3.14467350e-06 3.12682057e-06 3.10913418e-06\n",
            " 3.09161700e-06 3.07425755e-06 3.05706174e-06 3.04002284e-06\n",
            " 3.02314122e-06 3.00641674e-06 2.98983947e-06 2.97341648e-06\n",
            " 2.95713930e-06 2.94101041e-06 2.92501882e-06 2.90918018e-06\n",
            " 2.89348373e-06 2.87792261e-06 2.86249762e-06 2.84720425e-06\n",
            " 2.83205270e-06 2.81703833e-06 2.80213991e-06 2.78738571e-06\n",
            " 2.77274763e-06 2.75824491e-06 2.74386573e-06 2.72959228e-06\n",
            " 2.71546214e-06 2.70144586e-06 2.68755023e-06 2.67376087e-06\n",
            " 2.66009909e-06 2.64654637e-06 2.63311727e-06 2.61978828e-06\n",
            " 2.60657524e-06 2.59347081e-06 2.58047265e-06 2.56758441e-06\n",
            " 2.55479352e-06 2.54211255e-06 2.52953044e-06 2.51706871e-06\n",
            " 2.50469006e-06 2.49242142e-06 2.48023889e-06 2.46816288e-06\n",
            " 2.45618386e-06 2.44429236e-06 2.43250008e-06 2.42079622e-06\n",
            " 2.40918334e-06 2.39767161e-06 2.38625095e-06 2.37491963e-06\n",
            " 2.36366447e-06 2.35249883e-06 2.34142630e-06 2.33043695e-06\n",
            " 2.31953515e-06 2.30870814e-06 2.29797279e-06 2.28731452e-06\n",
            " 2.27673370e-06 2.26623793e-06 2.25581779e-06 2.24547926e-06\n",
            " 2.23521500e-06 2.22503478e-06 2.21492237e-06 2.20488901e-06\n",
            " 2.19493064e-06 2.18504056e-06 2.17521973e-06 2.16547804e-06\n",
            " 2.15580725e-06 2.14620866e-06 2.13667537e-06 2.12721583e-06\n",
            " 2.11782120e-06 2.10849320e-06 2.09923123e-06 2.09003899e-06\n",
            " 2.08090967e-06 2.07184759e-06 2.06284556e-06 2.05391988e-06\n",
            " 2.04504597e-06 2.03622626e-06 2.02748541e-06 2.01879617e-06\n",
            " 2.01017171e-06 2.00161062e-06 1.99309880e-06 1.98466045e-06\n",
            " 1.97625897e-06 1.96793375e-06 1.95965726e-06 1.95143831e-06\n",
            " 1.94327702e-06 1.93516976e-06 1.92712024e-06 1.91912205e-06\n",
            " 1.91116677e-06 1.90328896e-06 1.89544127e-06 1.88766455e-06\n",
            " 1.87993050e-06 1.87224831e-06 1.86461847e-06 1.85703065e-06\n",
            " 1.84951008e-06 1.84202942e-06 1.83459422e-06 1.82720747e-06\n",
            " 1.81987116e-06 1.81258806e-06 1.80535312e-06 1.79816108e-06\n",
            " 1.79099930e-06 1.78390854e-06 1.77685230e-06 1.76984769e-06\n",
            " 1.76288441e-06 1.75595725e-06 1.74907682e-06 1.74224784e-06\n",
            " 1.73545618e-06 1.72871469e-06 1.72200971e-06 1.71534536e-06\n",
            " 1.70872872e-06 1.70214343e-06 1.69559846e-06 1.68909910e-06\n",
            " 1.68264429e-06 1.67623002e-06 1.66984499e-06 1.66350963e-06\n",
            " 1.65720518e-06 1.65094656e-06 1.64472008e-06 1.63853659e-06\n",
            " 1.63239185e-06 1.62628358e-06 1.62020209e-06 1.61416593e-06\n",
            " 1.60816520e-06 1.60219509e-06 1.59627684e-06 1.59037227e-06\n",
            " 1.58451370e-06 1.57868781e-06 1.57289733e-06 1.56714799e-06\n",
            " 1.56142222e-06 1.55573767e-06 1.55008100e-06 1.54446363e-06\n",
            " 1.53887226e-06 1.53330855e-06 1.52778784e-06 1.52229930e-06\n",
            " 1.51683783e-06 1.51140882e-06 1.50601038e-06 1.50063501e-06\n",
            " 1.49530986e-06 1.49000001e-06 1.48472117e-06 1.47947965e-06\n",
            " 1.47426275e-06 1.46908093e-06 1.46392029e-06 1.45879083e-06\n",
            " 1.45369227e-06 1.44862501e-06 1.44358677e-06 1.43857362e-06\n",
            " 1.43358132e-06 1.42861919e-06 1.42369352e-06 1.41879252e-06\n",
            " 1.41391441e-06 1.40905809e-06 1.40423652e-06 1.39944772e-06\n",
            " 1.39467937e-06 1.38992995e-06 1.38521915e-06 1.38052294e-06\n",
            " 1.37585791e-06 1.37121609e-06 1.36659039e-06 1.36200078e-06\n",
            " 1.35743832e-06 1.35288647e-06 1.34838330e-06 1.34388302e-06\n",
            " 1.33940160e-06 1.33496929e-06 1.33054981e-06 1.32614729e-06\n",
            " 1.32176306e-06 1.31741293e-06 1.31308621e-06 1.30877657e-06\n",
            " 1.30448847e-06 1.30023292e-06 1.29598754e-06 1.29176840e-06\n",
            " 1.28757561e-06 1.28340070e-06 1.27924201e-06 1.27511644e-06\n",
            " 1.27101337e-06 1.26692464e-06 1.26284058e-06 1.25879906e-06\n",
            " 1.25477623e-06 1.25076044e-06 1.24678682e-06 1.24281461e-06\n",
            " 1.23887426e-06 1.23494003e-06 1.23104191e-06 1.22715586e-06\n",
            " 1.22328487e-06 1.21944026e-06 1.21561317e-06 1.21180085e-06\n",
            " 1.20801475e-06 1.20423689e-06 1.20049041e-06 1.19675895e-06\n",
            " 1.19304288e-06 1.18934550e-06 1.18566455e-06 1.18200725e-06\n",
            " 1.17836709e-06 1.17474284e-06 1.17112953e-06 1.16753967e-06\n",
            " 1.16397142e-06 1.16041629e-06 1.15688000e-06 1.15335927e-06\n",
            " 1.14985565e-06 1.14637129e-06 1.14290527e-06 1.13944852e-06\n",
            " 1.13601389e-06 1.13258941e-06 1.12918961e-06 1.12579649e-06\n",
            " 1.12242558e-06 1.11908314e-06 1.11573458e-06 1.11241642e-06\n",
            " 1.10910375e-06 1.10580992e-06 1.10253804e-06 1.09927895e-06\n",
            " 1.09603075e-06 1.09279422e-06 1.08958337e-06 1.08638505e-06\n",
            " 1.08320098e-06 1.08002677e-06 1.07686785e-06 1.07372633e-06\n",
            " 1.07059438e-06 1.06748741e-06 1.06438486e-06 1.06130969e-06\n",
            " 1.05823372e-06 1.05516710e-06 1.05213516e-06 1.04910355e-06\n",
            " 1.04609342e-06 1.04309025e-06 1.04010452e-06 1.03713607e-06\n",
            " 1.03416897e-06 1.03122385e-06 1.02828573e-06 1.02536990e-06\n",
            " 1.02246109e-06 1.01956766e-06 1.01668529e-06 1.01382074e-06\n",
            " 1.01096318e-06 1.00811409e-06 1.00528306e-06 1.00246597e-06\n",
            " 9.99657251e-07 9.96871497e-07 9.94085733e-07 9.91317002e-07\n",
            " 9.88560173e-07 9.85817654e-07 9.83084766e-07 9.80364635e-07\n",
            " 9.77656157e-07 9.74957816e-07 9.72268732e-07 9.69599688e-07\n",
            " 9.66928293e-07 9.64286255e-07 9.61644292e-07 9.59022336e-07\n",
            " 9.56406816e-07 9.53795755e-07 9.51200614e-07 9.48620959e-07\n",
            " 9.46050157e-07 9.43482719e-07 9.40943699e-07 9.38404626e-07\n",
            " 9.35870555e-07 9.33352952e-07 9.30842864e-07 9.28343921e-07\n",
            " 9.25868714e-07 9.23386445e-07 9.20921794e-07 9.18468023e-07\n",
            " 9.16017809e-07 9.13587837e-07 9.11161233e-07 9.08753862e-07\n",
            " 9.06342385e-07 9.03950474e-07 9.01565517e-07 8.99190642e-07\n",
            " 8.96822408e-07 8.94466898e-07 8.92129872e-07 8.89792292e-07\n",
            " 8.87458351e-07 8.85147393e-07 8.82841764e-07 8.80542605e-07\n",
            " 8.78251590e-07 8.75979013e-07 8.73704776e-07 8.71448386e-07\n",
            " 8.69191832e-07 8.66960888e-07 8.64718507e-07 8.62493231e-07\n",
            " 8.60286493e-07 8.58078755e-07 8.55873623e-07 8.53690726e-07\n",
            " 8.51508103e-07 8.49341005e-07 8.47179370e-07 8.45022360e-07\n",
            " 8.42873893e-07 8.40741556e-07 8.38612463e-07 8.36497358e-07\n",
            " 8.34379313e-07 8.32275445e-07 8.30184012e-07 8.28097139e-07\n",
            " 8.26020608e-07 8.23947769e-07 8.21886788e-07 8.19832801e-07\n",
            " 8.17792221e-07 8.15747416e-07 8.13715614e-07 8.11697290e-07\n",
            " 8.09677218e-07 8.07672241e-07 8.05670766e-07 8.03686076e-07\n",
            " 8.01699398e-07 7.99721885e-07 7.97750884e-07 7.95796769e-07\n",
            " 7.93838605e-07 7.91898768e-07 7.89955668e-07 7.88025885e-07\n",
            " 7.86100445e-07 7.84193664e-07 7.82278010e-07 7.80367080e-07\n",
            " 7.78486128e-07 7.76593897e-07 7.74709394e-07 7.72838179e-07\n",
            " 7.70971042e-07 7.69118906e-07 7.67263754e-07 7.65412639e-07\n",
            " 7.63573090e-07 7.61742134e-07 7.59925075e-07 7.58107331e-07\n",
            " 7.56293437e-07 7.54488695e-07 7.52694298e-07 7.50901078e-07\n",
            " 7.49117966e-07 7.47331052e-07 7.45566326e-07 7.43803774e-07\n",
            " 7.42039605e-07 7.40287627e-07 7.38543551e-07 7.36808897e-07\n",
            " 7.35073401e-07 7.33349024e-07 7.31628037e-07 7.29912078e-07\n",
            " 7.28198744e-07 7.26504993e-07 7.24806411e-07 7.23122845e-07\n",
            " 7.21434021e-07 7.19763686e-07 7.18087554e-07 7.16426188e-07\n",
            " 7.14770577e-07 7.13108163e-07 7.11469175e-07 7.09825466e-07\n",
            " 7.08192372e-07 7.06558614e-07 7.04931945e-07 7.03314388e-07\n",
            " 7.01711679e-07 7.00105005e-07 6.98497670e-07 6.96902066e-07\n",
            " 6.95307747e-07 6.93737727e-07 6.92154712e-07 6.90581396e-07\n",
            " 6.89014432e-07 6.87454761e-07 6.85898244e-07 6.84348589e-07\n",
            " 6.82794181e-07 6.81259479e-07 6.79726063e-07 6.78191774e-07\n",
            " 6.76675523e-07 6.75158837e-07 6.73643656e-07 6.72132982e-07\n",
            " 6.70625459e-07 6.69126512e-07 6.67635248e-07 6.66154702e-07\n",
            " 6.64665784e-07 6.63196429e-07 6.61721747e-07 6.60255912e-07\n",
            " 6.58794643e-07 6.57334296e-07 6.55887623e-07 6.54440791e-07\n",
            " 6.52993440e-07 6.51554460e-07 6.50125621e-07 6.48700503e-07\n",
            " 6.47275234e-07 6.45854856e-07 6.44446169e-07 6.43034530e-07\n",
            " 6.41631930e-07 6.40230193e-07 6.38843711e-07 6.37455563e-07\n",
            " 6.36060062e-07 6.34686799e-07 6.33312478e-07 6.31936328e-07\n",
            " 6.30567481e-07 6.29207194e-07 6.27847273e-07 6.26501268e-07\n",
            " 6.25151135e-07 6.23806378e-07 6.22470683e-07 6.21131811e-07\n",
            " 6.19802288e-07 6.18481472e-07 6.17158925e-07 6.15837494e-07\n",
            " 6.14519861e-07 6.13209274e-07 6.11905791e-07 6.10609078e-07\n",
            " 6.09311428e-07 6.08020125e-07 6.06737105e-07 6.05449468e-07\n",
            " 6.04169167e-07 6.02894668e-07 6.01624204e-07 6.00360272e-07\n",
            " 5.99093024e-07 5.97834980e-07 5.96580555e-07 5.95324785e-07\n",
            " 5.94086681e-07 5.92839134e-07 5.91603336e-07 5.90366085e-07\n",
            " 5.89139739e-07 5.87913080e-07 5.86692165e-07 5.85465450e-07\n",
            " 5.84249188e-07 5.83039717e-07 5.81833897e-07 5.80627535e-07\n",
            " 5.79428176e-07 5.78244792e-07 5.77044758e-07 5.75850839e-07\n",
            " 5.74672672e-07 5.73483834e-07 5.72311111e-07 5.71141356e-07\n",
            " 5.69966772e-07 5.68804604e-07 5.67639904e-07 5.66479499e-07\n",
            " 5.65329152e-07 5.64175036e-07 5.63028766e-07 5.61886383e-07\n",
            " 5.60742456e-07 5.59607484e-07 5.58468414e-07 5.57341474e-07\n",
            " 5.56213918e-07 5.55090886e-07 5.53972935e-07 5.52858473e-07\n",
            " 5.51739963e-07 5.50634715e-07 5.49530333e-07 5.48421705e-07\n",
            " 5.47320246e-07 5.46224854e-07 5.45136857e-07 5.44047558e-07\n",
            " 5.42966233e-07 5.41878572e-07 5.40795010e-07 5.39719847e-07\n",
            " 5.38648902e-07 5.37582455e-07 5.36514361e-07 5.35447401e-07\n",
            " 5.34391744e-07 5.33333407e-07 5.32281323e-07 5.31232173e-07\n",
            " 5.30183520e-07 5.29135520e-07 5.28097949e-07 5.27059604e-07\n",
            " 5.26026594e-07 5.24998971e-07 5.23965665e-07 5.22942274e-07\n",
            " 5.21915717e-07 5.20894508e-07 5.19881349e-07 5.18872360e-07\n",
            " 5.17858979e-07 5.16852670e-07 5.15850019e-07 5.14847460e-07\n",
            " 5.13843781e-07 5.12855841e-07 5.11863297e-07 5.10867914e-07\n",
            " 5.09879791e-07 5.08898575e-07 5.07921865e-07 5.06946518e-07\n",
            " 5.05964702e-07 5.04997919e-07 5.04025115e-07 5.03060875e-07\n",
            " 5.02096655e-07 5.01135834e-07 5.00177103e-07 4.99218116e-07\n",
            " 4.98266688e-07 4.97321049e-07 4.96372929e-07 4.95429611e-07]\n"
          ]
        }
      ]
    },
    {
      "cell_type": "code",
      "source": [
        "plot_standard_error(mean_losses_reinforce, std_err_losses_reinforce, 'Learning Curve with SE for Multi Task Reinforcement Learning')"
      ],
      "metadata": {
        "colab": {
          "base_uri": "https://localhost:8080/",
          "height": 564
        },
        "id": "KXgMrL7RLloz",
        "outputId": "3cd89c3b-e778-4127-cb3b-3fe40226c966"
      },
      "execution_count": null,
      "outputs": [
        {
          "output_type": "display_data",
          "data": {
            "text/plain": [
              "<Figure size 1000x600 with 1 Axes>"
            ],
            "image/png": "[encoded data removed]"
          },
          "metadata": {}
        }
      ]
    }
  ],
  "metadata": {
    "accelerator": "GPU",
    "colab": {
      "gpuType": "T4",
      "provenance": [],
      "include_colab_link": true
    },
    "kernelspec": {
      "display_name": "Python 3",
      "name": "python3"
    },
    "language_info": {
      "name": "python"
    }
  },
  "nbformat": 4,
  "nbformat_minor": 0
}