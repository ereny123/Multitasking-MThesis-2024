{
  "cells": [
    {
      "cell_type": "markdown",
      "metadata": {
        "id": "view-in-github",
        "colab_type": "text"
      },
      "source": [
        "<a href=\"https://colab.research.google.com/github/ereny123/Multitasking-MThesis-2024/blob/main/Pytorch_NET_Multitask.ipynb\" target=\"_parent\"><img src=\"https://colab.research.google.com/assets/colab-badge.svg\" alt=\"Open In Colab\"/></a>"
      ]
    },
    {
      "cell_type": "code",
      "execution_count": null,
      "metadata": {
        "id": "vEze7K4r8bU1"
      },
      "outputs": [],
      "source": [
        "import torch\n",
        "import torch.nn as nn\n",
        "import torch.nn.functional as F\n",
        "import numpy\n",
        "from tqdm import tqdm\n",
        "import matplotlib.pyplot as plt\n",
        "import itertools\n",
        "import seaborn as sns"
      ]
    },
    {
      "cell_type": "code",
      "execution_count": null,
      "metadata": {
        "id": "Eo6cAkSZm1pN"
      },
      "outputs": [],
      "source": [
        "#create a model class\n",
        "class Model(nn.Module):\n",
        "\n",
        "  def __init__(self, in_tasks=9, in_stim=9, hidden=100, output=9, bias_weight=-2, coeff=0.3, thresh=0.0001):\n",
        "    super().__init__()\n",
        "\n",
        "    #Set Parameters\n",
        "    self.bias_weight = bias_weight   # default bias weight\n",
        "    self.coeff = coeff\n",
        "    self.thresh = thresh\n",
        "\n",
        "    self.task_hidden=nn.Linear(in_tasks, hidden)    #input layer(tasks) --> hidden layer\n",
        "    self.stim_hidden=nn.Linear(in_stim, hidden)     #input layer(stimuls) --> hidden layer\n",
        "    self.task_out=nn.Linear(in_tasks, output)       #Input Layer(tasks) --> output layer\n",
        "    self.hidden_out=nn.Linear(hidden, output)       #hidden layer --> output layer\n",
        "\n",
        "    self.task_hidden.weight=nn.Parameter(torch.FloatTensor(hidden, in_tasks).uniform_(-0.1, 0.1))   #input(tasks)-->hidden  weight\n",
        "    self.task_out.weight=nn.Parameter(torch.FloatTensor(output, in_tasks).uniform_(-0.1, 0.1))      #input(tasks) --> output weight\n",
        "    self.stim_hidden.weight=nn.Parameter(torch.FloatTensor(hidden, in_stim).uniform_(-0.1, 0.1))    #input(stimulus) -->hidden weight\n",
        "    self.hidden_out.weight=nn.Parameter(torch.FloatTensor(output, hidden).uniform_(-0.1, 0.1))      #hidden-->output  weight\n",
        "\n",
        "\n",
        "    self.task_hidden.bias=nn.Parameter(torch.ones(hidden) * bias_weight)                   #hidden layer bias\n",
        "    self.hidden_out.bias=nn.Parameter(torch.ones(output) * bias_weight)                    #output layer bias\n",
        "\n",
        "  def forward(self, taskData, stimulusData):\n",
        "\n",
        "    h_act=torch.sigmoid(self.task_hidden(taskData)+self.stim_hidden(stimulusData))   #hidden layer activation\n",
        "    out_act= torch.sigmoid(self.hidden_out(h_act)+self.task_out(taskData))           #output layer activation\n",
        "\n",
        "    return h_act, out_act\n",
        "\n"
      ]
    },
    {
      "cell_type": "code",
      "execution_count": null,
      "metadata": {
        "id": "8b7gAguAKdrO"
      },
      "outputs": [],
      "source": [
        "def plot_losses(losses, title):\n",
        "   # plt.figure(figsize=(10, 6))  # Increase the figure size for better readability\n",
        "    plt.plot(losses)\n",
        "    plt.xlabel('Episode')\n",
        "    plt.ylabel('Loss')\n",
        "    plt.title(title)\n",
        "\n",
        "   # plt.xticks(ticks=range(0, len(losses), max(1, len(losses) // 10)))\n",
        "    plt.yticks(ticks=numpy.linspace(min(losses), max(losses), 10))\n",
        "    plt.grid(True)\n",
        "    plt.show()\n"
      ]
    },
    {
      "cell_type": "code",
      "execution_count": null,
      "metadata": {
        "id": "u5PWtP67IrzM"
      },
      "outputs": [],
      "source": [
        "# Generate training data\n",
        "def generate_dataset_multitask(split_ratio=None):\n",
        "\n",
        "  #Generate stimulusData Patterns\n",
        "  stimulusData = torch.tensor([ [0, 0, 1, 0, 0, 1, 0, 0, 1],\n",
        "                                [0, 0, 1, 0, 0, 1, 0, 1, 0],\n",
        "                                [0, 0, 1, 0, 0, 1, 1, 0, 0],\n",
        "                                [0, 0, 1, 0, 1, 0, 0, 0, 1],\n",
        "                                [0, 0, 1, 0, 1, 0, 0, 1, 0],\n",
        "                                [0, 0, 1, 0, 1, 0, 1, 0, 0],\n",
        "                                [0, 0, 1, 1, 0, 0, 0, 0, 1],\n",
        "                                [0, 0, 1, 1, 0, 0, 0, 1, 0],\n",
        "                                [0, 0, 1, 1, 0, 0, 1, 0, 0],\n",
        "                                [0, 1, 0, 0, 0, 1, 0, 0, 1],\n",
        "                                [0, 1, 0, 0, 1, 0, 0, 0, 1],\n",
        "                                [0, 1, 0, 0, 0, 1, 0, 1, 0],\n",
        "                                [0, 1, 0, 0, 0, 1, 1, 0, 0],\n",
        "                                [0, 1, 0, 0, 1, 0, 0, 1, 0],\n",
        "                                [0, 1, 0, 0, 1, 0, 1, 0, 0],\n",
        "                                [0, 1, 0, 1, 0, 0, 0, 0, 1],\n",
        "                                [0, 1, 0, 1, 0, 0, 0, 1, 0],\n",
        "                                [0, 1, 0, 1, 0, 0, 1, 0, 0],\n",
        "                                [1, 0, 0, 0, 0, 1, 0, 0, 1],\n",
        "                                [1, 0, 0, 0, 0, 1, 0, 1, 0],\n",
        "                                [1, 0, 0, 0, 0, 1, 1, 0, 0],\n",
        "                                [1, 0, 0, 0, 1, 0, 0, 0, 1],\n",
        "                                [1, 0, 0, 1, 0, 0, 0, 0, 1],\n",
        "                                [1, 0, 0, 1, 0, 0, 0, 1, 0],\n",
        "                                [1, 0, 0, 1, 0, 0, 1, 0, 0],\n",
        "                                [1, 0, 0, 0, 1, 0, 0, 1, 0],\n",
        "                                [1, 0, 0, 0, 1, 0, 1, 0, 0]\n",
        "                                                           ] *20 , dtype=torch.float)\n",
        "\n",
        "\n",
        "# Generate task data patterns\n",
        "  taskDatapattern = torch.tensor([\n",
        "\n",
        "    [1, 1, 1, 0, 0, 0, 0, 0, 0] , #Task 1\n",
        "    [1, 1, 0, 1, 0, 0, 0, 0, 0] , #Task 2\n",
        "    [1, 1, 0, 0, 1, 0, 0, 0, 0] , #Task 3\n",
        "    [1, 1, 0, 0, 0, 1, 0, 0, 0] , #Task 4\n",
        "    [1, 1, 0, 0, 0, 0, 1, 0, 0] , #Task 5\n",
        "    [1, 1, 0, 0, 0, 0, 0, 1, 0] , #Task 6\n",
        "    [1, 1, 0, 0, 0, 0, 0, 0, 1] , #Task 7\n",
        "    [1, 0, 1, 0, 0, 0, 0, 0, 1] , #Task 8\n",
        "    [1, 0, 0, 1, 0, 0, 0, 0, 1] , #Task 9\n",
        "    [1, 0, 0, 0, 1, 0, 0, 0, 1] , #Task 10\n",
        "    [1, 0, 0, 0, 0, 1, 0, 0, 1] , #Task 11\n",
        "    [1, 0, 0, 0, 0, 0, 1, 0, 1] , #Task 12\n",
        "    [1, 0, 0, 0, 0, 0, 0, 1, 1] , #Task 13\n",
        "    [1, 0, 0, 0, 0, 0, 0, 1, 1] , #Task 14\n",
        "    [0, 1, 0, 0, 0, 0, 0, 1, 1] , #Task 15\n",
        "    [0, 0, 1, 0, 0, 0, 0, 1, 1] , #Task 16\n",
        "    [0, 0, 0, 1, 0, 0, 0, 1, 1] , #Task 17\n",
        "    [0, 0, 0, 0, 1, 0, 0, 1, 1] , #Task 18\n",
        "    [0, 0, 0, 0, 0, 1, 0, 1, 1] , #Task 19\n",
        "    [0, 0, 0, 0, 0, 0, 1, 1, 1] ] #Task 20\n",
        "\n",
        "                          , dtype=torch.float)\n",
        "\n",
        "  taskData = torch.cat([torch.stack([row] * 27) for row in taskDatapattern])\n",
        "\n",
        "#Define target data\n",
        "  targetData = torch.zeros((540,9), dtype=torch.float)\n",
        "\n",
        "\n",
        "  for i in range(len(targetData)):\n",
        "    for j in range(0, len(targetData[i]), 3):\n",
        "        if taskData[i, j:j+3].sum() > 0:\n",
        "            targetData[i, j:j+3] = stimulusData[i, j:j+3]\n",
        "\n",
        "\n",
        "  # Split into training and validation sets\n",
        "    dataset_size = len(stimulusData)\n",
        "    split_index = int(split_ratio * dataset_size)  # Determine split index\n",
        "\n",
        "    training_set = (stimulusData[:split_index], taskData[:split_index], targetData[:split_index])\n",
        "    validation_set = (stimulusData[split_index:], taskData[split_index:], targetData[split_index:])\n",
        "\n",
        "  return training_set, validation_set"
      ]
    },
    {
      "cell_type": "code",
      "execution_count": null,
      "metadata": {
        "id": "DdIxR1pxflNB"
      },
      "outputs": [],
      "source": [
        "training_set, validation_set = generate_dataset_multitask(split_ratio=0.7)"
      ]
    },
    {
      "cell_type": "code",
      "execution_count": null,
      "metadata": {
        "id": "epiOY0SiNu6d"
      },
      "outputs": [],
      "source": [
        "train_stimulus, train_task, train_target = training_set\n",
        "stimulusData_V, taskData_V, targetData_V  = validation_set"
      ]
    },
    {
      "cell_type": "code",
      "execution_count": null,
      "metadata": {
        "colab": {
          "base_uri": "https://localhost:8080/"
        },
        "collapsed": true,
        "id": "Abq89Crk7DGU",
        "outputId": "b6ecfe2a-b9c6-4cd8-9a51-0ff0e0af9f92"
      },
      "outputs": [
        {
          "output_type": "stream",
          "name": "stdout",
          "text": [
            "tensor([[1., 0., 0., 1., 0., 0., 0., 0., 0.],\n",
            "        [1., 0., 0., 1., 0., 0., 0., 0., 0.],\n",
            "        [1., 0., 0., 0., 1., 0., 0., 0., 0.],\n",
            "        [1., 0., 0., 0., 1., 0., 0., 0., 0.],\n",
            "        [0., 0., 1., 0., 0., 1., 0., 0., 0.],\n",
            "        [0., 0., 1., 0., 0., 1., 0., 0., 0.],\n",
            "        [0., 0., 1., 0., 0., 1., 0., 0., 0.],\n",
            "        [0., 0., 1., 0., 1., 0., 0., 0., 0.],\n",
            "        [0., 0., 1., 0., 1., 0., 0., 0., 0.],\n",
            "        [0., 0., 1., 0., 1., 0., 0., 0., 0.]])\n",
            "tensor([[1., 1., 0., 1., 0., 0., 0., 0., 0.],\n",
            "        [1., 1., 0., 1., 0., 0., 0., 0., 0.],\n",
            "        [1., 1., 0., 1., 0., 0., 0., 0., 0.],\n",
            "        [1., 1., 0., 1., 0., 0., 0., 0., 0.],\n",
            "        [1., 1., 0., 0., 1., 0., 0., 0., 0.],\n",
            "        [1., 1., 0., 0., 1., 0., 0., 0., 0.],\n",
            "        [1., 1., 0., 0., 1., 0., 0., 0., 0.],\n",
            "        [1., 1., 0., 0., 1., 0., 0., 0., 0.],\n",
            "        [1., 1., 0., 0., 1., 0., 0., 0., 0.],\n",
            "        [1., 1., 0., 0., 1., 0., 0., 0., 0.]])\n"
          ]
        }
      ],
      "source": [
        "#check sizes\n",
        "print(train_target[50:60])\n",
        "print(train_task[50:60])"
      ]
    },
    {
      "cell_type": "code",
      "execution_count": null,
      "metadata": {
        "id": "07chQ-FGKb-D"
      },
      "outputs": [],
      "source": [
        "#create an instance for Model\n",
        "model= Model()"
      ]
    },
    {
      "cell_type": "code",
      "execution_count": null,
      "metadata": {
        "colab": {
          "base_uri": "https://localhost:8080/"
        },
        "id": "XeNRNLqDU36X",
        "outputId": "a153a45c-fb8e-433e-c521-5d98d9521036"
      },
      "outputs": [
        {
          "output_type": "execute_result",
          "data": {
            "text/plain": [
              "(tensor([[0.0994, 0.1720, 0.1338,  ..., 0.1404, 0.1339, 0.1185],\n",
              "         [0.1034, 0.1578, 0.1230,  ..., 0.1351, 0.1220, 0.1287],\n",
              "         [0.1029, 0.1686, 0.1198,  ..., 0.1446, 0.1168, 0.1260],\n",
              "         ...,\n",
              "         [0.1339, 0.1668, 0.0952,  ..., 0.1297, 0.0993, 0.1665],\n",
              "         [0.1203, 0.1587, 0.1117,  ..., 0.1193, 0.1078, 0.1705],\n",
              "         [0.1197, 0.1695, 0.1088,  ..., 0.1279, 0.1031, 0.1671]],\n",
              "        grad_fn=<SigmoidBackward0>),\n",
              " tensor([[0.1178, 0.0920, 0.1201,  ..., 0.1452, 0.1314, 0.1402],\n",
              "         [0.1211, 0.0936, 0.1283,  ..., 0.1406, 0.1413, 0.1315],\n",
              "         [0.1051, 0.0974, 0.1343,  ..., 0.1502, 0.1357, 0.1463],\n",
              "         ...,\n",
              "         [0.1149, 0.1042, 0.1424,  ..., 0.1473, 0.1610, 0.1490],\n",
              "         [0.1155, 0.1029, 0.1475,  ..., 0.1275, 0.1572, 0.1169],\n",
              "         [0.1002, 0.1070, 0.1542,  ..., 0.1363, 0.1510, 0.1303]],\n",
              "        grad_fn=<SigmoidBackward0>))"
            ]
          },
          "metadata": {},
          "execution_count": 9
        }
      ],
      "source": [
        "model(train_stimulus, train_task)"
      ]
    },
    {
      "cell_type": "code",
      "execution_count": null,
      "metadata": {
        "colab": {
          "base_uri": "https://localhost:8080/"
        },
        "id": "9ix2uL8oI1_G",
        "outputId": "bec34670-a15c-4f6d-bccf-a3957400de4a"
      },
      "outputs": [
        {
          "name": "stdout",
          "output_type": "stream",
          "text": [
            "Size of taskData: torch.Size([378, 9])\n",
            "Size of stimulusData: torch.Size([378, 9])\n",
            "Size of trainData: torch.Size([378, 9])\n",
            "Size of Validation Stimulus torch.Size([162, 9])\n",
            "Size of Validation Task torch.Size([162, 9])\n",
            "Size of Validation Target torch.Size([162, 9])\n"
          ]
        }
      ],
      "source": [
        "#Check Sizes\n",
        "print(\"Size of taskData:\", train_task.size())\n",
        "print(\"Size of stimulusData:\", train_stimulus.size())\n",
        "print(\"Size of trainData:\", train_target.size())\n",
        "\n",
        "print(\"Size of Validation Stimulus\",stimulusData_V.shape)\n",
        "print(\"Size of Validation Task\",taskData_V.shape)\n",
        "print(\"Size of Validation Target\",targetData_V.shape)\n"
      ]
    },
    {
      "cell_type": "code",
      "execution_count": null,
      "metadata": {
        "id": "MQT82qTfdwQT"
      },
      "outputs": [],
      "source": [
        "#Train Online Method using back propagation\n",
        "def trainOnline(model, taskData, stimulusData, targetData, iterations, thresh=0.0001, lr=0.1):\n",
        "\n",
        "    criterion = nn.MSELoss()\n",
        "    optimizer = torch.optim.SGD(model.parameters(), lr=lr)\n",
        "    MSE_log = []\n",
        "\n",
        "    with tqdm(total=iterations) as pbar:\n",
        "        for i in range(iterations):\n",
        "            optimizer.zero_grad()\n",
        "            h_act, out_act = model(taskData, stimulusData)\n",
        "            loss = criterion(out_act, targetData)\n",
        "            loss.backward()\n",
        "            optimizer.step()\n",
        "            MSE = loss.item()\n",
        "            MSE_log.append(MSE)\n",
        "\n",
        "            if MSE < thresh:\n",
        "                break\n",
        "\n",
        "\n",
        "            pbar.set_postfix({'MSE': MSE})\n",
        "            pbar.update(1)\n",
        "\n",
        "    return MSE_log\n"
      ]
    },
    {
      "cell_type": "code",
      "execution_count": null,
      "metadata": {
        "colab": {
          "base_uri": "https://localhost:8080/"
        },
        "id": "t3IBy6DZEXYZ",
        "outputId": "4735f497-d1bb-4430-bb6e-e408ba23f76b"
      },
      "outputs": [
        {
          "output_type": "stream",
          "name": "stderr",
          "text": [
            "100%|██████████| 200000/200000 [20:56<00:00, 159.17it/s, MSE=0.000585]\n"
          ]
        }
      ],
      "source": [
        "MSE_log = trainOnline(model, train_stimulus, train_task, train_target, 200000)"
      ]
    },
    {
      "cell_type": "code",
      "execution_count": null,
      "metadata": {
        "colab": {
          "base_uri": "https://localhost:8080/",
          "height": 472
        },
        "id": "dXQzZBpXDxly",
        "outputId": "7efced39-0b7c-44eb-827e-b2bfc34c266e"
      },
      "outputs": [
        {
          "output_type": "display_data",
          "data": {
            "text/plain": [
              "<Figure size 640x480 with 1 Axes>"
            ],
            "image/png": "[encoded data removed]"
          },
          "metadata": {}
        }
      ],
      "source": [
        "single_log=plot_losses(MSE_log,'MultiTask - Supervised Training')"
      ]
    },
    {
      "cell_type": "code",
      "source": [
        "#Reinforcement learning using REINFORCE algorithm\n",
        "def reinforce_train(model, optimizer, taskData, stimulusData, reward):\n",
        "\n",
        "    optimizer.zero_grad()\n",
        "\n",
        "    _, outputs = model(taskData, stimulusData)\n",
        "    log_probs = torch.log(outputs.squeeze(0))\n",
        "\n",
        "    # REINFORCE loss\n",
        "    loss = -log_probs * reward\n",
        "    loss = loss.mean()\n",
        "    loss.backward()\n",
        "    optimizer.step()\n",
        "\n",
        "    return loss.item()"
      ],
      "metadata": {
        "id": "7S5RbPT0CWwY"
      },
      "execution_count": null,
      "outputs": []
    },
    {
      "cell_type": "code",
      "execution_count": null,
      "metadata": {
        "id": "SwEHK8hbd1pi"
      },
      "outputs": [],
      "source": [
        "#Reinforce traning Loop\n",
        "optimizer = torch.optim.Adam(model.parameters(), lr=0.001) #Define the Optimizer\n",
        "# Define training loop\n",
        "def train_Rein(model, optimizer, train_task, train_stimulus, train_target, num_episodes=1000, log_interval=1):\n",
        "    losses = []  # To store losses at each episode\n",
        "    for episode in range(1, num_episodes + 1):\n",
        "\n",
        "        # Forward pass\n",
        "        _, outputs = model(train_task, train_stimulus)\n",
        "\n",
        "        # Define reward\n",
        "        reward = torch.sum(outputs * train_target)\n",
        "\n",
        "        # Train using REINFORCE\n",
        "        loss = reinforce_train(model, optimizer, train_task, train_stimulus, reward)\n",
        "        losses.append(loss)\n",
        "        #Logging\n",
        "        if episode % log_interval == 0:\n",
        "            print(f\"Episode {episode}/{num_episodes} | Loss: {loss:.3f}\")\n",
        "    return losses"
      ]
    },
    {
      "cell_type": "code",
      "execution_count": null,
      "metadata": {
        "colab": {
          "base_uri": "https://localhost:8080/"
        },
        "collapsed": true,
        "id": "Ss29TQZLbK3j",
        "outputId": "5ac6c9d1-19aa-49cd-a7ac-6e3689a5e3f1"
      },
      "outputs": [
        {
          "output_type": "stream",
          "name": "stdout",
          "text": [
            "Episode 1/1000 | Loss: 221.426\n",
            "Episode 2/1000 | Loss: 219.477\n",
            "Episode 3/1000 | Loss: 217.541\n",
            "Episode 4/1000 | Loss: 215.619\n",
            "Episode 5/1000 | Loss: 213.710\n",
            "Episode 6/1000 | Loss: 211.812\n",
            "Episode 7/1000 | Loss: 209.923\n",
            "Episode 8/1000 | Loss: 208.041\n",
            "Episode 9/1000 | Loss: 206.162\n",
            "Episode 10/1000 | Loss: 204.285\n",
            "Episode 11/1000 | Loss: 202.409\n",
            "Episode 12/1000 | Loss: 200.532\n",
            "Episode 13/1000 | Loss: 198.653\n",
            "Episode 14/1000 | Loss: 196.772\n",
            "Episode 15/1000 | Loss: 194.888\n",
            "Episode 16/1000 | Loss: 193.000\n",
            "Episode 17/1000 | Loss: 191.109\n",
            "Episode 18/1000 | Loss: 189.215\n",
            "Episode 19/1000 | Loss: 187.316\n",
            "Episode 20/1000 | Loss: 185.413\n",
            "Episode 21/1000 | Loss: 183.505\n",
            "Episode 22/1000 | Loss: 181.593\n",
            "Episode 23/1000 | Loss: 179.675\n",
            "Episode 24/1000 | Loss: 177.753\n",
            "Episode 25/1000 | Loss: 175.825\n",
            "Episode 26/1000 | Loss: 173.892\n",
            "Episode 27/1000 | Loss: 171.954\n",
            "Episode 28/1000 | Loss: 170.010\n",
            "Episode 29/1000 | Loss: 168.060\n",
            "Episode 30/1000 | Loss: 166.105\n",
            "Episode 31/1000 | Loss: 164.145\n",
            "Episode 32/1000 | Loss: 162.178\n",
            "Episode 33/1000 | Loss: 160.206\n",
            "Episode 34/1000 | Loss: 158.229\n",
            "Episode 35/1000 | Loss: 156.246\n",
            "Episode 36/1000 | Loss: 154.259\n",
            "Episode 37/1000 | Loss: 152.266\n",
            "Episode 38/1000 | Loss: 150.268\n",
            "Episode 39/1000 | Loss: 148.266\n",
            "Episode 40/1000 | Loss: 146.260\n",
            "Episode 41/1000 | Loss: 144.250\n",
            "Episode 42/1000 | Loss: 142.236\n",
            "Episode 43/1000 | Loss: 140.219\n",
            "Episode 44/1000 | Loss: 138.200\n",
            "Episode 45/1000 | Loss: 136.178\n",
            "Episode 46/1000 | Loss: 134.154\n",
            "Episode 47/1000 | Loss: 132.130\n",
            "Episode 48/1000 | Loss: 130.105\n",
            "Episode 49/1000 | Loss: 128.079\n",
            "Episode 50/1000 | Loss: 126.055\n",
            "Episode 51/1000 | Loss: 124.032\n",
            "Episode 52/1000 | Loss: 122.011\n",
            "Episode 53/1000 | Loss: 119.992\n",
            "Episode 54/1000 | Loss: 117.977\n",
            "Episode 55/1000 | Loss: 115.966\n",
            "Episode 56/1000 | Loss: 113.961\n",
            "Episode 57/1000 | Loss: 111.961\n",
            "Episode 58/1000 | Loss: 109.968\n",
            "Episode 59/1000 | Loss: 107.982\n",
            "Episode 60/1000 | Loss: 106.005\n",
            "Episode 61/1000 | Loss: 104.036\n",
            "Episode 62/1000 | Loss: 102.078\n",
            "Episode 63/1000 | Loss: 100.131\n",
            "Episode 64/1000 | Loss: 98.196\n",
            "Episode 65/1000 | Loss: 96.273\n",
            "Episode 66/1000 | Loss: 94.364\n",
            "Episode 67/1000 | Loss: 92.469\n",
            "Episode 68/1000 | Loss: 90.589\n",
            "Episode 69/1000 | Loss: 88.726\n",
            "Episode 70/1000 | Loss: 86.879\n",
            "Episode 71/1000 | Loss: 85.050\n",
            "Episode 72/1000 | Loss: 83.240\n",
            "Episode 73/1000 | Loss: 81.449\n",
            "Episode 74/1000 | Loss: 79.677\n",
            "Episode 75/1000 | Loss: 77.927\n",
            "Episode 76/1000 | Loss: 76.198\n",
            "Episode 77/1000 | Loss: 74.491\n",
            "Episode 78/1000 | Loss: 72.806\n",
            "Episode 79/1000 | Loss: 71.145\n",
            "Episode 80/1000 | Loss: 69.508\n",
            "Episode 81/1000 | Loss: 67.895\n",
            "Episode 82/1000 | Loss: 66.307\n",
            "Episode 83/1000 | Loss: 64.744\n",
            "Episode 84/1000 | Loss: 63.206\n",
            "Episode 85/1000 | Loss: 61.695\n",
            "Episode 86/1000 | Loss: 60.210\n",
            "Episode 87/1000 | Loss: 58.752\n",
            "Episode 88/1000 | Loss: 57.320\n",
            "Episode 89/1000 | Loss: 55.916\n",
            "Episode 90/1000 | Loss: 54.538\n",
            "Episode 91/1000 | Loss: 53.189\n",
            "Episode 92/1000 | Loss: 51.866\n",
            "Episode 93/1000 | Loss: 50.571\n",
            "Episode 94/1000 | Loss: 49.303\n",
            "Episode 95/1000 | Loss: 48.063\n",
            "Episode 96/1000 | Loss: 46.851\n",
            "Episode 97/1000 | Loss: 45.665\n",
            "Episode 98/1000 | Loss: 44.507\n",
            "Episode 99/1000 | Loss: 43.375\n",
            "Episode 100/1000 | Loss: 42.271\n",
            "Episode 101/1000 | Loss: 41.192\n",
            "Episode 102/1000 | Loss: 40.140\n",
            "Episode 103/1000 | Loss: 39.115\n",
            "Episode 104/1000 | Loss: 38.114\n",
            "Episode 105/1000 | Loss: 37.139\n",
            "Episode 106/1000 | Loss: 36.190\n",
            "Episode 107/1000 | Loss: 35.264\n",
            "Episode 108/1000 | Loss: 34.364\n",
            "Episode 109/1000 | Loss: 33.487\n",
            "Episode 110/1000 | Loss: 32.633\n",
            "Episode 111/1000 | Loss: 31.802\n",
            "Episode 112/1000 | Loss: 30.995\n",
            "Episode 113/1000 | Loss: 30.209\n",
            "Episode 114/1000 | Loss: 29.445\n",
            "Episode 115/1000 | Loss: 28.702\n",
            "Episode 116/1000 | Loss: 27.980\n",
            "Episode 117/1000 | Loss: 27.278\n",
            "Episode 118/1000 | Loss: 26.597\n",
            "Episode 119/1000 | Loss: 25.934\n",
            "Episode 120/1000 | Loss: 25.291\n",
            "Episode 121/1000 | Loss: 24.666\n",
            "Episode 122/1000 | Loss: 24.059\n",
            "Episode 123/1000 | Loss: 23.470\n",
            "Episode 124/1000 | Loss: 22.897\n",
            "Episode 125/1000 | Loss: 22.342\n",
            "Episode 126/1000 | Loss: 21.802\n",
            "Episode 127/1000 | Loss: 21.279\n",
            "Episode 128/1000 | Loss: 20.770\n",
            "Episode 129/1000 | Loss: 20.276\n",
            "Episode 130/1000 | Loss: 19.797\n",
            "Episode 131/1000 | Loss: 19.332\n",
            "Episode 132/1000 | Loss: 18.881\n",
            "Episode 133/1000 | Loss: 18.442\n",
            "Episode 134/1000 | Loss: 18.017\n",
            "Episode 135/1000 | Loss: 17.604\n",
            "Episode 136/1000 | Loss: 17.203\n",
            "Episode 137/1000 | Loss: 16.814\n",
            "Episode 138/1000 | Loss: 16.436\n",
            "Episode 139/1000 | Loss: 16.069\n",
            "Episode 140/1000 | Loss: 15.713\n",
            "Episode 141/1000 | Loss: 15.367\n",
            "Episode 142/1000 | Loss: 15.030\n",
            "Episode 143/1000 | Loss: 14.704\n",
            "Episode 144/1000 | Loss: 14.387\n",
            "Episode 145/1000 | Loss: 14.079\n",
            "Episode 146/1000 | Loss: 13.780\n",
            "Episode 147/1000 | Loss: 13.490\n",
            "Episode 148/1000 | Loss: 13.207\n",
            "Episode 149/1000 | Loss: 12.933\n",
            "Episode 150/1000 | Loss: 12.666\n",
            "Episode 151/1000 | Loss: 12.407\n",
            "Episode 152/1000 | Loss: 12.155\n",
            "Episode 153/1000 | Loss: 11.910\n",
            "Episode 154/1000 | Loss: 11.671\n",
            "Episode 155/1000 | Loss: 11.440\n",
            "Episode 156/1000 | Loss: 11.214\n",
            "Episode 157/1000 | Loss: 10.995\n",
            "Episode 158/1000 | Loss: 10.782\n",
            "Episode 159/1000 | Loss: 10.574\n",
            "Episode 160/1000 | Loss: 10.372\n",
            "Episode 161/1000 | Loss: 10.176\n",
            "Episode 162/1000 | Loss: 9.984\n",
            "Episode 163/1000 | Loss: 9.798\n",
            "Episode 164/1000 | Loss: 9.617\n",
            "Episode 165/1000 | Loss: 9.440\n",
            "Episode 166/1000 | Loss: 9.268\n",
            "Episode 167/1000 | Loss: 9.100\n",
            "Episode 168/1000 | Loss: 8.937\n",
            "Episode 169/1000 | Loss: 8.778\n",
            "Episode 170/1000 | Loss: 8.623\n",
            "Episode 171/1000 | Loss: 8.472\n",
            "Episode 172/1000 | Loss: 8.324\n",
            "Episode 173/1000 | Loss: 8.180\n",
            "Episode 174/1000 | Loss: 8.040\n",
            "Episode 175/1000 | Loss: 7.903\n",
            "Episode 176/1000 | Loss: 7.770\n",
            "Episode 177/1000 | Loss: 7.640\n",
            "Episode 178/1000 | Loss: 7.513\n",
            "Episode 179/1000 | Loss: 7.389\n",
            "Episode 180/1000 | Loss: 7.268\n",
            "Episode 181/1000 | Loss: 7.150\n",
            "Episode 182/1000 | Loss: 7.035\n",
            "Episode 183/1000 | Loss: 6.922\n",
            "Episode 184/1000 | Loss: 6.812\n",
            "Episode 185/1000 | Loss: 6.704\n",
            "Episode 186/1000 | Loss: 6.599\n",
            "Episode 187/1000 | Loss: 6.497\n",
            "Episode 188/1000 | Loss: 6.397\n",
            "Episode 189/1000 | Loss: 6.299\n",
            "Episode 190/1000 | Loss: 6.203\n",
            "Episode 191/1000 | Loss: 6.109\n",
            "Episode 192/1000 | Loss: 6.018\n",
            "Episode 193/1000 | Loss: 5.928\n",
            "Episode 194/1000 | Loss: 5.840\n",
            "Episode 195/1000 | Loss: 5.755\n",
            "Episode 196/1000 | Loss: 5.671\n",
            "Episode 197/1000 | Loss: 5.589\n",
            "Episode 198/1000 | Loss: 5.508\n",
            "Episode 199/1000 | Loss: 5.430\n",
            "Episode 200/1000 | Loss: 5.353\n",
            "Episode 201/1000 | Loss: 5.278\n",
            "Episode 202/1000 | Loss: 5.204\n",
            "Episode 203/1000 | Loss: 5.132\n",
            "Episode 204/1000 | Loss: 5.061\n",
            "Episode 205/1000 | Loss: 4.991\n",
            "Episode 206/1000 | Loss: 4.924\n",
            "Episode 207/1000 | Loss: 4.857\n",
            "Episode 208/1000 | Loss: 4.792\n",
            "Episode 209/1000 | Loss: 4.728\n",
            "Episode 210/1000 | Loss: 4.665\n",
            "Episode 211/1000 | Loss: 4.604\n",
            "Episode 212/1000 | Loss: 4.544\n",
            "Episode 213/1000 | Loss: 4.485\n",
            "Episode 214/1000 | Loss: 4.427\n",
            "Episode 215/1000 | Loss: 4.370\n",
            "Episode 216/1000 | Loss: 4.314\n",
            "Episode 217/1000 | Loss: 4.260\n",
            "Episode 218/1000 | Loss: 4.206\n",
            "Episode 219/1000 | Loss: 4.153\n",
            "Episode 220/1000 | Loss: 4.102\n",
            "Episode 221/1000 | Loss: 4.051\n",
            "Episode 222/1000 | Loss: 4.001\n",
            "Episode 223/1000 | Loss: 3.953\n",
            "Episode 224/1000 | Loss: 3.905\n",
            "Episode 225/1000 | Loss: 3.858\n",
            "Episode 226/1000 | Loss: 3.811\n",
            "Episode 227/1000 | Loss: 3.766\n",
            "Episode 228/1000 | Loss: 3.721\n",
            "Episode 229/1000 | Loss: 3.678\n",
            "Episode 230/1000 | Loss: 3.635\n",
            "Episode 231/1000 | Loss: 3.592\n",
            "Episode 232/1000 | Loss: 3.551\n",
            "Episode 233/1000 | Loss: 3.510\n",
            "Episode 234/1000 | Loss: 3.470\n",
            "Episode 235/1000 | Loss: 3.430\n",
            "Episode 236/1000 | Loss: 3.392\n",
            "Episode 237/1000 | Loss: 3.354\n",
            "Episode 238/1000 | Loss: 3.316\n",
            "Episode 239/1000 | Loss: 3.279\n",
            "Episode 240/1000 | Loss: 3.243\n",
            "Episode 241/1000 | Loss: 3.208\n",
            "Episode 242/1000 | Loss: 3.172\n",
            "Episode 243/1000 | Loss: 3.138\n",
            "Episode 244/1000 | Loss: 3.104\n",
            "Episode 245/1000 | Loss: 3.071\n",
            "Episode 246/1000 | Loss: 3.038\n",
            "Episode 247/1000 | Loss: 3.006\n",
            "Episode 248/1000 | Loss: 2.974\n",
            "Episode 249/1000 | Loss: 2.943\n",
            "Episode 250/1000 | Loss: 2.912\n",
            "Episode 251/1000 | Loss: 2.882\n",
            "Episode 252/1000 | Loss: 2.852\n",
            "Episode 253/1000 | Loss: 2.823\n",
            "Episode 254/1000 | Loss: 2.794\n",
            "Episode 255/1000 | Loss: 2.765\n",
            "Episode 256/1000 | Loss: 2.737\n",
            "Episode 257/1000 | Loss: 2.710\n",
            "Episode 258/1000 | Loss: 2.682\n",
            "Episode 259/1000 | Loss: 2.656\n",
            "Episode 260/1000 | Loss: 2.629\n",
            "Episode 261/1000 | Loss: 2.603\n",
            "Episode 262/1000 | Loss: 2.578\n",
            "Episode 263/1000 | Loss: 2.553\n",
            "Episode 264/1000 | Loss: 2.528\n",
            "Episode 265/1000 | Loss: 2.503\n",
            "Episode 266/1000 | Loss: 2.479\n",
            "Episode 267/1000 | Loss: 2.456\n",
            "Episode 268/1000 | Loss: 2.432\n",
            "Episode 269/1000 | Loss: 2.409\n",
            "Episode 270/1000 | Loss: 2.386\n",
            "Episode 271/1000 | Loss: 2.364\n",
            "Episode 272/1000 | Loss: 2.342\n",
            "Episode 273/1000 | Loss: 2.320\n",
            "Episode 274/1000 | Loss: 2.299\n",
            "Episode 275/1000 | Loss: 2.277\n",
            "Episode 276/1000 | Loss: 2.257\n",
            "Episode 277/1000 | Loss: 2.236\n",
            "Episode 278/1000 | Loss: 2.216\n",
            "Episode 279/1000 | Loss: 2.196\n",
            "Episode 280/1000 | Loss: 2.176\n",
            "Episode 281/1000 | Loss: 2.156\n",
            "Episode 282/1000 | Loss: 2.137\n",
            "Episode 283/1000 | Loss: 2.118\n",
            "Episode 284/1000 | Loss: 2.099\n",
            "Episode 285/1000 | Loss: 2.081\n",
            "Episode 286/1000 | Loss: 2.063\n",
            "Episode 287/1000 | Loss: 2.045\n",
            "Episode 288/1000 | Loss: 2.027\n",
            "Episode 289/1000 | Loss: 2.010\n",
            "Episode 290/1000 | Loss: 1.992\n",
            "Episode 291/1000 | Loss: 1.975\n",
            "Episode 292/1000 | Loss: 1.958\n",
            "Episode 293/1000 | Loss: 1.942\n",
            "Episode 294/1000 | Loss: 1.925\n",
            "Episode 295/1000 | Loss: 1.909\n",
            "Episode 296/1000 | Loss: 1.893\n",
            "Episode 297/1000 | Loss: 1.877\n",
            "Episode 298/1000 | Loss: 1.862\n",
            "Episode 299/1000 | Loss: 1.846\n",
            "Episode 300/1000 | Loss: 1.831\n",
            "Episode 301/1000 | Loss: 1.816\n",
            "Episode 302/1000 | Loss: 1.801\n",
            "Episode 303/1000 | Loss: 1.787\n",
            "Episode 304/1000 | Loss: 1.772\n",
            "Episode 305/1000 | Loss: 1.758\n",
            "Episode 306/1000 | Loss: 1.744\n",
            "Episode 307/1000 | Loss: 1.730\n",
            "Episode 308/1000 | Loss: 1.716\n",
            "Episode 309/1000 | Loss: 1.703\n",
            "Episode 310/1000 | Loss: 1.689\n",
            "Episode 311/1000 | Loss: 1.676\n",
            "Episode 312/1000 | Loss: 1.663\n",
            "Episode 313/1000 | Loss: 1.650\n",
            "Episode 314/1000 | Loss: 1.637\n",
            "Episode 315/1000 | Loss: 1.624\n",
            "Episode 316/1000 | Loss: 1.612\n",
            "Episode 317/1000 | Loss: 1.599\n",
            "Episode 318/1000 | Loss: 1.587\n",
            "Episode 319/1000 | Loss: 1.575\n",
            "Episode 320/1000 | Loss: 1.563\n",
            "Episode 321/1000 | Loss: 1.551\n",
            "Episode 322/1000 | Loss: 1.540\n",
            "Episode 323/1000 | Loss: 1.528\n",
            "Episode 324/1000 | Loss: 1.517\n",
            "Episode 325/1000 | Loss: 1.505\n",
            "Episode 326/1000 | Loss: 1.494\n",
            "Episode 327/1000 | Loss: 1.483\n",
            "Episode 328/1000 | Loss: 1.472\n",
            "Episode 329/1000 | Loss: 1.462\n",
            "Episode 330/1000 | Loss: 1.451\n",
            "Episode 331/1000 | Loss: 1.440\n",
            "Episode 332/1000 | Loss: 1.430\n",
            "Episode 333/1000 | Loss: 1.420\n",
            "Episode 334/1000 | Loss: 1.409\n",
            "Episode 335/1000 | Loss: 1.399\n",
            "Episode 336/1000 | Loss: 1.389\n",
            "Episode 337/1000 | Loss: 1.379\n",
            "Episode 338/1000 | Loss: 1.370\n",
            "Episode 339/1000 | Loss: 1.360\n",
            "Episode 340/1000 | Loss: 1.350\n",
            "Episode 341/1000 | Loss: 1.341\n",
            "Episode 342/1000 | Loss: 1.332\n",
            "Episode 343/1000 | Loss: 1.322\n",
            "Episode 344/1000 | Loss: 1.313\n",
            "Episode 345/1000 | Loss: 1.304\n",
            "Episode 346/1000 | Loss: 1.295\n",
            "Episode 347/1000 | Loss: 1.286\n",
            "Episode 348/1000 | Loss: 1.278\n",
            "Episode 349/1000 | Loss: 1.269\n",
            "Episode 350/1000 | Loss: 1.260\n",
            "Episode 351/1000 | Loss: 1.252\n",
            "Episode 352/1000 | Loss: 1.243\n",
            "Episode 353/1000 | Loss: 1.235\n",
            "Episode 354/1000 | Loss: 1.227\n",
            "Episode 355/1000 | Loss: 1.219\n",
            "Episode 356/1000 | Loss: 1.210\n",
            "Episode 357/1000 | Loss: 1.202\n",
            "Episode 358/1000 | Loss: 1.194\n",
            "Episode 359/1000 | Loss: 1.187\n",
            "Episode 360/1000 | Loss: 1.179\n",
            "Episode 361/1000 | Loss: 1.171\n",
            "Episode 362/1000 | Loss: 1.164\n",
            "Episode 363/1000 | Loss: 1.156\n",
            "Episode 364/1000 | Loss: 1.149\n",
            "Episode 365/1000 | Loss: 1.141\n",
            "Episode 366/1000 | Loss: 1.134\n",
            "Episode 367/1000 | Loss: 1.127\n",
            "Episode 368/1000 | Loss: 1.119\n",
            "Episode 369/1000 | Loss: 1.112\n",
            "Episode 370/1000 | Loss: 1.105\n",
            "Episode 371/1000 | Loss: 1.098\n",
            "Episode 372/1000 | Loss: 1.091\n",
            "Episode 373/1000 | Loss: 1.085\n",
            "Episode 374/1000 | Loss: 1.078\n",
            "Episode 375/1000 | Loss: 1.071\n",
            "Episode 376/1000 | Loss: 1.064\n",
            "Episode 377/1000 | Loss: 1.058\n",
            "Episode 378/1000 | Loss: 1.051\n",
            "Episode 379/1000 | Loss: 1.045\n",
            "Episode 380/1000 | Loss: 1.038\n",
            "Episode 381/1000 | Loss: 1.032\n",
            "Episode 382/1000 | Loss: 1.026\n",
            "Episode 383/1000 | Loss: 1.020\n",
            "Episode 384/1000 | Loss: 1.013\n",
            "Episode 385/1000 | Loss: 1.007\n",
            "Episode 386/1000 | Loss: 1.001\n",
            "Episode 387/1000 | Loss: 0.995\n",
            "Episode 388/1000 | Loss: 0.989\n",
            "Episode 389/1000 | Loss: 0.983\n",
            "Episode 390/1000 | Loss: 0.977\n",
            "Episode 391/1000 | Loss: 0.972\n",
            "Episode 392/1000 | Loss: 0.966\n",
            "Episode 393/1000 | Loss: 0.960\n",
            "Episode 394/1000 | Loss: 0.955\n",
            "Episode 395/1000 | Loss: 0.949\n",
            "Episode 396/1000 | Loss: 0.944\n",
            "Episode 397/1000 | Loss: 0.938\n",
            "Episode 398/1000 | Loss: 0.933\n",
            "Episode 399/1000 | Loss: 0.927\n",
            "Episode 400/1000 | Loss: 0.922\n",
            "Episode 401/1000 | Loss: 0.917\n",
            "Episode 402/1000 | Loss: 0.911\n",
            "Episode 403/1000 | Loss: 0.906\n",
            "Episode 404/1000 | Loss: 0.901\n",
            "Episode 405/1000 | Loss: 0.896\n",
            "Episode 406/1000 | Loss: 0.891\n",
            "Episode 407/1000 | Loss: 0.886\n",
            "Episode 408/1000 | Loss: 0.881\n",
            "Episode 409/1000 | Loss: 0.876\n",
            "Episode 410/1000 | Loss: 0.871\n",
            "Episode 411/1000 | Loss: 0.866\n",
            "Episode 412/1000 | Loss: 0.861\n",
            "Episode 413/1000 | Loss: 0.856\n",
            "Episode 414/1000 | Loss: 0.852\n",
            "Episode 415/1000 | Loss: 0.847\n",
            "Episode 416/1000 | Loss: 0.842\n",
            "Episode 417/1000 | Loss: 0.838\n",
            "Episode 418/1000 | Loss: 0.833\n",
            "Episode 419/1000 | Loss: 0.829\n",
            "Episode 420/1000 | Loss: 0.824\n",
            "Episode 421/1000 | Loss: 0.820\n",
            "Episode 422/1000 | Loss: 0.815\n",
            "Episode 423/1000 | Loss: 0.811\n",
            "Episode 424/1000 | Loss: 0.807\n",
            "Episode 425/1000 | Loss: 0.802\n",
            "Episode 426/1000 | Loss: 0.798\n",
            "Episode 427/1000 | Loss: 0.794\n",
            "Episode 428/1000 | Loss: 0.789\n",
            "Episode 429/1000 | Loss: 0.785\n",
            "Episode 430/1000 | Loss: 0.781\n",
            "Episode 431/1000 | Loss: 0.777\n",
            "Episode 432/1000 | Loss: 0.773\n",
            "Episode 433/1000 | Loss: 0.769\n",
            "Episode 434/1000 | Loss: 0.765\n",
            "Episode 435/1000 | Loss: 0.761\n",
            "Episode 436/1000 | Loss: 0.757\n",
            "Episode 437/1000 | Loss: 0.753\n",
            "Episode 438/1000 | Loss: 0.749\n",
            "Episode 439/1000 | Loss: 0.745\n",
            "Episode 440/1000 | Loss: 0.741\n",
            "Episode 441/1000 | Loss: 0.738\n",
            "Episode 442/1000 | Loss: 0.734\n",
            "Episode 443/1000 | Loss: 0.730\n",
            "Episode 444/1000 | Loss: 0.726\n",
            "Episode 445/1000 | Loss: 0.723\n",
            "Episode 446/1000 | Loss: 0.719\n",
            "Episode 447/1000 | Loss: 0.715\n",
            "Episode 448/1000 | Loss: 0.712\n",
            "Episode 449/1000 | Loss: 0.708\n",
            "Episode 450/1000 | Loss: 0.705\n",
            "Episode 451/1000 | Loss: 0.701\n",
            "Episode 452/1000 | Loss: 0.698\n",
            "Episode 453/1000 | Loss: 0.694\n",
            "Episode 454/1000 | Loss: 0.691\n",
            "Episode 455/1000 | Loss: 0.687\n",
            "Episode 456/1000 | Loss: 0.684\n",
            "Episode 457/1000 | Loss: 0.681\n",
            "Episode 458/1000 | Loss: 0.677\n",
            "Episode 459/1000 | Loss: 0.674\n",
            "Episode 460/1000 | Loss: 0.671\n",
            "Episode 461/1000 | Loss: 0.667\n",
            "Episode 462/1000 | Loss: 0.664\n",
            "Episode 463/1000 | Loss: 0.661\n",
            "Episode 464/1000 | Loss: 0.658\n",
            "Episode 465/1000 | Loss: 0.654\n",
            "Episode 466/1000 | Loss: 0.651\n",
            "Episode 467/1000 | Loss: 0.648\n",
            "Episode 468/1000 | Loss: 0.645\n",
            "Episode 469/1000 | Loss: 0.642\n",
            "Episode 470/1000 | Loss: 0.639\n",
            "Episode 471/1000 | Loss: 0.636\n",
            "Episode 472/1000 | Loss: 0.633\n",
            "Episode 473/1000 | Loss: 0.630\n",
            "Episode 474/1000 | Loss: 0.627\n",
            "Episode 475/1000 | Loss: 0.624\n",
            "Episode 476/1000 | Loss: 0.621\n",
            "Episode 477/1000 | Loss: 0.618\n",
            "Episode 478/1000 | Loss: 0.615\n",
            "Episode 479/1000 | Loss: 0.612\n",
            "Episode 480/1000 | Loss: 0.610\n",
            "Episode 481/1000 | Loss: 0.607\n",
            "Episode 482/1000 | Loss: 0.604\n",
            "Episode 483/1000 | Loss: 0.601\n",
            "Episode 484/1000 | Loss: 0.598\n",
            "Episode 485/1000 | Loss: 0.596\n",
            "Episode 486/1000 | Loss: 0.593\n",
            "Episode 487/1000 | Loss: 0.590\n",
            "Episode 488/1000 | Loss: 0.587\n",
            "Episode 489/1000 | Loss: 0.585\n",
            "Episode 490/1000 | Loss: 0.582\n",
            "Episode 491/1000 | Loss: 0.580\n",
            "Episode 492/1000 | Loss: 0.577\n",
            "Episode 493/1000 | Loss: 0.574\n",
            "Episode 494/1000 | Loss: 0.572\n",
            "Episode 495/1000 | Loss: 0.569\n",
            "Episode 496/1000 | Loss: 0.567\n",
            "Episode 497/1000 | Loss: 0.564\n",
            "Episode 498/1000 | Loss: 0.562\n",
            "Episode 499/1000 | Loss: 0.559\n",
            "Episode 500/1000 | Loss: 0.557\n",
            "Episode 501/1000 | Loss: 0.554\n",
            "Episode 502/1000 | Loss: 0.552\n",
            "Episode 503/1000 | Loss: 0.549\n",
            "Episode 504/1000 | Loss: 0.547\n",
            "Episode 505/1000 | Loss: 0.544\n",
            "Episode 506/1000 | Loss: 0.542\n",
            "Episode 507/1000 | Loss: 0.540\n",
            "Episode 508/1000 | Loss: 0.537\n",
            "Episode 509/1000 | Loss: 0.535\n",
            "Episode 510/1000 | Loss: 0.533\n",
            "Episode 511/1000 | Loss: 0.530\n",
            "Episode 512/1000 | Loss: 0.528\n",
            "Episode 513/1000 | Loss: 0.526\n",
            "Episode 514/1000 | Loss: 0.524\n",
            "Episode 515/1000 | Loss: 0.521\n",
            "Episode 516/1000 | Loss: 0.519\n",
            "Episode 517/1000 | Loss: 0.517\n",
            "Episode 518/1000 | Loss: 0.515\n",
            "Episode 519/1000 | Loss: 0.512\n",
            "Episode 520/1000 | Loss: 0.510\n",
            "Episode 521/1000 | Loss: 0.508\n",
            "Episode 522/1000 | Loss: 0.506\n",
            "Episode 523/1000 | Loss: 0.504\n",
            "Episode 524/1000 | Loss: 0.502\n",
            "Episode 525/1000 | Loss: 0.500\n",
            "Episode 526/1000 | Loss: 0.498\n",
            "Episode 527/1000 | Loss: 0.495\n",
            "Episode 528/1000 | Loss: 0.493\n",
            "Episode 529/1000 | Loss: 0.491\n",
            "Episode 530/1000 | Loss: 0.489\n",
            "Episode 531/1000 | Loss: 0.487\n",
            "Episode 532/1000 | Loss: 0.485\n",
            "Episode 533/1000 | Loss: 0.483\n",
            "Episode 534/1000 | Loss: 0.481\n",
            "Episode 535/1000 | Loss: 0.479\n",
            "Episode 536/1000 | Loss: 0.477\n",
            "Episode 537/1000 | Loss: 0.475\n",
            "Episode 538/1000 | Loss: 0.473\n",
            "Episode 539/1000 | Loss: 0.472\n",
            "Episode 540/1000 | Loss: 0.470\n",
            "Episode 541/1000 | Loss: 0.468\n",
            "Episode 542/1000 | Loss: 0.466\n",
            "Episode 543/1000 | Loss: 0.464\n",
            "Episode 544/1000 | Loss: 0.462\n",
            "Episode 545/1000 | Loss: 0.460\n",
            "Episode 546/1000 | Loss: 0.458\n",
            "Episode 547/1000 | Loss: 0.457\n",
            "Episode 548/1000 | Loss: 0.455\n",
            "Episode 549/1000 | Loss: 0.453\n",
            "Episode 550/1000 | Loss: 0.451\n",
            "Episode 551/1000 | Loss: 0.449\n",
            "Episode 552/1000 | Loss: 0.448\n",
            "Episode 553/1000 | Loss: 0.446\n",
            "Episode 554/1000 | Loss: 0.444\n",
            "Episode 555/1000 | Loss: 0.442\n",
            "Episode 556/1000 | Loss: 0.441\n",
            "Episode 557/1000 | Loss: 0.439\n",
            "Episode 558/1000 | Loss: 0.437\n",
            "Episode 559/1000 | Loss: 0.435\n",
            "Episode 560/1000 | Loss: 0.434\n",
            "Episode 561/1000 | Loss: 0.432\n",
            "Episode 562/1000 | Loss: 0.430\n",
            "Episode 563/1000 | Loss: 0.429\n",
            "Episode 564/1000 | Loss: 0.427\n",
            "Episode 565/1000 | Loss: 0.425\n",
            "Episode 566/1000 | Loss: 0.424\n",
            "Episode 567/1000 | Loss: 0.422\n",
            "Episode 568/1000 | Loss: 0.420\n",
            "Episode 569/1000 | Loss: 0.419\n",
            "Episode 570/1000 | Loss: 0.417\n",
            "Episode 571/1000 | Loss: 0.416\n",
            "Episode 572/1000 | Loss: 0.414\n",
            "Episode 573/1000 | Loss: 0.412\n",
            "Episode 574/1000 | Loss: 0.411\n",
            "Episode 575/1000 | Loss: 0.409\n",
            "Episode 576/1000 | Loss: 0.408\n",
            "Episode 577/1000 | Loss: 0.406\n",
            "Episode 578/1000 | Loss: 0.405\n",
            "Episode 579/1000 | Loss: 0.403\n",
            "Episode 580/1000 | Loss: 0.402\n",
            "Episode 581/1000 | Loss: 0.400\n",
            "Episode 582/1000 | Loss: 0.399\n",
            "Episode 583/1000 | Loss: 0.397\n",
            "Episode 584/1000 | Loss: 0.396\n",
            "Episode 585/1000 | Loss: 0.394\n",
            "Episode 586/1000 | Loss: 0.393\n",
            "Episode 587/1000 | Loss: 0.391\n",
            "Episode 588/1000 | Loss: 0.390\n",
            "Episode 589/1000 | Loss: 0.388\n",
            "Episode 590/1000 | Loss: 0.387\n",
            "Episode 591/1000 | Loss: 0.386\n",
            "Episode 592/1000 | Loss: 0.384\n",
            "Episode 593/1000 | Loss: 0.383\n",
            "Episode 594/1000 | Loss: 0.381\n",
            "Episode 595/1000 | Loss: 0.380\n",
            "Episode 596/1000 | Loss: 0.379\n",
            "Episode 597/1000 | Loss: 0.377\n",
            "Episode 598/1000 | Loss: 0.376\n",
            "Episode 599/1000 | Loss: 0.375\n",
            "Episode 600/1000 | Loss: 0.373\n",
            "Episode 601/1000 | Loss: 0.372\n",
            "Episode 602/1000 | Loss: 0.371\n",
            "Episode 603/1000 | Loss: 0.369\n",
            "Episode 604/1000 | Loss: 0.368\n",
            "Episode 605/1000 | Loss: 0.367\n",
            "Episode 606/1000 | Loss: 0.365\n",
            "Episode 607/1000 | Loss: 0.364\n",
            "Episode 608/1000 | Loss: 0.363\n",
            "Episode 609/1000 | Loss: 0.361\n",
            "Episode 610/1000 | Loss: 0.360\n",
            "Episode 611/1000 | Loss: 0.359\n",
            "Episode 612/1000 | Loss: 0.358\n",
            "Episode 613/1000 | Loss: 0.356\n",
            "Episode 614/1000 | Loss: 0.355\n",
            "Episode 615/1000 | Loss: 0.354\n",
            "Episode 616/1000 | Loss: 0.353\n",
            "Episode 617/1000 | Loss: 0.351\n",
            "Episode 618/1000 | Loss: 0.350\n",
            "Episode 619/1000 | Loss: 0.349\n",
            "Episode 620/1000 | Loss: 0.348\n",
            "Episode 621/1000 | Loss: 0.346\n",
            "Episode 622/1000 | Loss: 0.345\n",
            "Episode 623/1000 | Loss: 0.344\n",
            "Episode 624/1000 | Loss: 0.343\n",
            "Episode 625/1000 | Loss: 0.342\n",
            "Episode 626/1000 | Loss: 0.340\n",
            "Episode 627/1000 | Loss: 0.339\n",
            "Episode 628/1000 | Loss: 0.338\n",
            "Episode 629/1000 | Loss: 0.337\n",
            "Episode 630/1000 | Loss: 0.336\n",
            "Episode 631/1000 | Loss: 0.335\n",
            "Episode 632/1000 | Loss: 0.334\n",
            "Episode 633/1000 | Loss: 0.332\n",
            "Episode 634/1000 | Loss: 0.331\n",
            "Episode 635/1000 | Loss: 0.330\n",
            "Episode 636/1000 | Loss: 0.329\n",
            "Episode 637/1000 | Loss: 0.328\n",
            "Episode 638/1000 | Loss: 0.327\n",
            "Episode 639/1000 | Loss: 0.326\n",
            "Episode 640/1000 | Loss: 0.325\n",
            "Episode 641/1000 | Loss: 0.324\n",
            "Episode 642/1000 | Loss: 0.322\n",
            "Episode 643/1000 | Loss: 0.321\n",
            "Episode 644/1000 | Loss: 0.320\n",
            "Episode 645/1000 | Loss: 0.319\n",
            "Episode 646/1000 | Loss: 0.318\n",
            "Episode 647/1000 | Loss: 0.317\n",
            "Episode 648/1000 | Loss: 0.316\n",
            "Episode 649/1000 | Loss: 0.315\n",
            "Episode 650/1000 | Loss: 0.314\n",
            "Episode 651/1000 | Loss: 0.313\n",
            "Episode 652/1000 | Loss: 0.312\n",
            "Episode 653/1000 | Loss: 0.311\n",
            "Episode 654/1000 | Loss: 0.310\n",
            "Episode 655/1000 | Loss: 0.309\n",
            "Episode 656/1000 | Loss: 0.308\n",
            "Episode 657/1000 | Loss: 0.307\n",
            "Episode 658/1000 | Loss: 0.306\n",
            "Episode 659/1000 | Loss: 0.305\n",
            "Episode 660/1000 | Loss: 0.304\n",
            "Episode 661/1000 | Loss: 0.303\n",
            "Episode 662/1000 | Loss: 0.302\n",
            "Episode 663/1000 | Loss: 0.301\n",
            "Episode 664/1000 | Loss: 0.300\n",
            "Episode 665/1000 | Loss: 0.299\n",
            "Episode 666/1000 | Loss: 0.298\n",
            "Episode 667/1000 | Loss: 0.297\n",
            "Episode 668/1000 | Loss: 0.296\n",
            "Episode 669/1000 | Loss: 0.295\n",
            "Episode 670/1000 | Loss: 0.294\n",
            "Episode 671/1000 | Loss: 0.293\n",
            "Episode 672/1000 | Loss: 0.292\n",
            "Episode 673/1000 | Loss: 0.291\n",
            "Episode 674/1000 | Loss: 0.290\n",
            "Episode 675/1000 | Loss: 0.290\n",
            "Episode 676/1000 | Loss: 0.289\n",
            "Episode 677/1000 | Loss: 0.288\n",
            "Episode 678/1000 | Loss: 0.287\n",
            "Episode 679/1000 | Loss: 0.286\n",
            "Episode 680/1000 | Loss: 0.285\n",
            "Episode 681/1000 | Loss: 0.284\n",
            "Episode 682/1000 | Loss: 0.283\n",
            "Episode 683/1000 | Loss: 0.282\n",
            "Episode 684/1000 | Loss: 0.281\n",
            "Episode 685/1000 | Loss: 0.281\n",
            "Episode 686/1000 | Loss: 0.280\n",
            "Episode 687/1000 | Loss: 0.279\n",
            "Episode 688/1000 | Loss: 0.278\n",
            "Episode 689/1000 | Loss: 0.277\n",
            "Episode 690/1000 | Loss: 0.276\n",
            "Episode 691/1000 | Loss: 0.275\n",
            "Episode 692/1000 | Loss: 0.275\n",
            "Episode 693/1000 | Loss: 0.274\n",
            "Episode 694/1000 | Loss: 0.273\n",
            "Episode 695/1000 | Loss: 0.272\n",
            "Episode 696/1000 | Loss: 0.271\n",
            "Episode 697/1000 | Loss: 0.270\n",
            "Episode 698/1000 | Loss: 0.269\n",
            "Episode 699/1000 | Loss: 0.269\n",
            "Episode 700/1000 | Loss: 0.268\n",
            "Episode 701/1000 | Loss: 0.267\n",
            "Episode 702/1000 | Loss: 0.266\n",
            "Episode 703/1000 | Loss: 0.265\n",
            "Episode 704/1000 | Loss: 0.265\n",
            "Episode 705/1000 | Loss: 0.264\n",
            "Episode 706/1000 | Loss: 0.263\n",
            "Episode 707/1000 | Loss: 0.262\n",
            "Episode 708/1000 | Loss: 0.261\n",
            "Episode 709/1000 | Loss: 0.261\n",
            "Episode 710/1000 | Loss: 0.260\n",
            "Episode 711/1000 | Loss: 0.259\n",
            "Episode 712/1000 | Loss: 0.258\n",
            "Episode 713/1000 | Loss: 0.258\n",
            "Episode 714/1000 | Loss: 0.257\n",
            "Episode 715/1000 | Loss: 0.256\n",
            "Episode 716/1000 | Loss: 0.255\n",
            "Episode 717/1000 | Loss: 0.254\n",
            "Episode 718/1000 | Loss: 0.254\n",
            "Episode 719/1000 | Loss: 0.253\n",
            "Episode 720/1000 | Loss: 0.252\n",
            "Episode 721/1000 | Loss: 0.251\n",
            "Episode 722/1000 | Loss: 0.251\n",
            "Episode 723/1000 | Loss: 0.250\n",
            "Episode 724/1000 | Loss: 0.249\n",
            "Episode 725/1000 | Loss: 0.249\n",
            "Episode 726/1000 | Loss: 0.248\n",
            "Episode 727/1000 | Loss: 0.247\n",
            "Episode 728/1000 | Loss: 0.246\n",
            "Episode 729/1000 | Loss: 0.246\n",
            "Episode 730/1000 | Loss: 0.245\n",
            "Episode 731/1000 | Loss: 0.244\n",
            "Episode 732/1000 | Loss: 0.243\n",
            "Episode 733/1000 | Loss: 0.243\n",
            "Episode 734/1000 | Loss: 0.242\n",
            "Episode 735/1000 | Loss: 0.241\n",
            "Episode 736/1000 | Loss: 0.241\n",
            "Episode 737/1000 | Loss: 0.240\n",
            "Episode 738/1000 | Loss: 0.239\n",
            "Episode 739/1000 | Loss: 0.239\n",
            "Episode 740/1000 | Loss: 0.238\n",
            "Episode 741/1000 | Loss: 0.237\n",
            "Episode 742/1000 | Loss: 0.237\n",
            "Episode 743/1000 | Loss: 0.236\n",
            "Episode 744/1000 | Loss: 0.235\n",
            "Episode 745/1000 | Loss: 0.235\n",
            "Episode 746/1000 | Loss: 0.234\n",
            "Episode 747/1000 | Loss: 0.233\n",
            "Episode 748/1000 | Loss: 0.233\n",
            "Episode 749/1000 | Loss: 0.232\n",
            "Episode 750/1000 | Loss: 0.231\n",
            "Episode 751/1000 | Loss: 0.231\n",
            "Episode 752/1000 | Loss: 0.230\n",
            "Episode 753/1000 | Loss: 0.229\n",
            "Episode 754/1000 | Loss: 0.229\n",
            "Episode 755/1000 | Loss: 0.228\n",
            "Episode 756/1000 | Loss: 0.227\n",
            "Episode 757/1000 | Loss: 0.227\n",
            "Episode 758/1000 | Loss: 0.226\n",
            "Episode 759/1000 | Loss: 0.225\n",
            "Episode 760/1000 | Loss: 0.225\n",
            "Episode 761/1000 | Loss: 0.224\n",
            "Episode 762/1000 | Loss: 0.224\n",
            "Episode 763/1000 | Loss: 0.223\n",
            "Episode 764/1000 | Loss: 0.222\n",
            "Episode 765/1000 | Loss: 0.222\n",
            "Episode 766/1000 | Loss: 0.221\n",
            "Episode 767/1000 | Loss: 0.220\n",
            "Episode 768/1000 | Loss: 0.220\n",
            "Episode 769/1000 | Loss: 0.219\n",
            "Episode 770/1000 | Loss: 0.219\n",
            "Episode 771/1000 | Loss: 0.218\n",
            "Episode 772/1000 | Loss: 0.217\n",
            "Episode 773/1000 | Loss: 0.217\n",
            "Episode 774/1000 | Loss: 0.216\n",
            "Episode 775/1000 | Loss: 0.216\n",
            "Episode 776/1000 | Loss: 0.215\n",
            "Episode 777/1000 | Loss: 0.214\n",
            "Episode 778/1000 | Loss: 0.214\n",
            "Episode 779/1000 | Loss: 0.213\n",
            "Episode 780/1000 | Loss: 0.213\n",
            "Episode 781/1000 | Loss: 0.212\n",
            "Episode 782/1000 | Loss: 0.212\n",
            "Episode 783/1000 | Loss: 0.211\n",
            "Episode 784/1000 | Loss: 0.210\n",
            "Episode 785/1000 | Loss: 0.210\n",
            "Episode 786/1000 | Loss: 0.209\n",
            "Episode 787/1000 | Loss: 0.209\n",
            "Episode 788/1000 | Loss: 0.208\n",
            "Episode 789/1000 | Loss: 0.208\n",
            "Episode 790/1000 | Loss: 0.207\n",
            "Episode 791/1000 | Loss: 0.206\n",
            "Episode 792/1000 | Loss: 0.206\n",
            "Episode 793/1000 | Loss: 0.205\n",
            "Episode 794/1000 | Loss: 0.205\n",
            "Episode 795/1000 | Loss: 0.204\n",
            "Episode 796/1000 | Loss: 0.204\n",
            "Episode 797/1000 | Loss: 0.203\n",
            "Episode 798/1000 | Loss: 0.203\n",
            "Episode 799/1000 | Loss: 0.202\n",
            "Episode 800/1000 | Loss: 0.202\n",
            "Episode 801/1000 | Loss: 0.201\n",
            "Episode 802/1000 | Loss: 0.201\n",
            "Episode 803/1000 | Loss: 0.200\n",
            "Episode 804/1000 | Loss: 0.199\n",
            "Episode 805/1000 | Loss: 0.199\n",
            "Episode 806/1000 | Loss: 0.198\n",
            "Episode 807/1000 | Loss: 0.198\n",
            "Episode 808/1000 | Loss: 0.197\n",
            "Episode 809/1000 | Loss: 0.197\n",
            "Episode 810/1000 | Loss: 0.196\n",
            "Episode 811/1000 | Loss: 0.196\n",
            "Episode 812/1000 | Loss: 0.195\n",
            "Episode 813/1000 | Loss: 0.195\n",
            "Episode 814/1000 | Loss: 0.194\n",
            "Episode 815/1000 | Loss: 0.194\n",
            "Episode 816/1000 | Loss: 0.193\n",
            "Episode 817/1000 | Loss: 0.193\n",
            "Episode 818/1000 | Loss: 0.192\n",
            "Episode 819/1000 | Loss: 0.192\n",
            "Episode 820/1000 | Loss: 0.191\n",
            "Episode 821/1000 | Loss: 0.191\n",
            "Episode 822/1000 | Loss: 0.190\n",
            "Episode 823/1000 | Loss: 0.190\n",
            "Episode 824/1000 | Loss: 0.189\n",
            "Episode 825/1000 | Loss: 0.189\n",
            "Episode 826/1000 | Loss: 0.188\n",
            "Episode 827/1000 | Loss: 0.188\n",
            "Episode 828/1000 | Loss: 0.187\n",
            "Episode 829/1000 | Loss: 0.187\n",
            "Episode 830/1000 | Loss: 0.186\n",
            "Episode 831/1000 | Loss: 0.186\n",
            "Episode 832/1000 | Loss: 0.186\n",
            "Episode 833/1000 | Loss: 0.185\n",
            "Episode 834/1000 | Loss: 0.185\n",
            "Episode 835/1000 | Loss: 0.184\n",
            "Episode 836/1000 | Loss: 0.184\n",
            "Episode 837/1000 | Loss: 0.183\n",
            "Episode 838/1000 | Loss: 0.183\n",
            "Episode 839/1000 | Loss: 0.182\n",
            "Episode 840/1000 | Loss: 0.182\n",
            "Episode 841/1000 | Loss: 0.181\n",
            "Episode 842/1000 | Loss: 0.181\n",
            "Episode 843/1000 | Loss: 0.180\n",
            "Episode 844/1000 | Loss: 0.180\n",
            "Episode 845/1000 | Loss: 0.180\n",
            "Episode 846/1000 | Loss: 0.179\n",
            "Episode 847/1000 | Loss: 0.179\n",
            "Episode 848/1000 | Loss: 0.178\n",
            "Episode 849/1000 | Loss: 0.178\n",
            "Episode 850/1000 | Loss: 0.177\n",
            "Episode 851/1000 | Loss: 0.177\n",
            "Episode 852/1000 | Loss: 0.176\n",
            "Episode 853/1000 | Loss: 0.176\n",
            "Episode 854/1000 | Loss: 0.176\n",
            "Episode 855/1000 | Loss: 0.175\n",
            "Episode 856/1000 | Loss: 0.175\n",
            "Episode 857/1000 | Loss: 0.174\n",
            "Episode 858/1000 | Loss: 0.174\n",
            "Episode 859/1000 | Loss: 0.173\n",
            "Episode 860/1000 | Loss: 0.173\n",
            "Episode 861/1000 | Loss: 0.173\n",
            "Episode 862/1000 | Loss: 0.172\n",
            "Episode 863/1000 | Loss: 0.172\n",
            "Episode 864/1000 | Loss: 0.171\n",
            "Episode 865/1000 | Loss: 0.171\n",
            "Episode 866/1000 | Loss: 0.170\n",
            "Episode 867/1000 | Loss: 0.170\n",
            "Episode 868/1000 | Loss: 0.170\n",
            "Episode 869/1000 | Loss: 0.169\n",
            "Episode 870/1000 | Loss: 0.169\n",
            "Episode 871/1000 | Loss: 0.168\n",
            "Episode 872/1000 | Loss: 0.168\n",
            "Episode 873/1000 | Loss: 0.168\n",
            "Episode 874/1000 | Loss: 0.167\n",
            "Episode 875/1000 | Loss: 0.167\n",
            "Episode 876/1000 | Loss: 0.166\n",
            "Episode 877/1000 | Loss: 0.166\n",
            "Episode 878/1000 | Loss: 0.166\n",
            "Episode 879/1000 | Loss: 0.165\n",
            "Episode 880/1000 | Loss: 0.165\n",
            "Episode 881/1000 | Loss: 0.164\n",
            "Episode 882/1000 | Loss: 0.164\n",
            "Episode 883/1000 | Loss: 0.164\n",
            "Episode 884/1000 | Loss: 0.163\n",
            "Episode 885/1000 | Loss: 0.163\n",
            "Episode 886/1000 | Loss: 0.162\n",
            "Episode 887/1000 | Loss: 0.162\n",
            "Episode 888/1000 | Loss: 0.162\n",
            "Episode 889/1000 | Loss: 0.161\n",
            "Episode 890/1000 | Loss: 0.161\n",
            "Episode 891/1000 | Loss: 0.161\n",
            "Episode 892/1000 | Loss: 0.160\n",
            "Episode 893/1000 | Loss: 0.160\n",
            "Episode 894/1000 | Loss: 0.159\n",
            "Episode 895/1000 | Loss: 0.159\n",
            "Episode 896/1000 | Loss: 0.159\n",
            "Episode 897/1000 | Loss: 0.158\n",
            "Episode 898/1000 | Loss: 0.158\n",
            "Episode 899/1000 | Loss: 0.158\n",
            "Episode 900/1000 | Loss: 0.157\n",
            "Episode 901/1000 | Loss: 0.157\n",
            "Episode 902/1000 | Loss: 0.156\n",
            "Episode 903/1000 | Loss: 0.156\n",
            "Episode 904/1000 | Loss: 0.156\n",
            "Episode 905/1000 | Loss: 0.155\n",
            "Episode 906/1000 | Loss: 0.155\n",
            "Episode 907/1000 | Loss: 0.155\n",
            "Episode 908/1000 | Loss: 0.154\n",
            "Episode 909/1000 | Loss: 0.154\n",
            "Episode 910/1000 | Loss: 0.154\n",
            "Episode 911/1000 | Loss: 0.153\n",
            "Episode 912/1000 | Loss: 0.153\n",
            "Episode 913/1000 | Loss: 0.152\n",
            "Episode 914/1000 | Loss: 0.152\n",
            "Episode 915/1000 | Loss: 0.152\n",
            "Episode 916/1000 | Loss: 0.151\n",
            "Episode 917/1000 | Loss: 0.151\n",
            "Episode 918/1000 | Loss: 0.151\n",
            "Episode 919/1000 | Loss: 0.150\n",
            "Episode 920/1000 | Loss: 0.150\n",
            "Episode 921/1000 | Loss: 0.150\n",
            "Episode 922/1000 | Loss: 0.149\n",
            "Episode 923/1000 | Loss: 0.149\n",
            "Episode 924/1000 | Loss: 0.149\n",
            "Episode 925/1000 | Loss: 0.148\n",
            "Episode 926/1000 | Loss: 0.148\n",
            "Episode 927/1000 | Loss: 0.148\n",
            "Episode 928/1000 | Loss: 0.147\n",
            "Episode 929/1000 | Loss: 0.147\n",
            "Episode 930/1000 | Loss: 0.147\n",
            "Episode 931/1000 | Loss: 0.146\n",
            "Episode 932/1000 | Loss: 0.146\n",
            "Episode 933/1000 | Loss: 0.146\n",
            "Episode 934/1000 | Loss: 0.145\n",
            "Episode 935/1000 | Loss: 0.145\n",
            "Episode 936/1000 | Loss: 0.145\n",
            "Episode 937/1000 | Loss: 0.144\n",
            "Episode 938/1000 | Loss: 0.144\n",
            "Episode 939/1000 | Loss: 0.144\n",
            "Episode 940/1000 | Loss: 0.143\n",
            "Episode 941/1000 | Loss: 0.143\n",
            "Episode 942/1000 | Loss: 0.143\n",
            "Episode 943/1000 | Loss: 0.142\n",
            "Episode 944/1000 | Loss: 0.142\n",
            "Episode 945/1000 | Loss: 0.142\n",
            "Episode 946/1000 | Loss: 0.141\n",
            "Episode 947/1000 | Loss: 0.141\n",
            "Episode 948/1000 | Loss: 0.141\n",
            "Episode 949/1000 | Loss: 0.141\n",
            "Episode 950/1000 | Loss: 0.140\n",
            "Episode 951/1000 | Loss: 0.140\n",
            "Episode 952/1000 | Loss: 0.140\n",
            "Episode 953/1000 | Loss: 0.139\n",
            "Episode 954/1000 | Loss: 0.139\n",
            "Episode 955/1000 | Loss: 0.139\n",
            "Episode 956/1000 | Loss: 0.138\n",
            "Episode 957/1000 | Loss: 0.138\n",
            "Episode 958/1000 | Loss: 0.138\n",
            "Episode 959/1000 | Loss: 0.137\n",
            "Episode 960/1000 | Loss: 0.137\n",
            "Episode 961/1000 | Loss: 0.137\n",
            "Episode 962/1000 | Loss: 0.137\n",
            "Episode 963/1000 | Loss: 0.136\n",
            "Episode 964/1000 | Loss: 0.136\n",
            "Episode 965/1000 | Loss: 0.136\n",
            "Episode 966/1000 | Loss: 0.135\n",
            "Episode 967/1000 | Loss: 0.135\n",
            "Episode 968/1000 | Loss: 0.135\n",
            "Episode 969/1000 | Loss: 0.134\n",
            "Episode 970/1000 | Loss: 0.134\n",
            "Episode 971/1000 | Loss: 0.134\n",
            "Episode 972/1000 | Loss: 0.134\n",
            "Episode 973/1000 | Loss: 0.133\n",
            "Episode 974/1000 | Loss: 0.133\n",
            "Episode 975/1000 | Loss: 0.133\n",
            "Episode 976/1000 | Loss: 0.132\n",
            "Episode 977/1000 | Loss: 0.132\n",
            "Episode 978/1000 | Loss: 0.132\n",
            "Episode 979/1000 | Loss: 0.132\n",
            "Episode 980/1000 | Loss: 0.131\n",
            "Episode 981/1000 | Loss: 0.131\n",
            "Episode 982/1000 | Loss: 0.131\n",
            "Episode 983/1000 | Loss: 0.130\n",
            "Episode 984/1000 | Loss: 0.130\n",
            "Episode 985/1000 | Loss: 0.130\n",
            "Episode 986/1000 | Loss: 0.130\n",
            "Episode 987/1000 | Loss: 0.129\n",
            "Episode 988/1000 | Loss: 0.129\n",
            "Episode 989/1000 | Loss: 0.129\n",
            "Episode 990/1000 | Loss: 0.129\n",
            "Episode 991/1000 | Loss: 0.128\n",
            "Episode 992/1000 | Loss: 0.128\n",
            "Episode 993/1000 | Loss: 0.128\n",
            "Episode 994/1000 | Loss: 0.127\n",
            "Episode 995/1000 | Loss: 0.127\n",
            "Episode 996/1000 | Loss: 0.127\n",
            "Episode 997/1000 | Loss: 0.127\n",
            "Episode 998/1000 | Loss: 0.126\n",
            "Episode 999/1000 | Loss: 0.126\n",
            "Episode 1000/1000 | Loss: 0.126\n"
          ]
        }
      ],
      "source": [
        "# Train the model with reinforce\n",
        "losses=train_Rein(model, optimizer, train_task, train_stimulus, train_target, num_episodes=1000, log_interval=1)"
      ]
    },
    {
      "cell_type": "code",
      "source": [
        "Reinforce_log= plot_losses(losses, \"MultiTask - Reinforce Training\")"
      ],
      "metadata": {
        "colab": {
          "base_uri": "https://localhost:8080/",
          "height": 472
        },
        "id": "ynElXliBCfHi",
        "outputId": "32d7eacc-bf01-49ac-ccc2-6427540b37a5"
      },
      "execution_count": null,
      "outputs": [
        {
          "output_type": "display_data",
          "data": {
            "text/plain": [
              "<Figure size 640x480 with 1 Axes>"
            ],
            "image/png": "[encoded data removed]"
          },
          "metadata": {}
        }
      ]
    },
    {
      "cell_type": "code",
      "execution_count": null,
      "metadata": {
        "id": "ZhCrOyV-Q7rF"
      },
      "outputs": [],
      "source": [
        "#Define Evalutae function\n",
        "def evaluate(model, taskData_V, stimulusData_V, targetData_V):\n",
        "    model.eval()\n",
        "    with torch.no_grad():\n",
        "        _, val_output = model(taskData_V, stimulusData_V)\n",
        "        criterion = nn.MSELoss()\n",
        "        val_loss = criterion(val_output, targetData_V).item()\n",
        "    model.train()\n",
        "    return val_loss, val_output"
      ]
    },
    {
      "cell_type": "code",
      "execution_count": null,
      "metadata": {
        "colab": {
          "base_uri": "https://localhost:8080/"
        },
        "id": "JvczdpigEKUC",
        "outputId": "e3366009-d29b-444f-d574-0609f914e71c",
        "collapsed": true
      },
      "outputs": [
        {
          "data": {
            "text/plain": [
              "0.20421773195266724"
            ]
          },
          "execution_count": 40,
          "metadata": {},
          "output_type": "execute_result"
        }
      ],
      "source": [
        "evaluate(model, taskData_V, stimulusData_V, targetData_V)"
      ]
    },
    {
      "cell_type": "code",
      "execution_count": null,
      "metadata": {
        "id": "UAaG8ixW8WU9"
      },
      "outputs": [],
      "source": [
        "#Define multiple simulations\n",
        "def run_simulations(n_simulations=100, num_episodes=1000, log_interval=100):\n",
        "    all_losses = []\n",
        "\n",
        "    for i in tqdm(range(n_simulations)):\n",
        "        model = Model()\n",
        "        optimizer = torch.optim.Adam(model.parameters(), lr=0.001)\n",
        "\n",
        "        training_set, validation_set = generate_dataset_multitask(split_ratio=0.7)\n",
        "        train_stimulus, train_task, train_target = training_set\n",
        "\n",
        "        losses = train_Rein(model, optimizer, train_task, train_stimulus, train_target, num_episodes, log_interval)\n",
        "\n",
        "        if len(losses) > 0:\n",
        "            print(f\"Simulation {i+1}: First few losses: {losses[:5]}\")\n",
        "\n",
        "        all_losses.append(losses)\n",
        "\n",
        "    print(f\"Total simulations run: {len(all_losses)}\")\n",
        "    return all_losses"
      ]
    },
    {
      "cell_type": "code",
      "source": [
        "def calculate_mean_and_standard_error(losses):\n",
        "    min_length = min(len(loss) for loss in losses)\n",
        "    trimmed_losses = [loss[:min_length] for loss in losses if loss is not None]  # Exclude None losses\n",
        "    losses_array = numpy.array(trimmed_losses) # convert to numpy array\n",
        "    mean_losses = numpy.mean(losses_array, axis=0)  #calculate mean\n",
        "    std_err_losses = numpy.std(losses_array, axis=0) / numpy.sqrt(losses_array.shape[0]) #calculate standard deviation\n",
        "    return mean_losses, std_err_losses"
      ],
      "metadata": {
        "id": "YqpXaXqRCpWb"
      },
      "execution_count": null,
      "outputs": []
    },
    {
      "cell_type": "code",
      "execution_count": null,
      "metadata": {
        "id": "LAsvz_g-BiJT"
      },
      "outputs": [],
      "source": [
        "def plot_standard_error(mean_losses, std_err_losses, title):\n",
        "    epochs = range(len(mean_losses))\n",
        "    plt.figure(figsize=(10, 6))\n",
        "    plt.plot(epochs, mean_losses, label='Mean Loss', linewidth=2)\n",
        "    visible_std_err_losses = std_err_losses *100  # Scaling the standard error for visibility\n",
        "    plt.fill_between(epochs, mean_losses - visible_std_err_losses, mean_losses + visible_std_err_losses, color='b', alpha=0.3, label='Standard Error (Scaled)')\n",
        "    plt.xlabel('Epochs / Episodes')\n",
        "    plt.ylabel('Loss')\n",
        "    plt.title(title)\n",
        "    plt.legend()\n",
        "    plt.grid(True)\n",
        "    plt.savefig(f'{title.replace(\" \", \"_\").lower()}_learning_curve_with_standard_error.png')\n",
        "    plt.show()\n"
      ]
    },
    {
      "cell_type": "code",
      "execution_count": null,
      "metadata": {
        "colab": {
          "base_uri": "https://localhost:8080/"
        },
        "collapsed": true,
        "id": "NP8j_H_1CcKl",
        "outputId": "349e0f57-4ea6-4bcd-ca06-6945e2c1735e"
      },
      "outputs": [
        {
          "output_type": "stream",
          "name": "stderr",
          "text": [
            "\r  0%|          | 0/100 [00:00<?, ?it/s]"
          ]
        },
        {
          "output_type": "stream",
          "name": "stdout",
          "text": [
            "Episode 100/1000 | Loss: 36.672\n",
            "Episode 200/1000 | Loss: 4.770\n",
            "Episode 300/1000 | Loss: 1.655\n",
            "Episode 400/1000 | Loss: 0.838\n",
            "Episode 500/1000 | Loss: 0.508\n",
            "Episode 600/1000 | Loss: 0.341\n",
            "Episode 700/1000 | Loss: 0.245\n",
            "Episode 800/1000 | Loss: 0.185\n",
            "Episode 900/1000 | Loss: 0.144\n"
          ]
        },
        {
          "output_type": "stream",
          "name": "stderr",
          "text": [
            "\r  1%|          | 1/100 [00:02<04:52,  2.95s/it]"
          ]
        },
        {
          "output_type": "stream",
          "name": "stdout",
          "text": [
            "Episode 1000/1000 | Loss: 0.116\n",
            "Simulation 1: First few losses: [203.56072998046875, 201.70947265625, 199.8605194091797, 198.0137481689453, 196.1691131591797]\n",
            "Episode 100/1000 | Loss: 43.294\n",
            "Episode 200/1000 | Loss: 5.581\n",
            "Episode 300/1000 | Loss: 1.906\n",
            "Episode 400/1000 | Loss: 0.958\n",
            "Episode 500/1000 | Loss: 0.578\n",
            "Episode 600/1000 | Loss: 0.387\n",
            "Episode 700/1000 | Loss: 0.277\n",
            "Episode 800/1000 | Loss: 0.208\n",
            "Episode 900/1000 | Loss: 0.162\n"
          ]
        },
        {
          "output_type": "stream",
          "name": "stderr",
          "text": [
            "\r  2%|▏         | 2/100 [00:06<05:21,  3.28s/it]"
          ]
        },
        {
          "output_type": "stream",
          "name": "stdout",
          "text": [
            "Episode 1000/1000 | Loss: 0.130\n",
            "Simulation 2: First few losses: [223.35902404785156, 221.39462280273438, 219.43179321289062, 217.4707489013672, 215.51173400878906]\n",
            "Episode 100/1000 | Loss: 35.491\n",
            "Episode 200/1000 | Loss: 4.768\n",
            "Episode 300/1000 | Loss: 1.666\n",
            "Episode 400/1000 | Loss: 0.845\n",
            "Episode 500/1000 | Loss: 0.512\n",
            "Episode 600/1000 | Loss: 0.344\n",
            "Episode 700/1000 | Loss: 0.248\n",
            "Episode 800/1000 | Loss: 0.186\n",
            "Episode 900/1000 | Loss: 0.145\n"
          ]
        },
        {
          "output_type": "stream",
          "name": "stderr",
          "text": [
            "\r  3%|▎         | 3/100 [00:10<05:34,  3.45s/it]"
          ]
        },
        {
          "output_type": "stream",
          "name": "stdout",
          "text": [
            "Episode 1000/1000 | Loss: 0.117\n",
            "Simulation 3: First few losses: [201.5271759033203, 199.69110107421875, 197.85572814941406, 196.02072143554688, 194.18588256835938]\n",
            "Episode 100/1000 | Loss: 44.617\n",
            "Episode 200/1000 | Loss: 5.583\n",
            "Episode 300/1000 | Loss: 1.889\n",
            "Episode 400/1000 | Loss: 0.946\n",
            "Episode 500/1000 | Loss: 0.569\n",
            "Episode 600/1000 | Loss: 0.381\n",
            "Episode 700/1000 | Loss: 0.273\n",
            "Episode 800/1000 | Loss: 0.205\n",
            "Episode 900/1000 | Loss: 0.160\n"
          ]
        },
        {
          "output_type": "stream",
          "name": "stderr",
          "text": [
            "\r  4%|▍         | 4/100 [00:13<05:11,  3.25s/it]"
          ]
        },
        {
          "output_type": "stream",
          "name": "stdout",
          "text": [
            "Episode 1000/1000 | Loss: 0.128\n",
            "Simulation 4: First few losses: [225.9840850830078, 223.9352569580078, 221.9156494140625, 219.9232177734375, 217.9541473388672]\n",
            "Episode 100/1000 | Loss: 39.466\n",
            "Episode 200/1000 | Loss: 5.107\n",
            "Episode 300/1000 | Loss: 1.774\n",
            "Episode 400/1000 | Loss: 0.899\n",
            "Episode 500/1000 | Loss: 0.545\n",
            "Episode 600/1000 | Loss: 0.366\n",
            "Episode 700/1000 | Loss: 0.263\n",
            "Episode 800/1000 | Loss: 0.199\n",
            "Episode 900/1000 | Loss: 0.155\n"
          ]
        },
        {
          "output_type": "stream",
          "name": "stderr",
          "text": [
            "\r  5%|▌         | 5/100 [00:16<04:58,  3.14s/it]"
          ]
        },
        {
          "output_type": "stream",
          "name": "stdout",
          "text": [
            "Episode 1000/1000 | Loss: 0.124\n",
            "Simulation 5: First few losses: [217.5751953125, 215.628662109375, 213.6956024169922, 211.77503967285156, 209.8651885986328]\n",
            "Episode 100/1000 | Loss: 39.285\n",
            "Episode 200/1000 | Loss: 5.164\n",
            "Episode 300/1000 | Loss: 1.812\n",
            "Episode 400/1000 | Loss: 0.923\n",
            "Episode 500/1000 | Loss: 0.561\n",
            "Episode 600/1000 | Loss: 0.378\n",
            "Episode 700/1000 | Loss: 0.272\n",
            "Episode 800/1000 | Loss: 0.206\n",
            "Episode 900/1000 | Loss: 0.161\n"
          ]
        },
        {
          "output_type": "stream",
          "name": "stderr",
          "text": [
            "\r  6%|▌         | 6/100 [00:19<05:03,  3.22s/it]"
          ]
        },
        {
          "output_type": "stream",
          "name": "stdout",
          "text": [
            "Episode 1000/1000 | Loss: 0.129\n",
            "Simulation 6: First few losses: [219.92596435546875, 217.9773406982422, 216.03558349609375, 214.0977020263672, 212.1623992919922]\n",
            "Episode 100/1000 | Loss: 36.827\n",
            "Episode 200/1000 | Loss: 4.733\n",
            "Episode 300/1000 | Loss: 1.623\n",
            "Episode 400/1000 | Loss: 0.818\n",
            "Episode 500/1000 | Loss: 0.494\n",
            "Episode 600/1000 | Loss: 0.331\n",
            "Episode 700/1000 | Loss: 0.238\n",
            "Episode 800/1000 | Loss: 0.179\n",
            "Episode 900/1000 | Loss: 0.139\n"
          ]
        },
        {
          "output_type": "stream",
          "name": "stderr",
          "text": [
            "\r  7%|▋         | 7/100 [00:23<05:15,  3.39s/it]"
          ]
        },
        {
          "output_type": "stream",
          "name": "stdout",
          "text": [
            "Episode 1000/1000 | Loss: 0.112\n",
            "Simulation 7: First few losses: [198.66354370117188, 196.87356567382812, 195.0869140625, 193.30360412597656, 191.5235595703125]\n",
            "Episode 100/1000 | Loss: 36.857\n",
            "Episode 200/1000 | Loss: 4.815\n",
            "Episode 300/1000 | Loss: 1.665\n",
            "Episode 400/1000 | Loss: 0.842\n",
            "Episode 500/1000 | Loss: 0.509\n",
            "Episode 600/1000 | Loss: 0.342\n",
            "Episode 700/1000 | Loss: 0.246\n",
            "Episode 800/1000 | Loss: 0.185\n",
            "Episode 900/1000 | Loss: 0.144\n"
          ]
        },
        {
          "output_type": "stream",
          "name": "stderr",
          "text": [
            "\r  8%|▊         | 8/100 [00:26<05:11,  3.38s/it]"
          ]
        },
        {
          "output_type": "stream",
          "name": "stdout",
          "text": [
            "Episode 1000/1000 | Loss: 0.116\n",
            "Simulation 8: First few losses: [203.39967346191406, 201.53277587890625, 199.66957092285156, 197.80982971191406, 195.9532470703125]\n",
            "Episode 100/1000 | Loss: 35.468\n",
            "Episode 200/1000 | Loss: 4.776\n",
            "Episode 300/1000 | Loss: 1.671\n",
            "Episode 400/1000 | Loss: 0.847\n",
            "Episode 500/1000 | Loss: 0.513\n",
            "Episode 600/1000 | Loss: 0.345\n",
            "Episode 700/1000 | Loss: 0.248\n",
            "Episode 800/1000 | Loss: 0.186\n",
            "Episode 900/1000 | Loss: 0.145\n"
          ]
        },
        {
          "output_type": "stream",
          "name": "stderr",
          "text": [
            "\r  9%|▉         | 9/100 [00:34<07:24,  4.89s/it]"
          ]
        },
        {
          "output_type": "stream",
          "name": "stdout",
          "text": [
            "Episode 1000/1000 | Loss: 0.116\n",
            "Simulation 9: First few losses: [203.06883239746094, 201.1754608154297, 199.29031372070312, 197.4102325439453, 195.53334045410156]\n",
            "Episode 100/1000 | Loss: 40.341\n",
            "Episode 200/1000 | Loss: 5.284\n",
            "Episode 300/1000 | Loss: 1.805\n",
            "Episode 400/1000 | Loss: 0.906\n",
            "Episode 500/1000 | Loss: 0.545\n",
            "Episode 600/1000 | Loss: 0.365\n",
            "Episode 700/1000 | Loss: 0.261\n",
            "Episode 800/1000 | Loss: 0.196\n",
            "Episode 900/1000 | Loss: 0.153\n"
          ]
        },
        {
          "output_type": "stream",
          "name": "stderr",
          "text": [
            "\r 10%|█         | 10/100 [00:38<06:43,  4.48s/it]"
          ]
        },
        {
          "output_type": "stream",
          "name": "stdout",
          "text": [
            "Episode 1000/1000 | Loss: 0.122\n",
            "Simulation 10: First few losses: [212.10287475585938, 210.16856384277344, 208.23922729492188, 206.314697265625, 204.39483642578125]\n",
            "Episode 100/1000 | Loss: 35.222\n",
            "Episode 200/1000 | Loss: 4.821\n",
            "Episode 300/1000 | Loss: 1.673\n",
            "Episode 400/1000 | Loss: 0.845\n",
            "Episode 500/1000 | Loss: 0.511\n",
            "Episode 600/1000 | Loss: 0.343\n",
            "Episode 700/1000 | Loss: 0.246\n",
            "Episode 800/1000 | Loss: 0.185\n",
            "Episode 900/1000 | Loss: 0.145\n"
          ]
        },
        {
          "output_type": "stream",
          "name": "stderr",
          "text": [
            "\r 11%|█         | 11/100 [00:41<05:58,  4.02s/it]"
          ]
        },
        {
          "output_type": "stream",
          "name": "stdout",
          "text": [
            "Episode 1000/1000 | Loss: 0.116\n",
            "Simulation 11: First few losses: [193.45013427734375, 191.57196044921875, 189.69839477539062, 187.8294677734375, 185.96517944335938]\n",
            "Episode 100/1000 | Loss: 35.136\n",
            "Episode 200/1000 | Loss: 4.717\n",
            "Episode 300/1000 | Loss: 1.643\n",
            "Episode 400/1000 | Loss: 0.832\n",
            "Episode 500/1000 | Loss: 0.503\n",
            "Episode 600/1000 | Loss: 0.338\n",
            "Episode 700/1000 | Loss: 0.242\n",
            "Episode 800/1000 | Loss: 0.182\n",
            "Episode 900/1000 | Loss: 0.142\n"
          ]
        },
        {
          "output_type": "stream",
          "name": "stderr",
          "text": [
            "\r 12%|█▏        | 12/100 [00:44<05:26,  3.71s/it]"
          ]
        },
        {
          "output_type": "stream",
          "name": "stdout",
          "text": [
            "Episode 1000/1000 | Loss: 0.114\n",
            "Simulation 12: First few losses: [199.02676391601562, 197.2102813720703, 195.39366149902344, 193.57716369628906, 191.76068115234375]\n",
            "Episode 100/1000 | Loss: 39.295\n",
            "Episode 200/1000 | Loss: 5.202\n",
            "Episode 300/1000 | Loss: 1.802\n",
            "Episode 400/1000 | Loss: 0.912\n",
            "Episode 500/1000 | Loss: 0.552\n",
            "Episode 600/1000 | Loss: 0.371\n",
            "Episode 700/1000 | Loss: 0.267\n",
            "Episode 800/1000 | Loss: 0.201\n",
            "Episode 900/1000 | Loss: 0.157\n"
          ]
        },
        {
          "output_type": "stream",
          "name": "stderr",
          "text": [
            "\r 13%|█▎        | 13/100 [00:48<05:26,  3.75s/it]"
          ]
        },
        {
          "output_type": "stream",
          "name": "stdout",
          "text": [
            "Episode 1000/1000 | Loss: 0.126\n",
            "Simulation 13: First few losses: [212.9144287109375, 210.9365997314453, 208.98020935058594, 207.0414276123047, 205.11602783203125]\n",
            "Episode 100/1000 | Loss: 39.190\n",
            "Episode 200/1000 | Loss: 4.936\n",
            "Episode 300/1000 | Loss: 1.711\n",
            "Episode 400/1000 | Loss: 0.867\n",
            "Episode 500/1000 | Loss: 0.526\n",
            "Episode 600/1000 | Loss: 0.353\n",
            "Episode 700/1000 | Loss: 0.254\n",
            "Episode 800/1000 | Loss: 0.192\n",
            "Episode 900/1000 | Loss: 0.149\n"
          ]
        },
        {
          "output_type": "stream",
          "name": "stderr",
          "text": [
            "\r 14%|█▍        | 14/100 [00:51<05:10,  3.61s/it]"
          ]
        },
        {
          "output_type": "stream",
          "name": "stdout",
          "text": [
            "Episode 1000/1000 | Loss: 0.120\n",
            "Simulation 14: First few losses: [216.03311157226562, 214.1931915283203, 212.35260009765625, 210.51129150390625, 208.66909790039062]\n",
            "Episode 100/1000 | Loss: 35.536\n",
            "Episode 200/1000 | Loss: 4.711\n",
            "Episode 300/1000 | Loss: 1.640\n",
            "Episode 400/1000 | Loss: 0.830\n",
            "Episode 500/1000 | Loss: 0.503\n",
            "Episode 600/1000 | Loss: 0.337\n",
            "Episode 700/1000 | Loss: 0.242\n",
            "Episode 800/1000 | Loss: 0.183\n",
            "Episode 900/1000 | Loss: 0.142\n"
          ]
        },
        {
          "output_type": "stream",
          "name": "stderr",
          "text": [
            "\r 15%|█▌        | 15/100 [00:54<04:51,  3.43s/it]"
          ]
        },
        {
          "output_type": "stream",
          "name": "stdout",
          "text": [
            "Episode 1000/1000 | Loss: 0.114\n",
            "Simulation 15: First few losses: [201.18521118164062, 199.33265686035156, 197.48106384277344, 195.63050842285156, 193.78121948242188]\n",
            "Episode 100/1000 | Loss: 43.334\n",
            "Episode 200/1000 | Loss: 5.420\n",
            "Episode 300/1000 | Loss: 1.849\n",
            "Episode 400/1000 | Loss: 0.929\n",
            "Episode 500/1000 | Loss: 0.560\n",
            "Episode 600/1000 | Loss: 0.375\n",
            "Episode 700/1000 | Loss: 0.269\n",
            "Episode 800/1000 | Loss: 0.202\n",
            "Episode 900/1000 | Loss: 0.158\n"
          ]
        },
        {
          "output_type": "stream",
          "name": "stderr",
          "text": [
            "\r 16%|█▌        | 16/100 [00:57<04:36,  3.29s/it]"
          ]
        },
        {
          "output_type": "stream",
          "name": "stdout",
          "text": [
            "Episode 1000/1000 | Loss: 0.126\n",
            "Simulation 16: First few losses: [225.80853271484375, 223.7556915283203, 221.72776794433594, 219.72406005859375, 217.74331665039062]\n",
            "Episode 100/1000 | Loss: 34.728\n",
            "Episode 200/1000 | Loss: 4.682\n",
            "Episode 300/1000 | Loss: 1.638\n",
            "Episode 400/1000 | Loss: 0.832\n",
            "Episode 500/1000 | Loss: 0.504\n",
            "Episode 600/1000 | Loss: 0.339\n",
            "Episode 700/1000 | Loss: 0.244\n",
            "Episode 800/1000 | Loss: 0.184\n",
            "Episode 900/1000 | Loss: 0.143\n"
          ]
        },
        {
          "output_type": "stream",
          "name": "stderr",
          "text": [
            "\r 17%|█▋        | 17/100 [01:00<04:38,  3.35s/it]"
          ]
        },
        {
          "output_type": "stream",
          "name": "stdout",
          "text": [
            "Episode 1000/1000 | Loss: 0.115\n",
            "Simulation 17: First few losses: [198.95932006835938, 197.06256103515625, 195.171142578125, 193.28465270996094, 191.4026336669922]\n",
            "Episode 100/1000 | Loss: 34.853\n",
            "Episode 200/1000 | Loss: 4.721\n",
            "Episode 300/1000 | Loss: 1.658\n",
            "Episode 400/1000 | Loss: 0.843\n",
            "Episode 500/1000 | Loss: 0.511\n",
            "Episode 600/1000 | Loss: 0.344\n",
            "Episode 700/1000 | Loss: 0.247\n",
            "Episode 800/1000 | Loss: 0.186\n",
            "Episode 900/1000 | Loss: 0.145\n"
          ]
        },
        {
          "output_type": "stream",
          "name": "stderr",
          "text": [
            "\r 18%|█▊        | 18/100 [01:04<04:41,  3.43s/it]"
          ]
        },
        {
          "output_type": "stream",
          "name": "stdout",
          "text": [
            "Episode 1000/1000 | Loss: 0.116\n",
            "Simulation 18: First few losses: [201.93783569335938, 200.05540466308594, 198.1754608154297, 196.29788208007812, 194.42234802246094]\n",
            "Episode 100/1000 | Loss: 36.755\n",
            "Episode 200/1000 | Loss: 4.809\n",
            "Episode 300/1000 | Loss: 1.655\n",
            "Episode 400/1000 | Loss: 0.835\n",
            "Episode 500/1000 | Loss: 0.504\n",
            "Episode 600/1000 | Loss: 0.338\n",
            "Episode 700/1000 | Loss: 0.243\n",
            "Episode 800/1000 | Loss: 0.183\n",
            "Episode 900/1000 | Loss: 0.142\n"
          ]
        },
        {
          "output_type": "stream",
          "name": "stderr",
          "text": [
            "\r 19%|█▉        | 19/100 [01:07<04:26,  3.29s/it]"
          ]
        },
        {
          "output_type": "stream",
          "name": "stdout",
          "text": [
            "Episode 1000/1000 | Loss: 0.114\n",
            "Simulation 19: First few losses: [199.792724609375, 197.9478302001953, 196.10633850097656, 194.2681884765625, 192.4332733154297]\n",
            "Episode 100/1000 | Loss: 36.342\n",
            "Episode 200/1000 | Loss: 4.696\n",
            "Episode 300/1000 | Loss: 1.646\n",
            "Episode 400/1000 | Loss: 0.839\n",
            "Episode 500/1000 | Loss: 0.510\n",
            "Episode 600/1000 | Loss: 0.344\n",
            "Episode 700/1000 | Loss: 0.248\n",
            "Episode 800/1000 | Loss: 0.187\n",
            "Episode 900/1000 | Loss: 0.146\n"
          ]
        },
        {
          "output_type": "stream",
          "name": "stderr",
          "text": [
            "\r 20%|██        | 20/100 [01:10<04:18,  3.23s/it]"
          ]
        },
        {
          "output_type": "stream",
          "name": "stdout",
          "text": [
            "Episode 1000/1000 | Loss: 0.117\n",
            "Simulation 20: First few losses: [209.8629913330078, 208.00912475585938, 206.15528869628906, 204.30149841308594, 202.44760131835938]\n",
            "Episode 100/1000 | Loss: 39.884\n",
            "Episode 200/1000 | Loss: 5.096\n",
            "Episode 300/1000 | Loss: 1.749\n",
            "Episode 400/1000 | Loss: 0.880\n",
            "Episode 500/1000 | Loss: 0.531\n",
            "Episode 600/1000 | Loss: 0.356\n",
            "Episode 700/1000 | Loss: 0.255\n",
            "Episode 800/1000 | Loss: 0.192\n",
            "Episode 900/1000 | Loss: 0.150\n"
          ]
        },
        {
          "output_type": "stream",
          "name": "stderr",
          "text": [
            "\r 21%|██        | 21/100 [01:13<04:18,  3.27s/it]"
          ]
        },
        {
          "output_type": "stream",
          "name": "stdout",
          "text": [
            "Episode 1000/1000 | Loss: 0.120\n",
            "Simulation 21: First few losses: [213.266845703125, 211.3162841796875, 209.38111877441406, 207.46128845214844, 205.55618286132812]\n",
            "Episode 100/1000 | Loss: 35.867\n",
            "Episode 200/1000 | Loss: 4.774\n",
            "Episode 300/1000 | Loss: 1.656\n",
            "Episode 400/1000 | Loss: 0.837\n",
            "Episode 500/1000 | Loss: 0.506\n",
            "Episode 600/1000 | Loss: 0.339\n",
            "Episode 700/1000 | Loss: 0.244\n",
            "Episode 800/1000 | Loss: 0.183\n",
            "Episode 900/1000 | Loss: 0.143\n"
          ]
        },
        {
          "output_type": "stream",
          "name": "stderr",
          "text": [
            "\r 22%|██▏       | 22/100 [01:17<04:27,  3.42s/it]"
          ]
        },
        {
          "output_type": "stream",
          "name": "stdout",
          "text": [
            "Episode 1000/1000 | Loss: 0.114\n",
            "Simulation 22: First few losses: [200.16183471679688, 198.30860900878906, 196.45864868164062, 194.6116943359375, 192.7676544189453]\n",
            "Episode 100/1000 | Loss: 41.064\n",
            "Episode 200/1000 | Loss: 5.188\n",
            "Episode 300/1000 | Loss: 1.781\n",
            "Episode 400/1000 | Loss: 0.899\n",
            "Episode 500/1000 | Loss: 0.544\n",
            "Episode 600/1000 | Loss: 0.365\n",
            "Episode 700/1000 | Loss: 0.262\n",
            "Episode 800/1000 | Loss: 0.198\n",
            "Episode 900/1000 | Loss: 0.154\n"
          ]
        },
        {
          "output_type": "stream",
          "name": "stderr",
          "text": [
            "\r 23%|██▎       | 23/100 [01:20<04:16,  3.33s/it]"
          ]
        },
        {
          "output_type": "stream",
          "name": "stdout",
          "text": [
            "Episode 1000/1000 | Loss: 0.124\n",
            "Simulation 23: First few losses: [218.01539611816406, 216.05870056152344, 214.11911010742188, 212.19613647460938, 210.28866577148438]\n",
            "Episode 100/1000 | Loss: 35.343\n",
            "Episode 200/1000 | Loss: 4.639\n",
            "Episode 300/1000 | Loss: 1.624\n",
            "Episode 400/1000 | Loss: 0.826\n",
            "Episode 500/1000 | Loss: 0.501\n",
            "Episode 600/1000 | Loss: 0.337\n",
            "Episode 700/1000 | Loss: 0.243\n",
            "Episode 800/1000 | Loss: 0.183\n",
            "Episode 900/1000 | Loss: 0.143\n"
          ]
        },
        {
          "output_type": "stream",
          "name": "stderr",
          "text": [
            "\r 24%|██▍       | 24/100 [01:24<04:11,  3.30s/it]"
          ]
        },
        {
          "output_type": "stream",
          "name": "stdout",
          "text": [
            "Episode 1000/1000 | Loss: 0.115\n",
            "Simulation 24: First few losses: [203.92706298828125, 202.10304260253906, 200.27890014648438, 198.45469665527344, 196.63052368164062]\n",
            "Episode 100/1000 | Loss: 39.617\n",
            "Episode 200/1000 | Loss: 5.104\n",
            "Episode 300/1000 | Loss: 1.766\n",
            "Episode 400/1000 | Loss: 0.894\n",
            "Episode 500/1000 | Loss: 0.541\n",
            "Episode 600/1000 | Loss: 0.364\n",
            "Episode 700/1000 | Loss: 0.262\n",
            "Episode 800/1000 | Loss: 0.197\n",
            "Episode 900/1000 | Loss: 0.154\n"
          ]
        },
        {
          "output_type": "stream",
          "name": "stderr",
          "text": [
            "\r 25%|██▌       | 25/100 [01:27<04:11,  3.36s/it]"
          ]
        },
        {
          "output_type": "stream",
          "name": "stdout",
          "text": [
            "Episode 1000/1000 | Loss: 0.123\n",
            "Simulation 25: First few losses: [215.50462341308594, 213.64625549316406, 211.78900146484375, 209.9322509765625, 208.0754852294922]\n",
            "Episode 100/1000 | Loss: 38.698\n",
            "Episode 200/1000 | Loss: 5.215\n",
            "Episode 300/1000 | Loss: 1.792\n",
            "Episode 400/1000 | Loss: 0.901\n",
            "Episode 500/1000 | Loss: 0.543\n",
            "Episode 600/1000 | Loss: 0.364\n",
            "Episode 700/1000 | Loss: 0.261\n",
            "Episode 800/1000 | Loss: 0.196\n",
            "Episode 900/1000 | Loss: 0.153\n"
          ]
        },
        {
          "output_type": "stream",
          "name": "stderr",
          "text": [
            "\r 26%|██▌       | 26/100 [01:31<04:17,  3.49s/it]"
          ]
        },
        {
          "output_type": "stream",
          "name": "stdout",
          "text": [
            "Episode 1000/1000 | Loss: 0.122\n",
            "Simulation 26: First few losses: [205.724365234375, 203.7698974609375, 201.8204345703125, 199.87588500976562, 197.9362030029297]\n",
            "Episode 100/1000 | Loss: 41.051\n",
            "Episode 200/1000 | Loss: 5.170\n",
            "Episode 300/1000 | Loss: 1.767\n",
            "Episode 400/1000 | Loss: 0.889\n",
            "Episode 500/1000 | Loss: 0.537\n",
            "Episode 600/1000 | Loss: 0.360\n",
            "Episode 700/1000 | Loss: 0.258\n",
            "Episode 800/1000 | Loss: 0.194\n",
            "Episode 900/1000 | Loss: 0.151\n"
          ]
        },
        {
          "output_type": "stream",
          "name": "stderr",
          "text": [
            "\r 27%|██▋       | 27/100 [01:34<04:14,  3.49s/it]"
          ]
        },
        {
          "output_type": "stream",
          "name": "stdout",
          "text": [
            "Episode 1000/1000 | Loss: 0.121\n",
            "Simulation 27: First few losses: [216.04296875, 214.06365966796875, 212.10733032226562, 210.17153930664062, 208.25363159179688]\n",
            "Episode 100/1000 | Loss: 40.239\n",
            "Episode 200/1000 | Loss: 5.052\n",
            "Episode 300/1000 | Loss: 1.735\n",
            "Episode 400/1000 | Loss: 0.876\n",
            "Episode 500/1000 | Loss: 0.529\n",
            "Episode 600/1000 | Loss: 0.355\n",
            "Episode 700/1000 | Loss: 0.255\n",
            "Episode 800/1000 | Loss: 0.192\n",
            "Episode 900/1000 | Loss: 0.150\n"
          ]
        },
        {
          "output_type": "stream",
          "name": "stderr",
          "text": [
            "\r 28%|██▊       | 28/100 [01:37<04:00,  3.34s/it]"
          ]
        },
        {
          "output_type": "stream",
          "name": "stdout",
          "text": [
            "Episode 1000/1000 | Loss: 0.120\n",
            "Simulation 28: First few losses: [213.4431915283203, 211.51995849609375, 209.61111450195312, 207.71633911132812, 205.8352813720703]\n",
            "Episode 100/1000 | Loss: 37.435\n",
            "Episode 200/1000 | Loss: 4.991\n",
            "Episode 300/1000 | Loss: 1.727\n",
            "Episode 400/1000 | Loss: 0.873\n",
            "Episode 500/1000 | Loss: 0.528\n",
            "Episode 600/1000 | Loss: 0.354\n",
            "Episode 700/1000 | Loss: 0.255\n",
            "Episode 800/1000 | Loss: 0.192\n",
            "Episode 900/1000 | Loss: 0.150\n"
          ]
        },
        {
          "output_type": "stream",
          "name": "stderr",
          "text": [
            "\r 29%|██▉       | 29/100 [01:41<04:00,  3.39s/it]"
          ]
        },
        {
          "output_type": "stream",
          "name": "stdout",
          "text": [
            "Episode 1000/1000 | Loss: 0.120\n",
            "Simulation 29: First few losses: [203.79769897460938, 201.8953857421875, 200.0007781982422, 198.11204528808594, 196.22850036621094]\n",
            "Episode 100/1000 | Loss: 36.858\n",
            "Episode 200/1000 | Loss: 4.818\n",
            "Episode 300/1000 | Loss: 1.662\n",
            "Episode 400/1000 | Loss: 0.838\n",
            "Episode 500/1000 | Loss: 0.506\n",
            "Episode 600/1000 | Loss: 0.339\n",
            "Episode 700/1000 | Loss: 0.243\n",
            "Episode 800/1000 | Loss: 0.183\n",
            "Episode 900/1000 | Loss: 0.143\n"
          ]
        },
        {
          "output_type": "stream",
          "name": "stderr",
          "text": [
            "\r 30%|███       | 30/100 [01:45<04:06,  3.53s/it]"
          ]
        },
        {
          "output_type": "stream",
          "name": "stdout",
          "text": [
            "Episode 1000/1000 | Loss: 0.114\n",
            "Simulation 30: First few losses: [202.64649963378906, 200.81631469726562, 198.9878387451172, 197.16104125976562, 195.3358612060547]\n",
            "Episode 100/1000 | Loss: 38.620\n",
            "Episode 200/1000 | Loss: 5.088\n",
            "Episode 300/1000 | Loss: 1.758\n",
            "Episode 400/1000 | Loss: 0.889\n",
            "Episode 500/1000 | Loss: 0.538\n",
            "Episode 600/1000 | Loss: 0.361\n",
            "Episode 700/1000 | Loss: 0.259\n",
            "Episode 800/1000 | Loss: 0.195\n",
            "Episode 900/1000 | Loss: 0.152\n"
          ]
        },
        {
          "output_type": "stream",
          "name": "stderr",
          "text": [
            "\r 31%|███       | 31/100 [01:48<03:53,  3.38s/it]"
          ]
        },
        {
          "output_type": "stream",
          "name": "stdout",
          "text": [
            "Episode 1000/1000 | Loss: 0.122\n",
            "Simulation 31: First few losses: [209.66387939453125, 207.71652221679688, 205.7820281982422, 203.85736083984375, 201.93975830078125]\n",
            "Episode 100/1000 | Loss: 43.112\n",
            "Episode 200/1000 | Loss: 5.332\n",
            "Episode 300/1000 | Loss: 1.814\n",
            "Episode 400/1000 | Loss: 0.912\n",
            "Episode 500/1000 | Loss: 0.550\n",
            "Episode 600/1000 | Loss: 0.369\n",
            "Episode 700/1000 | Loss: 0.265\n",
            "Episode 800/1000 | Loss: 0.199\n",
            "Episode 900/1000 | Loss: 0.155\n"
          ]
        },
        {
          "output_type": "stream",
          "name": "stderr",
          "text": [
            "\r 32%|███▏      | 32/100 [01:51<03:42,  3.28s/it]"
          ]
        },
        {
          "output_type": "stream",
          "name": "stdout",
          "text": [
            "Episode 1000/1000 | Loss: 0.124\n",
            "Simulation 32: First few losses: [221.88807678222656, 219.80340576171875, 217.7542266845703, 215.73814392089844, 213.75225830078125]\n",
            "Episode 100/1000 | Loss: 42.499\n",
            "Episode 200/1000 | Loss: 5.383\n",
            "Episode 300/1000 | Loss: 1.816\n",
            "Episode 400/1000 | Loss: 0.908\n",
            "Episode 500/1000 | Loss: 0.546\n",
            "Episode 600/1000 | Loss: 0.365\n",
            "Episode 700/1000 | Loss: 0.261\n",
            "Episode 800/1000 | Loss: 0.196\n",
            "Episode 900/1000 | Loss: 0.153\n"
          ]
        },
        {
          "output_type": "stream",
          "name": "stderr",
          "text": [
            "\r 33%|███▎      | 33/100 [01:54<03:45,  3.36s/it]"
          ]
        },
        {
          "output_type": "stream",
          "name": "stdout",
          "text": [
            "Episode 1000/1000 | Loss: 0.122\n",
            "Simulation 33: First few losses: [215.56568908691406, 213.61326599121094, 211.667236328125, 209.72703552246094, 207.7921600341797]\n",
            "Episode 100/1000 | Loss: 43.010\n",
            "Episode 200/1000 | Loss: 5.279\n",
            "Episode 300/1000 | Loss: 1.790\n",
            "Episode 400/1000 | Loss: 0.899\n",
            "Episode 500/1000 | Loss: 0.542\n",
            "Episode 600/1000 | Loss: 0.363\n",
            "Episode 700/1000 | Loss: 0.260\n",
            "Episode 800/1000 | Loss: 0.196\n",
            "Episode 900/1000 | Loss: 0.153\n"
          ]
        },
        {
          "output_type": "stream",
          "name": "stderr",
          "text": [
            "\r 34%|███▍      | 34/100 [01:58<03:52,  3.53s/it]"
          ]
        },
        {
          "output_type": "stream",
          "name": "stdout",
          "text": [
            "Episode 1000/1000 | Loss: 0.122\n",
            "Simulation 34: First few losses: [220.07522583007812, 218.14439392089844, 216.22914123535156, 214.32940673828125, 212.44496154785156]\n",
            "Episode 100/1000 | Loss: 41.558\n",
            "Episode 200/1000 | Loss: 5.309\n",
            "Episode 300/1000 | Loss: 1.840\n",
            "Episode 400/1000 | Loss: 0.933\n",
            "Episode 500/1000 | Loss: 0.566\n",
            "Episode 600/1000 | Loss: 0.381\n",
            "Episode 700/1000 | Loss: 0.274\n",
            "Episode 800/1000 | Loss: 0.207\n",
            "Episode 900/1000 | Loss: 0.161\n"
          ]
        },
        {
          "output_type": "stream",
          "name": "stderr",
          "text": [
            "\r 35%|███▌      | 35/100 [02:01<03:38,  3.36s/it]"
          ]
        },
        {
          "output_type": "stream",
          "name": "stdout",
          "text": [
            "Episode 1000/1000 | Loss: 0.129\n",
            "Simulation 35: First few losses: [226.1315155029297, 224.08987426757812, 222.06375122070312, 220.05288696289062, 218.0568389892578]\n",
            "Episode 100/1000 | Loss: 36.735\n",
            "Episode 200/1000 | Loss: 4.738\n",
            "Episode 300/1000 | Loss: 1.635\n",
            "Episode 400/1000 | Loss: 0.826\n",
            "Episode 500/1000 | Loss: 0.500\n",
            "Episode 600/1000 | Loss: 0.336\n",
            "Episode 700/1000 | Loss: 0.242\n",
            "Episode 800/1000 | Loss: 0.182\n",
            "Episode 900/1000 | Loss: 0.142\n"
          ]
        },
        {
          "output_type": "stream",
          "name": "stderr",
          "text": [
            "\r 36%|███▌      | 36/100 [02:04<03:28,  3.25s/it]"
          ]
        },
        {
          "output_type": "stream",
          "name": "stdout",
          "text": [
            "Episode 1000/1000 | Loss: 0.114\n",
            "Simulation 36: First few losses: [201.78854370117188, 199.93653869628906, 198.08981323242188, 196.2480926513672, 194.41110229492188]\n",
            "Episode 100/1000 | Loss: 39.759\n",
            "Episode 200/1000 | Loss: 5.033\n",
            "Episode 300/1000 | Loss: 1.719\n",
            "Episode 400/1000 | Loss: 0.864\n",
            "Episode 500/1000 | Loss: 0.521\n",
            "Episode 600/1000 | Loss: 0.349\n",
            "Episode 700/1000 | Loss: 0.251\n",
            "Episode 800/1000 | Loss: 0.188\n",
            "Episode 900/1000 | Loss: 0.147\n"
          ]
        },
        {
          "output_type": "stream",
          "name": "stderr",
          "text": [
            "\r 37%|███▋      | 37/100 [02:08<03:27,  3.29s/it]"
          ]
        },
        {
          "output_type": "stream",
          "name": "stdout",
          "text": [
            "Episode 1000/1000 | Loss: 0.118\n",
            "Simulation 37: First few losses: [210.24441528320312, 208.38316345214844, 206.52491760253906, 204.66976928710938, 202.8177032470703]\n",
            "Episode 100/1000 | Loss: 36.506\n",
            "Episode 200/1000 | Loss: 4.805\n",
            "Episode 300/1000 | Loss: 1.679\n",
            "Episode 400/1000 | Loss: 0.853\n",
            "Episode 500/1000 | Loss: 0.517\n",
            "Episode 600/1000 | Loss: 0.348\n",
            "Episode 700/1000 | Loss: 0.250\n",
            "Episode 800/1000 | Loss: 0.189\n",
            "Episode 900/1000 | Loss: 0.147\n"
          ]
        },
        {
          "output_type": "stream",
          "name": "stderr",
          "text": [
            "\r 38%|███▊      | 38/100 [02:11<03:34,  3.47s/it]"
          ]
        },
        {
          "output_type": "stream",
          "name": "stdout",
          "text": [
            "Episode 1000/1000 | Loss: 0.118\n",
            "Simulation 38: First few losses: [206.82565307617188, 204.97328186035156, 203.1306610107422, 201.2957305908203, 199.4658966064453]\n",
            "Episode 100/1000 | Loss: 38.710\n",
            "Episode 200/1000 | Loss: 5.188\n",
            "Episode 300/1000 | Loss: 1.792\n",
            "Episode 400/1000 | Loss: 0.904\n",
            "Episode 500/1000 | Loss: 0.546\n",
            "Episode 600/1000 | Loss: 0.366\n",
            "Episode 700/1000 | Loss: 0.263\n",
            "Episode 800/1000 | Loss: 0.198\n",
            "Episode 900/1000 | Loss: 0.154\n"
          ]
        },
        {
          "output_type": "stream",
          "name": "stderr",
          "text": [
            "\r 39%|███▉      | 39/100 [02:16<04:00,  3.94s/it]"
          ]
        },
        {
          "output_type": "stream",
          "name": "stdout",
          "text": [
            "Episode 1000/1000 | Loss: 0.123\n",
            "Simulation 39: First few losses: [208.42750549316406, 206.4738006591797, 204.5272216796875, 202.5872039794922, 200.6529541015625]\n",
            "Episode 100/1000 | Loss: 37.280\n",
            "Episode 200/1000 | Loss: 4.924\n",
            "Episode 300/1000 | Loss: 1.726\n",
            "Episode 400/1000 | Loss: 0.879\n",
            "Episode 500/1000 | Loss: 0.534\n",
            "Episode 600/1000 | Loss: 0.360\n",
            "Episode 700/1000 | Loss: 0.259\n",
            "Episode 800/1000 | Loss: 0.195\n",
            "Episode 900/1000 | Loss: 0.152\n"
          ]
        },
        {
          "output_type": "stream",
          "name": "stderr",
          "text": [
            "\r 40%|████      | 40/100 [02:19<03:38,  3.64s/it]"
          ]
        },
        {
          "output_type": "stream",
          "name": "stdout",
          "text": [
            "Episode 1000/1000 | Loss: 0.122\n",
            "Simulation 40: First few losses: [212.35203552246094, 210.45965576171875, 208.5664825439453, 206.67239379882812, 204.77731323242188]\n",
            "Episode 100/1000 | Loss: 35.534\n",
            "Episode 200/1000 | Loss: 4.761\n",
            "Episode 300/1000 | Loss: 1.666\n",
            "Episode 400/1000 | Loss: 0.847\n",
            "Episode 500/1000 | Loss: 0.514\n",
            "Episode 600/1000 | Loss: 0.346\n",
            "Episode 700/1000 | Loss: 0.249\n",
            "Episode 800/1000 | Loss: 0.188\n",
            "Episode 900/1000 | Loss: 0.146\n"
          ]
        },
        {
          "output_type": "stream",
          "name": "stderr",
          "text": [
            "\r 41%|████      | 41/100 [02:24<03:43,  3.79s/it]"
          ]
        },
        {
          "output_type": "stream",
          "name": "stdout",
          "text": [
            "Episode 1000/1000 | Loss: 0.117\n",
            "Simulation 41: First few losses: [201.5851287841797, 199.72361755371094, 197.86390686035156, 196.00584411621094, 194.1493682861328]\n",
            "Episode 100/1000 | Loss: 35.168\n",
            "Episode 200/1000 | Loss: 4.736\n",
            "Episode 300/1000 | Loss: 1.643\n",
            "Episode 400/1000 | Loss: 0.830\n",
            "Episode 500/1000 | Loss: 0.502\n",
            "Episode 600/1000 | Loss: 0.336\n",
            "Episode 700/1000 | Loss: 0.241\n",
            "Episode 800/1000 | Loss: 0.182\n",
            "Episode 900/1000 | Loss: 0.142\n"
          ]
        },
        {
          "output_type": "stream",
          "name": "stderr",
          "text": [
            "\r 42%|████▏     | 42/100 [02:26<03:25,  3.55s/it]"
          ]
        },
        {
          "output_type": "stream",
          "name": "stdout",
          "text": [
            "Episode 1000/1000 | Loss: 0.113\n",
            "Simulation 42: First few losses: [198.1953887939453, 196.31719970703125, 194.44235229492188, 192.57070922851562, 190.70233154296875]\n",
            "Episode 100/1000 | Loss: 36.441\n",
            "Episode 200/1000 | Loss: 4.817\n",
            "Episode 300/1000 | Loss: 1.672\n",
            "Episode 400/1000 | Loss: 0.847\n",
            "Episode 500/1000 | Loss: 0.513\n",
            "Episode 600/1000 | Loss: 0.345\n",
            "Episode 700/1000 | Loss: 0.248\n",
            "Episode 800/1000 | Loss: 0.187\n",
            "Episode 900/1000 | Loss: 0.146\n"
          ]
        },
        {
          "output_type": "stream",
          "name": "stderr",
          "text": [
            "\r 43%|████▎     | 43/100 [02:29<03:11,  3.36s/it]"
          ]
        },
        {
          "output_type": "stream",
          "name": "stdout",
          "text": [
            "Episode 1000/1000 | Loss: 0.117\n",
            "Simulation 43: First few losses: [200.60842895507812, 198.777587890625, 196.94874572753906, 195.12168884277344, 193.2963104248047]\n",
            "Episode 100/1000 | Loss: 42.561\n",
            "Episode 200/1000 | Loss: 5.422\n",
            "Episode 300/1000 | Loss: 1.855\n",
            "Episode 400/1000 | Loss: 0.933\n",
            "Episode 500/1000 | Loss: 0.563\n",
            "Episode 600/1000 | Loss: 0.378\n",
            "Episode 700/1000 | Loss: 0.271\n",
            "Episode 800/1000 | Loss: 0.204\n",
            "Episode 900/1000 | Loss: 0.159\n"
          ]
        },
        {
          "output_type": "stream",
          "name": "stderr",
          "text": [
            "\r 44%|████▍     | 44/100 [02:32<03:01,  3.24s/it]"
          ]
        },
        {
          "output_type": "stream",
          "name": "stdout",
          "text": [
            "Episode 1000/1000 | Loss: 0.127\n",
            "Simulation 44: First few losses: [222.469482421875, 220.50506591796875, 218.55691528320312, 216.61965942382812, 214.68966674804688]\n",
            "Episode 100/1000 | Loss: 35.299\n",
            "Episode 200/1000 | Loss: 4.785\n",
            "Episode 300/1000 | Loss: 1.657\n",
            "Episode 400/1000 | Loss: 0.837\n",
            "Episode 500/1000 | Loss: 0.505\n",
            "Episode 600/1000 | Loss: 0.339\n",
            "Episode 700/1000 | Loss: 0.243\n",
            "Episode 800/1000 | Loss: 0.183\n",
            "Episode 900/1000 | Loss: 0.143\n"
          ]
        },
        {
          "output_type": "stream",
          "name": "stderr",
          "text": [
            "\r 45%|████▌     | 45/100 [02:36<03:07,  3.41s/it]"
          ]
        },
        {
          "output_type": "stream",
          "name": "stdout",
          "text": [
            "Episode 1000/1000 | Loss: 0.114\n",
            "Simulation 45: First few losses: [194.78367614746094, 192.90847778320312, 191.03794860839844, 189.17222595214844, 187.3111572265625]\n",
            "Episode 100/1000 | Loss: 39.657\n",
            "Episode 200/1000 | Loss: 5.032\n",
            "Episode 300/1000 | Loss: 1.710\n",
            "Episode 400/1000 | Loss: 0.859\n",
            "Episode 500/1000 | Loss: 0.518\n",
            "Episode 600/1000 | Loss: 0.347\n",
            "Episode 700/1000 | Loss: 0.249\n",
            "Episode 800/1000 | Loss: 0.187\n",
            "Episode 900/1000 | Loss: 0.146\n"
          ]
        },
        {
          "output_type": "stream",
          "name": "stderr",
          "text": [
            "\r 46%|████▌     | 46/100 [02:39<03:01,  3.36s/it]"
          ]
        },
        {
          "output_type": "stream",
          "name": "stdout",
          "text": [
            "Episode 1000/1000 | Loss: 0.117\n",
            "Simulation 46: First few losses: [204.7625732421875, 202.94345092773438, 201.1276092529297, 199.3148956298828, 197.5052947998047]\n",
            "Episode 100/1000 | Loss: 40.823\n",
            "Episode 200/1000 | Loss: 5.207\n",
            "Episode 300/1000 | Loss: 1.757\n",
            "Episode 400/1000 | Loss: 0.878\n",
            "Episode 500/1000 | Loss: 0.527\n",
            "Episode 600/1000 | Loss: 0.352\n",
            "Episode 700/1000 | Loss: 0.252\n",
            "Episode 800/1000 | Loss: 0.189\n",
            "Episode 900/1000 | Loss: 0.147\n"
          ]
        },
        {
          "output_type": "stream",
          "name": "stderr",
          "text": [
            "\r 47%|████▋     | 47/100 [02:42<02:52,  3.25s/it]"
          ]
        },
        {
          "output_type": "stream",
          "name": "stdout",
          "text": [
            "Episode 1000/1000 | Loss: 0.118\n",
            "Simulation 47: First few losses: [208.4251251220703, 206.53277587890625, 204.6471710205078, 202.7677459716797, 200.89402770996094]\n",
            "Episode 100/1000 | Loss: 45.127\n",
            "Episode 200/1000 | Loss: 5.377\n",
            "Episode 300/1000 | Loss: 1.826\n",
            "Episode 400/1000 | Loss: 0.919\n",
            "Episode 500/1000 | Loss: 0.556\n",
            "Episode 600/1000 | Loss: 0.373\n",
            "Episode 700/1000 | Loss: 0.268\n",
            "Episode 800/1000 | Loss: 0.202\n",
            "Episode 900/1000 | Loss: 0.158\n"
          ]
        },
        {
          "output_type": "stream",
          "name": "stderr",
          "text": [
            "\r 48%|████▊     | 48/100 [02:45<02:44,  3.16s/it]"
          ]
        },
        {
          "output_type": "stream",
          "name": "stdout",
          "text": [
            "Episode 1000/1000 | Loss: 0.126\n",
            "Simulation 48: First few losses: [230.53204345703125, 228.5682373046875, 226.62222290039062, 224.693115234375, 222.78013610839844]\n",
            "Episode 100/1000 | Loss: 35.667\n",
            "Episode 200/1000 | Loss: 4.886\n",
            "Episode 300/1000 | Loss: 1.698\n",
            "Episode 400/1000 | Loss: 0.859\n",
            "Episode 500/1000 | Loss: 0.520\n",
            "Episode 600/1000 | Loss: 0.349\n",
            "Episode 700/1000 | Loss: 0.251\n",
            "Episode 800/1000 | Loss: 0.189\n",
            "Episode 900/1000 | Loss: 0.148\n"
          ]
        },
        {
          "output_type": "stream",
          "name": "stderr",
          "text": [
            "\r 49%|████▉     | 49/100 [02:49<02:45,  3.25s/it]"
          ]
        },
        {
          "output_type": "stream",
          "name": "stdout",
          "text": [
            "Episode 1000/1000 | Loss: 0.118\n",
            "Simulation 49: First few losses: [197.76194763183594, 195.8404998779297, 193.92384338378906, 192.01197814941406, 190.1048126220703]\n",
            "Episode 100/1000 | Loss: 34.563\n",
            "Episode 200/1000 | Loss: 4.637\n",
            "Episode 300/1000 | Loss: 1.634\n",
            "Episode 400/1000 | Loss: 0.834\n",
            "Episode 500/1000 | Loss: 0.507\n",
            "Episode 600/1000 | Loss: 0.342\n",
            "Episode 700/1000 | Loss: 0.246\n",
            "Episode 800/1000 | Loss: 0.186\n",
            "Episode 900/1000 | Loss: 0.145\n"
          ]
        },
        {
          "output_type": "stream",
          "name": "stderr",
          "text": [
            "\r 50%|█████     | 50/100 [02:53<02:49,  3.38s/it]"
          ]
        },
        {
          "output_type": "stream",
          "name": "stdout",
          "text": [
            "Episode 1000/1000 | Loss: 0.117\n",
            "Simulation 50: First few losses: [201.7662811279297, 199.88230895996094, 198.00062561035156, 196.12086486816406, 194.24273681640625]\n",
            "Episode 100/1000 | Loss: 35.287\n",
            "Episode 200/1000 | Loss: 4.735\n",
            "Episode 300/1000 | Loss: 1.636\n",
            "Episode 400/1000 | Loss: 0.826\n",
            "Episode 500/1000 | Loss: 0.499\n",
            "Episode 600/1000 | Loss: 0.335\n",
            "Episode 700/1000 | Loss: 0.241\n",
            "Episode 800/1000 | Loss: 0.181\n",
            "Episode 900/1000 | Loss: 0.141\n"
          ]
        },
        {
          "output_type": "stream",
          "name": "stderr",
          "text": [
            "\r 51%|█████     | 51/100 [02:55<02:38,  3.24s/it]"
          ]
        },
        {
          "output_type": "stream",
          "name": "stdout",
          "text": [
            "Episode 1000/1000 | Loss: 0.113\n",
            "Simulation 51: First few losses: [193.94044494628906, 192.11376953125, 190.29046630859375, 188.47047424316406, 186.6537322998047]\n",
            "Episode 100/1000 | Loss: 38.160\n",
            "Episode 200/1000 | Loss: 5.018\n",
            "Episode 300/1000 | Loss: 1.731\n",
            "Episode 400/1000 | Loss: 0.872\n",
            "Episode 500/1000 | Loss: 0.527\n",
            "Episode 600/1000 | Loss: 0.353\n",
            "Episode 700/1000 | Loss: 0.253\n",
            "Episode 800/1000 | Loss: 0.190\n",
            "Episode 900/1000 | Loss: 0.148\n"
          ]
        },
        {
          "output_type": "stream",
          "name": "stderr",
          "text": [
            "\r 52%|█████▏    | 52/100 [02:58<02:30,  3.14s/it]"
          ]
        },
        {
          "output_type": "stream",
          "name": "stdout",
          "text": [
            "Episode 1000/1000 | Loss: 0.119\n",
            "Simulation 52: First few losses: [208.12709045410156, 206.24334716796875, 204.3612060546875, 202.4806671142578, 200.60169982910156]\n",
            "Episode 100/1000 | Loss: 37.458\n",
            "Episode 200/1000 | Loss: 4.951\n",
            "Episode 300/1000 | Loss: 1.718\n",
            "Episode 400/1000 | Loss: 0.869\n",
            "Episode 500/1000 | Loss: 0.526\n",
            "Episode 600/1000 | Loss: 0.353\n",
            "Episode 700/1000 | Loss: 0.253\n",
            "Episode 800/1000 | Loss: 0.191\n",
            "Episode 900/1000 | Loss: 0.149\n"
          ]
        },
        {
          "output_type": "stream",
          "name": "stderr",
          "text": [
            "\r 53%|█████▎    | 53/100 [03:02<02:29,  3.18s/it]"
          ]
        },
        {
          "output_type": "stream",
          "name": "stdout",
          "text": [
            "Episode 1000/1000 | Loss: 0.119\n",
            "Simulation 53: First few losses: [207.46926879882812, 205.57278442382812, 203.68441772460938, 201.80130004882812, 199.92149353027344]\n",
            "Episode 100/1000 | Loss: 40.289\n",
            "Episode 200/1000 | Loss: 5.037\n",
            "Episode 300/1000 | Loss: 1.719\n",
            "Episode 400/1000 | Loss: 0.865\n",
            "Episode 500/1000 | Loss: 0.522\n",
            "Episode 600/1000 | Loss: 0.350\n",
            "Episode 700/1000 | Loss: 0.252\n",
            "Episode 800/1000 | Loss: 0.189\n",
            "Episode 900/1000 | Loss: 0.148\n"
          ]
        },
        {
          "output_type": "stream",
          "name": "stderr",
          "text": [
            "\r 54%|█████▍    | 54/100 [03:06<02:36,  3.40s/it]"
          ]
        },
        {
          "output_type": "stream",
          "name": "stdout",
          "text": [
            "Episode 1000/1000 | Loss: 0.118\n",
            "Simulation 54: First few losses: [212.71981811523438, 210.8950653076172, 209.0750732421875, 207.25843811035156, 205.4444580078125]\n",
            "Episode 100/1000 | Loss: 37.074\n",
            "Episode 200/1000 | Loss: 4.835\n",
            "Episode 300/1000 | Loss: 1.645\n",
            "Episode 400/1000 | Loss: 0.825\n",
            "Episode 500/1000 | Loss: 0.497\n",
            "Episode 600/1000 | Loss: 0.333\n",
            "Episode 700/1000 | Loss: 0.239\n",
            "Episode 800/1000 | Loss: 0.179\n",
            "Episode 900/1000 | Loss: 0.140\n"
          ]
        },
        {
          "output_type": "stream",
          "name": "stderr",
          "text": [
            "\r 55%|█████▌    | 55/100 [03:09<02:27,  3.27s/it]"
          ]
        },
        {
          "output_type": "stream",
          "name": "stdout",
          "text": [
            "Episode 1000/1000 | Loss: 0.112\n",
            "Simulation 55: First few losses: [194.35467529296875, 192.55433654785156, 190.759033203125, 188.96868896484375, 187.1829833984375]\n",
            "Episode 100/1000 | Loss: 39.884\n",
            "Episode 200/1000 | Loss: 5.137\n",
            "Episode 300/1000 | Loss: 1.758\n",
            "Episode 400/1000 | Loss: 0.885\n",
            "Episode 500/1000 | Loss: 0.534\n",
            "Episode 600/1000 | Loss: 0.358\n",
            "Episode 700/1000 | Loss: 0.257\n",
            "Episode 800/1000 | Loss: 0.193\n",
            "Episode 900/1000 | Loss: 0.151\n"
          ]
        },
        {
          "output_type": "stream",
          "name": "stderr",
          "text": [
            "\r 56%|█████▌    | 56/100 [03:11<02:19,  3.18s/it]"
          ]
        },
        {
          "output_type": "stream",
          "name": "stdout",
          "text": [
            "Episode 1000/1000 | Loss: 0.121\n",
            "Simulation 56: First few losses: [210.10147094726562, 208.2215118408203, 206.3450927734375, 204.47215270996094, 202.602783203125]\n",
            "Episode 100/1000 | Loss: 41.463\n",
            "Episode 200/1000 | Loss: 5.251\n",
            "Episode 300/1000 | Loss: 1.780\n",
            "Episode 400/1000 | Loss: 0.890\n",
            "Episode 500/1000 | Loss: 0.535\n",
            "Episode 600/1000 | Loss: 0.357\n",
            "Episode 700/1000 | Loss: 0.256\n",
            "Episode 800/1000 | Loss: 0.192\n",
            "Episode 900/1000 | Loss: 0.149\n"
          ]
        },
        {
          "output_type": "stream",
          "name": "stderr",
          "text": [
            "\r 57%|█████▋    | 57/100 [03:15<02:15,  3.14s/it]"
          ]
        },
        {
          "output_type": "stream",
          "name": "stdout",
          "text": [
            "Episode 1000/1000 | Loss: 0.119\n",
            "Simulation 57: First few losses: [214.8997344970703, 213.05242919921875, 211.20652770996094, 209.3619384765625, 207.51856994628906]\n",
            "Episode 100/1000 | Loss: 37.768\n",
            "Episode 200/1000 | Loss: 4.979\n",
            "Episode 300/1000 | Loss: 1.729\n",
            "Episode 400/1000 | Loss: 0.876\n",
            "Episode 500/1000 | Loss: 0.530\n",
            "Episode 600/1000 | Loss: 0.356\n",
            "Episode 700/1000 | Loss: 0.256\n",
            "Episode 800/1000 | Loss: 0.193\n",
            "Episode 900/1000 | Loss: 0.151\n"
          ]
        },
        {
          "output_type": "stream",
          "name": "stderr",
          "text": [
            "\r 58%|█████▊    | 58/100 [03:19<02:23,  3.41s/it]"
          ]
        },
        {
          "output_type": "stream",
          "name": "stdout",
          "text": [
            "Episode 1000/1000 | Loss: 0.121\n",
            "Simulation 58: First few losses: [209.55999755859375, 207.63148498535156, 205.70814514160156, 203.7894287109375, 201.87452697753906]\n",
            "Episode 100/1000 | Loss: 34.403\n",
            "Episode 200/1000 | Loss: 4.696\n",
            "Episode 300/1000 | Loss: 1.658\n",
            "Episode 400/1000 | Loss: 0.846\n",
            "Episode 500/1000 | Loss: 0.514\n",
            "Episode 600/1000 | Loss: 0.346\n",
            "Episode 700/1000 | Loss: 0.249\n",
            "Episode 800/1000 | Loss: 0.188\n",
            "Episode 900/1000 | Loss: 0.147\n"
          ]
        },
        {
          "output_type": "stream",
          "name": "stderr",
          "text": [
            "\r 59%|█████▉    | 59/100 [03:22<02:14,  3.29s/it]"
          ]
        },
        {
          "output_type": "stream",
          "name": "stdout",
          "text": [
            "Episode 1000/1000 | Loss: 0.118\n",
            "Simulation 59: First few losses: [202.13006591796875, 200.24916076660156, 198.36773681640625, 196.48550415039062, 194.602294921875]\n",
            "Episode 100/1000 | Loss: 35.977\n",
            "Episode 200/1000 | Loss: 4.810\n",
            "Episode 300/1000 | Loss: 1.674\n",
            "Episode 400/1000 | Loss: 0.848\n",
            "Episode 500/1000 | Loss: 0.514\n",
            "Episode 600/1000 | Loss: 0.345\n",
            "Episode 700/1000 | Loss: 0.248\n",
            "Episode 800/1000 | Loss: 0.187\n",
            "Episode 900/1000 | Loss: 0.146\n"
          ]
        },
        {
          "output_type": "stream",
          "name": "stderr",
          "text": [
            "\r 60%|██████    | 60/100 [03:25<02:09,  3.23s/it]"
          ]
        },
        {
          "output_type": "stream",
          "name": "stdout",
          "text": [
            "Episode 1000/1000 | Loss: 0.117\n",
            "Simulation 60: First few losses: [202.74244689941406, 200.8299560546875, 198.92066955566406, 197.01467895507812, 195.1119384765625]\n",
            "Episode 100/1000 | Loss: 40.447\n",
            "Episode 200/1000 | Loss: 5.219\n",
            "Episode 300/1000 | Loss: 1.777\n",
            "Episode 400/1000 | Loss: 0.892\n",
            "Episode 500/1000 | Loss: 0.537\n",
            "Episode 600/1000 | Loss: 0.360\n",
            "Episode 700/1000 | Loss: 0.258\n",
            "Episode 800/1000 | Loss: 0.194\n",
            "Episode 900/1000 | Loss: 0.151\n"
          ]
        },
        {
          "output_type": "stream",
          "name": "stderr",
          "text": [
            "\r 61%|██████    | 61/100 [03:28<02:03,  3.16s/it]"
          ]
        },
        {
          "output_type": "stream",
          "name": "stdout",
          "text": [
            "Episode 1000/1000 | Loss: 0.121\n",
            "Simulation 61: First few losses: [211.2143096923828, 209.2604522705078, 207.32435607910156, 205.40130615234375, 203.48751831054688]\n",
            "Episode 100/1000 | Loss: 35.019\n",
            "Episode 200/1000 | Loss: 4.703\n",
            "Episode 300/1000 | Loss: 1.633\n",
            "Episode 400/1000 | Loss: 0.825\n",
            "Episode 500/1000 | Loss: 0.499\n",
            "Episode 600/1000 | Loss: 0.335\n",
            "Episode 700/1000 | Loss: 0.240\n",
            "Episode 800/1000 | Loss: 0.181\n",
            "Episode 900/1000 | Loss: 0.141\n"
          ]
        },
        {
          "output_type": "stream",
          "name": "stderr",
          "text": [
            "\r 62%|██████▏   | 62/100 [03:32<02:11,  3.47s/it]"
          ]
        },
        {
          "output_type": "stream",
          "name": "stdout",
          "text": [
            "Episode 1000/1000 | Loss: 0.113\n",
            "Simulation 62: First few losses: [197.29136657714844, 195.44793701171875, 193.60647583007812, 191.76690673828125, 189.9291534423828]\n",
            "Episode 100/1000 | Loss: 40.185\n",
            "Episode 200/1000 | Loss: 5.179\n",
            "Episode 300/1000 | Loss: 1.759\n",
            "Episode 400/1000 | Loss: 0.881\n",
            "Episode 500/1000 | Loss: 0.530\n",
            "Episode 600/1000 | Loss: 0.355\n",
            "Episode 700/1000 | Loss: 0.254\n",
            "Episode 800/1000 | Loss: 0.191\n",
            "Episode 900/1000 | Loss: 0.149\n"
          ]
        },
        {
          "output_type": "stream",
          "name": "stderr",
          "text": [
            "\r 63%|██████▎   | 63/100 [03:35<02:02,  3.31s/it]"
          ]
        },
        {
          "output_type": "stream",
          "name": "stdout",
          "text": [
            "Episode 1000/1000 | Loss: 0.119\n",
            "Simulation 63: First few losses: [209.2696533203125, 207.36618041992188, 205.46725463867188, 203.57273864746094, 201.68260192871094]\n",
            "Episode 100/1000 | Loss: 38.514\n",
            "Episode 200/1000 | Loss: 5.137\n",
            "Episode 300/1000 | Loss: 1.794\n",
            "Episode 400/1000 | Loss: 0.910\n",
            "Episode 500/1000 | Loss: 0.552\n",
            "Episode 600/1000 | Loss: 0.371\n",
            "Episode 700/1000 | Loss: 0.266\n",
            "Episode 800/1000 | Loss: 0.201\n",
            "Episode 900/1000 | Loss: 0.157\n"
          ]
        },
        {
          "output_type": "stream",
          "name": "stderr",
          "text": [
            "\r 64%|██████▍   | 64/100 [03:38<01:55,  3.21s/it]"
          ]
        },
        {
          "output_type": "stream",
          "name": "stdout",
          "text": [
            "Episode 1000/1000 | Loss: 0.125\n",
            "Simulation 64: First few losses: [216.3009033203125, 214.33395385742188, 212.37680053710938, 210.42681884765625, 208.4812469482422]\n",
            "Episode 100/1000 | Loss: 39.188\n",
            "Episode 200/1000 | Loss: 5.117\n",
            "Episode 300/1000 | Loss: 1.734\n",
            "Episode 400/1000 | Loss: 0.866\n",
            "Episode 500/1000 | Loss: 0.520\n",
            "Episode 600/1000 | Loss: 0.348\n",
            "Episode 700/1000 | Loss: 0.249\n",
            "Episode 800/1000 | Loss: 0.187\n",
            "Episode 900/1000 | Loss: 0.145\n"
          ]
        },
        {
          "output_type": "stream",
          "name": "stderr",
          "text": [
            "\r 65%|██████▌   | 65/100 [03:41<01:49,  3.13s/it]"
          ]
        },
        {
          "output_type": "stream",
          "name": "stdout",
          "text": [
            "Episode 1000/1000 | Loss: 0.116\n",
            "Simulation 65: First few losses: [202.74317932128906, 200.85768127441406, 198.9772186279297, 197.10194396972656, 195.23170471191406]\n",
            "Episode 100/1000 | Loss: 36.086\n",
            "Episode 200/1000 | Loss: 4.798\n",
            "Episode 300/1000 | Loss: 1.676\n",
            "Episode 400/1000 | Loss: 0.850\n",
            "Episode 500/1000 | Loss: 0.515\n",
            "Episode 600/1000 | Loss: 0.346\n",
            "Episode 700/1000 | Loss: 0.249\n",
            "Episode 800/1000 | Loss: 0.187\n",
            "Episode 900/1000 | Loss: 0.146\n"
          ]
        },
        {
          "output_type": "stream",
          "name": "stderr",
          "text": [
            "\r 66%|██████▌   | 66/100 [03:45<01:57,  3.45s/it]"
          ]
        },
        {
          "output_type": "stream",
          "name": "stdout",
          "text": [
            "Episode 1000/1000 | Loss: 0.117\n",
            "Simulation 66: First few losses: [205.90219116210938, 203.99900817871094, 202.09803771972656, 200.19895935058594, 198.30169677734375]\n",
            "Episode 100/1000 | Loss: 36.089\n",
            "Episode 200/1000 | Loss: 4.785\n",
            "Episode 300/1000 | Loss: 1.675\n",
            "Episode 400/1000 | Loss: 0.851\n",
            "Episode 500/1000 | Loss: 0.516\n",
            "Episode 600/1000 | Loss: 0.347\n",
            "Episode 700/1000 | Loss: 0.249\n",
            "Episode 800/1000 | Loss: 0.188\n",
            "Episode 900/1000 | Loss: 0.147\n"
          ]
        },
        {
          "output_type": "stream",
          "name": "stderr",
          "text": [
            "\r 67%|██████▋   | 67/100 [03:48<01:48,  3.30s/it]"
          ]
        },
        {
          "output_type": "stream",
          "name": "stdout",
          "text": [
            "Episode 1000/1000 | Loss: 0.117\n",
            "Simulation 67: First few losses: [207.33738708496094, 205.46766662597656, 203.59764099121094, 201.72743225097656, 199.8570098876953]\n",
            "Episode 100/1000 | Loss: 36.962\n",
            "Episode 200/1000 | Loss: 4.737\n",
            "Episode 300/1000 | Loss: 1.636\n",
            "Episode 400/1000 | Loss: 0.827\n",
            "Episode 500/1000 | Loss: 0.500\n",
            "Episode 600/1000 | Loss: 0.336\n",
            "Episode 700/1000 | Loss: 0.241\n",
            "Episode 800/1000 | Loss: 0.182\n",
            "Episode 900/1000 | Loss: 0.142\n"
          ]
        },
        {
          "output_type": "stream",
          "name": "stderr",
          "text": [
            "\r 68%|██████▊   | 68/100 [03:51<01:41,  3.19s/it]"
          ]
        },
        {
          "output_type": "stream",
          "name": "stdout",
          "text": [
            "Episode 1000/1000 | Loss: 0.114\n",
            "Simulation 68: First few losses: [204.14877319335938, 202.32464599609375, 200.50750732421875, 198.6948699951172, 196.88526916503906]\n",
            "Episode 100/1000 | Loss: 35.434\n",
            "Episode 200/1000 | Loss: 4.693\n",
            "Episode 300/1000 | Loss: 1.646\n",
            "Episode 400/1000 | Loss: 0.838\n",
            "Episode 500/1000 | Loss: 0.510\n",
            "Episode 600/1000 | Loss: 0.343\n",
            "Episode 700/1000 | Loss: 0.247\n",
            "Episode 800/1000 | Loss: 0.187\n",
            "Episode 900/1000 | Loss: 0.146\n"
          ]
        },
        {
          "output_type": "stream",
          "name": "stderr",
          "text": [
            "\r 69%|██████▉   | 69/100 [03:54<01:37,  3.13s/it]"
          ]
        },
        {
          "output_type": "stream",
          "name": "stdout",
          "text": [
            "Episode 1000/1000 | Loss: 0.117\n",
            "Simulation 69: First few losses: [204.53945922851562, 202.66506958007812, 200.7949676513672, 198.92860412597656, 197.0651397705078]\n",
            "Episode 100/1000 | Loss: 39.661\n",
            "Episode 200/1000 | Loss: 5.072\n",
            "Episode 300/1000 | Loss: 1.756\n",
            "Episode 400/1000 | Loss: 0.889\n",
            "Episode 500/1000 | Loss: 0.539\n",
            "Episode 600/1000 | Loss: 0.362\n",
            "Episode 700/1000 | Loss: 0.260\n",
            "Episode 800/1000 | Loss: 0.196\n",
            "Episode 900/1000 | Loss: 0.153\n"
          ]
        },
        {
          "output_type": "stream",
          "name": "stderr",
          "text": [
            "\r 70%|███████   | 70/100 [03:58<01:40,  3.36s/it]"
          ]
        },
        {
          "output_type": "stream",
          "name": "stdout",
          "text": [
            "Episode 1000/1000 | Loss: 0.123\n",
            "Simulation 70: First few losses: [215.8477783203125, 213.980712890625, 212.11386108398438, 210.24705505371094, 208.38015747070312]\n",
            "Episode 100/1000 | Loss: 37.981\n",
            "Episode 200/1000 | Loss: 4.975\n",
            "Episode 300/1000 | Loss: 1.739\n",
            "Episode 400/1000 | Loss: 0.884\n",
            "Episode 500/1000 | Loss: 0.537\n",
            "Episode 600/1000 | Loss: 0.361\n",
            "Episode 700/1000 | Loss: 0.260\n",
            "Episode 800/1000 | Loss: 0.196\n",
            "Episode 900/1000 | Loss: 0.153\n"
          ]
        },
        {
          "output_type": "stream",
          "name": "stderr",
          "text": [
            "\r 71%|███████   | 71/100 [04:01<01:36,  3.33s/it]"
          ]
        },
        {
          "output_type": "stream",
          "name": "stdout",
          "text": [
            "Episode 1000/1000 | Loss: 0.123\n",
            "Simulation 71: First few losses: [215.31593322753906, 213.35633850097656, 211.4091033935547, 209.4722442626953, 207.54312133789062]\n",
            "Episode 100/1000 | Loss: 35.898\n",
            "Episode 200/1000 | Loss: 4.708\n",
            "Episode 300/1000 | Loss: 1.630\n",
            "Episode 400/1000 | Loss: 0.825\n",
            "Episode 500/1000 | Loss: 0.499\n",
            "Episode 600/1000 | Loss: 0.336\n",
            "Episode 700/1000 | Loss: 0.241\n",
            "Episode 800/1000 | Loss: 0.182\n",
            "Episode 900/1000 | Loss: 0.142\n"
          ]
        },
        {
          "output_type": "stream",
          "name": "stderr",
          "text": [
            "\r 72%|███████▏  | 72/100 [04:04<01:30,  3.22s/it]"
          ]
        },
        {
          "output_type": "stream",
          "name": "stdout",
          "text": [
            "Episode 1000/1000 | Loss: 0.114\n",
            "Simulation 72: First few losses: [197.20399475097656, 195.4140167236328, 193.62632751464844, 191.84059143066406, 190.05670166015625]\n",
            "Episode 100/1000 | Loss: 38.274\n",
            "Episode 200/1000 | Loss: 4.980\n",
            "Episode 300/1000 | Loss: 1.725\n",
            "Episode 400/1000 | Loss: 0.872\n",
            "Episode 500/1000 | Loss: 0.528\n",
            "Episode 600/1000 | Loss: 0.355\n",
            "Episode 700/1000 | Loss: 0.255\n",
            "Episode 800/1000 | Loss: 0.192\n",
            "Episode 900/1000 | Loss: 0.150\n"
          ]
        },
        {
          "output_type": "stream",
          "name": "stderr",
          "text": [
            "\r 73%|███████▎  | 73/100 [04:07<01:25,  3.16s/it]"
          ]
        },
        {
          "output_type": "stream",
          "name": "stdout",
          "text": [
            "Episode 1000/1000 | Loss: 0.120\n",
            "Simulation 73: First few losses: [210.3463897705078, 208.4764862060547, 206.60906982421875, 204.74395751953125, 202.88079833984375]\n",
            "Episode 100/1000 | Loss: 35.924\n",
            "Episode 200/1000 | Loss: 4.781\n",
            "Episode 300/1000 | Loss: 1.663\n",
            "Episode 400/1000 | Loss: 0.842\n",
            "Episode 500/1000 | Loss: 0.510\n",
            "Episode 600/1000 | Loss: 0.343\n",
            "Episode 700/1000 | Loss: 0.246\n",
            "Episode 800/1000 | Loss: 0.186\n",
            "Episode 900/1000 | Loss: 0.145\n"
          ]
        },
        {
          "output_type": "stream",
          "name": "stderr",
          "text": [
            "\r 74%|███████▍  | 74/100 [04:11<01:29,  3.43s/it]"
          ]
        },
        {
          "output_type": "stream",
          "name": "stdout",
          "text": [
            "Episode 1000/1000 | Loss: 0.116\n",
            "Simulation 74: First few losses: [200.8431854248047, 198.97352600097656, 197.1080780029297, 195.24636840820312, 193.38809204101562]\n",
            "Episode 100/1000 | Loss: 33.728\n",
            "Episode 200/1000 | Loss: 4.583\n",
            "Episode 300/1000 | Loss: 1.597\n",
            "Episode 400/1000 | Loss: 0.809\n",
            "Episode 500/1000 | Loss: 0.489\n",
            "Episode 600/1000 | Loss: 0.328\n",
            "Episode 700/1000 | Loss: 0.236\n",
            "Episode 800/1000 | Loss: 0.177\n",
            "Episode 900/1000 | Loss: 0.138\n"
          ]
        },
        {
          "output_type": "stream",
          "name": "stderr",
          "text": [
            "\r 75%|███████▌  | 75/100 [04:14<01:25,  3.44s/it]"
          ]
        },
        {
          "output_type": "stream",
          "name": "stdout",
          "text": [
            "Episode 1000/1000 | Loss: 0.111\n",
            "Simulation 75: First few losses: [192.3360137939453, 190.47894287109375, 188.62579345703125, 186.77662658691406, 184.9311981201172]\n",
            "Episode 100/1000 | Loss: 39.678\n",
            "Episode 200/1000 | Loss: 5.049\n",
            "Episode 300/1000 | Loss: 1.741\n",
            "Episode 400/1000 | Loss: 0.880\n",
            "Episode 500/1000 | Loss: 0.533\n",
            "Episode 600/1000 | Loss: 0.358\n",
            "Episode 700/1000 | Loss: 0.257\n",
            "Episode 800/1000 | Loss: 0.194\n",
            "Episode 900/1000 | Loss: 0.151\n"
          ]
        },
        {
          "output_type": "stream",
          "name": "stderr",
          "text": [
            "\r 76%|███████▌  | 76/100 [04:18<01:21,  3.38s/it]"
          ]
        },
        {
          "output_type": "stream",
          "name": "stdout",
          "text": [
            "Episode 1000/1000 | Loss: 0.121\n",
            "Simulation 76: First few losses: [215.62399291992188, 213.76939392089844, 211.9147491455078, 210.0600128173828, 208.2050018310547]\n",
            "Episode 100/1000 | Loss: 37.599\n",
            "Episode 200/1000 | Loss: 4.767\n",
            "Episode 300/1000 | Loss: 1.650\n",
            "Episode 400/1000 | Loss: 0.836\n",
            "Episode 500/1000 | Loss: 0.507\n",
            "Episode 600/1000 | Loss: 0.341\n",
            "Episode 700/1000 | Loss: 0.245\n",
            "Episode 800/1000 | Loss: 0.185\n",
            "Episode 900/1000 | Loss: 0.144\n"
          ]
        },
        {
          "output_type": "stream",
          "name": "stderr",
          "text": [
            "\r 77%|███████▋  | 77/100 [04:21<01:14,  3.25s/it]"
          ]
        },
        {
          "output_type": "stream",
          "name": "stdout",
          "text": [
            "Episode 1000/1000 | Loss: 0.116\n",
            "Simulation 77: First few losses: [207.17227172851562, 205.35806274414062, 203.54656982421875, 201.73764038085938, 199.93109130859375]\n",
            "Episode 100/1000 | Loss: 40.265\n",
            "Episode 200/1000 | Loss: 5.086\n",
            "Episode 300/1000 | Loss: 1.732\n",
            "Episode 400/1000 | Loss: 0.869\n",
            "Episode 500/1000 | Loss: 0.524\n",
            "Episode 600/1000 | Loss: 0.351\n",
            "Episode 700/1000 | Loss: 0.252\n",
            "Episode 800/1000 | Loss: 0.189\n",
            "Episode 900/1000 | Loss: 0.147\n"
          ]
        },
        {
          "output_type": "stream",
          "name": "stderr",
          "text": [
            "\r 78%|███████▊  | 78/100 [04:24<01:14,  3.41s/it]"
          ]
        },
        {
          "output_type": "stream",
          "name": "stdout",
          "text": [
            "Episode 1000/1000 | Loss: 0.118\n",
            "Simulation 78: First few losses: [212.1265411376953, 210.2562255859375, 208.3887481689453, 206.52410888671875, 204.66209411621094]\n",
            "Episode 100/1000 | Loss: 36.998\n",
            "Episode 200/1000 | Loss: 4.856\n",
            "Episode 300/1000 | Loss: 1.683\n",
            "Episode 400/1000 | Loss: 0.851\n",
            "Episode 500/1000 | Loss: 0.515\n",
            "Episode 600/1000 | Loss: 0.346\n",
            "Episode 700/1000 | Loss: 0.249\n",
            "Episode 800/1000 | Loss: 0.187\n",
            "Episode 900/1000 | Loss: 0.146\n"
          ]
        },
        {
          "output_type": "stream",
          "name": "stderr",
          "text": [
            "\r 79%|███████▉  | 79/100 [04:28<01:11,  3.43s/it]"
          ]
        },
        {
          "output_type": "stream",
          "name": "stdout",
          "text": [
            "Episode 1000/1000 | Loss: 0.117\n",
            "Simulation 79: First few losses: [205.6312255859375, 203.7235107421875, 201.8240966796875, 199.9314422607422, 198.04443359375]\n",
            "Episode 100/1000 | Loss: 38.221\n",
            "Episode 200/1000 | Loss: 5.035\n",
            "Episode 300/1000 | Loss: 1.754\n",
            "Episode 400/1000 | Loss: 0.890\n",
            "Episode 500/1000 | Loss: 0.539\n",
            "Episode 600/1000 | Loss: 0.362\n",
            "Episode 700/1000 | Loss: 0.260\n",
            "Episode 800/1000 | Loss: 0.196\n",
            "Episode 900/1000 | Loss: 0.153\n"
          ]
        },
        {
          "output_type": "stream",
          "name": "stderr",
          "text": [
            "\r 80%|████████  | 80/100 [04:31<01:06,  3.31s/it]"
          ]
        },
        {
          "output_type": "stream",
          "name": "stdout",
          "text": [
            "Episode 1000/1000 | Loss: 0.123\n",
            "Simulation 80: First few losses: [213.03167724609375, 211.1303253173828, 209.2292022705078, 207.32823181152344, 205.4273223876953]\n",
            "Episode 100/1000 | Loss: 36.971\n",
            "Episode 200/1000 | Loss: 4.839\n",
            "Episode 300/1000 | Loss: 1.669\n",
            "Episode 400/1000 | Loss: 0.841\n",
            "Episode 500/1000 | Loss: 0.508\n",
            "Episode 600/1000 | Loss: 0.341\n",
            "Episode 700/1000 | Loss: 0.244\n",
            "Episode 800/1000 | Loss: 0.184\n",
            "Episode 900/1000 | Loss: 0.143\n"
          ]
        },
        {
          "output_type": "stream",
          "name": "stderr",
          "text": [
            "\r 81%|████████  | 81/100 [04:34<01:02,  3.27s/it]"
          ]
        },
        {
          "output_type": "stream",
          "name": "stdout",
          "text": [
            "Episode 1000/1000 | Loss: 0.115\n",
            "Simulation 81: First few losses: [202.62078857421875, 200.7954864501953, 198.9715576171875, 197.1489715576172, 195.32748413085938]\n",
            "Episode 100/1000 | Loss: 37.982\n",
            "Episode 200/1000 | Loss: 4.954\n",
            "Episode 300/1000 | Loss: 1.720\n",
            "Episode 400/1000 | Loss: 0.871\n",
            "Episode 500/1000 | Loss: 0.528\n",
            "Episode 600/1000 | Loss: 0.355\n",
            "Episode 700/1000 | Loss: 0.255\n",
            "Episode 800/1000 | Loss: 0.192\n",
            "Episode 900/1000 | Loss: 0.150\n"
          ]
        },
        {
          "output_type": "stream",
          "name": "stderr",
          "text": [
            "\r 82%|████████▏ | 82/100 [04:38<01:01,  3.43s/it]"
          ]
        },
        {
          "output_type": "stream",
          "name": "stdout",
          "text": [
            "Episode 1000/1000 | Loss: 0.120\n",
            "Simulation 82: First few losses: [208.45187377929688, 206.62448120117188, 204.79653930664062, 202.9680938720703, 201.13905334472656]\n",
            "Episode 100/1000 | Loss: 36.276\n",
            "Episode 200/1000 | Loss: 4.747\n",
            "Episode 300/1000 | Loss: 1.645\n",
            "Episode 400/1000 | Loss: 0.831\n",
            "Episode 500/1000 | Loss: 0.503\n",
            "Episode 600/1000 | Loss: 0.337\n",
            "Episode 700/1000 | Loss: 0.242\n",
            "Episode 800/1000 | Loss: 0.182\n",
            "Episode 900/1000 | Loss: 0.142\n"
          ]
        },
        {
          "output_type": "stream",
          "name": "stderr",
          "text": [
            "\r 83%|████████▎ | 83/100 [04:41<00:58,  3.42s/it]"
          ]
        },
        {
          "output_type": "stream",
          "name": "stdout",
          "text": [
            "Episode 1000/1000 | Loss: 0.114\n",
            "Simulation 83: First few losses: [204.0581817626953, 202.18658447265625, 200.3173065185547, 198.45045471191406, 196.58596801757812]\n",
            "Episode 100/1000 | Loss: 34.380\n",
            "Episode 200/1000 | Loss: 4.695\n",
            "Episode 300/1000 | Loss: 1.639\n",
            "Episode 400/1000 | Loss: 0.831\n",
            "Episode 500/1000 | Loss: 0.504\n",
            "Episode 600/1000 | Loss: 0.338\n",
            "Episode 700/1000 | Loss: 0.243\n",
            "Episode 800/1000 | Loss: 0.183\n",
            "Episode 900/1000 | Loss: 0.143\n"
          ]
        },
        {
          "output_type": "stream",
          "name": "stderr",
          "text": [
            "\r 84%|████████▍ | 84/100 [04:44<00:52,  3.29s/it]"
          ]
        },
        {
          "output_type": "stream",
          "name": "stdout",
          "text": [
            "Episode 1000/1000 | Loss: 0.115\n",
            "Simulation 84: First few losses: [193.46963500976562, 191.64353942871094, 189.8190460205078, 187.9960174560547, 186.17453002929688]\n",
            "Episode 100/1000 | Loss: 37.425\n",
            "Episode 200/1000 | Loss: 4.819\n",
            "Episode 300/1000 | Loss: 1.656\n",
            "Episode 400/1000 | Loss: 0.835\n",
            "Episode 500/1000 | Loss: 0.505\n",
            "Episode 600/1000 | Loss: 0.338\n",
            "Episode 700/1000 | Loss: 0.243\n",
            "Episode 800/1000 | Loss: 0.183\n",
            "Episode 900/1000 | Loss: 0.143\n"
          ]
        },
        {
          "output_type": "stream",
          "name": "stderr",
          "text": [
            "\r 85%|████████▌ | 85/100 [04:47<00:48,  3.22s/it]"
          ]
        },
        {
          "output_type": "stream",
          "name": "stdout",
          "text": [
            "Episode 1000/1000 | Loss: 0.114\n",
            "Simulation 85: First few losses: [201.4774169921875, 199.6923828125, 197.908203125, 196.1248016357422, 194.34213256835938]\n",
            "Episode 100/1000 | Loss: 37.287\n",
            "Episode 200/1000 | Loss: 4.881\n",
            "Episode 300/1000 | Loss: 1.693\n",
            "Episode 400/1000 | Loss: 0.858\n",
            "Episode 500/1000 | Loss: 0.520\n",
            "Episode 600/1000 | Loss: 0.350\n",
            "Episode 700/1000 | Loss: 0.251\n",
            "Episode 800/1000 | Loss: 0.189\n",
            "Episode 900/1000 | Loss: 0.148\n"
          ]
        },
        {
          "output_type": "stream",
          "name": "stderr",
          "text": [
            "\r 86%|████████▌ | 86/100 [04:51<00:47,  3.40s/it]"
          ]
        },
        {
          "output_type": "stream",
          "name": "stdout",
          "text": [
            "Episode 1000/1000 | Loss: 0.119\n",
            "Simulation 86: First few losses: [205.7181396484375, 203.81448364257812, 201.91659545898438, 200.02395629882812, 198.1360626220703]\n",
            "Episode 100/1000 | Loss: 40.431\n",
            "Episode 200/1000 | Loss: 5.252\n",
            "Episode 300/1000 | Loss: 1.819\n",
            "Episode 400/1000 | Loss: 0.921\n",
            "Episode 500/1000 | Loss: 0.557\n",
            "Episode 600/1000 | Loss: 0.374\n",
            "Episode 700/1000 | Loss: 0.269\n",
            "Episode 800/1000 | Loss: 0.203\n",
            "Episode 900/1000 | Loss: 0.158\n"
          ]
        },
        {
          "output_type": "stream",
          "name": "stderr",
          "text": [
            "\r 87%|████████▋ | 87/100 [04:55<00:44,  3.45s/it]"
          ]
        },
        {
          "output_type": "stream",
          "name": "stdout",
          "text": [
            "Episode 1000/1000 | Loss: 0.127\n",
            "Simulation 87: First few losses: [220.65135192871094, 218.67576599121094, 216.71372985839844, 214.7638397216797, 212.82379150390625]\n",
            "Episode 100/1000 | Loss: 39.142\n",
            "Episode 200/1000 | Loss: 5.006\n",
            "Episode 300/1000 | Loss: 1.712\n",
            "Episode 400/1000 | Loss: 0.862\n",
            "Episode 500/1000 | Loss: 0.521\n",
            "Episode 600/1000 | Loss: 0.349\n",
            "Episode 700/1000 | Loss: 0.251\n",
            "Episode 800/1000 | Loss: 0.189\n",
            "Episode 900/1000 | Loss: 0.147\n"
          ]
        },
        {
          "output_type": "stream",
          "name": "stderr",
          "text": [
            "\r 88%|████████▊ | 88/100 [04:58<00:39,  3.30s/it]"
          ]
        },
        {
          "output_type": "stream",
          "name": "stdout",
          "text": [
            "Episode 1000/1000 | Loss: 0.118\n",
            "Simulation 88: First few losses: [205.93499755859375, 204.07725524902344, 202.2274169921875, 200.384033203125, 198.54635620117188]\n",
            "Episode 100/1000 | Loss: 36.476\n",
            "Episode 200/1000 | Loss: 4.796\n",
            "Episode 300/1000 | Loss: 1.650\n",
            "Episode 400/1000 | Loss: 0.832\n",
            "Episode 500/1000 | Loss: 0.503\n",
            "Episode 600/1000 | Loss: 0.337\n",
            "Episode 700/1000 | Loss: 0.242\n",
            "Episode 800/1000 | Loss: 0.182\n",
            "Episode 900/1000 | Loss: 0.142\n"
          ]
        },
        {
          "output_type": "stream",
          "name": "stderr",
          "text": [
            "\r 89%|████████▉ | 89/100 [05:01<00:35,  3.20s/it]"
          ]
        },
        {
          "output_type": "stream",
          "name": "stdout",
          "text": [
            "Episode 1000/1000 | Loss: 0.114\n",
            "Simulation 89: First few losses: [197.3192596435547, 195.49717712402344, 193.67881774902344, 191.86427307128906, 190.05349731445312]\n",
            "Episode 100/1000 | Loss: 38.669\n",
            "Episode 200/1000 | Loss: 5.141\n",
            "Episode 300/1000 | Loss: 1.767\n",
            "Episode 400/1000 | Loss: 0.889\n",
            "Episode 500/1000 | Loss: 0.536\n",
            "Episode 600/1000 | Loss: 0.359\n",
            "Episode 700/1000 | Loss: 0.257\n",
            "Episode 800/1000 | Loss: 0.194\n",
            "Episode 900/1000 | Loss: 0.151\n"
          ]
        },
        {
          "output_type": "stream",
          "name": "stderr",
          "text": [
            "\r 90%|█████████ | 90/100 [05:04<00:33,  3.31s/it]"
          ]
        },
        {
          "output_type": "stream",
          "name": "stdout",
          "text": [
            "Episode 1000/1000 | Loss: 0.121\n",
            "Simulation 90: First few losses: [207.98489379882812, 206.00936889648438, 204.04989624023438, 202.1050262451172, 200.1725616455078]\n",
            "Episode 100/1000 | Loss: 37.139\n",
            "Episode 200/1000 | Loss: 5.028\n",
            "Episode 300/1000 | Loss: 1.747\n",
            "Episode 400/1000 | Loss: 0.883\n",
            "Episode 500/1000 | Loss: 0.534\n",
            "Episode 600/1000 | Loss: 0.358\n",
            "Episode 700/1000 | Loss: 0.257\n",
            "Episode 800/1000 | Loss: 0.194\n",
            "Episode 900/1000 | Loss: 0.151\n"
          ]
        },
        {
          "output_type": "stream",
          "name": "stderr",
          "text": [
            "\r 91%|█████████ | 91/100 [05:08<00:31,  3.46s/it]"
          ]
        },
        {
          "output_type": "stream",
          "name": "stdout",
          "text": [
            "Episode 1000/1000 | Loss: 0.121\n",
            "Simulation 91: First few losses: [206.07742309570312, 204.14430236816406, 202.21376037597656, 200.28587341308594, 198.36058044433594]\n",
            "Episode 100/1000 | Loss: 37.170\n",
            "Episode 200/1000 | Loss: 4.866\n",
            "Episode 300/1000 | Loss: 1.684\n",
            "Episode 400/1000 | Loss: 0.852\n",
            "Episode 500/1000 | Loss: 0.515\n",
            "Episode 600/1000 | Loss: 0.346\n",
            "Episode 700/1000 | Loss: 0.249\n",
            "Episode 800/1000 | Loss: 0.187\n",
            "Episode 900/1000 | Loss: 0.146\n"
          ]
        },
        {
          "output_type": "stream",
          "name": "stderr",
          "text": [
            "\r 92%|█████████▏| 92/100 [05:11<00:26,  3.33s/it]"
          ]
        },
        {
          "output_type": "stream",
          "name": "stdout",
          "text": [
            "Episode 1000/1000 | Loss: 0.117\n",
            "Simulation 92: First few losses: [206.28927612304688, 204.38465881347656, 202.48292541503906, 200.58412170410156, 198.68821716308594]\n",
            "Episode 100/1000 | Loss: 40.424\n",
            "Episode 200/1000 | Loss: 5.170\n",
            "Episode 300/1000 | Loss: 1.783\n",
            "Episode 400/1000 | Loss: 0.900\n",
            "Episode 500/1000 | Loss: 0.544\n",
            "Episode 600/1000 | Loss: 0.365\n",
            "Episode 700/1000 | Loss: 0.262\n",
            "Episode 800/1000 | Loss: 0.197\n",
            "Episode 900/1000 | Loss: 0.154\n"
          ]
        },
        {
          "output_type": "stream",
          "name": "stderr",
          "text": [
            "\r 93%|█████████▎| 93/100 [05:14<00:22,  3.23s/it]"
          ]
        },
        {
          "output_type": "stream",
          "name": "stdout",
          "text": [
            "Episode 1000/1000 | Loss: 0.123\n",
            "Simulation 93: First few losses: [218.62652587890625, 216.6991424560547, 214.78494262695312, 212.8836212158203, 210.994384765625]\n",
            "Episode 100/1000 | Loss: 39.115\n",
            "Episode 200/1000 | Loss: 4.974\n",
            "Episode 300/1000 | Loss: 1.699\n",
            "Episode 400/1000 | Loss: 0.855\n",
            "Episode 500/1000 | Loss: 0.516\n",
            "Episode 600/1000 | Loss: 0.346\n",
            "Episode 700/1000 | Loss: 0.248\n",
            "Episode 800/1000 | Loss: 0.187\n",
            "Episode 900/1000 | Loss: 0.146\n"
          ]
        },
        {
          "output_type": "stream",
          "name": "stderr",
          "text": [
            "\r 94%|█████████▍| 94/100 [05:17<00:19,  3.28s/it]"
          ]
        },
        {
          "output_type": "stream",
          "name": "stdout",
          "text": [
            "Episode 1000/1000 | Loss: 0.117\n",
            "Simulation 94: First few losses: [205.43113708496094, 203.58816528320312, 201.75918579101562, 199.9422607421875, 198.1348419189453]\n",
            "Episode 100/1000 | Loss: 36.110\n",
            "Episode 200/1000 | Loss: 4.894\n",
            "Episode 300/1000 | Loss: 1.700\n",
            "Episode 400/1000 | Loss: 0.861\n",
            "Episode 500/1000 | Loss: 0.521\n",
            "Episode 600/1000 | Loss: 0.350\n",
            "Episode 700/1000 | Loss: 0.252\n",
            "Episode 800/1000 | Loss: 0.190\n",
            "Episode 900/1000 | Loss: 0.148\n"
          ]
        },
        {
          "output_type": "stream",
          "name": "stderr",
          "text": [
            "\r 95%|█████████▌| 95/100 [05:21<00:17,  3.43s/it]"
          ]
        },
        {
          "output_type": "stream",
          "name": "stdout",
          "text": [
            "Episode 1000/1000 | Loss: 0.119\n",
            "Simulation 95: First few losses: [198.34727478027344, 196.43612670898438, 194.5290985107422, 192.6261749267578, 190.72731018066406]\n",
            "Episode 100/1000 | Loss: 38.742\n",
            "Episode 200/1000 | Loss: 5.077\n",
            "Episode 300/1000 | Loss: 1.753\n",
            "Episode 400/1000 | Loss: 0.885\n",
            "Episode 500/1000 | Loss: 0.535\n",
            "Episode 600/1000 | Loss: 0.359\n",
            "Episode 700/1000 | Loss: 0.258\n",
            "Episode 800/1000 | Loss: 0.195\n",
            "Episode 900/1000 | Loss: 0.152\n"
          ]
        },
        {
          "output_type": "stream",
          "name": "stderr",
          "text": [
            "\r 96%|█████████▌| 96/100 [05:24<00:13,  3.31s/it]"
          ]
        },
        {
          "output_type": "stream",
          "name": "stdout",
          "text": [
            "Episode 1000/1000 | Loss: 0.122\n",
            "Simulation 96: First few losses: [210.38800048828125, 208.43753051757812, 206.50091552734375, 204.57484436035156, 202.65621948242188]\n",
            "Episode 100/1000 | Loss: 37.746\n",
            "Episode 200/1000 | Loss: 4.981\n",
            "Episode 300/1000 | Loss: 1.724\n",
            "Episode 400/1000 | Loss: 0.871\n",
            "Episode 500/1000 | Loss: 0.527\n",
            "Episode 600/1000 | Loss: 0.354\n",
            "Episode 700/1000 | Loss: 0.254\n",
            "Episode 800/1000 | Loss: 0.191\n",
            "Episode 900/1000 | Loss: 0.149\n"
          ]
        },
        {
          "output_type": "stream",
          "name": "stderr",
          "text": [
            "\r 97%|█████████▋| 97/100 [05:27<00:09,  3.22s/it]"
          ]
        },
        {
          "output_type": "stream",
          "name": "stdout",
          "text": [
            "Episode 1000/1000 | Loss: 0.120\n",
            "Simulation 97: First few losses: [207.1721649169922, 205.26568603515625, 203.36521911621094, 201.4697723388672, 199.57859802246094]\n",
            "Episode 100/1000 | Loss: 40.671\n",
            "Episode 200/1000 | Loss: 5.101\n",
            "Episode 300/1000 | Loss: 1.757\n",
            "Episode 400/1000 | Loss: 0.888\n",
            "Episode 500/1000 | Loss: 0.538\n",
            "Episode 600/1000 | Loss: 0.361\n",
            "Episode 700/1000 | Loss: 0.260\n",
            "Episode 800/1000 | Loss: 0.196\n",
            "Episode 900/1000 | Loss: 0.153\n"
          ]
        },
        {
          "output_type": "stream",
          "name": "stderr",
          "text": [
            "\r 98%|█████████▊| 98/100 [05:30<00:06,  3.20s/it]"
          ]
        },
        {
          "output_type": "stream",
          "name": "stdout",
          "text": [
            "Episode 1000/1000 | Loss: 0.122\n",
            "Simulation 98: First few losses: [219.27548217773438, 217.4044189453125, 215.53359985351562, 213.66307067871094, 211.79278564453125]\n",
            "Episode 100/1000 | Loss: 39.709\n",
            "Episode 200/1000 | Loss: 5.128\n",
            "Episode 300/1000 | Loss: 1.767\n",
            "Episode 400/1000 | Loss: 0.892\n",
            "Episode 500/1000 | Loss: 0.539\n",
            "Episode 600/1000 | Loss: 0.361\n",
            "Episode 700/1000 | Loss: 0.259\n",
            "Episode 800/1000 | Loss: 0.195\n",
            "Episode 900/1000 | Loss: 0.152\n"
          ]
        },
        {
          "output_type": "stream",
          "name": "stderr",
          "text": [
            "\r 99%|█████████▉| 99/100 [05:34<00:03,  3.42s/it]"
          ]
        },
        {
          "output_type": "stream",
          "name": "stdout",
          "text": [
            "Episode 1000/1000 | Loss: 0.122\n",
            "Simulation 99: First few losses: [213.89088439941406, 212.02626037597656, 210.16123962402344, 208.29595947265625, 206.4304962158203]\n",
            "Episode 100/1000 | Loss: 37.067\n",
            "Episode 200/1000 | Loss: 4.756\n",
            "Episode 300/1000 | Loss: 1.631\n",
            "Episode 400/1000 | Loss: 0.822\n",
            "Episode 500/1000 | Loss: 0.497\n",
            "Episode 600/1000 | Loss: 0.333\n",
            "Episode 700/1000 | Loss: 0.239\n",
            "Episode 800/1000 | Loss: 0.180\n",
            "Episode 900/1000 | Loss: 0.141\n"
          ]
        },
        {
          "output_type": "stream",
          "name": "stderr",
          "text": [
            "100%|██████████| 100/100 [05:37<00:00,  3.38s/it]"
          ]
        },
        {
          "output_type": "stream",
          "name": "stdout",
          "text": [
            "Episode 1000/1000 | Loss: 0.113\n",
            "Simulation 100: First few losses: [198.3085174560547, 196.4993438720703, 194.69540405273438, 192.89663696289062, 191.1027374267578]\n",
            "Total simulations run: 100\n"
          ]
        },
        {
          "output_type": "stream",
          "name": "stderr",
          "text": [
            "\n"
          ]
        }
      ],
      "source": [
        "all_losses = run_simulations(n_simulations=100, num_episodes=1000, log_interval=100)"
      ]
    },
    {
      "cell_type": "code",
      "execution_count": null,
      "metadata": {
        "id": "02QIhMeEQxa6"
      },
      "outputs": [],
      "source": [
        "mean_losses, std_err_losses = calculate_mean_and_standard_error(all_losses)"
      ]
    },
    {
      "cell_type": "code",
      "execution_count": null,
      "metadata": {
        "colab": {
          "base_uri": "https://localhost:8080/"
        },
        "collapsed": true,
        "id": "JJ7h0d5mNWzU",
        "outputId": "f1596448-5d91-496b-c6df-c0a9ae7973a8"
      },
      "outputs": [
        {
          "output_type": "stream",
          "name": "stdout",
          "text": [
            "[8.27995111e-01 8.23959457e-01 8.20312549e-01 8.17012702e-01\n",
            " 8.14013962e-01 8.11268103e-01 8.08725728e-01 8.06337064e-01\n",
            " 8.04056273e-01 8.01842013e-01 7.99659712e-01 7.97481153e-01\n",
            " 7.95282241e-01 7.93045723e-01 7.90755676e-01 7.88400950e-01\n",
            " 7.85973631e-01 7.83464802e-01 7.80870551e-01 7.78185516e-01\n",
            " 7.75405626e-01 7.72527486e-01 7.69547708e-01 7.66463293e-01\n",
            " 7.63271583e-01 7.59969454e-01 7.56553507e-01 7.53021913e-01\n",
            " 7.49371304e-01 7.45599188e-01 7.41703059e-01 7.37680430e-01\n",
            " 7.33528339e-01 7.29245385e-01 7.24828869e-01 7.20277050e-01\n",
            " 7.15587828e-01 7.10759774e-01 7.05791560e-01 7.00682005e-01\n",
            " 6.95430239e-01 6.90035146e-01 6.84496489e-01 6.78814217e-01\n",
            " 6.72988381e-01 6.67019251e-01 6.60907253e-01 6.54653757e-01\n",
            " 6.48259671e-01 6.41726949e-01 6.35057278e-01 6.28252622e-01\n",
            " 6.21315646e-01 6.14249446e-01 6.07056725e-01 5.99741447e-01\n",
            " 5.92307294e-01 5.84758249e-01 5.77098726e-01 5.69333761e-01\n",
            " 5.61468019e-01 5.53507081e-01 5.45456512e-01 5.37322163e-01\n",
            " 5.29110025e-01 5.20826300e-01 5.12477979e-01 5.04071474e-01\n",
            " 4.95613653e-01 4.87111814e-01 4.78573118e-01 4.70004851e-01\n",
            " 4.61414440e-01 4.52809291e-01 4.44196979e-01 4.35585055e-01\n",
            " 4.26981065e-01 4.18392325e-01 4.09826522e-01 4.01290675e-01\n",
            " 3.92792316e-01 3.84338326e-01 3.75935944e-01 3.67591685e-01\n",
            " 3.59312041e-01 3.51103599e-01 3.42972283e-01 3.34924021e-01\n",
            " 3.26964430e-01 3.19099016e-01 3.11332342e-01 3.03669533e-01\n",
            " 2.96114707e-01 2.88672151e-01 2.81345633e-01 2.74138495e-01\n",
            " 2.67053860e-01 2.60094524e-01 2.53263091e-01 2.46561595e-01\n",
            " 2.39991967e-01 2.33555532e-01 2.27253731e-01 2.21087440e-01\n",
            " 2.15057091e-01 2.09163414e-01 2.03406324e-01 1.97785621e-01\n",
            " 1.92300992e-01 1.86951842e-01 1.81737427e-01 1.76656658e-01\n",
            " 1.71708259e-01 1.66890900e-01 1.62203161e-01 1.57643200e-01\n",
            " 1.53209314e-01 1.48899546e-01 1.44711816e-01 1.40644008e-01\n",
            " 1.36693904e-01 1.32859250e-01 1.29137655e-01 1.25526689e-01\n",
            " 1.22023947e-01 1.18626917e-01 1.15333129e-01 1.12140037e-01\n",
            " 1.09045163e-01 1.06045858e-01 1.03139729e-01 1.00324230e-01\n",
            " 9.75968078e-02 9.49550235e-02 9.23964398e-02 8.99186033e-02\n",
            " 8.75191665e-02 8.51957617e-02 8.29460758e-02 8.07678210e-02\n",
            " 7.86588627e-02 7.66169034e-02 7.46398735e-02 7.27257067e-02\n",
            " 7.08723292e-02 6.90778203e-02 6.73401775e-02 6.56575619e-02\n",
            " 6.40281510e-02 6.24501328e-02 6.09217907e-02 5.94414777e-02\n",
            " 5.80075603e-02 5.66184058e-02 5.52725516e-02 5.39684976e-02\n",
            " 5.27048100e-02 5.14800769e-02 5.02930034e-02 4.91422774e-02\n",
            " 4.80266475e-02 4.69448809e-02 4.58958177e-02 4.48783192e-02\n",
            " 4.38913534e-02 4.29337747e-02 4.20046570e-02 4.11029502e-02\n",
            " 4.02277624e-02 3.93781535e-02 3.85532622e-02 3.77522376e-02\n",
            " 3.69742442e-02 3.62185258e-02 3.54843133e-02 3.47708794e-02\n",
            " 3.40774884e-02 3.34035167e-02 3.27482856e-02 3.21111584e-02\n",
            " 3.14915487e-02 3.08888426e-02 3.03025094e-02 2.97320056e-02\n",
            " 2.91767768e-02 2.86363591e-02 2.81102332e-02 2.75979818e-02\n",
            " 2.70991028e-02 2.66131970e-02 2.61398288e-02 2.56786159e-02\n",
            " 2.52291418e-02 2.47910594e-02 2.43640025e-02 2.39476251e-02\n",
            " 2.35415867e-02 2.31455556e-02 2.27592489e-02 2.23823384e-02\n",
            " 2.20145532e-02 2.16556161e-02 2.13052606e-02 2.09632015e-02\n",
            " 2.06292021e-02 2.03030441e-02 1.99844578e-02 1.96732507e-02\n",
            " 1.93691848e-02 1.90720523e-02 1.87816642e-02 1.84978184e-02\n",
            " 1.82203195e-02 1.79489835e-02 1.76836485e-02 1.74241377e-02\n",
            " 1.71702765e-02 1.69219283e-02 1.66789136e-02 1.64411059e-02\n",
            " 1.62083483e-02 1.59805109e-02 1.57574511e-02 1.55390407e-02\n",
            " 1.53251691e-02 1.51156886e-02 1.49104949e-02 1.47094774e-02\n",
            " 1.45125136e-02 1.43195194e-02 1.41303694e-02 1.39449763e-02\n",
            " 1.37632383e-02 1.35850558e-02 1.34103410e-02 1.32390152e-02\n",
            " 1.30709823e-02 1.29061634e-02 1.27444762e-02 1.25858425e-02\n",
            " 1.24301902e-02 1.22774420e-02 1.21275305e-02 1.19803906e-02\n",
            " 1.18359382e-02 1.16941241e-02 1.15548798e-02 1.14181468e-02\n",
            " 1.12838601e-02 1.11519709e-02 1.10224074e-02 1.08951396e-02\n",
            " 1.07700889e-02 1.06472197e-02 1.05264761e-02 1.04078197e-02\n",
            " 1.02911817e-02 1.01765375e-02 1.00638271e-02 9.95302087e-03\n",
            " 9.84406535e-03 9.73692264e-03 9.63155819e-03 9.52792534e-03\n",
            " 9.42599661e-03 9.32572149e-03 9.22707174e-03 9.13000951e-03\n",
            " 9.03450286e-03 8.94052119e-03 8.84803249e-03 8.75700244e-03\n",
            " 8.66739492e-03 8.57919343e-03 8.49235683e-03 8.40686561e-03\n",
            " 8.32268374e-03 8.23978787e-03 8.15816000e-03 8.07776463e-03\n",
            " 7.99857952e-03 7.92057847e-03 7.84374000e-03 7.76804099e-03\n",
            " 7.69346237e-03 7.61997410e-03 7.54756275e-03 7.47620584e-03\n",
            " 7.40587618e-03 7.33656022e-03 7.26823972e-03 7.20089027e-03\n",
            " 7.13450075e-03 7.06904283e-03 7.00450926e-03 6.94087788e-03\n",
            " 6.87812903e-03 6.81625027e-03 6.75522435e-03 6.69503872e-03\n",
            " 6.63566993e-03 6.57711209e-03 6.51934640e-03 6.46235531e-03\n",
            " 6.40613055e-03 6.35065753e-03 6.29591617e-03 6.24190084e-03\n",
            " 6.18859917e-03 6.13599503e-03 6.08407577e-03 6.03283182e-03\n",
            " 5.98225011e-03 5.93231793e-03 5.88302446e-03 5.83436492e-03\n",
            " 5.78631792e-03 5.73887941e-03 5.69203635e-03 5.64578544e-03\n",
            " 5.60010925e-03 5.55500124e-03 5.51045029e-03 5.46644947e-03\n",
            " 5.42298405e-03 5.38005457e-03 5.33764447e-03 5.29575025e-03\n",
            " 5.25435898e-03 5.21346549e-03 5.17306042e-03 5.13314008e-03\n",
            " 5.09369066e-03 5.05470539e-03 5.01618170e-03 4.97810833e-03\n",
            " 4.94047921e-03 4.90328532e-03 4.86652725e-03 4.83018947e-03\n",
            " 4.79426802e-03 4.75875488e-03 4.72365181e-03 4.68894616e-03\n",
            " 4.65462982e-03 4.62069938e-03 4.58715049e-03 4.55397774e-03\n",
            " 4.52117147e-03 4.48873299e-03 4.45664717e-03 4.42491401e-03\n",
            " 4.39353245e-03 4.36249339e-03 4.33178702e-03 4.30141495e-03\n",
            " 4.27137222e-03 4.24165296e-03 4.21224811e-03 4.18315911e-03\n",
            " 4.15437965e-03 4.12590201e-03 4.09772830e-03 4.06984697e-03\n",
            " 4.04225892e-03 4.01496047e-03 3.98794387e-03 3.96120501e-03\n",
            " 3.93474451e-03 3.90855703e-03 3.88263665e-03 3.85697844e-03\n",
            " 3.83158603e-03 3.80644617e-03 3.78156312e-03 3.75692657e-03\n",
            " 3.73254181e-03 3.70839542e-03 3.68449382e-03 3.66082708e-03\n",
            " 3.63739244e-03 3.61419127e-03 3.59121826e-03 3.56846664e-03\n",
            " 3.54594091e-03 3.52363228e-03 3.50153814e-03 3.47965857e-03\n",
            " 3.45798828e-03 3.43652495e-03 3.41526812e-03 3.39421367e-03\n",
            " 3.37335894e-03 3.35270031e-03 3.33223779e-03 3.31196522e-03\n",
            " 3.29188312e-03 3.27198991e-03 3.25228010e-03 3.23275349e-03\n",
            " 3.21340813e-03 3.19423965e-03 3.17524518e-03 3.15642709e-03\n",
            " 3.13778019e-03 3.11930341e-03 3.10099183e-03 3.08284640e-03\n",
            " 3.06486532e-03 3.04704478e-03 3.02938264e-03 3.01187897e-03\n",
            " 2.99453144e-03 2.97733506e-03 2.96029300e-03 2.94339997e-03\n",
            " 2.92665436e-03 2.91005799e-03 2.89360492e-03 2.87729556e-03\n",
            " 2.86112457e-03 2.84509685e-03 2.82920536e-03 2.81344949e-03\n",
            " 2.79783010e-03 2.78234265e-03 2.76698943e-03 2.75176476e-03\n",
            " 2.73666871e-03 2.72170031e-03 2.70685760e-03 2.69213906e-03\n",
            " 2.67754502e-03 2.66307225e-03 2.64871838e-03 2.63448338e-03\n",
            " 2.62036647e-03 2.60636553e-03 2.59248066e-03 2.57870951e-03\n",
            " 2.56504905e-03 2.55149961e-03 2.53806136e-03 2.52473222e-03\n",
            " 2.51150934e-03 2.49839365e-03 2.48538434e-03 2.47247715e-03\n",
            " 2.45967199e-03 2.44697134e-03 2.43437087e-03 2.42187036e-03\n",
            " 2.40946735e-03 2.39716154e-03 2.38495249e-03 2.37283923e-03\n",
            " 2.36082144e-03 2.34889600e-03 2.33706234e-03 2.32532147e-03\n",
            " 2.31367107e-03 2.30211101e-03 2.29063891e-03 2.27925349e-03\n",
            " 2.26795556e-03 2.25674442e-03 2.24561696e-03 2.23457628e-03\n",
            " 2.22361594e-03 2.21274004e-03 2.20194451e-03 2.19123077e-03\n",
            " 2.18059722e-03 2.17004132e-03 2.15956456e-03 2.14916454e-03\n",
            " 2.13884344e-03 2.12859743e-03 2.11842584e-03 2.10833103e-03\n",
            " 2.09830802e-03 2.08835868e-03 2.07848218e-03 2.06867721e-03\n",
            " 2.05894342e-03 2.04927879e-03 2.03968332e-03 2.03015943e-03\n",
            " 2.02070125e-03 2.01131143e-03 2.00198797e-03 1.99273272e-03\n",
            " 1.98354117e-03 1.97441555e-03 1.96535248e-03 1.95635513e-03\n",
            " 1.94742041e-03 1.93854913e-03 1.92973877e-03 1.92098990e-03\n",
            " 1.91230103e-03 1.90367384e-03 1.89510484e-03 1.88659629e-03\n",
            " 1.87814560e-03 1.86975264e-03 1.86141741e-03 1.85314007e-03\n",
            " 1.84491805e-03 1.83675203e-03 1.82864046e-03 1.82058532e-03\n",
            " 1.81258443e-03 1.80463605e-03 1.79674257e-03 1.78890185e-03\n",
            " 1.78111288e-03 1.77337669e-03 1.76569029e-03 1.75805707e-03\n",
            " 1.75047163e-03 1.74293872e-03 1.73545488e-03 1.72801959e-03\n",
            " 1.72063328e-03 1.71329533e-03 1.70600504e-03 1.69876238e-03\n",
            " 1.69156746e-03 1.68441907e-03 1.67731687e-03 1.67025958e-03\n",
            " 1.66324839e-03 1.65628192e-03 1.64936108e-03 1.64248294e-03\n",
            " 1.63564936e-03 1.62885892e-03 1.62211226e-03 1.61540763e-03\n",
            " 1.60874586e-03 1.60212719e-03 1.59554842e-03 1.58901185e-03\n",
            " 1.58251569e-03 1.57606094e-03 1.56964500e-03 1.56327009e-03\n",
            " 1.55693452e-03 1.55063809e-03 1.54437981e-03 1.53816264e-03\n",
            " 1.53198175e-03 1.52584032e-03 1.51973500e-03 1.51366684e-03\n",
            " 1.50763646e-03 1.50164243e-03 1.49568542e-03 1.48976379e-03\n",
            " 1.48387911e-03 1.47802830e-03 1.47221430e-03 1.46643377e-03\n",
            " 1.46068910e-03 1.45497868e-03 1.44930167e-03 1.44365898e-03\n",
            " 1.43804892e-03 1.43247274e-03 1.42692981e-03 1.42142066e-03\n",
            " 1.41594251e-03 1.41049689e-03 1.40508391e-03 1.39970143e-03\n",
            " 1.39434990e-03 1.38903084e-03 1.38374409e-03 1.37848617e-03\n",
            " 1.37325912e-03 1.36806270e-03 1.36289546e-03 1.35775858e-03\n",
            " 1.35265069e-03 1.34757294e-03 1.34252426e-03 1.33750365e-03\n",
            " 1.33251287e-03 1.32754943e-03 1.32261346e-03 1.31770723e-03\n",
            " 1.31282848e-03 1.30797609e-03 1.30315212e-03 1.29835445e-03\n",
            " 1.29358427e-03 1.28884021e-03 1.28412396e-03 1.27943212e-03\n",
            " 1.27476793e-03 1.27012961e-03 1.26551683e-03 1.26092967e-03\n",
            " 1.25636690e-03 1.25182980e-03 1.24731827e-03 1.24283061e-03\n",
            " 1.23836781e-03 1.23392977e-03 1.22951606e-03 1.22512610e-03\n",
            " 1.22076007e-03 1.21641710e-03 1.21209848e-03 1.20780295e-03\n",
            " 1.20353085e-03 1.19928105e-03 1.19505504e-03 1.19085114e-03\n",
            " 1.18666983e-03 1.18251096e-03 1.17837421e-03 1.17425989e-03\n",
            " 1.17016665e-03 1.16609506e-03 1.16204653e-03 1.15801757e-03\n",
            " 1.15401137e-03 1.15002523e-03 1.14605948e-03 1.14211645e-03\n",
            " 1.13819307e-03 1.13429014e-03 1.13040708e-03 1.12654422e-03\n",
            " 1.12270233e-03 1.11887990e-03 1.11507680e-03 1.11129454e-03\n",
            " 1.10753089e-03 1.10378621e-03 1.10006197e-03 1.09635660e-03\n",
            " 1.09266954e-03 1.08900184e-03 1.08535230e-03 1.08172163e-03\n",
            " 1.07811028e-03 1.07451587e-03 1.07094011e-03 1.06738181e-03\n",
            " 1.06384327e-03 1.06032061e-03 1.05681668e-03 1.05333107e-03\n",
            " 1.04986188e-03 1.04641050e-03 1.04297611e-03 1.03955850e-03\n",
            " 1.03615880e-03 1.03277535e-03 1.02940861e-03 1.02605827e-03\n",
            " 1.02272474e-03 1.01940834e-03 1.01610716e-03 1.01282224e-03\n",
            " 1.00955453e-03 1.00630288e-03 1.00306563e-03 9.99845343e-04\n",
            " 9.96640755e-04 9.93450824e-04 9.90277098e-04 9.87118734e-04\n",
            " 9.83975866e-04 9.80847851e-04 9.77734741e-04 9.74637194e-04\n",
            " 9.71553957e-04 9.68485482e-04 9.65431575e-04 9.62393415e-04\n",
            " 9.59368730e-04 9.56358304e-04 9.53362477e-04 9.50380961e-04\n",
            " 9.47413716e-04 9.44460448e-04 9.41521308e-04 9.38595567e-04\n",
            " 9.35683833e-04 9.32785950e-04 9.29901690e-04 9.27030491e-04\n",
            " 9.24172855e-04 9.21328588e-04 9.18497711e-04 9.15680471e-04\n",
            " 9.12875239e-04 9.10083352e-04 9.07304802e-04 9.04539138e-04\n",
            " 9.01785731e-04 8.99045590e-04 8.96317389e-04 8.93602407e-04\n",
            " 8.90899181e-04 8.88209371e-04 8.85531123e-04 8.82865488e-04\n",
            " 8.80211243e-04 8.77569214e-04 8.74939758e-04 8.72321810e-04\n",
            " 8.69716392e-04 8.67121790e-04 8.64539331e-04 8.61968520e-04\n",
            " 8.59409673e-04 8.56861749e-04 8.54324792e-04 8.51800293e-04\n",
            " 8.49286290e-04 8.46783684e-04 8.44291881e-04 8.41812047e-04\n",
            " 8.39343263e-04 8.36884841e-04 8.34437409e-04 8.32000531e-04\n",
            " 8.29575145e-04 8.27159847e-04 8.24755205e-04 8.22361437e-04\n",
            " 8.19977860e-04 8.17604643e-04 8.15241942e-04 8.12889908e-04\n",
            " 8.10547838e-04 8.08215761e-04 8.05894516e-04 8.03582370e-04\n",
            " 8.01281319e-04 7.98989222e-04 7.96707465e-04 7.94435166e-04\n",
            " 7.92172910e-04 7.89920795e-04 7.87677635e-04 7.85444567e-04\n",
            " 7.83220840e-04 7.81007085e-04 7.78801862e-04 7.76606929e-04\n",
            " 7.74420729e-04 7.72244061e-04 7.70076594e-04 7.67918369e-04\n",
            " 7.65769027e-04 7.63629111e-04 7.61497898e-04 7.59375494e-04\n",
            " 7.57262389e-04 7.55157657e-04 7.53062695e-04 7.50975816e-04\n",
            " 7.48897803e-04 7.46828572e-04 7.44767516e-04 7.42715537e-04\n",
            " 7.40672161e-04 7.38636790e-04 7.36610204e-04 7.34591674e-04\n",
            " 7.32581944e-04 7.30580303e-04 7.28586764e-04 7.26601524e-04\n",
            " 7.24624133e-04 7.22655251e-04 7.20694248e-04 7.18740903e-04\n",
            " 7.16796128e-04 7.14858976e-04 7.12929509e-04 7.11008366e-04\n",
            " 7.09094780e-04 7.07188707e-04 7.05291049e-04 7.03400458e-04\n",
            " 7.01517497e-04 6.99642551e-04 6.97774788e-04 6.95914589e-04\n",
            " 6.94061871e-04 6.92216752e-04 6.90378633e-04 6.88548160e-04\n",
            " 6.86725374e-04 6.84909201e-04 6.83100072e-04 6.81298578e-04\n",
            " 6.79503654e-04 6.77716949e-04 6.75936687e-04 6.74163114e-04\n",
            " 6.72397191e-04 6.70637658e-04 6.68885400e-04 6.67139774e-04\n",
            " 6.65401158e-04 6.63669568e-04 6.61944127e-04 6.60226388e-04\n",
            " 6.58514626e-04 6.56809558e-04 6.55111222e-04 6.53419486e-04\n",
            " 6.51734616e-04 6.50055408e-04 6.48383459e-04 6.46717540e-04\n",
            " 6.45058691e-04 6.43405679e-04 6.41759308e-04 6.40118876e-04\n",
            " 6.38485211e-04 6.36857703e-04 6.35236132e-04 6.33621421e-04\n",
            " 6.32012219e-04 6.30408949e-04 6.28812396e-04 6.27221879e-04\n",
            " 6.25637390e-04 6.24057913e-04 6.22485410e-04 6.20918627e-04\n",
            " 6.19358021e-04 6.17803054e-04 6.16253791e-04 6.14710752e-04\n",
            " 6.13173464e-04 6.11641691e-04 6.10115560e-04 6.08595073e-04\n",
            " 6.07080642e-04 6.05572077e-04 6.04068532e-04 6.02570518e-04\n",
            " 6.01078569e-04 5.99592231e-04 5.98111079e-04 5.96635439e-04\n",
            " 5.95165497e-04 5.93700494e-04 5.92240830e-04 5.90786871e-04\n",
            " 5.89338538e-04 5.87895119e-04 5.86456984e-04 5.85024617e-04\n",
            " 5.83597295e-04 5.82175242e-04 5.80757673e-04 5.79345784e-04\n",
            " 5.77939482e-04 5.76537093e-04 5.75140639e-04 5.73749075e-04\n",
            " 5.72362882e-04 5.70981453e-04 5.69604906e-04 5.68233122e-04\n",
            " 5.66866532e-04 5.65505045e-04 5.64148167e-04 5.62796575e-04\n",
            " 5.61449540e-04 5.60107226e-04 5.58769479e-04 5.57436750e-04\n",
            " 5.56109457e-04 5.54785980e-04 5.53467584e-04 5.52153915e-04\n",
            " 5.50844798e-04 5.49540085e-04 5.48240242e-04 5.46944808e-04\n",
            " 5.45654460e-04 5.44368052e-04 5.43086211e-04 5.41809529e-04\n",
            " 5.40536699e-04 5.39268906e-04 5.38005137e-04 5.36745464e-04\n",
            " 5.35491046e-04 5.34240674e-04 5.32994535e-04 5.31752586e-04\n",
            " 5.30515255e-04 5.29282265e-04 5.28053495e-04 5.26828458e-04\n",
            " 5.25608329e-04 5.24392381e-04 5.23180515e-04 5.21971846e-04\n",
            " 5.20768709e-04 5.19569105e-04 5.18373820e-04 5.17182406e-04\n",
            " 5.15995044e-04 5.14812422e-04 5.13633230e-04 5.12458085e-04\n",
            " 5.11286891e-04 5.10120128e-04 5.08956917e-04 5.07798037e-04\n",
            " 5.06642795e-04 5.05491581e-04 5.04344503e-04 5.03200941e-04\n",
            " 5.02061259e-04 5.00925260e-04 4.99793444e-04 4.98665582e-04\n",
            " 4.97541318e-04 4.96420536e-04 4.95303794e-04 4.94190740e-04\n",
            " 4.93081356e-04 4.91975575e-04 4.90874107e-04 4.89775675e-04\n",
            " 4.88681014e-04 4.87589939e-04 4.86502883e-04 4.85418991e-04\n",
            " 4.84339067e-04 4.83262347e-04 4.82189296e-04 4.81120169e-04\n",
            " 4.80054569e-04 4.78992074e-04 4.77933210e-04 4.76877904e-04\n",
            " 4.75825736e-04 4.74777551e-04 4.73732346e-04 4.72690931e-04\n",
            " 4.71652604e-04 4.70617992e-04 4.69586618e-04 4.68558505e-04\n",
            " 4.67533535e-04 4.66512000e-04 4.65494105e-04 4.64479447e-04\n",
            " 4.63468030e-04 4.62459601e-04 4.61454526e-04 4.60453073e-04\n",
            " 4.59454608e-04 4.58459131e-04 4.57467106e-04 4.56478596e-04\n",
            " 4.55492633e-04 4.54509989e-04 4.53530599e-04 4.52554805e-04\n",
            " 4.51581537e-04 4.50611483e-04 4.49644805e-04 4.48680762e-04\n",
            " 4.47720328e-04 4.46762467e-04 4.45807519e-04 4.44856184e-04\n",
            " 4.43907608e-04 4.42961933e-04 4.42018957e-04 4.41079456e-04\n",
            " 4.40142718e-04 4.39209322e-04 4.38278364e-04 4.37350338e-04\n",
            " 4.36425623e-04 4.35503532e-04 4.34584255e-04 4.33667936e-04\n",
            " 4.32754688e-04 4.31844231e-04 4.30936135e-04 4.30031288e-04]\n"
          ]
        }
      ],
      "source": [
        "print(std_err_losses)"
      ]
    },
    {
      "cell_type": "code",
      "execution_count": null,
      "metadata": {
        "colab": {
          "base_uri": "https://localhost:8080/",
          "height": 564
        },
        "id": "KXgMrL7RLloz",
        "outputId": "d67906bf-a71a-4545-adba-86a653381ad9"
      },
      "outputs": [
        {
          "output_type": "display_data",
          "data": {
            "text/plain": [
              "<Figure size 1000x600 with 1 Axes>"
            ],
            "image/png": "[encoded data removed]"
          },
          "metadata": {}
        }
      ],
      "source": [
        "plot_standard_error(mean_losses, std_err_losses, 'Learning Curve with SE for Multi Task Reinforcement Learning')"
      ]
    }
  ],
  "metadata": {
    "accelerator": "GPU",
    "colab": {
      "gpuType": "T4",
      "provenance": [],
      "include_colab_link": true
    },
    "kernelspec": {
      "display_name": "Python 3",
      "name": "python3"
    },
    "language_info": {
      "name": "python"
    }
  },
  "nbformat": 4,
  "nbformat_minor": 0
}